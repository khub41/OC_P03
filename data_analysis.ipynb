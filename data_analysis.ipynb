{
 "cells": [
  {
   "cell_type": "markdown",
   "metadata": {},
   "source": [
    "# Presentation du projet\n",
    "\n",
    "## TODO ⌚"
   ]
  },
  {
   "cell_type": "markdown",
   "metadata": {},
   "source": [
    "# Import de bibliothèques 📚"
   ]
  },
  {
   "cell_type": "code",
   "execution_count": 1,
   "metadata": {},
   "outputs": [],
   "source": [
    "import pandas as pd\n",
    "from pandas_profiling import ProfileReport\n",
    "\n",
    "import os\n",
    "import re\n",
    "\n",
    "from math import log2, sqrt\n",
    "import numpy as np\n",
    "import scipy.stats as stats\n",
    "from scipy.stats import gaussian_kde, t, ttest_1samp, ttest_ind\n",
    "from statsmodels.stats.proportion import proportion_confint\n",
    "\n",
    "\n",
    "import matplotlib.pyplot as plt\n",
    "import seaborn"
   ]
  },
  {
   "cell_type": "markdown",
   "metadata": {},
   "source": [
    "# Fonctions ⚙️"
   ]
  },
  {
   "cell_type": "code",
   "execution_count": 2,
   "metadata": {},
   "outputs": [],
   "source": [
    "def plot_histo(data, title=None, xlabel=None, drop_outliers=False, bins='sturges', plot_density=True):\n",
    "    if drop_outliers:\n",
    "        data = data[data.between(data.quantile(drop_outliers), data.quantile(1 - drop_outliers))]\n",
    "    if bins == 'sturges':\n",
    "        bins = int(1+log2(len(data)))\n",
    "#     mu = data.mean()\n",
    "#     sigma = data.std()\n",
    "#     x_norm = np.linspace(mu - 3*sigma, mu + 3*sigma, 100)\n",
    "#     plt.plot(x_norm, stats.norm.pdf(x_norm, mu, sigma), label=\"Gaussienne de l'échantillon\")\n",
    "    plt.style.use(\"seaborn\")\n",
    "    if plot_density:\n",
    "        density = gaussian_kde(data)\n",
    "        xs = np.linspace(data.min(),data.max(),200)\n",
    "        density.covariance_factor = lambda : .25\n",
    "        density._compute_covariance()\n",
    "        plt.plot(xs,density(xs), label=\"Courbe de densité\")\n",
    "    plt.ylabel(\"frequency\")\n",
    "    plt.xlabel(xlabel)\n",
    "    plt.title(title)\n",
    "    plt.hist(data, bins=bins, density=True)\n",
    "    plt.legend()\n",
    "    plt.show()"
   ]
  },
  {
   "cell_type": "code",
   "execution_count": 3,
   "metadata": {},
   "outputs": [],
   "source": [
    "def split_custom(label_string, delimiter=','):\n",
    "    \"\"\"Cette fonction prend en argument une chaine de caractères et retourne une liste\"\"\"\n",
    "    return label_string.split(delimiter)"
   ]
  },
  {
   "cell_type": "code",
   "execution_count": 4,
   "metadata": {},
   "outputs": [],
   "source": [
    "def get_unique_elements(panda_serie):\n",
    "    \"\"\"This functions returns the list of unique elements \n",
    "    out of a panda serie of strings with comma separated elements\"\"\"\n",
    "    all_labels = set()\n",
    "    for labels in panda_serie.map(split_custom):\n",
    "        for label in labels:\n",
    "            all_labels.add(label)\n",
    "    return list(all_labels)"
   ]
  },
  {
   "cell_type": "markdown",
   "metadata": {},
   "source": [
    "<a id='fonctionbio'></a>"
   ]
  },
  {
   "cell_type": "code",
   "execution_count": 5,
   "metadata": {},
   "outputs": [],
   "source": [
    "def test_bio(labels):\n",
    "    \"\"\"From a list of labels this function returns a booleean if 'organic' or 'bio' is in one of the labels\"\"\"\n",
    "    bool_test = False\n",
    "    for label in labels:\n",
    "        label = label.lower()\n",
    "        if 'organic' in label or 'bio' in label:\n",
    "            bool_test = True\n",
    "            break\n",
    "    return bool_test"
   ]
  },
  {
   "cell_type": "markdown",
   "metadata": {},
   "source": [
    "Retour au [script](#backbio)"
   ]
  },
  {
   "cell_type": "markdown",
   "metadata": {},
   "source": [
    "<a id='fonctionvege'></a>"
   ]
  },
  {
   "cell_type": "code",
   "execution_count": 6,
   "metadata": {},
   "outputs": [],
   "source": [
    "def test_vege(labels):\n",
    "    \"\"\"From a list of labels this function returns a booleean if 'organic' or 'bio' is in one of the labels\"\"\"\n",
    "    bool_test = False\n",
    "    for label in labels:\n",
    "        label = label.lower()\n",
    "        if 'vegetarian' in label or 'vegan' in label:\n",
    "            bool_test = True\n",
    "            break\n",
    "    return bool_test"
   ]
  },
  {
   "cell_type": "markdown",
   "metadata": {},
   "source": [
    "Retour au [script](#backvege)"
   ]
  },
  {
   "cell_type": "markdown",
   "metadata": {},
   "source": [
    "<a id='fonctionnegation'></a>"
   ]
  },
  {
   "cell_type": "code",
   "execution_count": 7,
   "metadata": {},
   "outputs": [],
   "source": [
    "# # This function works but would be more efficient if it would detect the language. We'll save that for later\n",
    "def test_no_something(labels, dict_something):\n",
    "    \"\"\"From a list of labels this function returns a booleean if 'preserative' and a negation is in one of the labels\"\"\"\n",
    "    for word, negations in dict_something.items():\n",
    "        for label in labels:\n",
    "            label = label.lower()\n",
    "            label = label.replace('-', ' ')\n",
    "            bool_list = []\n",
    "            #looking for word preservative\n",
    "            preservative_in_label = bool(re.match(r'.*\\b{}.*\\b'.format(word), label))\n",
    "            if preservative_in_label:\n",
    "                #looking for negation\n",
    "                for negation in negations:\n",
    "                    if bool(re.match(r'.*\\b{}\\b'.format(negation), label)):\n",
    "                        return True\n",
    "\n",
    "    return False"
   ]
  },
  {
   "cell_type": "markdown",
   "metadata": {},
   "source": [
    "- Retour au [script](#backconserv) Conservateurs\n",
    "- Retour au [script](#backcolor) Colorants\n",
    "- Retour au [script](#backGMO) OGMs"
   ]
  },
  {
   "cell_type": "markdown",
   "metadata": {},
   "source": [
    "<a id='plot_bar'></a>"
   ]
  },
  {
   "cell_type": "code",
   "execution_count": 8,
   "metadata": {},
   "outputs": [],
   "source": [
    "def plot_bar(data, labels, color='purple', label=None, rotation=False):\n",
    "    plt.figure(figsize=(8,8))\n",
    "    plt.style.use('seaborn')\n",
    "    plt.bar(list(range(1, len(data)+1)), data, color=color, label=label)\n",
    "    if rotation:\n",
    "        angle=90\n",
    "    else:\n",
    "        angle=0\n",
    "    plt.xticks(list(range(1, len(data)+1)), labels, rotation=angle, fontsize=12)\n",
    "    plt.ylabel('Proportion par rapport au nombre de poduits du dataset (%)')\n",
    "    plt.legend()\n",
    "    plt.show()"
   ]
  },
  {
   "cell_type": "markdown",
   "metadata": {},
   "source": [
    "- Retour au [script](#univ_1_plot_1) Labels\n",
    "- Retour au [script](#univ_1_plot_2) Categories"
   ]
  },
  {
   "cell_type": "markdown",
   "metadata": {},
   "source": [
    "# Données 🎁"
   ]
  },
  {
   "cell_type": "code",
   "execution_count": 9,
   "metadata": {},
   "outputs": [
    {
     "name": "stderr",
     "output_type": "stream",
     "text": [
      "/Users/hugorebeix/opt/anaconda3/envs/env_OC_p03/lib/python3.8/site-packages/IPython/core/interactiveshell.py:3146: DtypeWarning: Columns (0,12,26,27,28,30,51,63) have mixed types.Specify dtype option on import or set low_memory=False.\n",
      "  has_raised = await self.run_ast_nodes(code_ast.body, cell_name,\n"
     ]
    }
   ],
   "source": [
    "data = pd.read_csv('data/en.openfoodfacts.org.products.csv', sep='\\t')"
   ]
  },
  {
   "cell_type": "code",
   "execution_count": 10,
   "metadata": {},
   "outputs": [
    {
     "data": {
      "text/plain": [
       "(1524579, 183)"
      ]
     },
     "execution_count": 10,
     "metadata": {},
     "output_type": "execute_result"
    }
   ],
   "source": [
    "data.shape"
   ]
  },
  {
   "cell_type": "code",
   "execution_count": 11,
   "metadata": {},
   "outputs": [
    {
     "data": {
      "text/plain": [
       "Index(['code', 'url', 'creator', 'created_t', 'created_datetime',\n",
       "       'last_modified_t', 'last_modified_datetime', 'product_name',\n",
       "       'generic_name', 'quantity',\n",
       "       ...\n",
       "       'carbon-footprint-from-meat-or-fish_100g', 'nutrition-score-fr_100g',\n",
       "       'nutrition-score-uk_100g', 'glycemic-index_100g', 'water-hardness_100g',\n",
       "       'choline_100g', 'phylloquinone_100g', 'beta-glucan_100g',\n",
       "       'inositol_100g', 'carnitine_100g'],\n",
       "      dtype='object', length=183)"
      ]
     },
     "execution_count": 11,
     "metadata": {},
     "output_type": "execute_result"
    }
   ],
   "source": [
    "data.columns"
   ]
  },
  {
   "cell_type": "markdown",
   "metadata": {},
   "source": [
    "# Profiling 🔍"
   ]
  },
  {
   "cell_type": "markdown",
   "metadata": {},
   "source": [
    "Etant données les dimensions de ce dataset, je vais réaliser l'analyse préliminaire avec Pandas Profiling. L'analyse est exportée en HTML pour une meilleure lisibilité du NB"
   ]
  },
  {
   "cell_type": "code",
   "execution_count": 12,
   "metadata": {},
   "outputs": [],
   "source": [
    "# profile = ProfileReport(data, title=\"Report on OpenFoodFacts\", minimal=True)"
   ]
  },
  {
   "cell_type": "code",
   "execution_count": 13,
   "metadata": {},
   "outputs": [],
   "source": [
    "# profile.to_file('profile_report.html')"
   ]
  },
  {
   "cell_type": "markdown",
   "metadata": {},
   "source": [
    "Voir le report : [cliquer ici](profile_report.html)"
   ]
  },
  {
   "cell_type": "markdown",
   "metadata": {},
   "source": [
    "# Idee : 💡\n",
    "### A partir d'un produit, proposer des produits similaires ayant un emballage meilleur. Appuyer l'analyse par des etudes sur le lien entre l'emballage plastique et les mauvaises caractéristiques nutritionnelles.\n",
    "## Mieux manger serait-il lié à l'emballage?"
   ]
  },
  {
   "cell_type": "markdown",
   "metadata": {},
   "source": [
    "Afin de vérifier la faisibilité de cette étude, nous allons déterminer les features necessaires, filtrer les NAN et regarder la taille du dataset filtré"
   ]
  },
  {
   "cell_type": "code",
   "execution_count": 14,
   "metadata": {},
   "outputs": [],
   "source": [
    "col_necessaires = ['labels_en', 'saturated-fat_100g', 'categories_en', \n",
    "                   'packaging_tags', 'additives_n', 'ingredients_from_palm_oil_n', \n",
    "                   'nutriscore_score', 'nutriscore_grade', 'pnns_groups_2']\n",
    "# TODO : REMPLACER CATEGORIES PAR pnns-goups"
   ]
  },
  {
   "cell_type": "code",
   "execution_count": 15,
   "metadata": {},
   "outputs": [],
   "source": [
    "data_filtre = data.dropna(subset=col_necessaires)"
   ]
  },
  {
   "cell_type": "code",
   "execution_count": 16,
   "metadata": {},
   "outputs": [
    {
     "data": {
      "text/plain": [
       "(92328, 183)"
      ]
     },
     "execution_count": 16,
     "metadata": {},
     "output_type": "execute_result"
    }
   ],
   "source": [
    "data_filtre.shape"
   ]
  },
  {
   "cell_type": "markdown",
   "metadata": {},
   "source": [
    "Cette quantité a l'air suffisante à première vue"
   ]
  },
  {
   "cell_type": "markdown",
   "metadata": {},
   "source": [
    "# Nettoyage 🧼"
   ]
  },
  {
   "cell_type": "markdown",
   "metadata": {},
   "source": [
    "Les colonnes suivantes necessitent une attention particulière du fait de leur forte cardinalité:\n",
    "- [Labels](#nett_1)\n",
    "- [Categories](#nett_2)\n",
    "- [Packaging](#nett_3)"
   ]
  },
  {
   "cell_type": "markdown",
   "metadata": {},
   "source": [
    "<a id='nett_1'></a>\n",
    "### Labels 🏷️"
   ]
  },
  {
   "cell_type": "code",
   "execution_count": 17,
   "metadata": {},
   "outputs": [
    {
     "data": {
      "text/plain": [
       "count         92328\n",
       "unique        31719\n",
       "top       Green Dot\n",
       "freq           5153\n",
       "Name: labels_en, dtype: object"
      ]
     },
     "execution_count": 17,
     "metadata": {},
     "output_type": "execute_result"
    }
   ],
   "source": [
    "data_filtre.labels_en.describe()"
   ]
  },
  {
   "cell_type": "markdown",
   "metadata": {},
   "source": [
    "Cette variable a une forte cardinalité et est qualitative. Regardons les instances les plus fréquentes"
   ]
  },
  {
   "cell_type": "code",
   "execution_count": 18,
   "metadata": {},
   "outputs": [
    {
     "data": {
      "text/plain": [
       "Green Dot                                       5153\n",
       "Made in France                                  2218\n",
       "Gluten-free                                     1605\n",
       "Vegetarian,Vegan                                1513\n",
       "Organic,EU Organic,AB Agriculture Biologique    1277\n",
       "Organic                                         1189\n",
       "No preservatives                                1171\n",
       "Green Dot,Made in France                         782\n",
       "Made in Germany                                  702\n",
       "Vegetarian                                       697\n",
       "Name: labels_en, dtype: int64"
      ]
     },
     "execution_count": 18,
     "metadata": {},
     "output_type": "execute_result"
    }
   ],
   "source": [
    "data_filtre.labels_en.value_counts().head(10)"
   ]
  },
  {
   "cell_type": "markdown",
   "metadata": {},
   "source": [
    "On voit que les données sont souvent séparées par des virgules et que beaucoup de labels se répétent"
   ]
  },
  {
   "cell_type": "code",
   "execution_count": 19,
   "metadata": {},
   "outputs": [
    {
     "data": {
      "text/plain": [
       "9611"
      ]
     },
     "execution_count": 19,
     "metadata": {},
     "output_type": "execute_result"
    }
   ],
   "source": [
    "labels_unique = get_unique_elements(data_filtre.labels_en)\n",
    "len(labels_unique)"
   ]
  },
  {
   "cell_type": "markdown",
   "metadata": {},
   "source": [
    "Grâce à ce traitement, on obtient la cardinalité réelle mais c'est toujours trop"
   ]
  },
  {
   "cell_type": "markdown",
   "metadata": {},
   "source": [
    "Dans l'idéal, pour cette étude, j'aimerais pouvoir séparer les labels avec ces grandes catégories suivantes:"
   ]
  },
  {
   "cell_type": "code",
   "execution_count": 20,
   "metadata": {},
   "outputs": [],
   "source": [
    "labels_simple = ['organic', 'vegetarian_or_vegan', 'no_preservatives', 'no_colorings', 'sustainable', 'no_gmos', 'no_artificial_flavors']"
   ]
  },
  {
   "cell_type": "markdown",
   "metadata": {},
   "source": [
    "Je vais partir sur une approche \"Dummy\" pour faciliter les filtrages. En effet je ne peux résumer un produit à un seul label."
   ]
  },
  {
   "cell_type": "markdown",
   "metadata": {},
   "source": [
    "<a id='backbio'></a>"
   ]
  },
  {
   "cell_type": "markdown",
   "metadata": {},
   "source": [
    "Gestion du Bio (accès à la fonction [ici](#fonctionbio))"
   ]
  },
  {
   "cell_type": "code",
   "execution_count": 21,
   "metadata": {},
   "outputs": [
    {
     "data": {
      "text/plain": [
       "Index(['code', 'url', 'creator', 'created_t', 'created_datetime',\n",
       "       'last_modified_t', 'last_modified_datetime', 'product_name',\n",
       "       'generic_name', 'quantity',\n",
       "       ...\n",
       "       'carbon-footprint-from-meat-or-fish_100g', 'nutrition-score-fr_100g',\n",
       "       'nutrition-score-uk_100g', 'glycemic-index_100g', 'water-hardness_100g',\n",
       "       'choline_100g', 'phylloquinone_100g', 'beta-glucan_100g',\n",
       "       'inositol_100g', 'carnitine_100g'],\n",
       "      dtype='object', length=183)"
      ]
     },
     "execution_count": 21,
     "metadata": {},
     "output_type": "execute_result"
    }
   ],
   "source": [
    "data_filtre.columns"
   ]
  },
  {
   "cell_type": "code",
   "execution_count": 22,
   "metadata": {},
   "outputs": [
    {
     "name": "stderr",
     "output_type": "stream",
     "text": [
      "<ipython-input-22-1c4cc4edf2d5>:1: SettingWithCopyWarning: \n",
      "A value is trying to be set on a copy of a slice from a DataFrame.\n",
      "Try using .loc[row_indexer,col_indexer] = value instead\n",
      "\n",
      "See the caveats in the documentation: https://pandas.pydata.org/pandas-docs/stable/user_guide/indexing.html#returning-a-view-versus-a-copy\n",
      "  data_filtre['is_labeled_organic'] = data_filtre['labels_en'].map(split_custom).map(test_bio)\n"
     ]
    }
   ],
   "source": [
    "data_filtre['is_labeled_organic'] = data_filtre['labels_en'].map(split_custom).map(test_bio)"
   ]
  },
  {
   "cell_type": "markdown",
   "metadata": {},
   "source": [
    "<a id='backvege'></a>"
   ]
  },
  {
   "cell_type": "markdown",
   "metadata": {},
   "source": [
    "Gestion du Végétarien (accès à la fonction [ici](#fonctionvege))"
   ]
  },
  {
   "cell_type": "code",
   "execution_count": 23,
   "metadata": {},
   "outputs": [
    {
     "name": "stderr",
     "output_type": "stream",
     "text": [
      "<ipython-input-23-1be3452212da>:1: SettingWithCopyWarning: \n",
      "A value is trying to be set on a copy of a slice from a DataFrame.\n",
      "Try using .loc[row_indexer,col_indexer] = value instead\n",
      "\n",
      "See the caveats in the documentation: https://pandas.pydata.org/pandas-docs/stable/user_guide/indexing.html#returning-a-view-versus-a-copy\n",
      "  data_filtre['is_labeled_vege_or_vegan'] = data_filtre.labels_en.map(split_custom).map(test_vege)\n"
     ]
    }
   ],
   "source": [
    "data_filtre['is_labeled_vege_or_vegan'] = data_filtre.labels_en.map(split_custom).map(test_vege)"
   ]
  },
  {
   "cell_type": "markdown",
   "metadata": {},
   "source": [
    "<a id='backconserv'></a>"
   ]
  },
  {
   "cell_type": "markdown",
   "metadata": {},
   "source": [
    "Gestion des conservateurs (accès à la fonction [ici](#fonctionnegation))"
   ]
  },
  {
   "cell_type": "code",
   "execution_count": 24,
   "metadata": {},
   "outputs": [],
   "source": [
    "preserv = []\n",
    "for label in labels_unique:\n",
    "    label = label.lower()\n",
    "    if 'konser' in label:\n",
    "        preserv.append(label)"
   ]
  },
  {
   "cell_type": "code",
   "execution_count": 25,
   "metadata": {},
   "outputs": [],
   "source": [
    "# preserv"
   ]
  },
  {
   "cell_type": "code",
   "execution_count": 26,
   "metadata": {},
   "outputs": [],
   "source": [
    "negations_english = [\"no\", \"free\", \"without\", '0', 'non']\n",
    "negations_french = [\"pas\", \"sans\", \"0\", \"aucun\"]\n",
    "negations_spanish= ['no', 'sin', 'zero', '0', 'libre', 'cero']\n",
    "negations_portuguese = ['sem', 'nao']\n",
    "negations_germanique = ['nie', 'bez', 'ohne', 'frei', 'utan', 'brez', 'keine']\n",
    "dict_conservateur = {\"conservateur\": negations_french, \"preservative\": negations_english, \n",
    "                     'conservante':negations_spanish + negations_portuguese, 'konser': negations_germanique}"
   ]
  },
  {
   "cell_type": "code",
   "execution_count": 27,
   "metadata": {},
   "outputs": [
    {
     "name": "stderr",
     "output_type": "stream",
     "text": [
      "<ipython-input-27-7ecc0dafc191>:1: SettingWithCopyWarning: \n",
      "A value is trying to be set on a copy of a slice from a DataFrame.\n",
      "Try using .loc[row_indexer,col_indexer] = value instead\n",
      "\n",
      "See the caveats in the documentation: https://pandas.pydata.org/pandas-docs/stable/user_guide/indexing.html#returning-a-view-versus-a-copy\n",
      "  data_filtre['is_labeled_preserv_free'] = data_filtre.labels_en.map(split_custom).apply(test_no_something, dict_something=dict_conservateur)\n"
     ]
    }
   ],
   "source": [
    "data_filtre['is_labeled_preserv_free'] = data_filtre.labels_en.map(split_custom).apply(test_no_something, dict_something=dict_conservateur)"
   ]
  },
  {
   "cell_type": "code",
   "execution_count": 28,
   "metadata": {},
   "outputs": [
    {
     "data": {
      "text/plain": [
       "False    82840\n",
       "True      9488\n",
       "Name: is_labeled_preserv_free, dtype: int64"
      ]
     },
     "execution_count": 28,
     "metadata": {},
     "output_type": "execute_result"
    }
   ],
   "source": [
    "data_filtre['is_labeled_preserv_free'].value_counts()"
   ]
  },
  {
   "cell_type": "markdown",
   "metadata": {},
   "source": [
    "<a id='backcolor'></a>"
   ]
  },
  {
   "cell_type": "markdown",
   "metadata": {},
   "source": [
    "Gestion des Colorants (accès à la fonction [ici](#fonctionnegation))"
   ]
  },
  {
   "cell_type": "code",
   "execution_count": 29,
   "metadata": {},
   "outputs": [],
   "source": [
    "color = []\n",
    "for label in labels_unique:\n",
    "    label = label.lower()\n",
    "    if 'color' in label:\n",
    "        color.append(label)"
   ]
  },
  {
   "cell_type": "code",
   "execution_count": 30,
   "metadata": {},
   "outputs": [],
   "source": [
    "# color"
   ]
  },
  {
   "cell_type": "code",
   "execution_count": 31,
   "metadata": {},
   "outputs": [],
   "source": [
    "dict_colorant = {\"color\": negations_french + negations_english + negations_spanish, \"corante\":negations_portuguese, 'farb': negations_germanique}"
   ]
  },
  {
   "cell_type": "code",
   "execution_count": 32,
   "metadata": {},
   "outputs": [
    {
     "name": "stderr",
     "output_type": "stream",
     "text": [
      "<ipython-input-32-e97131e051d5>:1: SettingWithCopyWarning: \n",
      "A value is trying to be set on a copy of a slice from a DataFrame.\n",
      "Try using .loc[row_indexer,col_indexer] = value instead\n",
      "\n",
      "See the caveats in the documentation: https://pandas.pydata.org/pandas-docs/stable/user_guide/indexing.html#returning-a-view-versus-a-copy\n",
      "  data_filtre['is_labeled_colorings_free'] = data_filtre.labels_en.map(split_custom).apply(test_no_something, dict_something=dict_colorant)\n"
     ]
    }
   ],
   "source": [
    "data_filtre['is_labeled_colorings_free'] = data_filtre.labels_en.map(split_custom).apply(test_no_something, dict_something=dict_colorant)"
   ]
  },
  {
   "cell_type": "code",
   "execution_count": 33,
   "metadata": {},
   "outputs": [
    {
     "data": {
      "text/plain": [
       "False    85018\n",
       "True      7310\n",
       "Name: is_labeled_colorings_free, dtype: int64"
      ]
     },
     "execution_count": 33,
     "metadata": {},
     "output_type": "execute_result"
    }
   ],
   "source": [
    "data_filtre['is_labeled_colorings_free'].value_counts()"
   ]
  },
  {
   "cell_type": "markdown",
   "metadata": {},
   "source": [
    "<a id='backGMO'></a>"
   ]
  },
  {
   "cell_type": "markdown",
   "metadata": {},
   "source": [
    "Gestion des OGMs (accès à la fonction [ici](#fonctionnegation))"
   ]
  },
  {
   "cell_type": "code",
   "execution_count": 34,
   "metadata": {},
   "outputs": [],
   "source": [
    "ogm = []\n",
    "for label in labels_unique:\n",
    "    label = label.lower()\n",
    "    if 'gmo' in label:\n",
    "        ogm.append(label)"
   ]
  },
  {
   "cell_type": "code",
   "execution_count": 35,
   "metadata": {},
   "outputs": [],
   "source": [
    "# ogm"
   ]
  },
  {
   "cell_type": "code",
   "execution_count": 36,
   "metadata": {},
   "outputs": [],
   "source": [
    "dict_ogm = {\"ogm\": negations_french + negations_portuguese, 'gmo': negations_english + negations_portuguese, 'gvo': negations_germanique}"
   ]
  },
  {
   "cell_type": "code",
   "execution_count": 37,
   "metadata": {},
   "outputs": [
    {
     "name": "stderr",
     "output_type": "stream",
     "text": [
      "<ipython-input-37-af83a8e75941>:1: SettingWithCopyWarning: \n",
      "A value is trying to be set on a copy of a slice from a DataFrame.\n",
      "Try using .loc[row_indexer,col_indexer] = value instead\n",
      "\n",
      "See the caveats in the documentation: https://pandas.pydata.org/pandas-docs/stable/user_guide/indexing.html#returning-a-view-versus-a-copy\n",
      "  data_filtre['is_labeled_gmos_free'] = data_filtre.labels_en.map(split_custom).apply(test_no_something, dict_something=dict_ogm)\n"
     ]
    }
   ],
   "source": [
    "data_filtre['is_labeled_gmos_free'] = data_filtre.labels_en.map(split_custom).apply(test_no_something, dict_something=dict_ogm)\n",
    "# data_filtre['is_labeled_gmos_free'] = data_filtre.labels_en.map(split_custom).apply(lambda x : test_no_something(x, dict_ogm), axis=1) #essayer "
   ]
  },
  {
   "cell_type": "code",
   "execution_count": 38,
   "metadata": {},
   "outputs": [
    {
     "data": {
      "text/plain": [
       "False    90171\n",
       "True      2157\n",
       "Name: is_labeled_gmos_free, dtype: int64"
      ]
     },
     "execution_count": 38,
     "metadata": {},
     "output_type": "execute_result"
    }
   ],
   "source": [
    "data_filtre['is_labeled_gmos_free'].value_counts()"
   ]
  },
  {
   "cell_type": "markdown",
   "metadata": {},
   "source": [
    "<a id='nett_2'></a>\n",
    "### Categories 🗂️"
   ]
  },
  {
   "cell_type": "markdown",
   "metadata": {},
   "source": [
    "Je pensais d'abord utiliser les données categories_n. mais la données pnns_groups_2 est déjà travaillée et est renseignée à presque 100%"
   ]
  },
  {
   "cell_type": "code",
   "execution_count": 39,
   "metadata": {},
   "outputs": [
    {
     "data": {
      "text/plain": [
       "Biscuits and cakes    0.089009\n",
       "One-dish meals        0.085565\n",
       "unknown               0.082099\n",
       "Sweets                0.056213\n",
       "Processed meat        0.055162\n",
       "Cereals               0.054707\n",
       "Milk and yogurt       0.052335\n",
       "Cheese                0.050700\n",
       "Name: pnns_groups_2, dtype: float64"
      ]
     },
     "execution_count": 39,
     "metadata": {},
     "output_type": "execute_result"
    }
   ],
   "source": [
    "data_filtre['pnns_groups_2'].value_counts(normalize=True).head(8)"
   ]
  },
  {
   "cell_type": "code",
   "execution_count": 40,
   "metadata": {},
   "outputs": [
    {
     "name": "stderr",
     "output_type": "stream",
     "text": [
      "/Users/hugorebeix/opt/anaconda3/envs/env_OC_p03/lib/python3.8/site-packages/pandas/core/indexing.py:1743: SettingWithCopyWarning: \n",
      "A value is trying to be set on a copy of a slice from a DataFrame.\n",
      "Try using .loc[row_indexer,col_indexer] = value instead\n",
      "\n",
      "See the caveats in the documentation: https://pandas.pydata.org/pandas-docs/stable/user_guide/indexing.html#returning-a-view-versus-a-copy\n",
      "  isetter(ilocs[0], value)\n"
     ]
    }
   ],
   "source": [
    "data_filtre.loc[:,'pnns_groups_2'] = data_filtre.loc[:,'pnns_groups_2'].map(lambda x:x.lower()) #Inplace = true"
   ]
  },
  {
   "cell_type": "code",
   "execution_count": 41,
   "metadata": {},
   "outputs": [],
   "source": [
    "data_filtre = data_filtre.replace('pizza pies and quiche', 'pizza pies and quiches')"
   ]
  },
  {
   "cell_type": "markdown",
   "metadata": {},
   "source": [
    "TODO : Faire un KNN sur les données \"Unknown\" : 8.2% des données"
   ]
  },
  {
   "cell_type": "markdown",
   "metadata": {},
   "source": [
    "<a id='nett_3'></a>\n",
    "### Packaging 📦\n",
    "Cette donnée essentielle à notre étude necessite un gros travail de traitement"
   ]
  },
  {
   "cell_type": "code",
   "execution_count": 42,
   "metadata": {},
   "outputs": [
    {
     "data": {
      "text/plain": [
       "count                92328\n",
       "unique               18443\n",
       "top       sachet,plastique\n",
       "freq                  4878\n",
       "Name: packaging_tags, dtype: object"
      ]
     },
     "execution_count": 42,
     "metadata": {},
     "output_type": "execute_result"
    }
   ],
   "source": [
    "data_filtre.packaging_tags.describe()"
   ]
  },
  {
   "cell_type": "markdown",
   "metadata": {},
   "source": [
    "Même configuration : forte cardinalité d'une variable qualitative"
   ]
  },
  {
   "cell_type": "code",
   "execution_count": 43,
   "metadata": {},
   "outputs": [
    {
     "data": {
      "text/plain": [
       "sachet,plastique               4878\n",
       "plastique                      2626\n",
       "kunststoff                     2017\n",
       "carton                         1963\n",
       "frais,plastique                1611\n",
       "barquette,plastique            1460\n",
       "frais                          1454\n",
       "carton,plastique               1224\n",
       "plastic                        1189\n",
       "sachet                         1155\n",
       "bouteille,plastique            1082\n",
       "glas                           1077\n",
       "bocal,verre                    1024\n",
       "sachet-plastique                910\n",
       "conserve                        804\n",
       "plastico                        630\n",
       "brique,carton                   614\n",
       "bouteille,verre                 597\n",
       "carton,boite,plastique          559\n",
       "karton                          544\n",
       "sachet,plastique,surgele        523\n",
       "bocal,verre,couvercle,metal     518\n",
       "barquette                       492\n",
       "papier                          486\n",
       "conserve,metal                  481\n",
       "barquette,plastique,frais       477\n",
       "brique                          464\n",
       "bocal,verre,metal               453\n",
       "plastik                         442\n",
       "tetra-pak                       429\n",
       "plastique,sachet                420\n",
       "karton,kunststoff               405\n",
       "pot                             399\n",
       "boite,carton                    373\n",
       "boite                           372\n",
       "verre                           368\n",
       "carton,surgele                  365\n",
       "bouteille                       365\n",
       "plastique,frais                 347\n",
       "bocal                           312\n",
       "plastique,carton                311\n",
       "plastica                        293\n",
       "pot,verre                       270\n",
       "boite,carton,plastique          267\n",
       "carton,plastique,surgele        265\n",
       "pot,plastique                   244\n",
       "frais,plastique,carton          244\n",
       "verre,bocal                     244\n",
       "surgeles                        242\n",
       "box                             234\n",
       "Name: packaging_tags, dtype: int64"
      ]
     },
     "execution_count": 43,
     "metadata": {},
     "output_type": "execute_result"
    }
   ],
   "source": [
    "data_filtre.packaging_tags.value_counts().head(50)"
   ]
  },
  {
   "cell_type": "markdown",
   "metadata": {},
   "source": [
    "Dans un premier temps je me limiterai à une analyse binaire Plastique/Pas de plastique"
   ]
  },
  {
   "cell_type": "markdown",
   "metadata": {},
   "source": [
    "En regardant les produits dont le packaging tag est \"sachet\", je vois qu'ils sont en plastique"
   ]
  },
  {
   "cell_type": "code",
   "execution_count": 44,
   "metadata": {},
   "outputs": [
    {
     "data": {
      "text/plain": [
       "'http://world-en.openfoodfacts.org/product/3257981685697/nature-bio-raisins-secs-sultanines-bio'"
      ]
     },
     "execution_count": 44,
     "metadata": {},
     "output_type": "execute_result"
    }
   ],
   "source": [
    "data_filtre[data_filtre['packaging_tags'] == 'sachet'][['product_name', 'url']].sample(1).iloc[0,1]"
   ]
  },
  {
   "cell_type": "code",
   "execution_count": 45,
   "metadata": {},
   "outputs": [],
   "source": [
    "plastic_test = lambda x : bool(re.search(r'plast', x)) or bool(re.search(r'kunstoff', x)) or bool(re.search(r'sachet',x))\n",
    "data_filtre[\"has_plastic\"] = data_filtre['packaging_tags'].map(plastic_test)"
   ]
  },
  {
   "cell_type": "markdown",
   "metadata": {},
   "source": [
    "Voir l'[analyse univariée du critère plastique](#univ_3)"
   ]
  },
  {
   "cell_type": "markdown",
   "metadata": {},
   "source": [
    "# Analyses Univariées 📊\n",
    "##### - [Labels](#univ_1)\n",
    "##### - [Categories](#univ_2)\n",
    "##### - [Packaging](#univ_3)\n",
    "##### - [Additifs](#univ_4)\n",
    "##### - [Huile de palme](#univ_5)\n",
    "##### - [Graisse saturée](#univ_6)\n",
    "##### - [Nutriscore numérique](#univ_7)\n",
    "##### - [Nutriscore catégorique](#univ_8)"
   ]
  },
  {
   "cell_type": "markdown",
   "metadata": {},
   "source": [
    "<a id='univ_1'></a>\n",
    "### Labels 🏷️"
   ]
  },
  {
   "cell_type": "markdown",
   "metadata": {},
   "source": [
    "Les labels nous donne des informations sur le type d'aliment et surtout sur le soin apporté par l'industriel pour le produit.\n",
    "L'analyse en histogramme nous permet ici d'y voir plus clair sur la quantité de labels dans le dataset mais ne nous permet pas de réaliser de véritables analyses univariée.\n",
    "Il serait interessant de mener des analyse univariées d'un autre paramètre sur un classe de labels"
   ]
  },
  {
   "cell_type": "code",
   "execution_count": 46,
   "metadata": {},
   "outputs": [],
   "source": [
    "labels_to_inspect = ['is_labeled_organic',\n",
    "                     'is_labeled_vege_or_vegan',\n",
    "                     'is_labeled_preserv_free',\n",
    "                     'is_labeled_colorings_free',\n",
    "                     'is_labeled_gmos_free']\n",
    "\n",
    "qtty_label = [data_filtre[label_to_inspect].value_counts().loc[True] for label_to_inspect in labels_to_inspect]\n",
    "percent_label = np.array(qtty_label)/len(data_filtre) * 100"
   ]
  },
  {
   "cell_type": "markdown",
   "metadata": {},
   "source": [
    "<a id='univ_1_plot_1'></a>"
   ]
  },
  {
   "cell_type": "markdown",
   "metadata": {},
   "source": [
    "Voir fonction [ici](#plot_bar)"
   ]
  },
  {
   "cell_type": "code",
   "execution_count": 47,
   "metadata": {},
   "outputs": [
    {
     "data": {
      "image/png": "[encoded data removed]",
      "text/plain": [
       "<Figure size 576x576 with 1 Axes>"
      ]
     },
     "metadata": {
      "needs_background": "light"
     },
     "output_type": "display_data"
    }
   ],
   "source": [
    "plot_bar(percent_label, ['Label Bio', 'Label\\nVege/Vegan', 'Label\\n0 Conservateurs', 'Label\\n0 Colorants', 'Label 0 OGM'], label='Nombre de produits labellisés')"
   ]
  },
  {
   "cell_type": "markdown",
   "metadata": {},
   "source": [
    "<a id='univ_2'></a>\n",
    "### Categories 🗂️"
   ]
  },
  {
   "cell_type": "code",
   "execution_count": 48,
   "metadata": {},
   "outputs": [
    {
     "data": {
      "text/plain": [
       "count                  92328\n",
       "unique                    40\n",
       "top       biscuits and cakes\n",
       "freq                    8218\n",
       "Name: pnns_groups_2, dtype: object"
      ]
     },
     "execution_count": 48,
     "metadata": {},
     "output_type": "execute_result"
    }
   ],
   "source": [
    "data_filtre.pnns_groups_2.describe()"
   ]
  },
  {
   "cell_type": "markdown",
   "metadata": {},
   "source": [
    "Les catégories de pnns_groups_2 sont bien mieux référencées que celles des categories_en"
   ]
  },
  {
   "cell_type": "code",
   "execution_count": 49,
   "metadata": {},
   "outputs": [
    {
     "data": {
      "text/plain": [
       "biscuits and cakes      8218\n",
       "one-dish meals          7900\n",
       "unknown                 7580\n",
       "sweets                  5190\n",
       "processed meat          5093\n",
       "cereals                 5062\n",
       "milk and yogurt         4832\n",
       "cheese                  4681\n",
       "dressings and sauces    3686\n",
       "vegetables              3316\n",
       "Name: pnns_groups_2, dtype: int64"
      ]
     },
     "execution_count": 49,
     "metadata": {},
     "output_type": "execute_result"
    }
   ],
   "source": [
    "data_filtre.pnns_groups_2.value_counts().head(10)"
   ]
  },
  {
   "cell_type": "markdown",
   "metadata": {},
   "source": [
    "Voir la fonction [ici](#plot_bar)"
   ]
  },
  {
   "cell_type": "markdown",
   "metadata": {},
   "source": [
    "<a id='univ_1_plot_2'></a>"
   ]
  },
  {
   "cell_type": "code",
   "execution_count": 50,
   "metadata": {},
   "outputs": [],
   "source": [
    "data_bar_categ = data_filtre.pnns_groups_2.value_counts()/len(data_filtre) *100\n",
    "labels = list(data_filtre.pnns_groups_2.value_counts().index)"
   ]
  },
  {
   "cell_type": "code",
   "execution_count": 51,
   "metadata": {},
   "outputs": [
    {
     "data": {
      "text/plain": [
       "40"
      ]
     },
     "execution_count": 51,
     "metadata": {},
     "output_type": "execute_result"
    }
   ],
   "source": [
    "len(labels)"
   ]
  },
  {
   "cell_type": "code",
   "execution_count": 52,
   "metadata": {},
   "outputs": [
    {
     "name": "stderr",
     "output_type": "stream",
     "text": [
      "No handles with labels found to put in legend.\n"
     ]
    },
    {
     "data": {
      "image/png": "[encoded data removed]",
      "text/plain": [
       "<Figure size 576x576 with 1 Axes>"
      ]
     },
     "metadata": {},
     "output_type": "display_data"
    }
   ],
   "source": [
    "plot_bar(data_bar_categ, labels, rotation=True)"
   ]
  },
  {
   "cell_type": "markdown",
   "metadata": {},
   "source": [
    "Dans le cadre du projet d'application, cette colonne nous servira a proposer un produit de la même catégorie. Il faudra également la rassembler en moins de cardinalités"
   ]
  },
  {
   "cell_type": "markdown",
   "metadata": {},
   "source": [
    "On peut aussi se servir de cette colonne pour un analyse spécifique d'une catégorie d'aliments. par exemple pour voir si le nutriscore est meilleur sans plastique pour certaines catégories."
   ]
  },
  {
   "cell_type": "markdown",
   "metadata": {},
   "source": [
    "<a id='univ_3'></a>\n",
    "### Packaging"
   ]
  },
  {
   "cell_type": "code",
   "execution_count": 53,
   "metadata": {},
   "outputs": [
    {
     "data": {
      "text/plain": [
       "count                92328\n",
       "unique               18443\n",
       "top       sachet,plastique\n",
       "freq                  4878\n",
       "Name: packaging_tags, dtype: object"
      ]
     },
     "execution_count": 53,
     "metadata": {},
     "output_type": "execute_result"
    }
   ],
   "source": [
    "data_filtre.packaging_tags.describe()"
   ]
  },
  {
   "cell_type": "code",
   "execution_count": 54,
   "metadata": {},
   "outputs": [
    {
     "data": {
      "text/plain": [
       "sachet,plastique       4878\n",
       "plastique              2626\n",
       "kunststoff             2017\n",
       "carton                 1963\n",
       "frais,plastique        1611\n",
       "barquette,plastique    1460\n",
       "frais                  1454\n",
       "carton,plastique       1224\n",
       "plastic                1189\n",
       "sachet                 1155\n",
       "Name: packaging_tags, dtype: int64"
      ]
     },
     "execution_count": 54,
     "metadata": {},
     "output_type": "execute_result"
    }
   ],
   "source": [
    "data_filtre.packaging_tags.value_counts().head(10)"
   ]
  },
  {
   "cell_type": "markdown",
   "metadata": {},
   "source": [
    "Pour l'analyse univariée nous nous contenterons pour le moment d'analyser la variable binaire \"has_plastic\" calculée dans la partie [nettoyage](#nett_3)"
   ]
  },
  {
   "cell_type": "code",
   "execution_count": 55,
   "metadata": {},
   "outputs": [
    {
     "data": {
      "text/plain": [
       "True     49390\n",
       "False    42938\n",
       "Name: has_plastic, dtype: int64"
      ]
     },
     "execution_count": 55,
     "metadata": {},
     "output_type": "execute_result"
    }
   ],
   "source": [
    "data_filtre['has_plastic'].value_counts()"
   ]
  },
  {
   "cell_type": "code",
   "execution_count": 56,
   "metadata": {},
   "outputs": [
    {
     "data": {
      "image/png": "[encoded data removed]",
      "text/plain": [
       "<Figure size 576x396 with 1 Axes>"
      ]
     },
     "metadata": {},
     "output_type": "display_data"
    }
   ],
   "source": [
    "plt.title(\"Repartition binaire des emballages\\nd'après le critère plastique\", fontsize=17)\n",
    "plt.pie(data_filtre['has_plastic'].value_counts(), labels=[\"L'emballage contient du plastique\", \"L'emballage ne contient pas de plastique\"], \n",
    "        colors=['#A21AEA', '#278530'], autopct='%.2f', startangle=90)\n",
    "plt.show()"
   ]
  },
  {
   "cell_type": "markdown",
   "metadata": {},
   "source": [
    "Une majorité de produits sont emballés en partie ou totalement dans du plastique"
   ]
  },
  {
   "cell_type": "markdown",
   "metadata": {},
   "source": [
    "#### Intervalle de confiance sur cette repartition:"
   ]
  },
  {
   "cell_type": "code",
   "execution_count": 57,
   "metadata": {},
   "outputs": [
    {
     "data": {
      "text/plain": [
       "42938"
      ]
     },
     "execution_count": 57,
     "metadata": {},
     "output_type": "execute_result"
    }
   ],
   "source": [
    "data_filtre['has_plastic'].value_counts().loc[False]"
   ]
  },
  {
   "cell_type": "code",
   "execution_count": 58,
   "metadata": {},
   "outputs": [],
   "source": [
    "n_produits_total = len(data_filtre)\n",
    "n_produits_sans_plastique = data_filtre['has_plastic'].value_counts().loc[False]\n",
    "proportion_estim = n_produits_sans_plastique / n_produits_total"
   ]
  },
  {
   "cell_type": "code",
   "execution_count": 59,
   "metadata": {},
   "outputs": [
    {
     "data": {
      "text/plain": [
       "0.46505935360887274"
      ]
     },
     "execution_count": 59,
     "metadata": {},
     "output_type": "execute_result"
    }
   ],
   "source": [
    "proportion_estim"
   ]
  },
  {
   "cell_type": "markdown",
   "metadata": {},
   "source": [
    "Niveau de confiance"
   ]
  },
  {
   "cell_type": "code",
   "execution_count": 60,
   "metadata": {},
   "outputs": [
    {
     "data": {
      "text/plain": [
       "(0.4618420772485127, 0.4682766299692328)"
      ]
     },
     "execution_count": 60,
     "metadata": {},
     "output_type": "execute_result"
    }
   ],
   "source": [
    "alpha = 0.05\n",
    "interv_conf_propor_pduits_sans_plastique = proportion_confint(n_produits_sans_plastique, n_produits_total, alpha=alpha, method='normal')\n",
    "interv_conf_propor_pduits_sans_plastique"
   ]
  },
  {
   "cell_type": "markdown",
   "metadata": {},
   "source": [
    "<a id='univ_4'></a>\n",
    "### Additifs"
   ]
  },
  {
   "cell_type": "code",
   "execution_count": 61,
   "metadata": {},
   "outputs": [
    {
     "data": {
      "text/plain": [
       "count    92328.000000\n",
       "mean         1.575221\n",
       "std          2.239675\n",
       "min          0.000000\n",
       "25%          0.000000\n",
       "50%          1.000000\n",
       "75%          2.000000\n",
       "max         30.000000\n",
       "Name: additives_n, dtype: float64"
      ]
     },
     "execution_count": 61,
     "metadata": {},
     "output_type": "execute_result"
    }
   ],
   "source": [
    "data_filtre.additives_n.describe()"
   ]
  },
  {
   "cell_type": "code",
   "execution_count": 62,
   "metadata": {},
   "outputs": [
    {
     "data": {
      "text/plain": [
       "323    2.0\n",
       "346    4.0\n",
       "384    0.0\n",
       "385    1.0\n",
       "393    3.0\n",
       "Name: additives_n, dtype: float64"
      ]
     },
     "execution_count": 62,
     "metadata": {},
     "output_type": "execute_result"
    }
   ],
   "source": [
    "data_filtre.additives_n.head(5)"
   ]
  },
  {
   "cell_type": "markdown",
   "metadata": {},
   "source": [
    "Cette variable est une variable quantitative visiblement entière"
   ]
  },
  {
   "cell_type": "code",
   "execution_count": 63,
   "metadata": {},
   "outputs": [
    {
     "data": {
      "image/png": "[encoded data removed]",
      "text/plain": [
       "<Figure size 576x396 with 1 Axes>"
      ]
     },
     "metadata": {},
     "output_type": "display_data"
    }
   ],
   "source": [
    "plot_histo(data_filtre.additives_n, bins=30, xlabel=\"Nombre d'additifs\")"
   ]
  },
  {
   "cell_type": "markdown",
   "metadata": {},
   "source": [
    "J'aimerais utiliser cette variable pour tester la correlation entre le nombre d'additifs et la présence de plastique dans l'emballage"
   ]
  },
  {
   "cell_type": "markdown",
   "metadata": {},
   "source": [
    "<a id='univ_5'></a>\n",
    "### Huile de palme"
   ]
  },
  {
   "cell_type": "code",
   "execution_count": 64,
   "metadata": {},
   "outputs": [
    {
     "data": {
      "text/plain": [
       "count    92328.000000\n",
       "mean         0.037984\n",
       "std          0.193748\n",
       "min          0.000000\n",
       "25%          0.000000\n",
       "50%          0.000000\n",
       "75%          0.000000\n",
       "max          2.000000\n",
       "Name: ingredients_from_palm_oil_n, dtype: float64"
      ]
     },
     "execution_count": 64,
     "metadata": {},
     "output_type": "execute_result"
    }
   ],
   "source": [
    "data_filtre.ingredients_from_palm_oil_n.describe()"
   ]
  },
  {
   "cell_type": "code",
   "execution_count": 65,
   "metadata": {},
   "outputs": [
    {
     "data": {
      "text/plain": [
       "0.0    88867\n",
       "1.0     3415\n",
       "2.0       46\n",
       "Name: ingredients_from_palm_oil_n, dtype: int64"
      ]
     },
     "execution_count": 65,
     "metadata": {},
     "output_type": "execute_result"
    }
   ],
   "source": [
    "data_filtre.ingredients_from_palm_oil_n.value_counts()"
   ]
  },
  {
   "cell_type": "markdown",
   "metadata": {},
   "source": [
    "<a id='univ_6'></a>\n",
    "### Graisse saturée"
   ]
  },
  {
   "cell_type": "code",
   "execution_count": 66,
   "metadata": {},
   "outputs": [
    {
     "data": {
      "text/plain": [
       "count    92328.000000\n",
       "mean         5.480784\n",
       "std          8.357085\n",
       "min          0.000000\n",
       "25%          0.350000\n",
       "50%          2.000000\n",
       "75%          7.700000\n",
       "max        140.000000\n",
       "Name: saturated-fat_100g, dtype: float64"
      ]
     },
     "execution_count": 66,
     "metadata": {},
     "output_type": "execute_result"
    }
   ],
   "source": [
    "data_filtre['saturated-fat_100g'].describe()"
   ]
  },
  {
   "cell_type": "markdown",
   "metadata": {},
   "source": [
    "Cette variable quantitative donne le nombre de grammes de graisse saturée pour 100g de produit. Il n'est donc pas logique que certains produits aient une valeur de plus de 100.\n",
    "Regardons ces valeurs"
   ]
  },
  {
   "cell_type": "code",
   "execution_count": 67,
   "metadata": {},
   "outputs": [
    {
     "data": {
      "text/html": [
       "<div>\n",
       "<style scoped>\n",
       "    .dataframe tbody tr th:only-of-type {\n",
       "        vertical-align: middle;\n",
       "    }\n",
       "\n",
       "    .dataframe tbody tr th {\n",
       "        vertical-align: top;\n",
       "    }\n",
       "\n",
       "    .dataframe thead th {\n",
       "        text-align: right;\n",
       "    }\n",
       "</style>\n",
       "<table border=\"1\" class=\"dataframe\">\n",
       "  <thead>\n",
       "    <tr style=\"text-align: right;\">\n",
       "      <th></th>\n",
       "      <th>product_name</th>\n",
       "      <th>nutriscore_grade</th>\n",
       "      <th>quantity</th>\n",
       "      <th>saturated-fat_100g</th>\n",
       "      <th>serving_size</th>\n",
       "      <th>ingredients_text</th>\n",
       "    </tr>\n",
       "  </thead>\n",
       "  <tbody>\n",
       "    <tr>\n",
       "      <th>652577</th>\n",
       "      <td>Palets dorés noix de coco</td>\n",
       "      <td>e</td>\n",
       "      <td>125 g</td>\n",
       "      <td>120.0</td>\n",
       "      <td>23 g</td>\n",
       "      <td>Farine de ble 50%, sucre, noix de coco 8,4%, h...</td>\n",
       "    </tr>\n",
       "    <tr>\n",
       "      <th>915679</th>\n",
       "      <td>Virgin coconuts oil</td>\n",
       "      <td>d</td>\n",
       "      <td>380 ml</td>\n",
       "      <td>100.0</td>\n",
       "      <td>NaN</td>\n",
       "      <td>Noix de coco bio.</td>\n",
       "    </tr>\n",
       "    <tr>\n",
       "      <th>1212389</th>\n",
       "      <td>Kokosöl BIO</td>\n",
       "      <td>e</td>\n",
       "      <td>182g</td>\n",
       "      <td>100.0</td>\n",
       "      <td>NaN</td>\n",
       "      <td>Bio Kokosfett (Sri Lanka). Kokosfett: Fairtrad...</td>\n",
       "    </tr>\n",
       "    <tr>\n",
       "      <th>1353590</th>\n",
       "      <td>Aceite de oliva virgen extra &amp;quot;Esencia And...</td>\n",
       "      <td>c</td>\n",
       "      <td>10 ml</td>\n",
       "      <td>140.0</td>\n",
       "      <td>10 ml</td>\n",
       "      <td>Aceite de oliva virgen extra.</td>\n",
       "    </tr>\n",
       "  </tbody>\n",
       "</table>\n",
       "</div>"
      ],
      "text/plain": [
       "                                              product_name nutriscore_grade  \\\n",
       "652577                           Palets dorés noix de coco                e   \n",
       "915679                                 Virgin coconuts oil                d   \n",
       "1212389                                        Kokosöl BIO                e   \n",
       "1353590  Aceite de oliva virgen extra &quot;Esencia And...                c   \n",
       "\n",
       "        quantity  saturated-fat_100g serving_size  \\\n",
       "652577     125 g               120.0         23 g   \n",
       "915679    380 ml               100.0          NaN   \n",
       "1212389     182g               100.0          NaN   \n",
       "1353590    10 ml               140.0        10 ml   \n",
       "\n",
       "                                          ingredients_text  \n",
       "652577   Farine de ble 50%, sucre, noix de coco 8,4%, h...  \n",
       "915679                                   Noix de coco bio.  \n",
       "1212389  Bio Kokosfett (Sri Lanka). Kokosfett: Fairtrad...  \n",
       "1353590                      Aceite de oliva virgen extra.  "
      ]
     },
     "execution_count": 67,
     "metadata": {},
     "output_type": "execute_result"
    }
   ],
   "source": [
    "data_filtre[data_filtre['saturated-fat_100g'] >= 100][['product_name', 'nutriscore_grade', 'quantity', 'saturated-fat_100g', 'serving_size', 'ingredients_text']]"
   ]
  },
  {
   "cell_type": "markdown",
   "metadata": {},
   "source": [
    "Bien que surprenant à première vue, ces outliers n'en sont peut etre pas étant donné que ce sont en fait des huiles liquides. Je suspecte que la données saturated fat soit ici une donnée en ml et que le taux de passage ml-g soit approximatif.\n",
    "Seul le premier semble suspect d'autent qu'il possède 50% de farine. Je vais donc le supprimer"
   ]
  },
  {
   "cell_type": "code",
   "execution_count": 68,
   "metadata": {},
   "outputs": [],
   "source": [
    "data_filtre = data_filtre.drop([652577])"
   ]
  },
  {
   "cell_type": "code",
   "execution_count": 69,
   "metadata": {},
   "outputs": [
    {
     "data": {
      "image/png": "[encoded data removed]",
      "text/plain": [
       "<Figure size 576x396 with 1 Axes>"
      ]
     },
     "metadata": {},
     "output_type": "display_data"
    }
   ],
   "source": [
    "plot_histo(data_filtre['saturated-fat_100g'], bins=24, xlabel=\"Graisse saturée pour 100g\")"
   ]
  },
  {
   "cell_type": "markdown",
   "metadata": {},
   "source": [
    "<a id='univ_7'></a>\n",
    "### Nutriscore (numérique)"
   ]
  },
  {
   "cell_type": "code",
   "execution_count": 70,
   "metadata": {},
   "outputs": [
    {
     "data": {
      "text/plain": [
       "count    92327.000000\n",
       "mean         8.115438\n",
       "std          9.061855\n",
       "min        -15.000000\n",
       "25%          1.000000\n",
       "50%          7.000000\n",
       "75%         15.000000\n",
       "max         36.000000\n",
       "Name: nutriscore_score, dtype: float64"
      ]
     },
     "execution_count": 70,
     "metadata": {},
     "output_type": "execute_result"
    }
   ],
   "source": [
    "data_filtre.nutriscore_score.describe()"
   ]
  },
  {
   "cell_type": "markdown",
   "metadata": {},
   "source": [
    "C'est une variable quantitative sur la qualité des aliments"
   ]
  },
  {
   "cell_type": "markdown",
   "metadata": {},
   "source": [
    "Voici la documentation:"
   ]
  },
  {
   "cell_type": "markdown",
   "metadata": {},
   "source": [
    "<img src=\"img/nutriscore.png\" style=\"height:250px\">"
   ]
  },
  {
   "cell_type": "code",
   "execution_count": 71,
   "metadata": {},
   "outputs": [
    {
     "data": {
      "image/png": "[encoded data removed]",
      "text/plain": [
       "<Figure size 576x396 with 1 Axes>"
      ]
     },
     "metadata": {},
     "output_type": "display_data"
    }
   ],
   "source": [
    "plot_histo(data_filtre['nutriscore_score'], xlabel=\"Nutriscore\")"
   ]
  },
  {
   "cell_type": "markdown",
   "metadata": {},
   "source": [
    "Mesure de la symetrie avec Skewness : "
   ]
  },
  {
   "cell_type": "code",
   "execution_count": 72,
   "metadata": {},
   "outputs": [
    {
     "data": {
      "text/plain": [
       "0.26514023697425426"
      ]
     },
     "execution_count": 72,
     "metadata": {},
     "output_type": "execute_result"
    }
   ],
   "source": [
    "data_filtre.nutriscore_score.skew()"
   ]
  },
  {
   "cell_type": "markdown",
   "metadata": {},
   "source": [
    "On voit que la distribution est quasi symétrique avec un léger décalage à gauche"
   ]
  },
  {
   "cell_type": "markdown",
   "metadata": {},
   "source": [
    "<a id='univ_8'></a>\n",
    "### Nutriscore (grade)"
   ]
  },
  {
   "cell_type": "code",
   "execution_count": 73,
   "metadata": {},
   "outputs": [
    {
     "data": {
      "text/plain": [
       "count     92327\n",
       "unique        5\n",
       "top           d\n",
       "freq      24722\n",
       "Name: nutriscore_grade, dtype: object"
      ]
     },
     "execution_count": 73,
     "metadata": {},
     "output_type": "execute_result"
    }
   ],
   "source": [
    "data_filtre.nutriscore_grade.describe()"
   ]
  },
  {
   "cell_type": "code",
   "execution_count": 74,
   "metadata": {},
   "outputs": [
    {
     "data": {
      "text/plain": [
       "array(['b', 'e', 'd', 'c', 'a'], dtype=object)"
      ]
     },
     "execution_count": 74,
     "metadata": {},
     "output_type": "execute_result"
    }
   ],
   "source": [
    "data_filtre.nutriscore_grade.unique()"
   ]
  },
  {
   "cell_type": "code",
   "execution_count": 75,
   "metadata": {},
   "outputs": [
    {
     "data": {
      "text/plain": [
       "d    24722\n",
       "c    20149\n",
       "a    17401\n",
       "e    15942\n",
       "b    14113\n",
       "Name: nutriscore_grade, dtype: int64"
      ]
     },
     "execution_count": 75,
     "metadata": {},
     "output_type": "execute_result"
    }
   ],
   "source": [
    "data_filtre.nutriscore_grade.value_counts()"
   ]
  },
  {
   "cell_type": "markdown",
   "metadata": {},
   "source": [
    "Cette note connue du grand public est une note de A à E (A étant la meilleure et E la moins bonne). C'est donc une variable qualitative ordonnée. On peut la traiter comme une variable quantitative"
   ]
  },
  {
   "cell_type": "code",
   "execution_count": 76,
   "metadata": {},
   "outputs": [],
   "source": [
    "data_filtre['nutriscore_grade_num'] = data_filtre.nutriscore_grade.replace({'a':4, 'b':3, 'c':2, 'd':1, 'e':0})"
   ]
  },
  {
   "cell_type": "code",
   "execution_count": 77,
   "metadata": {},
   "outputs": [],
   "source": [
    "data_pie_nutriscore = data_filtre['nutriscore_grade_num'].value_counts().sort_index()"
   ]
  },
  {
   "cell_type": "code",
   "execution_count": 78,
   "metadata": {},
   "outputs": [
    {
     "data": {
      "image/png": "[encoded data removed]",
      "text/plain": [
       "<Figure size 576x576 with 1 Axes>"
      ]
     },
     "metadata": {},
     "output_type": "display_data"
    }
   ],
   "source": [
    "plt.figure(figsize=(8,8))\n",
    "plt.style.use('seaborn')\n",
    "plt.title(\"Repartition des nutriscores\")\n",
    "plt.pie(data_pie_nutriscore, labels=['E', 'D', 'C', 'B', 'A'], colors=['red','orange','yellow', '#0DF347', 'green'], startangle=90)\n",
    "plt.show()"
   ]
  },
  {
   "cell_type": "code",
   "execution_count": 79,
   "metadata": {},
   "outputs": [
    {
     "name": "stderr",
     "output_type": "stream",
     "text": [
      "No handles with labels found to put in legend.\n"
     ]
    },
    {
     "data": {
      "image/png": "[encoded data removed]",
      "text/plain": [
       "<Figure size 576x396 with 1 Axes>"
      ]
     },
     "metadata": {},
     "output_type": "display_data"
    }
   ],
   "source": [
    "plot_histo(data_filtre['nutriscore_grade_num'], plot_density=False, xlabel='Nutriscore note de 0 à 4')"
   ]
  },
  {
   "cell_type": "code",
   "execution_count": 80,
   "metadata": {},
   "outputs": [
    {
     "data": {
      "text/plain": [
       "count    92327.000000\n",
       "mean         1.916698\n",
       "std          1.363183\n",
       "min          0.000000\n",
       "25%          1.000000\n",
       "50%          2.000000\n",
       "75%          3.000000\n",
       "max          4.000000\n",
       "Name: nutriscore_grade_num, dtype: float64"
      ]
     },
     "execution_count": 80,
     "metadata": {},
     "output_type": "execute_result"
    }
   ],
   "source": [
    "data_filtre['nutriscore_grade_num'].describe()"
   ]
  },
  {
   "cell_type": "code",
   "execution_count": 81,
   "metadata": {},
   "outputs": [
    {
     "data": {
      "text/plain": [
       "0.18810225317894622"
      ]
     },
     "execution_count": 81,
     "metadata": {},
     "output_type": "execute_result"
    }
   ],
   "source": [
    "data_filtre['nutriscore_grade_num'].skew()"
   ]
  },
  {
   "cell_type": "code",
   "execution_count": 82,
   "metadata": {},
   "outputs": [
    {
     "data": {
      "text/plain": [
       "-1.1812695990028848"
      ]
     },
     "execution_count": 82,
     "metadata": {},
     "output_type": "execute_result"
    }
   ],
   "source": [
    "data_filtre['nutriscore_grade_num'].kurtosis()"
   ]
  },
  {
   "cell_type": "markdown",
   "metadata": {},
   "source": [
    "La repartition n'est pas uniforme mais fera quand mêmel'approximation qu'elle l'est au regard de l'écart interquartile, de kurtosis et de skewness"
   ]
  },
  {
   "cell_type": "markdown",
   "metadata": {},
   "source": [
    "## 1: Analyse bivariée entre le type d'emaballage et le nutriscore_score"
   ]
  },
  {
   "cell_type": "code",
   "execution_count": 83,
   "metadata": {},
   "outputs": [],
   "source": [
    "X = \"has_plastic\" # qualitative\n",
    "Y = \"nutriscore_score\" # quantitative"
   ]
  },
  {
   "cell_type": "code",
   "execution_count": 84,
   "metadata": {},
   "outputs": [],
   "source": [
    "echantillon_1 = data_filtre[['nutriscore_score', 'has_plastic']]"
   ]
  },
  {
   "cell_type": "code",
   "execution_count": 85,
   "metadata": {},
   "outputs": [
    {
     "data": {
      "image/png": "[encoded data removed]",
      "text/plain": [
       "<Figure size 576x288 with 1 Axes>"
      ]
     },
     "metadata": {},
     "output_type": "display_data"
    }
   ],
   "source": [
    "modalites = [True, False]\n",
    "groupes = []\n",
    "for m in modalites:\n",
    "    groupes.append(echantillon_1[echantillon_1[X]==m][Y])\n",
    "\n",
    "# Propriétés graphiques (pas très importantes)    \n",
    "medianprops = {'color':\"black\"}\n",
    "meanprops = {'marker':'o', 'markeredgecolor':'black',\n",
    "            'markerfacecolor':'firebrick'}\n",
    "\n",
    "plt.figure(figsize=(8,4))\n",
    "plt.style.use('seaborn')\n",
    "plt.boxplot(groupes, labels=['Avec plastique', 'Sans plastique'], showfliers=False, medianprops=medianprops, \n",
    "            vert=False, patch_artist=True, showmeans=True, meanprops=meanprops)\n",
    "plt.text(-10,2.4, \"Plus le nutriscore est bas, mieux c'est\", fontsize=14)\n",
    "plt.xlabel(Y)\n",
    "plt.show()"
   ]
  },
  {
   "cell_type": "markdown",
   "metadata": {},
   "source": [
    "On voit que la moyenne et la mediane sont plus faibles (donc meilleures) pour les produits sans plastiques"
   ]
  },
  {
   "cell_type": "code",
   "execution_count": 86,
   "metadata": {},
   "outputs": [],
   "source": [
    "X = \"has_plastic\" # qualitative\n",
    "Y = \"nutriscore_grade_num\" # quantitative\n",
    "echantillon_2 = data_filtre[[Y, X]]"
   ]
  },
  {
   "cell_type": "code",
   "execution_count": 87,
   "metadata": {},
   "outputs": [
    {
     "data": {
      "image/png": "[encoded data removed]",
      "text/plain": [
       "<Figure size 576x288 with 1 Axes>"
      ]
     },
     "metadata": {},
     "output_type": "display_data"
    }
   ],
   "source": [
    "modalites = [True, False]\n",
    "groupes = []\n",
    "for m in modalites:\n",
    "    groupes.append(echantillon_2[echantillon_2[X]==m][Y])\n",
    "\n",
    "# Propriétés graphiques (pas très importantes)    \n",
    "medianprops = {'color':\"black\"}\n",
    "meanprops = {'marker':'o', 'markeredgecolor':'black',\n",
    "            'markerfacecolor':'firebrick'}\n",
    "\n",
    "plt.figure(figsize=(8,4))\n",
    "plt.style.use('seaborn')\n",
    "plt.boxplot(groupes, labels=['Avec plastique', 'Sans plastique'], showfliers=False, medianprops=medianprops, \n",
    "            vert=False, patch_artist=True, showmeans=True, meanprops=meanprops)\n",
    "plt.xlabel(Y)\n",
    "plt.show()"
   ]
  },
  {
   "cell_type": "markdown",
   "metadata": {},
   "source": [
    "Sur ce graphe on voit que la repartition du nutriscore (grade) est similaire pour les deux classes. On remarque par contre que la moyenne est inférieure pour les produits emballés dans du plastique"
   ]
  },
  {
   "cell_type": "markdown",
   "metadata": {},
   "source": [
    "## 2: Analyse bivariée entre le type d'emballage et le nutriscore_grade"
   ]
  },
  {
   "cell_type": "markdown",
   "metadata": {},
   "source": [
    "### Avec seulement deux catégories plastique/pas de plastique"
   ]
  },
  {
   "cell_type": "markdown",
   "metadata": {},
   "source": [
    "Tableau de contingence"
   ]
  },
  {
   "cell_type": "code",
   "execution_count": 88,
   "metadata": {},
   "outputs": [
    {
     "data": {
      "text/plain": [
       "True     49389\n",
       "False    42938\n",
       "Name: has_plastic, dtype: int64"
      ]
     },
     "execution_count": 88,
     "metadata": {},
     "output_type": "execute_result"
    }
   ],
   "source": [
    "data_filtre.has_plastic.value_counts()"
   ]
  },
  {
   "cell_type": "code",
   "execution_count": 89,
   "metadata": {},
   "outputs": [],
   "source": [
    "X = \"nutriscore_grade\"\n",
    "Y = \"has_plastic\"\n",
    "\n",
    "echantillon_3 = data_filtre[['nutriscore_grade', 'has_plastic']]\n",
    "cont = echantillon_3[[X,Y]].pivot_table(index=X,columns=Y,aggfunc=len ,margins=True,margins_name=\"Total\")"
   ]
  },
  {
   "cell_type": "code",
   "execution_count": 90,
   "metadata": {},
   "outputs": [],
   "source": [
    "cont['Freq_False'] = cont.loc[:,0] / cont.Total * 100"
   ]
  },
  {
   "cell_type": "code",
   "execution_count": 91,
   "metadata": {},
   "outputs": [
    {
     "data": {
      "text/html": [
       "<div>\n",
       "<style scoped>\n",
       "    .dataframe tbody tr th:only-of-type {\n",
       "        vertical-align: middle;\n",
       "    }\n",
       "\n",
       "    .dataframe tbody tr th {\n",
       "        vertical-align: top;\n",
       "    }\n",
       "\n",
       "    .dataframe thead th {\n",
       "        text-align: right;\n",
       "    }\n",
       "</style>\n",
       "<table border=\"1\" class=\"dataframe\">\n",
       "  <thead>\n",
       "    <tr style=\"text-align: right;\">\n",
       "      <th>has_plastic</th>\n",
       "      <th>False</th>\n",
       "      <th>True</th>\n",
       "      <th>Total</th>\n",
       "      <th>Freq_False</th>\n",
       "    </tr>\n",
       "    <tr>\n",
       "      <th>nutriscore_grade</th>\n",
       "      <th></th>\n",
       "      <th></th>\n",
       "      <th></th>\n",
       "      <th></th>\n",
       "    </tr>\n",
       "  </thead>\n",
       "  <tbody>\n",
       "    <tr>\n",
       "      <th>a</th>\n",
       "      <td>8153</td>\n",
       "      <td>9248</td>\n",
       "      <td>17401</td>\n",
       "      <td>46.853629</td>\n",
       "    </tr>\n",
       "    <tr>\n",
       "      <th>b</th>\n",
       "      <td>7235</td>\n",
       "      <td>6878</td>\n",
       "      <td>14113</td>\n",
       "      <td>51.264791</td>\n",
       "    </tr>\n",
       "    <tr>\n",
       "      <th>c</th>\n",
       "      <td>9595</td>\n",
       "      <td>10554</td>\n",
       "      <td>20149</td>\n",
       "      <td>47.620229</td>\n",
       "    </tr>\n",
       "    <tr>\n",
       "      <th>d</th>\n",
       "      <td>10561</td>\n",
       "      <td>14161</td>\n",
       "      <td>24722</td>\n",
       "      <td>42.719036</td>\n",
       "    </tr>\n",
       "    <tr>\n",
       "      <th>e</th>\n",
       "      <td>7394</td>\n",
       "      <td>8548</td>\n",
       "      <td>15942</td>\n",
       "      <td>46.380630</td>\n",
       "    </tr>\n",
       "    <tr>\n",
       "      <th>Total</th>\n",
       "      <td>42938</td>\n",
       "      <td>49389</td>\n",
       "      <td>92327</td>\n",
       "      <td>46.506439</td>\n",
       "    </tr>\n",
       "  </tbody>\n",
       "</table>\n",
       "</div>"
      ],
      "text/plain": [
       "has_plastic       False   True  Total  Freq_False\n",
       "nutriscore_grade                                 \n",
       "a                  8153   9248  17401   46.853629\n",
       "b                  7235   6878  14113   51.264791\n",
       "c                  9595  10554  20149   47.620229\n",
       "d                 10561  14161  24722   42.719036\n",
       "e                  7394   8548  15942   46.380630\n",
       "Total             42938  49389  92327   46.506439"
      ]
     },
     "execution_count": 91,
     "metadata": {},
     "output_type": "execute_result"
    }
   ],
   "source": [
    "cont"
   ]
  },
  {
   "cell_type": "markdown",
   "metadata": {},
   "source": [
    "### Analyse statistique:\n",
    "Obtention de l'intervalle de confiance de la proportion de produits sans plastique dans la population Nutriscore Grade = A ou B"
   ]
  },
  {
   "cell_type": "code",
   "execution_count": 92,
   "metadata": {},
   "outputs": [],
   "source": [
    "echantillon_4 = data_filtre[data_filtre['nutriscore_grade'].isin(['a', 'b'])][['nutriscore_grade', 'has_plastic']].replace({True:0, False:1}).rename(columns={'has_plastic': 'no_plastic'})"
   ]
  },
  {
   "cell_type": "code",
   "execution_count": 93,
   "metadata": {},
   "outputs": [
    {
     "data": {
      "text/html": [
       "<div>\n",
       "<style scoped>\n",
       "    .dataframe tbody tr th:only-of-type {\n",
       "        vertical-align: middle;\n",
       "    }\n",
       "\n",
       "    .dataframe tbody tr th {\n",
       "        vertical-align: top;\n",
       "    }\n",
       "\n",
       "    .dataframe thead th {\n",
       "        text-align: right;\n",
       "    }\n",
       "</style>\n",
       "<table border=\"1\" class=\"dataframe\">\n",
       "  <thead>\n",
       "    <tr style=\"text-align: right;\">\n",
       "      <th></th>\n",
       "      <th>nutriscore_grade</th>\n",
       "      <th>no_plastic</th>\n",
       "    </tr>\n",
       "  </thead>\n",
       "  <tbody>\n",
       "    <tr>\n",
       "      <th>323</th>\n",
       "      <td>b</td>\n",
       "      <td>0</td>\n",
       "    </tr>\n",
       "    <tr>\n",
       "      <th>346</th>\n",
       "      <td>b</td>\n",
       "      <td>0</td>\n",
       "    </tr>\n",
       "    <tr>\n",
       "      <th>406</th>\n",
       "      <td>b</td>\n",
       "      <td>0</td>\n",
       "    </tr>\n",
       "    <tr>\n",
       "      <th>906</th>\n",
       "      <td>a</td>\n",
       "      <td>1</td>\n",
       "    </tr>\n",
       "    <tr>\n",
       "      <th>911</th>\n",
       "      <td>a</td>\n",
       "      <td>1</td>\n",
       "    </tr>\n",
       "  </tbody>\n",
       "</table>\n",
       "</div>"
      ],
      "text/plain": [
       "    nutriscore_grade  no_plastic\n",
       "323                b           0\n",
       "346                b           0\n",
       "406                b           0\n",
       "906                a           1\n",
       "911                a           1"
      ]
     },
     "execution_count": 93,
     "metadata": {},
     "output_type": "execute_result"
    }
   ],
   "source": [
    "echantillon_4.head(5)"
   ]
  },
  {
   "cell_type": "code",
   "execution_count": 94,
   "metadata": {},
   "outputs": [],
   "source": [
    "n_produits_sains = len(echantillon_4)\n",
    "n_produits_sains_sans_platique = echantillon_4.no_plastic.sum()\n",
    "proportion_estim = n_produits_sains_sans_platique / n_produits_sains"
   ]
  },
  {
   "cell_type": "code",
   "execution_count": 95,
   "metadata": {},
   "outputs": [
    {
     "data": {
      "text/plain": [
       "0.4882909183220156"
      ]
     },
     "execution_count": 95,
     "metadata": {},
     "output_type": "execute_result"
    }
   ],
   "source": [
    "proportion_estim"
   ]
  },
  {
   "cell_type": "markdown",
   "metadata": {},
   "source": [
    "Niveau de confiance"
   ]
  },
  {
   "cell_type": "code",
   "execution_count": 96,
   "metadata": {},
   "outputs": [],
   "source": [
    "from statsmodels.stats.proportion import proportion_confint"
   ]
  },
  {
   "cell_type": "code",
   "execution_count": 97,
   "metadata": {},
   "outputs": [
    {
     "data": {
      "text/plain": [
       "(0.48277208584243037, 0.49380975080160083)"
      ]
     },
     "execution_count": 97,
     "metadata": {},
     "output_type": "execute_result"
    }
   ],
   "source": [
    "alpha = 0.05\n",
    "proportion_confint(n_produits_sains_sans_platique, n_produits_sains, alpha=alpha, method='normal')"
   ]
  },
  {
   "cell_type": "markdown",
   "metadata": {},
   "source": [
    "On peut ici affirmer que le taux d'aliments sans plastique dans la population d'aliments \"sains\" (c-à-d des groupes A et B) est supérieur au taux général d'aliment sans plastique sur l'ensemble de la population dont l'intervalle de confiance est rappelé ci dessous.  cf [Analyse univariée de la variable \"has_plastic\"](#univ_3)"
   ]
  },
  {
   "cell_type": "code",
   "execution_count": 98,
   "metadata": {},
   "outputs": [
    {
     "data": {
      "text/plain": [
       "(0.4618420772485127, 0.4682766299692328)"
      ]
     },
     "execution_count": 98,
     "metadata": {},
     "output_type": "execute_result"
    }
   ],
   "source": [
    "interv_conf_propor_pduits_sans_plastique"
   ]
  },
  {
   "cell_type": "markdown",
   "metadata": {},
   "source": [
    "### Tests statistiques"
   ]
  },
  {
   "cell_type": "markdown",
   "metadata": {},
   "source": [
    "Objectif : Montrer statistiquement que la moyenne des nutriscores (grades) des produits sans plastique est supérieure à celle des produits ayant du plastique."
   ]
  },
  {
   "cell_type": "markdown",
   "metadata": {},
   "source": [
    "Pour cela je vais d'abord estimer la moyenne des nutriscores des aliments avec plastique sous forme d'intervalle de confiance et prendre le \"pire\" cas. C'est à dire la borne supérieure de cet IC\n",
    "Je menerai ensuite un test statistique sur la moyenne des nutriscore des produits sans plastique."
   ]
  },
  {
   "cell_type": "code",
   "execution_count": 99,
   "metadata": {},
   "outputs": [],
   "source": [
    "moy_empirique_plastique = data_filtre[data_filtre['has_plastic']]['nutriscore_grade_num'].mean()\n",
    "sigma_empirique_plastique = data_filtre[data_filtre['has_plastic']]['nutriscore_grade_num'].std()\n",
    "n_echantillon_plastique = len(data_filtre[data_filtre['has_plastic']])"
   ]
  },
  {
   "cell_type": "code",
   "execution_count": 100,
   "metadata": {},
   "outputs": [
    {
     "data": {
      "text/plain": [
       "1.8928903490402877"
      ]
     },
     "execution_count": 100,
     "metadata": {},
     "output_type": "execute_result"
    }
   ],
   "source": [
    "alpha = 0.05\n",
    "ic_sup_moy_nutriscore_plast = moy_empirique_plastique + t.ppf(1 - alpha / 2 , n_echantillon_plastique - 1)*sigma_empirique_plastique/sqrt(n_echantillon_plastique)\n",
    "ic_sup_moy_nutriscore_plast"
   ]
  },
  {
   "cell_type": "code",
   "execution_count": 101,
   "metadata": {},
   "outputs": [
    {
     "data": {
      "text/plain": [
       "1.8808844074591509"
      ]
     },
     "execution_count": 101,
     "metadata": {},
     "output_type": "execute_result"
    }
   ],
   "source": [
    "moy_empirique_plastique"
   ]
  },
  {
   "cell_type": "code",
   "execution_count": 123,
   "metadata": {},
   "outputs": [
    {
     "data": {
      "text/plain": [
       "1.3612961233766934"
      ]
     },
     "execution_count": 123,
     "metadata": {},
     "output_type": "execute_result"
    }
   ],
   "source": [
    "sigma_empirique_plastique"
   ]
  },
  {
   "cell_type": "markdown",
   "metadata": {},
   "source": [
    "On teste : \n",
    "- H0 : μ = ic_sup_moy_nutriscore_plast (les produits plastiques ont la même moyenne de nutriscore que les produits sans plastiques)\n",
    "- H1 : μ > ic_sup_moy_nutriscore_plast (les produits sans plastique ont un nutriscore moyen supérieur au produits emballés dans du plastique)"
   ]
  },
  {
   "cell_type": "code",
   "execution_count": 102,
   "metadata": {},
   "outputs": [],
   "source": [
    "test_IC = ttest_1samp(data_filtre[data_filtre['has_plastic'] == False]['nutriscore_grade_num'],ic_sup_moy_nutriscore_plast)"
   ]
  },
  {
   "cell_type": "code",
   "execution_count": 103,
   "metadata": {},
   "outputs": [
    {
     "data": {
      "text/plain": [
       "5.737869669356307e-23"
      ]
     },
     "execution_count": 103,
     "metadata": {},
     "output_type": "execute_result"
    }
   ],
   "source": [
    "test_IC.pvalue"
   ]
  },
  {
   "cell_type": "markdown",
   "metadata": {},
   "source": [
    "Ce test est \"two sided\". il faut donc diviser la p-value par 2"
   ]
  },
  {
   "cell_type": "code",
   "execution_count": 104,
   "metadata": {},
   "outputs": [],
   "source": [
    "p_value_test_ic = test_IC.pvalue / 2"
   ]
  },
  {
   "cell_type": "code",
   "execution_count": 105,
   "metadata": {},
   "outputs": [
    {
     "data": {
      "text/plain": [
       "2.8689348346781536e-23"
      ]
     },
     "execution_count": 105,
     "metadata": {},
     "output_type": "execute_result"
    }
   ],
   "source": [
    "p_value_test_ic"
   ]
  },
  {
   "cell_type": "markdown",
   "metadata": {},
   "source": [
    "On peut rejeter l'hypothèse H0"
   ]
  },
  {
   "cell_type": "markdown",
   "metadata": {},
   "source": [
    "On teste : \n",
    "- H0 : μ_no_plast <= μ_plast (les produits sans plastiques ont une moyenne de nutriscore inférieure ou égale à celle des produits emballés dans du plastique)\n",
    "- H1 : μ_no_plast > μ_plast (les produits sans plastiques ont une moyenne de nutriscore supérieure à celle des produits emballés dans du plastique)"
   ]
  },
  {
   "cell_type": "code",
   "execution_count": 106,
   "metadata": {},
   "outputs": [
    {
     "data": {
      "text/plain": [
       "1.9578927756299782"
      ]
     },
     "execution_count": 106,
     "metadata": {},
     "output_type": "execute_result"
    }
   ],
   "source": [
    "data_filtre[data_filtre['has_plastic'] == False]['nutriscore_grade_num'].mean()"
   ]
  },
  {
   "cell_type": "code",
   "execution_count": 107,
   "metadata": {},
   "outputs": [
    {
     "data": {
      "text/plain": [
       "1.8808844074591509"
      ]
     },
     "execution_count": 107,
     "metadata": {},
     "output_type": "execute_result"
    }
   ],
   "source": [
    "data_filtre[data_filtre['has_plastic']]['nutriscore_grade_num'].mean()"
   ]
  },
  {
   "cell_type": "code",
   "execution_count": 108,
   "metadata": {},
   "outputs": [],
   "source": [
    "test_bi_variable = ttest_ind(data_filtre[data_filtre['has_plastic'] == False]['nutriscore_grade_num'],\n",
    "                             data_filtre[data_filtre['has_plastic']]['nutriscore_grade_num'])"
   ]
  },
  {
   "cell_type": "code",
   "execution_count": 109,
   "metadata": {},
   "outputs": [
    {
     "data": {
      "text/plain": [
       "1.0973634431044843e-17"
      ]
     },
     "execution_count": 109,
     "metadata": {},
     "output_type": "execute_result"
    }
   ],
   "source": [
    "test_bi_variable.pvalue"
   ]
  },
  {
   "cell_type": "markdown",
   "metadata": {},
   "source": [
    "Ce test est \"two sided\". il faut donc diviser la p-value par 2"
   ]
  },
  {
   "cell_type": "code",
   "execution_count": 110,
   "metadata": {},
   "outputs": [],
   "source": [
    "p_value_test_bi_variable = test_bi_variable.pvalue / 2"
   ]
  },
  {
   "cell_type": "code",
   "execution_count": 111,
   "metadata": {},
   "outputs": [
    {
     "data": {
      "text/plain": [
       "5.4868172155224216e-18"
      ]
     },
     "execution_count": 111,
     "metadata": {},
     "output_type": "execute_result"
    }
   ],
   "source": [
    "p_value_test_bi_variable"
   ]
  },
  {
   "cell_type": "markdown",
   "metadata": {},
   "source": [
    "On peut egalement rejeter l'hypothèse H0"
   ]
  },
  {
   "cell_type": "markdown",
   "metadata": {},
   "source": [
    "Regardons si on peut affirmer cette hypothèse pour toute les catégories"
   ]
  },
  {
   "cell_type": "code",
   "execution_count": 118,
   "metadata": {},
   "outputs": [],
   "source": [
    "p_values_categs = {}\n",
    "size_categs = {}\n",
    "for categ in data_filtre.pnns_groups_2.unique():\n",
    "    data_categ = data_filtre[data_filtre['pnns_groups_2'] == categ]\n",
    "    size_categs[categ] = len(data_categ)\n",
    "    p_values_categs[categ] = ttest_ind(data_categ[data_categ['has_plastic'] == False]['nutriscore_grade_num'],\n",
    "                                       data_categ[data_categ['has_plastic']]['nutriscore_grade_num']).pvalue/2"
   ]
  },
  {
   "cell_type": "code",
   "execution_count": 119,
   "metadata": {},
   "outputs": [],
   "source": [
    "p_values_categs = pd.Series(p_values_categs)\n",
    "size_categs = pd.Series(size_categs)"
   ]
  },
  {
   "cell_type": "code",
   "execution_count": 120,
   "metadata": {},
   "outputs": [],
   "source": [
    "df_p_values_categs = pd.DataFrame({'p_values' : p_values_categs.values, 'size_echantillon' : size_categs.values}, index=p_values_categs.index)"
   ]
  },
  {
   "cell_type": "code",
   "execution_count": 121,
   "metadata": {},
   "outputs": [],
   "source": [
    "df_p_values_categs.sort_values(by=['p_values'], ascending=False, inplace=True)"
   ]
  },
  {
   "cell_type": "markdown",
   "metadata": {},
   "source": [
    "Catégories pour lesquelles on ne peux pas rejetter H0:"
   ]
  },
  {
   "cell_type": "code",
   "execution_count": 122,
   "metadata": {},
   "outputs": [
    {
     "data": {
      "text/html": [
       "<div>\n",
       "<style scoped>\n",
       "    .dataframe tbody tr th:only-of-type {\n",
       "        vertical-align: middle;\n",
       "    }\n",
       "\n",
       "    .dataframe tbody tr th {\n",
       "        vertical-align: top;\n",
       "    }\n",
       "\n",
       "    .dataframe thead th {\n",
       "        text-align: right;\n",
       "    }\n",
       "</style>\n",
       "<table border=\"1\" class=\"dataframe\">\n",
       "  <thead>\n",
       "    <tr style=\"text-align: right;\">\n",
       "      <th></th>\n",
       "      <th>p_values</th>\n",
       "      <th>size_echantillon</th>\n",
       "    </tr>\n",
       "  </thead>\n",
       "  <tbody>\n",
       "    <tr>\n",
       "      <th>unknown</th>\n",
       "      <td>0.497316</td>\n",
       "      <td>7580</td>\n",
       "    </tr>\n",
       "    <tr>\n",
       "      <th>fruits</th>\n",
       "      <td>0.483708</td>\n",
       "      <td>1711</td>\n",
       "    </tr>\n",
       "    <tr>\n",
       "      <th>legumes</th>\n",
       "      <td>0.473002</td>\n",
       "      <td>1125</td>\n",
       "    </tr>\n",
       "    <tr>\n",
       "      <th>eggs</th>\n",
       "      <td>0.435132</td>\n",
       "      <td>348</td>\n",
       "    </tr>\n",
       "    <tr>\n",
       "      <th>salty and fatty products</th>\n",
       "      <td>0.427126</td>\n",
       "      <td>2252</td>\n",
       "    </tr>\n",
       "    <tr>\n",
       "      <th>artificially sweetened beverages</th>\n",
       "      <td>0.404987</td>\n",
       "      <td>764</td>\n",
       "    </tr>\n",
       "    <tr>\n",
       "      <th>plant-based milk substitutes</th>\n",
       "      <td>0.357124</td>\n",
       "      <td>1137</td>\n",
       "    </tr>\n",
       "    <tr>\n",
       "      <th>pastries</th>\n",
       "      <td>0.342487</td>\n",
       "      <td>760</td>\n",
       "    </tr>\n",
       "    <tr>\n",
       "      <th>alcoholic beverages</th>\n",
       "      <td>0.322688</td>\n",
       "      <td>10</td>\n",
       "    </tr>\n",
       "    <tr>\n",
       "      <th>offals</th>\n",
       "      <td>0.321990</td>\n",
       "      <td>213</td>\n",
       "    </tr>\n",
       "    <tr>\n",
       "      <th>milk and yogurt</th>\n",
       "      <td>0.315769</td>\n",
       "      <td>4832</td>\n",
       "    </tr>\n",
       "    <tr>\n",
       "      <th>fruit nectars</th>\n",
       "      <td>0.312483</td>\n",
       "      <td>86</td>\n",
       "    </tr>\n",
       "    <tr>\n",
       "      <th>cereals</th>\n",
       "      <td>0.251614</td>\n",
       "      <td>5062</td>\n",
       "    </tr>\n",
       "    <tr>\n",
       "      <th>sandwiches</th>\n",
       "      <td>0.188723</td>\n",
       "      <td>612</td>\n",
       "    </tr>\n",
       "    <tr>\n",
       "      <th>nuts</th>\n",
       "      <td>0.157904</td>\n",
       "      <td>678</td>\n",
       "    </tr>\n",
       "    <tr>\n",
       "      <th>one-dish meals</th>\n",
       "      <td>0.121570</td>\n",
       "      <td>7900</td>\n",
       "    </tr>\n",
       "    <tr>\n",
       "      <th>appetizers</th>\n",
       "      <td>0.077384</td>\n",
       "      <td>2120</td>\n",
       "    </tr>\n",
       "    <tr>\n",
       "      <th>dried fruits</th>\n",
       "      <td>0.063454</td>\n",
       "      <td>807</td>\n",
       "    </tr>\n",
       "    <tr>\n",
       "      <th>unsweetened beverages</th>\n",
       "      <td>0.060553</td>\n",
       "      <td>483</td>\n",
       "    </tr>\n",
       "  </tbody>\n",
       "</table>\n",
       "</div>"
      ],
      "text/plain": [
       "                                  p_values  size_echantillon\n",
       "unknown                           0.497316              7580\n",
       "fruits                            0.483708              1711\n",
       "legumes                           0.473002              1125\n",
       "eggs                              0.435132               348\n",
       "salty and fatty products          0.427126              2252\n",
       "artificially sweetened beverages  0.404987               764\n",
       "plant-based milk substitutes      0.357124              1137\n",
       "pastries                          0.342487               760\n",
       "alcoholic beverages               0.322688                10\n",
       "offals                            0.321990               213\n",
       "milk and yogurt                   0.315769              4832\n",
       "fruit nectars                     0.312483                86\n",
       "cereals                           0.251614              5062\n",
       "sandwiches                        0.188723               612\n",
       "nuts                              0.157904               678\n",
       "one-dish meals                    0.121570              7900\n",
       "appetizers                        0.077384              2120\n",
       "dried fruits                      0.063454               807\n",
       "unsweetened beverages             0.060553               483"
      ]
     },
     "execution_count": 122,
     "metadata": {},
     "output_type": "execute_result"
    }
   ],
   "source": [
    "df_p_values_categs[df_p_values_categs['p_values'] > 0.05]"
   ]
  },
  {
   "cell_type": "markdown",
   "metadata": {},
   "source": [
    "Regardes la variance , moyenne, std pour les fruits oeufs et legumes"
   ]
  },
  {
   "cell_type": "code",
   "execution_count": 125,
   "metadata": {},
   "outputs": [
    {
     "data": {
      "text/html": [
       "<div>\n",
       "<style scoped>\n",
       "    .dataframe tbody tr th:only-of-type {\n",
       "        vertical-align: middle;\n",
       "    }\n",
       "\n",
       "    .dataframe tbody tr th {\n",
       "        vertical-align: top;\n",
       "    }\n",
       "\n",
       "    .dataframe thead th {\n",
       "        text-align: right;\n",
       "    }\n",
       "</style>\n",
       "<table border=\"1\" class=\"dataframe\">\n",
       "  <thead>\n",
       "    <tr style=\"text-align: right;\">\n",
       "      <th></th>\n",
       "      <th>p_values</th>\n",
       "      <th>size_echantillon</th>\n",
       "    </tr>\n",
       "  </thead>\n",
       "  <tbody>\n",
       "    <tr>\n",
       "      <th>potatoes</th>\n",
       "      <td>4.807203e-02</td>\n",
       "      <td>563</td>\n",
       "    </tr>\n",
       "    <tr>\n",
       "      <th>bread</th>\n",
       "      <td>4.631382e-02</td>\n",
       "      <td>2485</td>\n",
       "    </tr>\n",
       "    <tr>\n",
       "      <th>teas and herbal teas and coffees</th>\n",
       "      <td>3.767279e-02</td>\n",
       "      <td>83</td>\n",
       "    </tr>\n",
       "    <tr>\n",
       "      <th>ice cream</th>\n",
       "      <td>3.063641e-02</td>\n",
       "      <td>1411</td>\n",
       "    </tr>\n",
       "    <tr>\n",
       "      <th>soups</th>\n",
       "      <td>2.326029e-02</td>\n",
       "      <td>798</td>\n",
       "    </tr>\n",
       "    <tr>\n",
       "      <th>dairy desserts</th>\n",
       "      <td>7.009000e-03</td>\n",
       "      <td>1549</td>\n",
       "    </tr>\n",
       "    <tr>\n",
       "      <th>sweetened beverages</th>\n",
       "      <td>6.115691e-03</td>\n",
       "      <td>2040</td>\n",
       "    </tr>\n",
       "    <tr>\n",
       "      <th>waters and flavored waters</th>\n",
       "      <td>4.765015e-03</td>\n",
       "      <td>222</td>\n",
       "    </tr>\n",
       "    <tr>\n",
       "      <th>chocolate products</th>\n",
       "      <td>3.698803e-03</td>\n",
       "      <td>3002</td>\n",
       "    </tr>\n",
       "    <tr>\n",
       "      <th>fruit juices</th>\n",
       "      <td>2.231548e-03</td>\n",
       "      <td>1859</td>\n",
       "    </tr>\n",
       "    <tr>\n",
       "      <th>meat</th>\n",
       "      <td>3.887671e-04</td>\n",
       "      <td>2247</td>\n",
       "    </tr>\n",
       "    <tr>\n",
       "      <th>biscuits and cakes</th>\n",
       "      <td>4.060045e-05</td>\n",
       "      <td>8217</td>\n",
       "    </tr>\n",
       "    <tr>\n",
       "      <th>breakfast cereals</th>\n",
       "      <td>1.689225e-05</td>\n",
       "      <td>2170</td>\n",
       "    </tr>\n",
       "    <tr>\n",
       "      <th>sweets</th>\n",
       "      <td>9.660006e-06</td>\n",
       "      <td>5190</td>\n",
       "    </tr>\n",
       "    <tr>\n",
       "      <th>fish and seafood</th>\n",
       "      <td>7.600344e-06</td>\n",
       "      <td>2708</td>\n",
       "    </tr>\n",
       "    <tr>\n",
       "      <th>pizza pies and quiches</th>\n",
       "      <td>2.537263e-07</td>\n",
       "      <td>1046</td>\n",
       "    </tr>\n",
       "    <tr>\n",
       "      <th>vegetables</th>\n",
       "      <td>1.939225e-07</td>\n",
       "      <td>3316</td>\n",
       "    </tr>\n",
       "    <tr>\n",
       "      <th>fats</th>\n",
       "      <td>8.151072e-10</td>\n",
       "      <td>1481</td>\n",
       "    </tr>\n",
       "    <tr>\n",
       "      <th>cheese</th>\n",
       "      <td>1.686620e-17</td>\n",
       "      <td>4681</td>\n",
       "    </tr>\n",
       "    <tr>\n",
       "      <th>processed meat</th>\n",
       "      <td>6.328743e-23</td>\n",
       "      <td>5093</td>\n",
       "    </tr>\n",
       "    <tr>\n",
       "      <th>dressings and sauces</th>\n",
       "      <td>3.486356e-54</td>\n",
       "      <td>3686</td>\n",
       "    </tr>\n",
       "  </tbody>\n",
       "</table>\n",
       "</div>"
      ],
      "text/plain": [
       "                                      p_values  size_echantillon\n",
       "potatoes                          4.807203e-02               563\n",
       "bread                             4.631382e-02              2485\n",
       "teas and herbal teas and coffees  3.767279e-02                83\n",
       "ice cream                         3.063641e-02              1411\n",
       "soups                             2.326029e-02               798\n",
       "dairy desserts                    7.009000e-03              1549\n",
       "sweetened beverages               6.115691e-03              2040\n",
       "waters and flavored waters        4.765015e-03               222\n",
       "chocolate products                3.698803e-03              3002\n",
       "fruit juices                      2.231548e-03              1859\n",
       "meat                              3.887671e-04              2247\n",
       "biscuits and cakes                4.060045e-05              8217\n",
       "breakfast cereals                 1.689225e-05              2170\n",
       "sweets                            9.660006e-06              5190\n",
       "fish and seafood                  7.600344e-06              2708\n",
       "pizza pies and quiches            2.537263e-07              1046\n",
       "vegetables                        1.939225e-07              3316\n",
       "fats                              8.151072e-10              1481\n",
       "cheese                            1.686620e-17              4681\n",
       "processed meat                    6.328743e-23              5093\n",
       "dressings and sauces              3.486356e-54              3686"
      ]
     },
     "execution_count": 125,
     "metadata": {},
     "output_type": "execute_result"
    }
   ],
   "source": [
    "df_p_values_categs[df_p_values_categs['p_values'] < 0.05]"
   ]
  },
  {
   "cell_type": "markdown",
   "metadata": {},
   "source": [
    "On voit que pour certaines catégories on a très peu de données. Pour celles ci il semble assez logique qu'on ne puisse rien déduire. On remarque aussi que la catégorie \"unknown\" est la pire en terme de p_value bien qu'ayant un gros echantillon. Cela confirme la necessité de completer cette donnée"
   ]
  },
  {
   "cell_type": "code",
   "execution_count": 117,
   "metadata": {},
   "outputs": [
    {
     "ename": "NameError",
     "evalue": "name 'fruits' is not defined",
     "output_type": "error",
     "traceback": [
      "\u001b[0;31m---------------------------------------------------------------------------\u001b[0m",
      "\u001b[0;31mNameError\u001b[0m                                 Traceback (most recent call last)",
      "\u001b[0;32m<ipython-input-117-f3b5252fd65c>\u001b[0m in \u001b[0;36m<module>\u001b[0;34m\u001b[0m\n\u001b[0;32m----> 1\u001b[0;31m \u001b[0mfruits\u001b[0m\u001b[0;34m[\u001b[0m\u001b[0mfruits\u001b[0m\u001b[0;34m[\u001b[0m\u001b[0;34m'has_plastic'\u001b[0m\u001b[0;34m]\u001b[0m \u001b[0;34m==\u001b[0m \u001b[0;32mFalse\u001b[0m\u001b[0;34m]\u001b[0m\u001b[0;34m[\u001b[0m\u001b[0;34m'url'\u001b[0m\u001b[0;34m]\u001b[0m\u001b[0;34m.\u001b[0m\u001b[0msample\u001b[0m\u001b[0;34m(\u001b[0m\u001b[0;36m1\u001b[0m\u001b[0;34m)\u001b[0m\u001b[0;34m.\u001b[0m\u001b[0miloc\u001b[0m\u001b[0;34m[\u001b[0m\u001b[0;36m0\u001b[0m\u001b[0;34m]\u001b[0m\u001b[0;34m\u001b[0m\u001b[0;34m\u001b[0m\u001b[0m\n\u001b[0m",
      "\u001b[0;31mNameError\u001b[0m: name 'fruits' is not defined"
     ]
    }
   ],
   "source": [
    "fruits[fruits['has_plastic'] == False]['url'].sample(1).iloc[0]"
   ]
  },
  {
   "cell_type": "code",
   "execution_count": null,
   "metadata": {},
   "outputs": [],
   "source": []
  }
 ],
 "metadata": {
  "kernelspec": {
   "display_name": "env_OC_P03",
   "language": "python",
   "name": "env_oc_p03"
  },
  "language_info": {
   "codemirror_mode": {
    "name": "ipython",
    "version": 3
   },
   "file_extension": ".py",
   "mimetype": "text/x-python",
   "name": "python",
   "nbconvert_exporter": "python",
   "pygments_lexer": "ipython3",
   "version": "3.8.5"
  }
 },
 "nbformat": 4,
 "nbformat_minor": 4
}
