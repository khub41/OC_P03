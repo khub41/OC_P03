{
 "cells": [
  {
   "cell_type": "markdown",
   "metadata": {},
   "source": [
    "# Presentation du projet\n",
    "\n",
    "## TODO ⌚"
   ]
  },
  {
   "cell_type": "markdown",
   "metadata": {},
   "source": [
    "# Import de bibliothèques 📚"
   ]
  },
  {
   "cell_type": "code",
   "execution_count": 1,
   "metadata": {},
   "outputs": [],
   "source": [
    "import pandas as pd\n",
    "from pandas_profiling import ProfileReport\n",
    "\n",
    "import os\n",
    "import re\n",
    "\n",
    "from math import log2\n",
    "import numpy as np\n",
    "import scipy.stats as stats\n",
    "from scipy.stats import gaussian_kde\n",
    "\n",
    "import matplotlib.pyplot as plt\n",
    "import seaborn"
   ]
  },
  {
   "cell_type": "markdown",
   "metadata": {},
   "source": [
    "# Fonctions ⚙️"
   ]
  },
  {
   "cell_type": "code",
   "execution_count": 2,
   "metadata": {},
   "outputs": [],
   "source": [
    "def plot_histo(data, title=None, xlabel=None, drop_outliers=False, bins='sturges', plot_density=True):\n",
    "    if drop_outliers:\n",
    "        data = data[data.between(data.quantile(drop_outliers), data.quantile(1 - drop_outliers))]\n",
    "    if bins == 'sturges':\n",
    "        bins = int(1+log2(len(data)))\n",
    "#     mu = data.mean()\n",
    "#     sigma = data.std()\n",
    "#     x_norm = np.linspace(mu - 3*sigma, mu + 3*sigma, 100)\n",
    "#     plt.plot(x_norm, stats.norm.pdf(x_norm, mu, sigma), label=\"Gaussienne de l'échantillon\")\n",
    "    plt.style.use(\"seaborn\")\n",
    "    if plot_density:\n",
    "        density = gaussian_kde(data)\n",
    "        xs = np.linspace(data.min(),data.max(),200)\n",
    "        density.covariance_factor = lambda : .25\n",
    "        density._compute_covariance()\n",
    "        plt.plot(xs,density(xs), label=\"Courbe de densité\")\n",
    "    plt.ylabel(\"frequency\")\n",
    "    plt.xlabel(xlabel)\n",
    "    plt.title(title)\n",
    "    plt.hist(data, bins=bins, density=True)\n",
    "    plt.legend()\n",
    "    plt.show()"
   ]
  },
  {
   "cell_type": "code",
   "execution_count": 3,
   "metadata": {},
   "outputs": [],
   "source": [
    "def split_custom(label_string, delimiter=','):\n",
    "    \"\"\"Cette fonction prend en argument une chaine de caractères et retourne une liste\"\"\"\n",
    "    return label_string.split(delimiter)"
   ]
  },
  {
   "cell_type": "code",
   "execution_count": 4,
   "metadata": {},
   "outputs": [],
   "source": [
    "def get_unique_elements(panda_serie):\n",
    "    \"\"\"This functions returns the list of unique elements \n",
    "    out of a panda serie of strings with comma separated elements\"\"\"\n",
    "    all_labels = set()\n",
    "    for labels in panda_serie.map(split_custom):\n",
    "        for label in labels:\n",
    "            all_labels.add(label)\n",
    "    return list(all_labels)"
   ]
  },
  {
   "cell_type": "markdown",
   "metadata": {},
   "source": [
    "<a id='fonctionbio'></a>"
   ]
  },
  {
   "cell_type": "code",
   "execution_count": 5,
   "metadata": {},
   "outputs": [],
   "source": [
    "def test_bio(labels):\n",
    "    \"\"\"From a list of labels this function returns a booleean if 'organic' or 'bio' is in one of the labels\"\"\"\n",
    "    bool_test = False\n",
    "    for label in labels:\n",
    "        label = label.lower()\n",
    "        if 'organic' in label or 'bio' in label:\n",
    "            bool_test = True\n",
    "            break\n",
    "    return bool_test"
   ]
  },
  {
   "cell_type": "markdown",
   "metadata": {},
   "source": [
    "Retour au [script](#backbio)"
   ]
  },
  {
   "cell_type": "markdown",
   "metadata": {},
   "source": [
    "<a id='fonctionvege'></a>"
   ]
  },
  {
   "cell_type": "code",
   "execution_count": 6,
   "metadata": {},
   "outputs": [],
   "source": [
    "def test_vege(labels):\n",
    "    \"\"\"From a list of labels this function returns a booleean if 'organic' or 'bio' is in one of the labels\"\"\"\n",
    "    bool_test = False\n",
    "    for label in labels:\n",
    "        label = label.lower()\n",
    "        if 'vegetarian' in label or 'vegan' in label:\n",
    "            bool_test = True\n",
    "            break\n",
    "    return bool_test"
   ]
  },
  {
   "cell_type": "markdown",
   "metadata": {},
   "source": [
    "Retour au [script](#backvege)"
   ]
  },
  {
   "cell_type": "markdown",
   "metadata": {},
   "source": [
    "<a id='fonctionnegation'></a>"
   ]
  },
  {
   "cell_type": "code",
   "execution_count": 7,
   "metadata": {},
   "outputs": [],
   "source": [
    "# This function works but would be more efficient if it would detect the language. We'll save that for later\n",
    "def test_no_something(labels, dict_something):\n",
    "    \"\"\"From a list of labels this function returns a booleean if 'preserative' and a negation is in one of the labels\"\"\"\n",
    "    for word, negations in dict_something.items():\n",
    "        for label in labels:\n",
    "            label = label.lower()\n",
    "            bool_list = []\n",
    "            #looking for word preservative\n",
    "            preservative_in_label = word in label\n",
    "            if preservative_in_label:\n",
    "                #looking for negation\n",
    "                for negation in negations:\n",
    "                    if negation in label:\n",
    "                        return True\n",
    "\n",
    "    return False"
   ]
  },
  {
   "cell_type": "code",
   "execution_count": 3,
   "metadata": {},
   "outputs": [
    {
     "data": {
      "text/plain": [
       "True"
      ]
     },
     "execution_count": 3,
     "metadata": {},
     "output_type": "execute_result"
    }
   ],
   "source": [
    "import re\n",
    "bool(re.compile(r'\\b{}.*\\b'.format('color'), flags=re.IGNORECASE).search('il y a des colorants'))"
   ]
  },
  {
   "cell_type": "markdown",
   "metadata": {},
   "source": [
    "\\bcorante.*\\b"
   ]
  },
  {
   "cell_type": "markdown",
   "metadata": {},
   "source": [
    "\\bno\\b"
   ]
  },
  {
   "cell_type": "code",
   "execution_count": 9,
   "metadata": {},
   "outputs": [
    {
     "data": {
      "text/plain": [
       "False"
      ]
     },
     "execution_count": 9,
     "metadata": {},
     "output_type": "execute_result"
    }
   ],
   "source": [
    "bool(re.match(r'\\b{0}*\\b'.format('color'), 'colorants'))"
   ]
  },
  {
   "cell_type": "code",
   "execution_count": 10,
   "metadata": {},
   "outputs": [
    {
     "data": {
      "text/plain": [
       "False"
      ]
     },
     "execution_count": 10,
     "metadata": {},
     "output_type": "execute_result"
    }
   ],
   "source": [
    "bool(re.compile(r'\\b{0}*\\b'.format('corante'), flags=re.IGNORECASE).search('corantes'))"
   ]
  },
  {
   "cell_type": "markdown",
   "metadata": {},
   "source": [
    "- Retour au [script](#backconserv) Conservateurs\n",
    "- Retour au [script](#backcolor) Colorants\n",
    "- Retour au [script](#backGMO) OGMs"
   ]
  },
  {
   "cell_type": "markdown",
   "metadata": {},
   "source": [
    "# Données 🎁"
   ]
  },
  {
   "cell_type": "code",
   "execution_count": 11,
   "metadata": {},
   "outputs": [
    {
     "name": "stderr",
     "output_type": "stream",
     "text": [
      "C:\\Users\\S053567\\AppData\\Roaming\\Python\\Python38\\site-packages\\IPython\\core\\interactiveshell.py:3145: DtypeWarning: Columns (0,12,26,27,28,30,51,63) have mixed types.Specify dtype option on import or set low_memory=False.\n",
      "  has_raised = await self.run_ast_nodes(code_ast.body, cell_name,\n"
     ]
    }
   ],
   "source": [
    "data = pd.read_csv('data/en.openfoodfacts.org.products.csv', sep='\\t')"
   ]
  },
  {
   "cell_type": "code",
   "execution_count": 12,
   "metadata": {},
   "outputs": [
    {
     "data": {
      "text/plain": [
       "(1524579, 183)"
      ]
     },
     "execution_count": 12,
     "metadata": {},
     "output_type": "execute_result"
    }
   ],
   "source": [
    "data.shape"
   ]
  },
  {
   "cell_type": "code",
   "execution_count": 13,
   "metadata": {},
   "outputs": [
    {
     "data": {
      "text/plain": [
       "Index(['code', 'url', 'creator', 'created_t', 'created_datetime',\n",
       "       'last_modified_t', 'last_modified_datetime', 'product_name',\n",
       "       'generic_name', 'quantity',\n",
       "       ...\n",
       "       'carbon-footprint-from-meat-or-fish_100g', 'nutrition-score-fr_100g',\n",
       "       'nutrition-score-uk_100g', 'glycemic-index_100g', 'water-hardness_100g',\n",
       "       'choline_100g', 'phylloquinone_100g', 'beta-glucan_100g',\n",
       "       'inositol_100g', 'carnitine_100g'],\n",
       "      dtype='object', length=183)"
      ]
     },
     "execution_count": 13,
     "metadata": {},
     "output_type": "execute_result"
    }
   ],
   "source": [
    "data.columns"
   ]
  },
  {
   "cell_type": "markdown",
   "metadata": {},
   "source": [
    "# Profiling 🔍"
   ]
  },
  {
   "cell_type": "markdown",
   "metadata": {},
   "source": [
    "Etant données les dimensions de ce dataset, je vais réaliser l'analyse préliminaire avec Pandas Profiling. L'analyse est exportée en HTML pour une meilleure lisibilité du NB"
   ]
  },
  {
   "cell_type": "code",
   "execution_count": 14,
   "metadata": {},
   "outputs": [],
   "source": [
    "# profile = ProfileReport(data, title=\"Report on OpenFoodFacts\", minimal=True)"
   ]
  },
  {
   "cell_type": "code",
   "execution_count": 15,
   "metadata": {},
   "outputs": [],
   "source": [
    "# profile.to_file('profile_report.html')"
   ]
  },
  {
   "cell_type": "markdown",
   "metadata": {},
   "source": [
    "Voir le report : [cliquer ici](profile_report.html)"
   ]
  },
  {
   "cell_type": "markdown",
   "metadata": {},
   "source": [
    "# Idee : 💡\n",
    "### A partir d'un produit, proposer des produits similaires ayant un emballage meilleur. Appuyer l'analyse par des etudes sur le lien entre l'emballage plastique et les mauvaises caractéristiques nutritionnelles.\n",
    "## Mieux manger serait-il lié à l'emballage?"
   ]
  },
  {
   "cell_type": "markdown",
   "metadata": {},
   "source": [
    "Afin de vérifier la faisibilité de cette étude, nous allons déterminer les features necessaires, filtrer les NAN et regarder la taille du dataset filtré"
   ]
  },
  {
   "cell_type": "code",
   "execution_count": 16,
   "metadata": {},
   "outputs": [],
   "source": [
    "col_necessaires = ['labels_en', 'saturated-fat_100g', 'categories_en', \n",
    "                   'packaging_tags', 'additives_n', 'ingredients_from_palm_oil_n', \n",
    "                   'nutriscore_score', 'nutriscore_grade', 'pnns_groups_2']\n",
    "# TODO : REMPLACER CATEGORIES PAR pnns-goups"
   ]
  },
  {
   "cell_type": "code",
   "execution_count": 17,
   "metadata": {},
   "outputs": [],
   "source": [
    "data_filtre = data.dropna(subset=col_necessaires)"
   ]
  },
  {
   "cell_type": "code",
   "execution_count": 18,
   "metadata": {},
   "outputs": [
    {
     "data": {
      "text/plain": [
       "(92328, 183)"
      ]
     },
     "execution_count": 18,
     "metadata": {},
     "output_type": "execute_result"
    }
   ],
   "source": [
    "data_filtre.shape"
   ]
  },
  {
   "cell_type": "markdown",
   "metadata": {},
   "source": [
    "Cette quantité a l'air suffisante à première vue"
   ]
  },
  {
   "cell_type": "markdown",
   "metadata": {},
   "source": [
    "# Nettoyage 🧼"
   ]
  },
  {
   "cell_type": "markdown",
   "metadata": {},
   "source": [
    "Les colonnes suivantes necessitent une attention particulière du fait de leur forte cardinalité:\n",
    "- [Labels](#nett_1)\n",
    "- [Categories](#nett_2)\n",
    "- [Packaging](#nett_3)"
   ]
  },
  {
   "cell_type": "markdown",
   "metadata": {},
   "source": [
    "<a id='nett_1'></a>\n",
    "### Labels 🏷️"
   ]
  },
  {
   "cell_type": "code",
   "execution_count": 19,
   "metadata": {},
   "outputs": [
    {
     "data": {
      "text/plain": [
       "count         92328\n",
       "unique        31719\n",
       "top       Green Dot\n",
       "freq           5153\n",
       "Name: labels_en, dtype: object"
      ]
     },
     "execution_count": 19,
     "metadata": {},
     "output_type": "execute_result"
    }
   ],
   "source": [
    "data_filtre.labels_en.describe()"
   ]
  },
  {
   "cell_type": "markdown",
   "metadata": {},
   "source": [
    "Cette variable a une forte cardinalité et est qualitative. Regardons les instances les plus fréquentes"
   ]
  },
  {
   "cell_type": "code",
   "execution_count": 20,
   "metadata": {},
   "outputs": [
    {
     "data": {
      "text/plain": [
       "Green Dot                                       5153\n",
       "Made in France                                  2218\n",
       "Gluten-free                                     1605\n",
       "Vegetarian,Vegan                                1513\n",
       "Organic,EU Organic,AB Agriculture Biologique    1277\n",
       "Organic                                         1189\n",
       "No preservatives                                1171\n",
       "Green Dot,Made in France                         782\n",
       "Made in Germany                                  702\n",
       "Vegetarian                                       697\n",
       "Name: labels_en, dtype: int64"
      ]
     },
     "execution_count": 20,
     "metadata": {},
     "output_type": "execute_result"
    }
   ],
   "source": [
    "data_filtre.labels_en.value_counts().head(10)"
   ]
  },
  {
   "cell_type": "markdown",
   "metadata": {},
   "source": [
    "On voit que les données sont souvent séparées par des virgules et que beaucoup de labels se répétent"
   ]
  },
  {
   "cell_type": "code",
   "execution_count": 21,
   "metadata": {},
   "outputs": [
    {
     "data": {
      "text/plain": [
       "9611"
      ]
     },
     "execution_count": 21,
     "metadata": {},
     "output_type": "execute_result"
    }
   ],
   "source": [
    "labels_unique = get_unique_elements(data_filtre.labels_en)\n",
    "len(labels_unique)"
   ]
  },
  {
   "cell_type": "markdown",
   "metadata": {},
   "source": [
    "Grâce à ce traitement, on obtient la cardinalité réelle mais c'est toujours trop"
   ]
  },
  {
   "cell_type": "markdown",
   "metadata": {},
   "source": [
    "Dans l'idéal, pour cette étude, j'aimerais pouvoir séparer les labels avec ces grandes catégories suivantes:"
   ]
  },
  {
   "cell_type": "code",
   "execution_count": 22,
   "metadata": {},
   "outputs": [],
   "source": [
    "labels_simple = ['organic', 'vegetarian_or_vegan', 'no_preservatives', 'no_colorings', 'sustainable', 'no_gmos', 'no_artificial_flavors']"
   ]
  },
  {
   "cell_type": "markdown",
   "metadata": {},
   "source": [
    "Je vais partir sur une approche \"Dummy\" pour faciliter les filtrages. En effet je ne peux résumer un produit à un seul label."
   ]
  },
  {
   "cell_type": "markdown",
   "metadata": {},
   "source": [
    "<a id='backbio'></a>"
   ]
  },
  {
   "cell_type": "markdown",
   "metadata": {},
   "source": [
    "Gestion du Bio (accès à la fonction [ici](#fonctionbio))"
   ]
  },
  {
   "cell_type": "code",
   "execution_count": 23,
   "metadata": {},
   "outputs": [
    {
     "data": {
      "text/plain": [
       "Index(['code', 'url', 'creator', 'created_t', 'created_datetime',\n",
       "       'last_modified_t', 'last_modified_datetime', 'product_name',\n",
       "       'generic_name', 'quantity',\n",
       "       ...\n",
       "       'carbon-footprint-from-meat-or-fish_100g', 'nutrition-score-fr_100g',\n",
       "       'nutrition-score-uk_100g', 'glycemic-index_100g', 'water-hardness_100g',\n",
       "       'choline_100g', 'phylloquinone_100g', 'beta-glucan_100g',\n",
       "       'inositol_100g', 'carnitine_100g'],\n",
       "      dtype='object', length=183)"
      ]
     },
     "execution_count": 23,
     "metadata": {},
     "output_type": "execute_result"
    }
   ],
   "source": [
    "data_filtre.columns"
   ]
  },
  {
   "cell_type": "code",
   "execution_count": 24,
   "metadata": {},
   "outputs": [
    {
     "name": "stderr",
     "output_type": "stream",
     "text": [
      "<ipython-input-24-1c4cc4edf2d5>:1: SettingWithCopyWarning: \n",
      "A value is trying to be set on a copy of a slice from a DataFrame.\n",
      "Try using .loc[row_indexer,col_indexer] = value instead\n",
      "\n",
      "See the caveats in the documentation: https://pandas.pydata.org/pandas-docs/stable/user_guide/indexing.html#returning-a-view-versus-a-copy\n",
      "  data_filtre['is_labeled_organic'] = data_filtre['labels_en'].map(split_custom).map(test_bio)\n"
     ]
    }
   ],
   "source": [
    "data_filtre['is_labeled_organic'] = data_filtre['labels_en'].map(split_custom).map(test_bio)"
   ]
  },
  {
   "cell_type": "markdown",
   "metadata": {},
   "source": [
    "<a id='backvege'></a>"
   ]
  },
  {
   "cell_type": "markdown",
   "metadata": {},
   "source": [
    "Gestion du Végétarien (accès à la fonction [ici](#fonctionvege))"
   ]
  },
  {
   "cell_type": "code",
   "execution_count": 25,
   "metadata": {},
   "outputs": [
    {
     "name": "stderr",
     "output_type": "stream",
     "text": [
      "<ipython-input-25-1be3452212da>:1: SettingWithCopyWarning: \n",
      "A value is trying to be set on a copy of a slice from a DataFrame.\n",
      "Try using .loc[row_indexer,col_indexer] = value instead\n",
      "\n",
      "See the caveats in the documentation: https://pandas.pydata.org/pandas-docs/stable/user_guide/indexing.html#returning-a-view-versus-a-copy\n",
      "  data_filtre['is_labeled_vege_or_vegan'] = data_filtre.labels_en.map(split_custom).map(test_vege)\n"
     ]
    }
   ],
   "source": [
    "data_filtre['is_labeled_vege_or_vegan'] = data_filtre.labels_en.map(split_custom).map(test_vege)"
   ]
  },
  {
   "cell_type": "markdown",
   "metadata": {},
   "source": [
    "<a id='backconserv'></a>"
   ]
  },
  {
   "cell_type": "markdown",
   "metadata": {},
   "source": [
    "Gestion des conservateurs (accès à la fonction [ici](#fonctionnegation))"
   ]
  },
  {
   "cell_type": "code",
   "execution_count": 26,
   "metadata": {},
   "outputs": [],
   "source": [
    "preserv = []\n",
    "for label in labels_unique:\n",
    "    label = label.lower()\n",
    "    if 'konser' in label:\n",
    "        preserv.append(label)"
   ]
  },
  {
   "cell_type": "code",
   "execution_count": 27,
   "metadata": {},
   "outputs": [],
   "source": [
    "# preserv"
   ]
  },
  {
   "cell_type": "code",
   "execution_count": 28,
   "metadata": {},
   "outputs": [],
   "source": [
    "negations_english = [\"no\", \"free\", \"without\", '0', 'non']\n",
    "negations_french = [\"pas\", \"sans\", \"0\", \"aucun\"]\n",
    "negations_spanish= ['no', 'sin', 'zero', '0', 'libre', 'cero']\n",
    "negations_portuguese = ['sem', 'nao']\n",
    "negations_germanique = ['nie', 'bez', 'ohne', 'frei', 'utan', 'brez', 'keine']\n",
    "dict_conservateur = {\"conservateur\": negations_french, \"preservative\": negations_english, \n",
    "                     'conservante':negations_spanish + negations_portuguese, 'konser': negations_germanique}"
   ]
  },
  {
   "cell_type": "code",
   "execution_count": 29,
   "metadata": {},
   "outputs": [
    {
     "name": "stderr",
     "output_type": "stream",
     "text": [
      "<ipython-input-29-7ecc0dafc191>:1: SettingWithCopyWarning: \n",
      "A value is trying to be set on a copy of a slice from a DataFrame.\n",
      "Try using .loc[row_indexer,col_indexer] = value instead\n",
      "\n",
      "See the caveats in the documentation: https://pandas.pydata.org/pandas-docs/stable/user_guide/indexing.html#returning-a-view-versus-a-copy\n",
      "  data_filtre['is_labeled_preserv_free'] = data_filtre.labels_en.map(split_custom).apply(test_no_something, dict_something=dict_conservateur)\n"
     ]
    }
   ],
   "source": [
    "data_filtre['is_labeled_preserv_free'] = data_filtre.labels_en.map(split_custom).apply(test_no_something, dict_something=dict_conservateur)"
   ]
  },
  {
   "cell_type": "code",
   "execution_count": 30,
   "metadata": {},
   "outputs": [
    {
     "data": {
      "text/plain": [
       "False    82838\n",
       "True      9490\n",
       "Name: is_labeled_preserv_free, dtype: int64"
      ]
     },
     "execution_count": 30,
     "metadata": {},
     "output_type": "execute_result"
    }
   ],
   "source": [
    "data_filtre['is_labeled_preserv_free'].value_counts()"
   ]
  },
  {
   "cell_type": "markdown",
   "metadata": {},
   "source": [
    "<a id='backcolor'></a>"
   ]
  },
  {
   "cell_type": "markdown",
   "metadata": {},
   "source": [
    "Gestion des Colorants (accès à la fonction [ici](#fonctionnegation))"
   ]
  },
  {
   "cell_type": "code",
   "execution_count": 31,
   "metadata": {},
   "outputs": [],
   "source": [
    "color = []\n",
    "for label in labels_unique:\n",
    "    label = label.lower()\n",
    "    if 'color' in label:\n",
    "        color.append(label)"
   ]
  },
  {
   "cell_type": "code",
   "execution_count": 32,
   "metadata": {},
   "outputs": [],
   "source": [
    "# color"
   ]
  },
  {
   "cell_type": "code",
   "execution_count": 33,
   "metadata": {},
   "outputs": [],
   "source": [
    "dict_colorant = {\"color\": negations_french + negations_english + negations_spanish + negations_portuguese, 'farb': negations_germanique}"
   ]
  },
  {
   "cell_type": "code",
   "execution_count": 34,
   "metadata": {},
   "outputs": [
    {
     "name": "stderr",
     "output_type": "stream",
     "text": [
      "<ipython-input-34-e97131e051d5>:1: SettingWithCopyWarning: \n",
      "A value is trying to be set on a copy of a slice from a DataFrame.\n",
      "Try using .loc[row_indexer,col_indexer] = value instead\n",
      "\n",
      "See the caveats in the documentation: https://pandas.pydata.org/pandas-docs/stable/user_guide/indexing.html#returning-a-view-versus-a-copy\n",
      "  data_filtre['is_labeled_colorings_free'] = data_filtre.labels_en.map(split_custom).apply(test_no_something, dict_something=dict_colorant)\n"
     ]
    }
   ],
   "source": [
    "data_filtre['is_labeled_colorings_free'] = data_filtre.labels_en.map(split_custom).apply(test_no_something, dict_something=dict_colorant)"
   ]
  },
  {
   "cell_type": "code",
   "execution_count": 35,
   "metadata": {},
   "outputs": [
    {
     "data": {
      "text/plain": [
       "False    85021\n",
       "True      7307\n",
       "Name: is_labeled_colorings_free, dtype: int64"
      ]
     },
     "execution_count": 35,
     "metadata": {},
     "output_type": "execute_result"
    }
   ],
   "source": [
    "data_filtre['is_labeled_colorings_free'].value_counts()"
   ]
  },
  {
   "cell_type": "markdown",
   "metadata": {},
   "source": [
    "<a id='backGMO'></a>"
   ]
  },
  {
   "cell_type": "markdown",
   "metadata": {},
   "source": [
    "Gestion des OGMs (accès à la fonction [ici](#fonctionnegation))"
   ]
  },
  {
   "cell_type": "code",
   "execution_count": 36,
   "metadata": {},
   "outputs": [],
   "source": [
    "ogm = []\n",
    "for label in labels_unique:\n",
    "    label = label.lower()\n",
    "    if 'gmo' in label:\n",
    "        ogm.append(label)"
   ]
  },
  {
   "cell_type": "code",
   "execution_count": 37,
   "metadata": {},
   "outputs": [],
   "source": [
    "# ogm"
   ]
  },
  {
   "cell_type": "code",
   "execution_count": 38,
   "metadata": {},
   "outputs": [],
   "source": [
    "dict_ogm = {\"ogm\": negations_french + negations_portuguese, 'gmo': negations_english + negations_portuguese, 'gvo': negations_germanique}"
   ]
  },
  {
   "cell_type": "code",
   "execution_count": 39,
   "metadata": {},
   "outputs": [
    {
     "name": "stderr",
     "output_type": "stream",
     "text": [
      "<ipython-input-39-aff1a4a9708c>:1: SettingWithCopyWarning: \n",
      "A value is trying to be set on a copy of a slice from a DataFrame.\n",
      "Try using .loc[row_indexer,col_indexer] = value instead\n",
      "\n",
      "See the caveats in the documentation: https://pandas.pydata.org/pandas-docs/stable/user_guide/indexing.html#returning-a-view-versus-a-copy\n",
      "  data_filtre['is_labeled_gmos_free'] = data_filtre.labels_en.map(split_custom).apply(test_no_something, dict_something=dict_ogm)\n"
     ]
    }
   ],
   "source": [
    "data_filtre['is_labeled_gmos_free'] = data_filtre.labels_en.map(split_custom).apply(test_no_something, dict_something=dict_ogm)\n",
    "# data_filtre['is_labeled_gmos_free'] = data_filtre.labels_en.map(split_custom).apply(lambda x : test_no_something(x, dict_ogm), axis=1) #essayer "
   ]
  },
  {
   "cell_type": "code",
   "execution_count": 40,
   "metadata": {},
   "outputs": [
    {
     "data": {
      "text/plain": [
       "False    90171\n",
       "True      2157\n",
       "Name: is_labeled_gmos_free, dtype: int64"
      ]
     },
     "execution_count": 40,
     "metadata": {},
     "output_type": "execute_result"
    }
   ],
   "source": [
    "data_filtre['is_labeled_gmos_free'].value_counts()"
   ]
  },
  {
   "cell_type": "markdown",
   "metadata": {},
   "source": [
    "<a id='nett_2'></a>\n",
    "### Categories 🗂️"
   ]
  },
  {
   "cell_type": "markdown",
   "metadata": {},
   "source": [
    "Je pensais d'abord utiliser les données categories_n. mais la données pnns_groups_2 est déjà travaillée et est renseignée à presque 100%"
   ]
  },
  {
   "cell_type": "code",
   "execution_count": 41,
   "metadata": {},
   "outputs": [
    {
     "data": {
      "text/plain": [
       "Biscuits and cakes                  0.089009\n",
       "One-dish meals                      0.085565\n",
       "unknown                             0.082099\n",
       "Sweets                              0.056213\n",
       "Processed meat                      0.055162\n",
       "Cereals                             0.054707\n",
       "Milk and yogurt                     0.052335\n",
       "Cheese                              0.050700\n",
       "Dressings and sauces                0.039923\n",
       "Chocolate products                  0.032515\n",
       "Fish and seafood                    0.029330\n",
       "Bread                               0.026915\n",
       "Vegetables                          0.026763\n",
       "Salty and fatty products            0.024391\n",
       "Meat                                0.024337\n",
       "Breakfast cereals                   0.023503\n",
       "Appetizers                          0.022962\n",
       "Sweetened beverages                 0.022095\n",
       "Fruit juices                        0.020135\n",
       "Fruits                              0.017665\n",
       "Dairy desserts                      0.016777\n",
       "Fats                                0.016041\n",
       "Ice cream                           0.015282\n",
       "Plant-based milk substitutes        0.012315\n",
       "Legumes                             0.012152\n",
       "Pizza pies and quiche               0.009423\n",
       "vegetables                          0.009152\n",
       "Dried fruits                        0.008741\n",
       "Soups                               0.008643\n",
       "Artificially sweetened beverages    0.008275\n",
       "pastries                            0.008232\n",
       "Nuts                                0.007333\n",
       "Sandwiches                          0.006629\n",
       "Potatoes                            0.006098\n",
       "Unsweetened beverages               0.005231\n",
       "Eggs                                0.003769\n",
       "Waters and flavored waters          0.002404\n",
       "Offals                              0.002307\n",
       "Pizza pies and quiches              0.001906\n",
       "Fruit nectars                       0.000931\n",
       "Teas and herbal teas and coffees    0.000899\n",
       "fruits                              0.000866\n",
       "cereals                             0.000119\n",
       "Alcoholic beverages                 0.000108\n",
       "legumes                             0.000032\n",
       "nuts                                0.000011\n",
       "Name: pnns_groups_2, dtype: float64"
      ]
     },
     "execution_count": 41,
     "metadata": {},
     "output_type": "execute_result"
    }
   ],
   "source": [
    "data_filtre['pnns_groups_2'].value_counts(normalize=True)"
   ]
  },
  {
   "cell_type": "code",
   "execution_count": 42,
   "metadata": {},
   "outputs": [
    {
     "name": "stderr",
     "output_type": "stream",
     "text": [
      "C:\\Users\\S053567\\Anaconda3\\envs\\env_OC_P03\\lib\\site-packages\\pandas\\core\\indexing.py:1745: SettingWithCopyWarning: \n",
      "A value is trying to be set on a copy of a slice from a DataFrame.\n",
      "Try using .loc[row_indexer,col_indexer] = value instead\n",
      "\n",
      "See the caveats in the documentation: https://pandas.pydata.org/pandas-docs/stable/user_guide/indexing.html#returning-a-view-versus-a-copy\n",
      "  isetter(ilocs[0], value)\n"
     ]
    }
   ],
   "source": [
    "data_filtre.loc[:,'pnns_groups_2'] = data_filtre.loc[:,'pnns_groups_2'].map(lambda x:x.lower()) #Inplace = true"
   ]
  },
  {
   "cell_type": "code",
   "execution_count": 43,
   "metadata": {},
   "outputs": [],
   "source": [
    "data_filtre = data_filtre.replace('pizza pies and quiche', 'pizza pies and quiches')"
   ]
  },
  {
   "cell_type": "markdown",
   "metadata": {},
   "source": [
    "TODO : Faire un KNN sur les données \"Unknown\" : 8.2% des données"
   ]
  },
  {
   "cell_type": "markdown",
   "metadata": {},
   "source": [
    "<a id='nett_3'></a>\n",
    "### Packaging 📦\n",
    "Cette donnée essentielle à notre étude necessite un gros travail de traitement"
   ]
  },
  {
   "cell_type": "code",
   "execution_count": 44,
   "metadata": {},
   "outputs": [
    {
     "data": {
      "text/plain": [
       "count                92328\n",
       "unique               18443\n",
       "top       sachet,plastique\n",
       "freq                  4878\n",
       "Name: packaging_tags, dtype: object"
      ]
     },
     "execution_count": 44,
     "metadata": {},
     "output_type": "execute_result"
    }
   ],
   "source": [
    "data_filtre.packaging_tags.describe()"
   ]
  },
  {
   "cell_type": "markdown",
   "metadata": {},
   "source": [
    "Même configuration : forte cardinalité d'une variable qualitative"
   ]
  },
  {
   "cell_type": "code",
   "execution_count": 45,
   "metadata": {},
   "outputs": [
    {
     "data": {
      "text/plain": [
       "sachet,plastique               4878\n",
       "plastique                      2626\n",
       "kunststoff                     2017\n",
       "carton                         1963\n",
       "frais,plastique                1611\n",
       "barquette,plastique            1460\n",
       "frais                          1454\n",
       "carton,plastique               1224\n",
       "plastic                        1189\n",
       "sachet                         1155\n",
       "bouteille,plastique            1082\n",
       "glas                           1077\n",
       "bocal,verre                    1024\n",
       "sachet-plastique                910\n",
       "conserve                        804\n",
       "plastico                        630\n",
       "brique,carton                   614\n",
       "bouteille,verre                 597\n",
       "carton,boite,plastique          559\n",
       "karton                          544\n",
       "sachet,plastique,surgele        523\n",
       "bocal,verre,couvercle,metal     518\n",
       "barquette                       492\n",
       "papier                          486\n",
       "conserve,metal                  481\n",
       "barquette,plastique,frais       477\n",
       "brique                          464\n",
       "bocal,verre,metal               453\n",
       "plastik                         442\n",
       "tetra-pak                       429\n",
       "plastique,sachet                420\n",
       "karton,kunststoff               405\n",
       "pot                             399\n",
       "boite,carton                    373\n",
       "boite                           372\n",
       "verre                           368\n",
       "bouteille                       365\n",
       "carton,surgele                  365\n",
       "plastique,frais                 347\n",
       "bocal                           312\n",
       "plastique,carton                311\n",
       "plastica                        293\n",
       "pot,verre                       270\n",
       "boite,carton,plastique          267\n",
       "carton,plastique,surgele        265\n",
       "verre,bocal                     244\n",
       "frais,plastique,carton          244\n",
       "pot,plastique                   244\n",
       "surgeles                        242\n",
       "box                             234\n",
       "Name: packaging_tags, dtype: int64"
      ]
     },
     "execution_count": 45,
     "metadata": {},
     "output_type": "execute_result"
    }
   ],
   "source": [
    "data_filtre.packaging_tags.value_counts().head(50)"
   ]
  },
  {
   "cell_type": "markdown",
   "metadata": {},
   "source": [
    "# Analyses Univariées\n",
    "##### - [Labels](#univ_1)\n",
    "##### - [Categories](#univ_2)\n",
    "##### - [Packaging](#univ_3)\n",
    "##### - [Additifs](#univ_4)\n",
    "##### - [Huile de palme](#univ_5)\n",
    "##### - [Graisse saturée](#univ_6)\n",
    "##### - [Nutriscore numérique](#univ_7)\n",
    "##### - [Nutriscore catégorique](#univ_8)"
   ]
  },
  {
   "cell_type": "markdown",
   "metadata": {},
   "source": [
    "<a id='univ_1'></a>\n",
    "### Labels 🚧🚧🚧"
   ]
  },
  {
   "cell_type": "markdown",
   "metadata": {},
   "source": [
    "WORK IN PROGRESS\n",
    " -> Il serait difficle de faire une analyse en histogramme. Nous pourrions selectionner un label par exemple le label 'biologique', le rassembler avec les labels similaires et mener une analyse univariée d'une autre variable "
   ]
  },
  {
   "cell_type": "code",
   "execution_count": 46,
   "metadata": {},
   "outputs": [],
   "source": [
    "labels_to_inspect = ['is_labeled_organic',\n",
    "                     'is_labeled_vege_or_vegan',\n",
    "                     'is_labeled_preserv_free',\n",
    "                     'is_labeled_colorings_free',\n",
    "                     'is_labeled_gmos_free']"
   ]
  },
  {
   "cell_type": "code",
   "execution_count": 47,
   "metadata": {},
   "outputs": [],
   "source": [
    "qtty_label = [data_filtre[label_to_inspect].value_counts().loc[True] for label_to_inspect in labels_to_inspect]"
   ]
  },
  {
   "cell_type": "code",
   "execution_count": 48,
   "metadata": {},
   "outputs": [
    {
     "data": {
      "text/plain": [
       "[21557, 10307, 9490, 7307, 2157]"
      ]
     },
     "execution_count": 48,
     "metadata": {},
     "output_type": "execute_result"
    }
   ],
   "source": [
    "qtty_label"
   ]
  },
  {
   "cell_type": "code",
   "execution_count": 49,
   "metadata": {},
   "outputs": [],
   "source": [
    "percent_label = np.array(qtty_label)/len(data_filtre) * 100"
   ]
  },
  {
   "cell_type": "code",
   "execution_count": 50,
   "metadata": {},
   "outputs": [
    {
     "data": {
      "text/plain": [
       "array([23.34828005, 11.16346071, 10.27857205,  7.91417555,  2.33623603])"
      ]
     },
     "execution_count": 50,
     "metadata": {},
     "output_type": "execute_result"
    }
   ],
   "source": [
    "percent_label"
   ]
  },
  {
   "cell_type": "code",
   "execution_count": 51,
   "metadata": {},
   "outputs": [
    {
     "data": {
      "text/plain": [
       "[1, 2, 3, 4]"
      ]
     },
     "execution_count": 51,
     "metadata": {},
     "output_type": "execute_result"
    }
   ],
   "source": [
    "list(range(1, len(qtty_label)))"
   ]
  },
  {
   "cell_type": "code",
   "execution_count": 86,
   "metadata": {},
   "outputs": [
    {
     "data": {
      "image/png": "[encoded data removed]",
      "text/plain": [
       "<Figure size 576x576 with 1 Axes>"
      ]
     },
     "metadata": {},
     "output_type": "display_data"
    }
   ],
   "source": [
    "plt.figure(figsize=(8,8))\n",
    "plt.style.use('seaborn')\n",
    "plt.bar(list(range(1, len(qtty_label)+1)), percent_label, color='purple', label='Nb de produits labellisés')\n",
    "plt.xticks(list(range(1, len(qtty_label)+1)), ['Label Bio', 'Label\\nVege/Vegan', 'Label\\n0 Conservateurs', 'Label\\n0 Colorants', 'Label 0 OGM'])\n",
    "plt.ylabel('Proportion par rapport au nombre de poduits du dataset (%)')\n",
    "plt.legend()\n",
    "plt.show()"
   ]
  },
  {
   "cell_type": "markdown",
   "metadata": {},
   "source": [
    "<a id='univ_2'></a>\n",
    "### Categories"
   ]
  },
  {
   "cell_type": "code",
   "execution_count": 53,
   "metadata": {},
   "outputs": [
    {
     "data": {
      "text/plain": [
       "count                                               92328\n",
       "unique                                              24127\n",
       "top       Snacks,Sweet snacks,Biscuits and cakes,Biscuits\n",
       "freq                                                  810\n",
       "Name: categories_en, dtype: object"
      ]
     },
     "execution_count": 53,
     "metadata": {},
     "output_type": "execute_result"
    }
   ],
   "source": [
    "data_filtre.categories_en.describe()"
   ]
  },
  {
   "cell_type": "markdown",
   "metadata": {},
   "source": [
    "Même configuration : forte cardinalité d'une variable qualitative"
   ]
  },
  {
   "cell_type": "code",
   "execution_count": 54,
   "metadata": {},
   "outputs": [
    {
     "data": {
      "text/plain": [
       "Snacks,Sweet snacks,Biscuits and cakes,Biscuits                                                                        810\n",
       "Meats,Prepared meats,Hams,White hams                                                                                   697\n",
       "Snacks,Sweet snacks,Chocolates,Dark chocolates                                                                         623\n",
       "Snacks,Sweet snacks,Confectioneries,Candies                                                                            375\n",
       "Dairies,Fermented foods,Fermented milk products,Yogurts                                                                372\n",
       "Snacks,Sweet snacks,Biscuits and cakes,Biscuits,Chocolate biscuits                                                     358\n",
       "Snacks,Salty snacks,Appetizers,Crackers                                                                                346\n",
       "Snacks,Sweet snacks,Chocolates,Milk chocolates                                                                         344\n",
       "Dairies,Fermented foods,Fermented milk products,Cheeses                                                                338\n",
       "Spreads,Breakfasts,Sweet spreads,fr:Pâtes à tartiner,Hazelnut spreads,Chocolate spreads,Cocoa and hazelnuts spreads    333\n",
       "Name: categories_en, dtype: int64"
      ]
     },
     "execution_count": 54,
     "metadata": {},
     "output_type": "execute_result"
    }
   ],
   "source": [
    "data_filtre.categories_en.value_counts().head(10)"
   ]
  },
  {
   "cell_type": "markdown",
   "metadata": {},
   "source": [
    "Dans le cadre du projet d'application, cette colonne nous servira a proposer un produit de la même catégorie. Il faudra également la rassembler en moins de cardinalités"
   ]
  },
  {
   "cell_type": "markdown",
   "metadata": {},
   "source": [
    "On peut aussi se servir de cette colonne pour un analyse spécifique d'une catégorie d'aliments. par exemple pour voir si le nutriscore est meilleur sans plastique pour certaines catégories."
   ]
  },
  {
   "cell_type": "markdown",
   "metadata": {},
   "source": [
    "<a id='univ_3'></a>\n",
    "### Packaging"
   ]
  },
  {
   "cell_type": "code",
   "execution_count": 55,
   "metadata": {},
   "outputs": [
    {
     "data": {
      "text/plain": [
       "count                92328\n",
       "unique               18443\n",
       "top       sachet,plastique\n",
       "freq                  4878\n",
       "Name: packaging_tags, dtype: object"
      ]
     },
     "execution_count": 55,
     "metadata": {},
     "output_type": "execute_result"
    }
   ],
   "source": [
    "data_filtre.packaging_tags.describe()"
   ]
  },
  {
   "cell_type": "markdown",
   "metadata": {},
   "source": [
    "Même configuration : forte cardinalité d'une variable qualitative"
   ]
  },
  {
   "cell_type": "code",
   "execution_count": 56,
   "metadata": {},
   "outputs": [
    {
     "data": {
      "text/plain": [
       "sachet,plastique       4878\n",
       "plastique              2626\n",
       "kunststoff             2017\n",
       "carton                 1963\n",
       "frais,plastique        1611\n",
       "barquette,plastique    1460\n",
       "frais                  1454\n",
       "carton,plastique       1224\n",
       "plastic                1189\n",
       "sachet                 1155\n",
       "Name: packaging_tags, dtype: int64"
      ]
     },
     "execution_count": 56,
     "metadata": {},
     "output_type": "execute_result"
    }
   ],
   "source": [
    "data_filtre.packaging_tags.value_counts().head(10)"
   ]
  },
  {
   "cell_type": "markdown",
   "metadata": {},
   "source": [
    "Pour notre étude il est essentiel de réduire la cardinalité de cette donnée."
   ]
  },
  {
   "cell_type": "markdown",
   "metadata": {},
   "source": [
    "<a id='univ_4'></a>\n",
    "### Additifs"
   ]
  },
  {
   "cell_type": "code",
   "execution_count": 57,
   "metadata": {},
   "outputs": [
    {
     "data": {
      "text/plain": [
       "count    92328.000000\n",
       "mean         1.575221\n",
       "std          2.239675\n",
       "min          0.000000\n",
       "25%          0.000000\n",
       "50%          1.000000\n",
       "75%          2.000000\n",
       "max         30.000000\n",
       "Name: additives_n, dtype: float64"
      ]
     },
     "execution_count": 57,
     "metadata": {},
     "output_type": "execute_result"
    }
   ],
   "source": [
    "data_filtre.additives_n.describe()"
   ]
  },
  {
   "cell_type": "code",
   "execution_count": 58,
   "metadata": {},
   "outputs": [
    {
     "data": {
      "text/plain": [
       "323    2.0\n",
       "346    4.0\n",
       "384    0.0\n",
       "385    1.0\n",
       "393    3.0\n",
       "Name: additives_n, dtype: float64"
      ]
     },
     "execution_count": 58,
     "metadata": {},
     "output_type": "execute_result"
    }
   ],
   "source": [
    "data_filtre.additives_n.head(5)"
   ]
  },
  {
   "cell_type": "markdown",
   "metadata": {},
   "source": [
    "Cette variable est une variable quantitative visiblement entière"
   ]
  },
  {
   "cell_type": "code",
   "execution_count": 59,
   "metadata": {},
   "outputs": [
    {
     "data": {
      "image/png": "[encoded data removed]",
      "text/plain": [
       "<Figure size 576x396 with 1 Axes>"
      ]
     },
     "metadata": {},
     "output_type": "display_data"
    }
   ],
   "source": [
    "plot_histo(data_filtre.additives_n, bins=30, xlabel=\"Nombre d'additifs\")"
   ]
  },
  {
   "cell_type": "markdown",
   "metadata": {},
   "source": [
    "J'aimerais utiliser cette variable pour tester la correlation entre le nombre d'additifs et la présence de plastique dans l'emballage"
   ]
  },
  {
   "cell_type": "code",
   "execution_count": null,
   "metadata": {},
   "outputs": [],
   "source": []
  },
  {
   "cell_type": "markdown",
   "metadata": {},
   "source": [
    "<a id='univ_5'></a>\n",
    "### Huile de palme"
   ]
  },
  {
   "cell_type": "code",
   "execution_count": 60,
   "metadata": {},
   "outputs": [
    {
     "data": {
      "text/plain": [
       "count    92328.000000\n",
       "mean         0.037984\n",
       "std          0.193748\n",
       "min          0.000000\n",
       "25%          0.000000\n",
       "50%          0.000000\n",
       "75%          0.000000\n",
       "max          2.000000\n",
       "Name: ingredients_from_palm_oil_n, dtype: float64"
      ]
     },
     "execution_count": 60,
     "metadata": {},
     "output_type": "execute_result"
    }
   ],
   "source": [
    "data_filtre.ingredients_from_palm_oil_n.describe()"
   ]
  },
  {
   "cell_type": "code",
   "execution_count": 61,
   "metadata": {},
   "outputs": [
    {
     "data": {
      "text/plain": [
       "0.0    88867\n",
       "1.0     3415\n",
       "2.0       46\n",
       "Name: ingredients_from_palm_oil_n, dtype: int64"
      ]
     },
     "execution_count": 61,
     "metadata": {},
     "output_type": "execute_result"
    }
   ],
   "source": [
    "data_filtre.ingredients_from_palm_oil_n.value_counts()"
   ]
  },
  {
   "cell_type": "markdown",
   "metadata": {},
   "source": [
    "<a id='univ_6'></a>\n",
    "### Graisse saturée"
   ]
  },
  {
   "cell_type": "code",
   "execution_count": 62,
   "metadata": {},
   "outputs": [
    {
     "data": {
      "text/plain": [
       "count    92328.000000\n",
       "mean         5.480784\n",
       "std          8.357085\n",
       "min          0.000000\n",
       "25%          0.350000\n",
       "50%          2.000000\n",
       "75%          7.700000\n",
       "max        140.000000\n",
       "Name: saturated-fat_100g, dtype: float64"
      ]
     },
     "execution_count": 62,
     "metadata": {},
     "output_type": "execute_result"
    }
   ],
   "source": [
    "data_filtre['saturated-fat_100g'].describe()"
   ]
  },
  {
   "cell_type": "markdown",
   "metadata": {},
   "source": [
    "Cette variable quantitative donne le nombre de grammes de graisse saturée pour 100g de produit. Il n'est donc pas logique que certains produits aient une valeur de plus de 100.\n",
    "Regardons ces valeurs"
   ]
  },
  {
   "cell_type": "code",
   "execution_count": 63,
   "metadata": {},
   "outputs": [
    {
     "data": {
      "text/html": [
       "<div>\n",
       "<style scoped>\n",
       "    .dataframe tbody tr th:only-of-type {\n",
       "        vertical-align: middle;\n",
       "    }\n",
       "\n",
       "    .dataframe tbody tr th {\n",
       "        vertical-align: top;\n",
       "    }\n",
       "\n",
       "    .dataframe thead th {\n",
       "        text-align: right;\n",
       "    }\n",
       "</style>\n",
       "<table border=\"1\" class=\"dataframe\">\n",
       "  <thead>\n",
       "    <tr style=\"text-align: right;\">\n",
       "      <th></th>\n",
       "      <th>product_name</th>\n",
       "      <th>nutriscore_grade</th>\n",
       "      <th>quantity</th>\n",
       "      <th>saturated-fat_100g</th>\n",
       "      <th>serving_size</th>\n",
       "      <th>ingredients_text</th>\n",
       "    </tr>\n",
       "  </thead>\n",
       "  <tbody>\n",
       "    <tr>\n",
       "      <th>652577</th>\n",
       "      <td>Palets dorés noix de coco</td>\n",
       "      <td>e</td>\n",
       "      <td>125 g</td>\n",
       "      <td>120.0</td>\n",
       "      <td>23 g</td>\n",
       "      <td>Farine de ble 50%, sucre, noix de coco 8,4%, h...</td>\n",
       "    </tr>\n",
       "    <tr>\n",
       "      <th>915679</th>\n",
       "      <td>Virgin coconuts oil</td>\n",
       "      <td>d</td>\n",
       "      <td>380 ml</td>\n",
       "      <td>100.0</td>\n",
       "      <td>NaN</td>\n",
       "      <td>Noix de coco bio.</td>\n",
       "    </tr>\n",
       "    <tr>\n",
       "      <th>1212389</th>\n",
       "      <td>Kokosöl BIO</td>\n",
       "      <td>e</td>\n",
       "      <td>182g</td>\n",
       "      <td>100.0</td>\n",
       "      <td>NaN</td>\n",
       "      <td>Bio Kokosfett (Sri Lanka). Kokosfett: Fairtrad...</td>\n",
       "    </tr>\n",
       "    <tr>\n",
       "      <th>1353590</th>\n",
       "      <td>Aceite de oliva virgen extra &amp;quot;Esencia And...</td>\n",
       "      <td>c</td>\n",
       "      <td>10 ml</td>\n",
       "      <td>140.0</td>\n",
       "      <td>10 ml</td>\n",
       "      <td>Aceite de oliva virgen extra.</td>\n",
       "    </tr>\n",
       "  </tbody>\n",
       "</table>\n",
       "</div>"
      ],
      "text/plain": [
       "                                              product_name nutriscore_grade  \\\n",
       "652577                           Palets dorés noix de coco                e   \n",
       "915679                                 Virgin coconuts oil                d   \n",
       "1212389                                        Kokosöl BIO                e   \n",
       "1353590  Aceite de oliva virgen extra &quot;Esencia And...                c   \n",
       "\n",
       "        quantity  saturated-fat_100g serving_size  \\\n",
       "652577     125 g               120.0         23 g   \n",
       "915679    380 ml               100.0          NaN   \n",
       "1212389     182g               100.0          NaN   \n",
       "1353590    10 ml               140.0        10 ml   \n",
       "\n",
       "                                          ingredients_text  \n",
       "652577   Farine de ble 50%, sucre, noix de coco 8,4%, h...  \n",
       "915679                                   Noix de coco bio.  \n",
       "1212389  Bio Kokosfett (Sri Lanka). Kokosfett: Fairtrad...  \n",
       "1353590                      Aceite de oliva virgen extra.  "
      ]
     },
     "execution_count": 63,
     "metadata": {},
     "output_type": "execute_result"
    }
   ],
   "source": [
    "data_filtre[data_filtre['saturated-fat_100g'] >= 100][['product_name', 'nutriscore_grade', 'quantity', 'saturated-fat_100g', 'serving_size', 'ingredients_text']]"
   ]
  },
  {
   "cell_type": "markdown",
   "metadata": {},
   "source": [
    "Bien que surprenant à première vue, ces outliers n'en sont peut etre pas étant donné que ce sont en fait des huiles liquides. Je suspecte que la données saturated fat soit ici une donnée en ml et que le taux de passage ml-g soit approximatif.\n",
    "Seul le premier semble suspect d'autent qu'il possède 50% de farine. Je vais donc le supprimer"
   ]
  },
  {
   "cell_type": "code",
   "execution_count": 64,
   "metadata": {},
   "outputs": [],
   "source": [
    "data_filtre = data_filtre.drop([652577])"
   ]
  },
  {
   "cell_type": "code",
   "execution_count": 65,
   "metadata": {},
   "outputs": [
    {
     "data": {
      "image/png": "[encoded data removed]",
      "text/plain": [
       "<Figure size 576x396 with 1 Axes>"
      ]
     },
     "metadata": {},
     "output_type": "display_data"
    }
   ],
   "source": [
    "plot_histo(data_filtre['saturated-fat_100g'], bins=24, xlabel=\"Graisse saturée pour 100g\")"
   ]
  },
  {
   "cell_type": "markdown",
   "metadata": {},
   "source": [
    "<a id='univ_7'></a>\n",
    "### Nutriscore (numérique)"
   ]
  },
  {
   "cell_type": "code",
   "execution_count": 66,
   "metadata": {},
   "outputs": [
    {
     "data": {
      "text/plain": [
       "count    92327.000000\n",
       "mean         8.115438\n",
       "std          9.061855\n",
       "min        -15.000000\n",
       "25%          1.000000\n",
       "50%          7.000000\n",
       "75%         15.000000\n",
       "max         36.000000\n",
       "Name: nutriscore_score, dtype: float64"
      ]
     },
     "execution_count": 66,
     "metadata": {},
     "output_type": "execute_result"
    }
   ],
   "source": [
    "data_filtre.nutriscore_score.describe()"
   ]
  },
  {
   "cell_type": "markdown",
   "metadata": {},
   "source": [
    "C'est une variable quantitative sur la qualité des aliments"
   ]
  },
  {
   "cell_type": "markdown",
   "metadata": {},
   "source": [
    "Voici la documentation:"
   ]
  },
  {
   "cell_type": "markdown",
   "metadata": {},
   "source": [
    "<img src=\"img/nutriscore.png\" style=\"height:250px\">"
   ]
  },
  {
   "cell_type": "code",
   "execution_count": 67,
   "metadata": {},
   "outputs": [
    {
     "data": {
      "image/png": "[encoded data removed]",
      "text/plain": [
       "<Figure size 576x396 with 1 Axes>"
      ]
     },
     "metadata": {},
     "output_type": "display_data"
    }
   ],
   "source": [
    "plot_histo(data_filtre['nutriscore_score'], xlabel=\"Nutriscore\")"
   ]
  },
  {
   "cell_type": "markdown",
   "metadata": {},
   "source": [
    "Mesure de la symetrie avec Skewness : "
   ]
  },
  {
   "cell_type": "code",
   "execution_count": 68,
   "metadata": {},
   "outputs": [
    {
     "data": {
      "text/plain": [
       "0.26514023697425426"
      ]
     },
     "execution_count": 68,
     "metadata": {},
     "output_type": "execute_result"
    }
   ],
   "source": [
    "data_filtre.nutriscore_score.skew()"
   ]
  },
  {
   "cell_type": "markdown",
   "metadata": {},
   "source": [
    "On voit que la distribution est quasi symétrique avec un léger décalage à gauche"
   ]
  },
  {
   "cell_type": "markdown",
   "metadata": {},
   "source": [
    "<a id='univ_8'></a>\n",
    "### Nutriscore (grade)"
   ]
  },
  {
   "cell_type": "code",
   "execution_count": 69,
   "metadata": {},
   "outputs": [
    {
     "data": {
      "text/plain": [
       "count     92327\n",
       "unique        5\n",
       "top           d\n",
       "freq      24722\n",
       "Name: nutriscore_grade, dtype: object"
      ]
     },
     "execution_count": 69,
     "metadata": {},
     "output_type": "execute_result"
    }
   ],
   "source": [
    "data_filtre.nutriscore_grade.describe()"
   ]
  },
  {
   "cell_type": "code",
   "execution_count": 70,
   "metadata": {},
   "outputs": [
    {
     "data": {
      "text/plain": [
       "array(['b', 'e', 'd', 'c', 'a'], dtype=object)"
      ]
     },
     "execution_count": 70,
     "metadata": {},
     "output_type": "execute_result"
    }
   ],
   "source": [
    "data_filtre.nutriscore_grade.unique()"
   ]
  },
  {
   "cell_type": "code",
   "execution_count": 71,
   "metadata": {},
   "outputs": [
    {
     "data": {
      "text/plain": [
       "d    24722\n",
       "c    20149\n",
       "a    17401\n",
       "e    15942\n",
       "b    14113\n",
       "Name: nutriscore_grade, dtype: int64"
      ]
     },
     "execution_count": 71,
     "metadata": {},
     "output_type": "execute_result"
    }
   ],
   "source": [
    "data_filtre.nutriscore_grade.value_counts()"
   ]
  },
  {
   "cell_type": "markdown",
   "metadata": {},
   "source": [
    "Cette note connue du grand public est une note de A à E (A étant la meilleure et E la moins bonne). C'est donc une variable qualitative ordonnée. On peut la traiter comme une variable quantitative"
   ]
  },
  {
   "cell_type": "code",
   "execution_count": 123,
   "metadata": {},
   "outputs": [],
   "source": [
    "data_filtre['nutriscore_grade_num'] = data_filtre.nutriscore_grade.replace({'a':4, 'b':3, 'c':2, 'd':1, 'e':0})"
   ]
  },
  {
   "cell_type": "code",
   "execution_count": 124,
   "metadata": {},
   "outputs": [],
   "source": [
    "data_pie_nutriscore = data_filtre['nutriscore_grade_num'].value_counts().sort_index()"
   ]
  },
  {
   "cell_type": "code",
   "execution_count": 125,
   "metadata": {},
   "outputs": [
    {
     "data": {
      "image/png": "[encoded data removed]",
      "text/plain": [
       "<Figure size 576x576 with 1 Axes>"
      ]
     },
     "metadata": {},
     "output_type": "display_data"
    }
   ],
   "source": [
    "plt.figure(figsize=(8,8))\n",
    "plt.style.use('seaborn')\n",
    "plt.title(\"Repartition des nutriscores\")\n",
    "plt.pie(data_pie_nutriscore, labels=['E', 'D', 'C', 'B', 'A'], colors=['red','orange','yellow', '#0DF347', 'green'], startangle=90)\n",
    "plt.show()"
   ]
  },
  {
   "cell_type": "code",
   "execution_count": 126,
   "metadata": {},
   "outputs": [
    {
     "name": "stderr",
     "output_type": "stream",
     "text": [
      "No handles with labels found to put in legend.\n"
     ]
    },
    {
     "data": {
      "image/png": "[encoded data removed]",
      "text/plain": [
       "<Figure size 576x396 with 1 Axes>"
      ]
     },
     "metadata": {},
     "output_type": "display_data"
    }
   ],
   "source": [
    "plot_histo(data_filtre['nutriscore_grade_num'], plot_density=False, xlabel='Nutriscore note de 0 à 4')"
   ]
  },
  {
   "cell_type": "code",
   "execution_count": 127,
   "metadata": {},
   "outputs": [
    {
     "data": {
      "text/plain": [
       "count    92327.000000\n",
       "mean         1.916698\n",
       "std          1.363183\n",
       "min          0.000000\n",
       "25%          1.000000\n",
       "50%          2.000000\n",
       "75%          3.000000\n",
       "max          4.000000\n",
       "Name: nutriscore_grade_num, dtype: float64"
      ]
     },
     "execution_count": 127,
     "metadata": {},
     "output_type": "execute_result"
    }
   ],
   "source": [
    "data_filtre['nutriscore_grade_num'].describe()"
   ]
  },
  {
   "cell_type": "code",
   "execution_count": 128,
   "metadata": {},
   "outputs": [
    {
     "data": {
      "text/plain": [
       "0.18810225317894622"
      ]
     },
     "execution_count": 128,
     "metadata": {},
     "output_type": "execute_result"
    }
   ],
   "source": [
    "data_filtre['nutriscore_grade_num'].skew()"
   ]
  },
  {
   "cell_type": "code",
   "execution_count": 129,
   "metadata": {},
   "outputs": [
    {
     "data": {
      "text/plain": [
       "-1.1812695990028848"
      ]
     },
     "execution_count": 129,
     "metadata": {},
     "output_type": "execute_result"
    }
   ],
   "source": [
    "data_filtre['nutriscore_grade_num'].kurtosis()"
   ]
  },
  {
   "cell_type": "markdown",
   "metadata": {},
   "source": [
    "La repartition n'est pas uniforme mais on peut quand même faire l'approximation qu'elle l'est au regard de l'écart interquartile, de kurtosis et de skewness"
   ]
  },
  {
   "cell_type": "markdown",
   "metadata": {},
   "source": [
    "## 1: Analyse bivariée entre le type d'emaballage et le nutriscore_score"
   ]
  },
  {
   "cell_type": "code",
   "execution_count": 118,
   "metadata": {},
   "outputs": [],
   "source": [
    "X = \"has_plastic\" # qualitative\n",
    "Y = \"nutriscore_score\" # quantitative"
   ]
  },
  {
   "cell_type": "code",
   "execution_count": 119,
   "metadata": {},
   "outputs": [],
   "source": [
    "echantillon_1 = data_filtre[['nutriscore_score', 'has_plastic']]"
   ]
  },
  {
   "cell_type": "code",
   "execution_count": 122,
   "metadata": {},
   "outputs": [
    {
     "data": {
      "image/png": "[encoded data removed]",
      "text/plain": [
       "<Figure size 576x288 with 1 Axes>"
      ]
     },
     "metadata": {},
     "output_type": "display_data"
    }
   ],
   "source": [
    "modalites = [True, False]\n",
    "groupes = []\n",
    "for m in modalites:\n",
    "    groupes.append(echantillon_1[echantillon_1[X]==m][Y])\n",
    "\n",
    "# Propriétés graphiques (pas très importantes)    \n",
    "medianprops = {'color':\"black\"}\n",
    "meanprops = {'marker':'o', 'markeredgecolor':'black',\n",
    "            'markerfacecolor':'firebrick'}\n",
    "\n",
    "plt.figure(figsize=(8,4))\n",
    "plt.style.use('seaborn')\n",
    "plt.boxplot(groupes, labels=modalites, showfliers=False, medianprops=medianprops, \n",
    "            vert=False, patch_artist=True, showmeans=True, meanprops=meanprops)\n",
    "plt.xlabel(Y)\n",
    "plt.show()"
   ]
  },
  {
   "cell_type": "code",
   "execution_count": 149,
   "metadata": {},
   "outputs": [],
   "source": [
    "X = \"has_plastic\" # qualitative\n",
    "Y = \"nutriscore_grade_num\" # quantitative\n",
    "echantillon_2 = data_filtre[[Y, X]]"
   ]
  },
  {
   "cell_type": "code",
   "execution_count": 150,
   "metadata": {},
   "outputs": [
    {
     "data": {
      "image/png": "[encoded data removed]",
      "text/plain": [
       "<Figure size 576x288 with 1 Axes>"
      ]
     },
     "metadata": {},
     "output_type": "display_data"
    }
   ],
   "source": [
    "modalites = [True, False]\n",
    "groupes = []\n",
    "for m in modalites:\n",
    "    groupes.append(echantillon_2[echantillon_2[X]==m][Y])\n",
    "\n",
    "# Propriétés graphiques (pas très importantes)    \n",
    "medianprops = {'color':\"black\"}\n",
    "meanprops = {'marker':'o', 'markeredgecolor':'black',\n",
    "            'markerfacecolor':'firebrick'}\n",
    "\n",
    "plt.figure(figsize=(8,4))\n",
    "plt.style.use('seaborn')\n",
    "plt.boxplot(groupes, labels=modalites, showfliers=False, medianprops=medianprops, \n",
    "            vert=False, patch_artist=True, showmeans=True, meanprops=meanprops)\n",
    "plt.xlabel(Y)\n",
    "plt.show()"
   ]
  },
  {
   "cell_type": "code",
   "execution_count": 151,
   "metadata": {},
   "outputs": [
    {
     "data": {
      "image/png": "[encoded data removed]",
      "text/plain": [
       "<Figure size 576x288 with 1 Axes>"
      ]
     },
     "metadata": {},
     "output_type": "display_data"
    }
   ],
   "source": [
    "modalites = [True, False]\n",
    "groupes = []\n",
    "for m in modalites:\n",
    "    groupes.append(echantillon_2[echantillon_2[X]==m][Y])\n",
    "\n",
    "# Propriétés graphiques (pas très importantes)    \n",
    "medianprops = {'color':\"black\"}\n",
    "meanprops = {'marker':'o', 'markeredgecolor':'black',\n",
    "            'markerfacecolor':'firebrick'}\n",
    "\n",
    "plt.figure(figsize=(8,4))\n",
    "plt.style.use('seaborn')\n",
    "plt.violinplot(groupes, vert=False, showmeans=True, showextrema=False)\n",
    "plt.xlabel(Y)\n",
    "plt.yticks([1,2], ['Avec plastique', 'Sans plastique'])\n",
    "plt.show()"
   ]
  },
  {
   "cell_type": "code",
   "execution_count": null,
   "metadata": {},
   "outputs": [],
   "source": []
  },
  {
   "cell_type": "markdown",
   "metadata": {},
   "source": [
    "## 2: Analyse bivariée entre le type d'emaballage et le nutriscore_grade"
   ]
  },
  {
   "cell_type": "markdown",
   "metadata": {},
   "source": [
    "## Simplification de la données \"packaging_tags\""
   ]
  },
  {
   "cell_type": "markdown",
   "metadata": {},
   "source": [
    "packaging_tags a une trop forte cardinalité"
   ]
  },
  {
   "cell_type": "code",
   "execution_count": 81,
   "metadata": {},
   "outputs": [],
   "source": [
    "modalities_raw = data_filtre[\"packaging_tags\"].unique()"
   ]
  },
  {
   "cell_type": "code",
   "execution_count": 82,
   "metadata": {},
   "outputs": [
    {
     "data": {
      "text/plain": [
       "18442"
      ]
     },
     "execution_count": 82,
     "metadata": {},
     "output_type": "execute_result"
    }
   ],
   "source": [
    "len(modalities_raw)"
   ]
  },
  {
   "cell_type": "markdown",
   "metadata": {},
   "source": [
    "J'aimerais le limiter à moins de modalités"
   ]
  },
  {
   "cell_type": "code",
   "execution_count": 89,
   "metadata": {},
   "outputs": [
    {
     "data": {
      "text/plain": [
       "array(['carton,plastique', 'sachet', 'pot-en-verre,verre',\n",
       "       'canette,metal', 'sachet,plastique', 'carton', '21-pap', 'papier',\n",
       "       'squeezer,plastique', 'glas'], dtype=object)"
      ]
     },
     "execution_count": 89,
     "metadata": {},
     "output_type": "execute_result"
    }
   ],
   "source": [
    "modalities_raw[:10]"
   ]
  },
  {
   "cell_type": "markdown",
   "metadata": {},
   "source": [
    "Par exemple à terme il serait interessant d'avoir ce genre de modalités"
   ]
  },
  {
   "cell_type": "code",
   "execution_count": 84,
   "metadata": {},
   "outputs": [],
   "source": [
    "modalities_simple = [\"plastic\", \"glass\", 'cardboard', 'metal', 'paper', ]"
   ]
  },
  {
   "cell_type": "markdown",
   "metadata": {},
   "source": [
    "## 3: Analyse bivariée entre le type d'emaballage et le nutriscore_grade\n",
    "### Avec seulement deux catégories plastique/pas de plastique"
   ]
  },
  {
   "cell_type": "code",
   "execution_count": 154,
   "metadata": {},
   "outputs": [],
   "source": [
    "plastic_test = lambda x : bool(re.search(r'plast', x)) or bool(re.search(r'kunstoff', x))"
   ]
  },
  {
   "cell_type": "code",
   "execution_count": 155,
   "metadata": {},
   "outputs": [],
   "source": [
    "data_filtre[\"has_plastic\"] = data_filtre['packaging_tags'].map(plastic_test)"
   ]
  },
  {
   "cell_type": "code",
   "execution_count": 156,
   "metadata": {},
   "outputs": [
    {
     "data": {
      "text/plain": [
       "True     47079\n",
       "False    45248\n",
       "Name: has_plastic, dtype: int64"
      ]
     },
     "execution_count": 156,
     "metadata": {},
     "output_type": "execute_result"
    }
   ],
   "source": [
    "data_filtre.has_plastic.value_counts()"
   ]
  },
  {
   "cell_type": "code",
   "execution_count": 157,
   "metadata": {},
   "outputs": [],
   "source": [
    "X = \"nutriscore_grade\"\n",
    "Y = \"has_plastic\"\n",
    "\n",
    "echantillon_3 = data_filtre[['nutriscore_grade', 'has_plastic']]\n",
    "cont = echantillon_3[[X,Y]].pivot_table(index=X,columns=Y,aggfunc=len ,margins=True,margins_name=\"Total\")"
   ]
  },
  {
   "cell_type": "code",
   "execution_count": 158,
   "metadata": {},
   "outputs": [],
   "source": [
    "cont['Freq_False'] = cont.loc[:,0] / cont.Total * 100"
   ]
  },
  {
   "cell_type": "code",
   "execution_count": 159,
   "metadata": {},
   "outputs": [
    {
     "data": {
      "text/html": [
       "<div>\n",
       "<style scoped>\n",
       "    .dataframe tbody tr th:only-of-type {\n",
       "        vertical-align: middle;\n",
       "    }\n",
       "\n",
       "    .dataframe tbody tr th {\n",
       "        vertical-align: top;\n",
       "    }\n",
       "\n",
       "    .dataframe thead th {\n",
       "        text-align: right;\n",
       "    }\n",
       "</style>\n",
       "<table border=\"1\" class=\"dataframe\">\n",
       "  <thead>\n",
       "    <tr style=\"text-align: right;\">\n",
       "      <th>has_plastic</th>\n",
       "      <th>False</th>\n",
       "      <th>True</th>\n",
       "      <th>Total</th>\n",
       "      <th>Freq_False</th>\n",
       "    </tr>\n",
       "    <tr>\n",
       "      <th>nutriscore_grade</th>\n",
       "      <th></th>\n",
       "      <th></th>\n",
       "      <th></th>\n",
       "      <th></th>\n",
       "    </tr>\n",
       "  </thead>\n",
       "  <tbody>\n",
       "    <tr>\n",
       "      <th>a</th>\n",
       "      <td>8861</td>\n",
       "      <td>8540</td>\n",
       "      <td>17401</td>\n",
       "      <td>50.922361</td>\n",
       "    </tr>\n",
       "    <tr>\n",
       "      <th>b</th>\n",
       "      <td>7577</td>\n",
       "      <td>6536</td>\n",
       "      <td>14113</td>\n",
       "      <td>53.688089</td>\n",
       "    </tr>\n",
       "    <tr>\n",
       "      <th>c</th>\n",
       "      <td>10104</td>\n",
       "      <td>10045</td>\n",
       "      <td>20149</td>\n",
       "      <td>50.146409</td>\n",
       "    </tr>\n",
       "    <tr>\n",
       "      <th>d</th>\n",
       "      <td>11080</td>\n",
       "      <td>13642</td>\n",
       "      <td>24722</td>\n",
       "      <td>44.818380</td>\n",
       "    </tr>\n",
       "    <tr>\n",
       "      <th>e</th>\n",
       "      <td>7626</td>\n",
       "      <td>8316</td>\n",
       "      <td>15942</td>\n",
       "      <td>47.835905</td>\n",
       "    </tr>\n",
       "    <tr>\n",
       "      <th>Total</th>\n",
       "      <td>45248</td>\n",
       "      <td>47079</td>\n",
       "      <td>92327</td>\n",
       "      <td>49.008416</td>\n",
       "    </tr>\n",
       "  </tbody>\n",
       "</table>\n",
       "</div>"
      ],
      "text/plain": [
       "has_plastic       False   True  Total  Freq_False\n",
       "nutriscore_grade                                 \n",
       "a                  8861   8540  17401   50.922361\n",
       "b                  7577   6536  14113   53.688089\n",
       "c                 10104  10045  20149   50.146409\n",
       "d                 11080  13642  24722   44.818380\n",
       "e                  7626   8316  15942   47.835905\n",
       "Total             45248  47079  92327   49.008416"
      ]
     },
     "execution_count": 159,
     "metadata": {},
     "output_type": "execute_result"
    }
   ],
   "source": [
    "cont"
   ]
  },
  {
   "cell_type": "code",
   "execution_count": null,
   "metadata": {},
   "outputs": [],
   "source": [
    "# allemand_count = 0\n",
    "# for mod in modalities_raw:\n",
    "#     pattern = r'plast'\n",
    "#     match = re.search(pattern, mod)\n",
    "#     if match:\n",
    "# #         print(mod)\n",
    "#         pass\n",
    "#     else:\n",
    "#         pattern = r'kunststoff'\n",
    "#         match = re.search(pattern, mod)\n",
    "#         if match:\n",
    "#             print(mod)\n",
    "#             allemand_count += 1\n",
    "# print(allemand_count)"
   ]
  },
  {
   "cell_type": "code",
   "execution_count": null,
   "metadata": {},
   "outputs": [],
   "source": []
  }
 ],
 "metadata": {
  "kernelspec": {
   "display_name": "Python 3",
   "language": "python",
   "name": "python3"
  },
  "language_info": {
   "codemirror_mode": {
    "name": "ipython",
    "version": 3
   },
   "file_extension": ".py",
   "mimetype": "text/x-python",
   "name": "python",
   "nbconvert_exporter": "python",
   "pygments_lexer": "ipython3",
   "version": "3.8.3"
  }
 },
 "nbformat": 4,
 "nbformat_minor": 4
}
