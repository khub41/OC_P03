{
 "cells": [
  {
   "cell_type": "code",
   "execution_count": 46,
   "metadata": {},
   "outputs": [],
   "source": [
    "import pandas as pd\n",
    "from pandas_profiling import ProfileReport\n",
    "\n",
    "import os\n",
    "import re\n",
    "\n",
    "from math import log2\n",
    "import numpy as np\n",
    "import scipy.stats as stats\n",
    "from scipy.stats import gaussian_kde\n",
    "\n",
    "import matplotlib.pyplot as plt\n",
    "import seaborn"
   ]
  },
  {
   "cell_type": "markdown",
   "metadata": {},
   "source": [
    "# Fonctions "
   ]
  },
  {
   "cell_type": "code",
   "execution_count": 73,
   "metadata": {},
   "outputs": [],
   "source": [
    "def plot_histo(data, title=None, xlabel=None, drop_outliers=False, bins='sturges', plot_density=True):\n",
    "    if drop_outliers:\n",
    "        data = data[data.between(data.quantile(drop_outliers), data.quantile(1 - drop_outliers))]\n",
    "    if bins == 'sturges':\n",
    "        bins = int(1+log2(len(data)))\n",
    "#     mu = data.mean()\n",
    "#     sigma = data.std()\n",
    "#     x_norm = np.linspace(mu - 3*sigma, mu + 3*sigma, 100)\n",
    "#     plt.plot(x_norm, stats.norm.pdf(x_norm, mu, sigma), label=\"Gaussienne de l'échantillon\")\n",
    "    plt.style.use(\"seaborn\")\n",
    "    if plot_density:\n",
    "        density = gaussian_kde(data)\n",
    "        xs = np.linspace(data.min(),data.max(),200)\n",
    "        density.covariance_factor = lambda : .25\n",
    "        density._compute_covariance()\n",
    "        plt.plot(xs,density(xs), label=\"Courbe de densité\")\n",
    "    plt.ylabel(\"frequency\")\n",
    "    plt.xlabel(xlabel)\n",
    "    plt.title(title)\n",
    "    plt.hist(data, bins=bins, density=True)\n",
    "    plt.legend()\n",
    "    plt.show()"
   ]
  },
  {
   "cell_type": "code",
   "execution_count": 101,
   "metadata": {},
   "outputs": [],
   "source": [
    "def split_custom(label_string, delimiter=','):\n",
    "    \"\"\"Cette fonction prend en argument une chaine de caractères et retourne une liste\"\"\"\n",
    "    return label_string.split(delimiter)"
   ]
  },
  {
   "cell_type": "code",
   "execution_count": 116,
   "metadata": {},
   "outputs": [],
   "source": [
    "def get_unique_elements(panda_serie):\n",
    "    \"\"\"This functions returns the list of unique elements \n",
    "    out of a panda serie of strings with comma separated elements\"\"\"\n",
    "    all_labels = set()\n",
    "    for labels in panda_serie.map(split_custom):\n",
    "        for label in labels:\n",
    "            all_labels.add(label)\n",
    "    return list(all_labels)"
   ]
  },
  {
   "cell_type": "markdown",
   "metadata": {},
   "source": [
    "<a id='fonctionbio'></a>"
   ]
  },
  {
   "cell_type": "code",
   "execution_count": 192,
   "metadata": {},
   "outputs": [],
   "source": [
    "def test_bio(labels):\n",
    "    \"\"\"From a list of labels this function returns a booleean if 'organic' or 'bio' is in one of the labels\"\"\"\n",
    "    exit = False\n",
    "    for label in labels:\n",
    "        label = label.lower()\n",
    "        if 'organic' in label or 'bio' in label:\n",
    "            exit = True\n",
    "            break\n",
    "    return exit"
   ]
  },
  {
   "cell_type": "markdown",
   "metadata": {},
   "source": [
    "Retour au [script](#backbio)"
   ]
  },
  {
   "cell_type": "markdown",
   "metadata": {},
   "source": [
    "<a id='fonctionvege'></a>"
   ]
  },
  {
   "cell_type": "code",
   "execution_count": 186,
   "metadata": {},
   "outputs": [],
   "source": [
    "def test_vege(labels):\n",
    "    \"\"\"From a list of labels this function returns a booleean if 'organic' or 'bio' is in one of the labels\"\"\"\n",
    "    exit = False\n",
    "    for label in labels:\n",
    "        label = label.lower()\n",
    "        if 'vegetarian' in label or 'vegan' in label:\n",
    "            exit = True\n",
    "            break\n",
    "    return exit"
   ]
  },
  {
   "cell_type": "markdown",
   "metadata": {},
   "source": [
    "Retour au [script](#backvege)"
   ]
  },
  {
   "cell_type": "code",
   "execution_count": null,
   "metadata": {},
   "outputs": [],
   "source": []
  },
  {
   "cell_type": "markdown",
   "metadata": {},
   "source": [
    "# Données"
   ]
  },
  {
   "cell_type": "code",
   "execution_count": 2,
   "metadata": {},
   "outputs": [
    {
     "name": "stderr",
     "output_type": "stream",
     "text": [
      "C:\\Users\\S053567\\AppData\\Roaming\\Python\\Python38\\site-packages\\IPython\\core\\interactiveshell.py:3145: DtypeWarning: Columns (0,12,26,27,28,30,51,63) have mixed types.Specify dtype option on import or set low_memory=False.\n",
      "  has_raised = await self.run_ast_nodes(code_ast.body, cell_name,\n"
     ]
    }
   ],
   "source": [
    "data = pd.read_csv('data/en.openfoodfacts.org.products.csv', sep='\\t')"
   ]
  },
  {
   "cell_type": "code",
   "execution_count": 3,
   "metadata": {},
   "outputs": [
    {
     "data": {
      "text/plain": [
       "(1524579, 183)"
      ]
     },
     "execution_count": 3,
     "metadata": {},
     "output_type": "execute_result"
    }
   ],
   "source": [
    "data.shape"
   ]
  },
  {
   "cell_type": "code",
   "execution_count": 4,
   "metadata": {},
   "outputs": [
    {
     "data": {
      "text/plain": [
       "Index(['code', 'url', 'creator', 'created_t', 'created_datetime',\n",
       "       'last_modified_t', 'last_modified_datetime', 'product_name',\n",
       "       'generic_name', 'quantity',\n",
       "       ...\n",
       "       'carbon-footprint-from-meat-or-fish_100g', 'nutrition-score-fr_100g',\n",
       "       'nutrition-score-uk_100g', 'glycemic-index_100g', 'water-hardness_100g',\n",
       "       'choline_100g', 'phylloquinone_100g', 'beta-glucan_100g',\n",
       "       'inositol_100g', 'carnitine_100g'],\n",
       "      dtype='object', length=183)"
      ]
     },
     "execution_count": 4,
     "metadata": {},
     "output_type": "execute_result"
    }
   ],
   "source": [
    "data.columns"
   ]
  },
  {
   "cell_type": "markdown",
   "metadata": {},
   "source": [
    "# Profiling"
   ]
  },
  {
   "cell_type": "markdown",
   "metadata": {},
   "source": [
    "Etant données les dimensions de ce dataset, je vais réaliser l'analyse préliminaire avec Pandas Profiling. L'analyse est exportée en HTML pour une meilleure lisibilité du NB"
   ]
  },
  {
   "cell_type": "code",
   "execution_count": 6,
   "metadata": {},
   "outputs": [],
   "source": [
    "# profile = ProfileReport(data, title=\"Report on OpenFoodFacts\", minimal=True)"
   ]
  },
  {
   "cell_type": "code",
   "execution_count": 5,
   "metadata": {},
   "outputs": [],
   "source": [
    "# profile.to_file('profile_report.html')"
   ]
  },
  {
   "cell_type": "markdown",
   "metadata": {},
   "source": [
    "# Idee : \n",
    "### A partir d'un produit, proposer des produits similaires ayant un emballage meilleur. Appuyer l'analyse par des etudes sur le lien entre l'emballage plastique et les mauvaises caractéristiques nutritionnelles.\n",
    "## Mieux manger serait-il lié à l'emballage?"
   ]
  },
  {
   "cell_type": "markdown",
   "metadata": {},
   "source": [
    "Afin de vérifier la faisibilité de cette étude, nous allons déterminer les features necessaires, filtrer les NAN et regarder la taille du dataset filtré"
   ]
  },
  {
   "cell_type": "code",
   "execution_count": 7,
   "metadata": {},
   "outputs": [],
   "source": [
    "col_necessaires = ['labels_en', 'saturated-fat_100g', 'categories_en', \n",
    "                   'packaging_tags', 'additives_n', 'ingredients_from_palm_oil_n', \n",
    "                   'nutriscore_score', 'nutriscore_grade']"
   ]
  },
  {
   "cell_type": "code",
   "execution_count": 8,
   "metadata": {},
   "outputs": [],
   "source": [
    "data_filtre = data.dropna(subset=col_necessaires)"
   ]
  },
  {
   "cell_type": "code",
   "execution_count": 9,
   "metadata": {},
   "outputs": [
    {
     "data": {
      "text/plain": [
       "(92328, 183)"
      ]
     },
     "execution_count": 9,
     "metadata": {},
     "output_type": "execute_result"
    }
   ],
   "source": [
    "data_filtre.shape"
   ]
  },
  {
   "cell_type": "markdown",
   "metadata": {},
   "source": [
    "Cette quantité a l'air suffisante à première vue"
   ]
  },
  {
   "cell_type": "markdown",
   "metadata": {},
   "source": [
    "# Nettoyage"
   ]
  },
  {
   "cell_type": "markdown",
   "metadata": {},
   "source": [
    "Les colonnes suivantes necessitent une attention particulière du fait de leur forte cardinalité:\n",
    "- [Labels](#nett_1)\n",
    "- [Categories](#nett_2)\n",
    "- [Packaging](#nett_3)"
   ]
  },
  {
   "cell_type": "markdown",
   "metadata": {},
   "source": [
    "<a id='nett_1'></a>\n",
    "### Labels"
   ]
  },
  {
   "cell_type": "code",
   "execution_count": 16,
   "metadata": {},
   "outputs": [
    {
     "data": {
      "text/plain": [
       "count         92328\n",
       "unique        31719\n",
       "top       Green Dot\n",
       "freq           5153\n",
       "Name: labels_en, dtype: object"
      ]
     },
     "execution_count": 16,
     "metadata": {},
     "output_type": "execute_result"
    }
   ],
   "source": [
    "data_filtre.labels_en.describe()"
   ]
  },
  {
   "cell_type": "markdown",
   "metadata": {},
   "source": [
    "Cette variable a une forte cardinalité et est qualitative. Regardons les instances les plus fréquentes"
   ]
  },
  {
   "cell_type": "code",
   "execution_count": 210,
   "metadata": {},
   "outputs": [
    {
     "data": {
      "text/plain": [
       "Green Dot                                       5153\n",
       "Made in France                                  2218\n",
       "Gluten-free                                     1605\n",
       "Vegetarian,Vegan                                1513\n",
       "Organic,EU Organic,AB Agriculture Biologique    1277\n",
       "Organic                                         1189\n",
       "No preservatives                                1171\n",
       "Green Dot,Made in France                         782\n",
       "Made in Germany                                  702\n",
       "Vegetarian                                       697\n",
       "Name: labels_en, dtype: int64"
      ]
     },
     "execution_count": 210,
     "metadata": {},
     "output_type": "execute_result"
    }
   ],
   "source": [
    "data_filtre.labels_en.value_counts().head(10)"
   ]
  },
  {
   "cell_type": "markdown",
   "metadata": {},
   "source": [
    "On voit que les données sont souvent séparées par des virgules et que beaucoup de labels se répétent"
   ]
  },
  {
   "cell_type": "code",
   "execution_count": 118,
   "metadata": {},
   "outputs": [
    {
     "data": {
      "text/plain": [
       "9611"
      ]
     },
     "execution_count": 118,
     "metadata": {},
     "output_type": "execute_result"
    }
   ],
   "source": [
    "labels_unique = get_unique_elements(data_filtre.labels_en)\n",
    "len(labels_unique)"
   ]
  },
  {
   "cell_type": "markdown",
   "metadata": {},
   "source": [
    "Grâce à ce traitement, on obtient la cardinalité réelle mais c'est toujours trop"
   ]
  },
  {
   "cell_type": "markdown",
   "metadata": {},
   "source": [
    "Dans l'idéal, pour cette étude, j'aimerais pouvoir séparer les labels avec ces grandes catégories suivantes:"
   ]
  },
  {
   "cell_type": "code",
   "execution_count": 119,
   "metadata": {},
   "outputs": [],
   "source": [
    "labels_simple = ['organic', 'vegetarian_or_vegan', 'no_preservatives', 'no_colorings', 'sustainable', 'no_gmos', 'no_artificial_flavors']"
   ]
  },
  {
   "cell_type": "markdown",
   "metadata": {},
   "source": [
    "Je vais partir sur une approche \"Dummy\" pour faciliter les filtrages. En effet je ne peux résumer un produit à un seul label."
   ]
  },
  {
   "cell_type": "markdown",
   "metadata": {},
   "source": [
    "<a id='backbio'></a>"
   ]
  },
  {
   "cell_type": "markdown",
   "metadata": {},
   "source": [
    "Gestion du Bio (accès à la fonction [ici](#fonctionbio))"
   ]
  },
  {
   "cell_type": "code",
   "execution_count": 203,
   "metadata": {},
   "outputs": [],
   "source": [
    "data_filtre['is_organic'] = data_filtre.labels_en.map(split_custom).map(test_bio)"
   ]
  },
  {
   "cell_type": "markdown",
   "metadata": {},
   "source": [
    "<a id='backvege'></a>"
   ]
  },
  {
   "cell_type": "markdown",
   "metadata": {},
   "source": [
    "Gestion du Végétarien (accès à la fonction [ici](#fonctionvege))"
   ]
  },
  {
   "cell_type": "code",
   "execution_count": 199,
   "metadata": {},
   "outputs": [],
   "source": [
    "data_filtre['is_vege_or_vegan'] = data_filtre.labels_en.map(split_custom).map(test_vege)"
   ]
  },
  {
   "cell_type": "markdown",
   "metadata": {},
   "source": [
    "<a id='backconserv'></a>"
   ]
  },
  {
   "cell_type": "markdown",
   "metadata": {},
   "source": [
    "Gestion des conservateurs"
   ]
  },
  {
   "cell_type": "code",
   "execution_count": 231,
   "metadata": {},
   "outputs": [],
   "source": [
    "preserv = []\n",
    "for label in labels_unique:\n",
    "    label = label.lower()\n",
    "    if 'conservateur' in label:\n",
    "        preserv.append(label)"
   ]
  },
  {
   "cell_type": "code",
   "execution_count": 232,
   "metadata": {},
   "outputs": [
    {
     "data": {
      "text/plain": [
       "['fr:naturellement-sans-colorant-ni-conservateur',\n",
       " 'fr:conservateurs-d-origine-naturelle',\n",
       " 'fr:sans-colorant-ni-conservateur-ajoute',\n",
       " 'fr:sans-arome-ajoute-ni-conservateurs',\n",
       " 'fr:sans-conservateur-ni-arome-artificiel',\n",
       " 'fr:sans-colorant-ni-conservateur',\n",
       " 'fr:0-conservateur-colorant',\n",
       " 'fr:sans-conservateura',\n",
       " 'fr:sans-additifs-conservateurs',\n",
       " 'fr:sans-agents-conservateurs',\n",
       " 'fr:sans-conservateur-ni-colorant-artificiel',\n",
       " 'fr:pain-garanti-sans-conservateur',\n",
       " 'fr:sansconservateur',\n",
       " 'sans-conservateurs',\n",
       " 'fr:sans-agent-conservateur',\n",
       " 'fr:pas-de-conservateurs',\n",
       " 'halalsans-colorants-artificielssans-conservateurstriman',\n",
       " 'fr:fabrique-en-france-sans-conservateurs-sans-colorants',\n",
       " 'fr:pain-sans-conservateur']"
      ]
     },
     "execution_count": 232,
     "metadata": {},
     "output_type": "execute_result"
    }
   ],
   "source": [
    "preserv"
   ]
  },
  {
   "cell_type": "markdown",
   "metadata": {},
   "source": [
    "On voit que pour tous les labels, si le label contient \"preservative\""
   ]
  },
  {
   "cell_type": "code",
   "execution_count": 225,
   "metadata": {},
   "outputs": [],
   "source": [
    "negations_english = [\"no\", \"free\", \"without\", '0']\n",
    "negations_french = [\"pas\", \"sans\", \"0\", \"aucun\"]\n",
    "dict_conservateur = {\"conservateur\": negations_french, \"preservative\": negation_english}\n",
    "def test_no_preserv(labels):\n",
    "    \"\"\"From a list of labels this function returns a booleean if 'preserative' and a negation is in one of the labels\"\"\"\n",
    "    exit = False\n",
    "    for label in labels:\n",
    "        label = label.lower()\n",
    "        bool_list = []\n",
    "        #looking for word preservative\n",
    "        preservative_in_label = \"preservative\" in label\n",
    "        if preservative_in_label:\n",
    "            \n",
    "            #looking for english negation\n",
    "            negation_english_bool = False\n",
    "            for negation_en in negations_english:\n",
    "                if negation_en in label:\n",
    "                    negation_english_bool = True\n",
    "                    break\n",
    "\n",
    "            if negation_english_bool:\n",
    "                exit=True\n",
    "                break\n",
    "\n",
    "        #looking for word 'conservateur'\n",
    "        conservateur_in_label = \"conservateur\" in label\n",
    "        if conservateur_in_label:\n",
    "            #looking for french negation\n",
    "            negation_french= False\n",
    "            for negation_fr in negations_french:\n",
    "                if negation_en in label:\n",
    "                    negation_english_bool = True\n",
    "                    break\n",
    "    return exit"
   ]
  },
  {
   "cell_type": "code",
   "execution_count": 236,
   "metadata": {},
   "outputs": [
    {
     "data": {
      "text/plain": [
       "False"
      ]
     },
     "execution_count": 236,
     "metadata": {},
     "output_type": "execute_result"
    }
   ],
   "source": [
    "test_no_preserv(['merde', 'shit'])"
   ]
  },
  {
   "cell_type": "code",
   "execution_count": 222,
   "metadata": {},
   "outputs": [
    {
     "data": {
      "text/plain": [
       "True"
      ]
     },
     "execution_count": 222,
     "metadata": {},
     "output_type": "execute_result"
    }
   ],
   "source": [
    "any([False, False, 1])"
   ]
  },
  {
   "cell_type": "markdown",
   "metadata": {},
   "source": [
    "# Analyses Univariées\n",
    "##### - [Labels](#univ_1)\n",
    "##### - [Categories](#univ_2)\n",
    "##### - [Packaging](#univ_3)\n",
    "##### - [Additifs](#univ_4)\n",
    "##### - [Huile de palme](#univ_5)\n",
    "##### - [Graisse saturée](#univ_6)\n",
    "##### - [Nutriscore numérique](#univ_7)\n",
    "##### - [Nutriscore catégorique](#univ_8)"
   ]
  },
  {
   "cell_type": "markdown",
   "metadata": {},
   "source": [
    "<a id='univ_1'></a>\n",
    "### Labels 🚧🚧🚧"
   ]
  },
  {
   "cell_type": "markdown",
   "metadata": {},
   "source": [
    "WORK IN PROGRESS\n",
    " -> Il serait difficle de faire une analyse en histogramme. Nous pourrions selectionner un label par exemple le label 'biologique', le rassembler avec les labels similaires et mener une analyse univariée d'une autre variable "
   ]
  },
  {
   "cell_type": "markdown",
   "metadata": {},
   "source": [
    "<a id='univ_2'></a>\n",
    "### Categories"
   ]
  },
  {
   "cell_type": "code",
   "execution_count": 56,
   "metadata": {},
   "outputs": [
    {
     "data": {
      "text/plain": [
       "count                                               92327\n",
       "unique                                              24127\n",
       "top       Snacks,Sweet snacks,Biscuits and cakes,Biscuits\n",
       "freq                                                  809\n",
       "Name: categories_en, dtype: object"
      ]
     },
     "execution_count": 56,
     "metadata": {},
     "output_type": "execute_result"
    }
   ],
   "source": [
    "data_filtre.categories_en.describe()"
   ]
  },
  {
   "cell_type": "markdown",
   "metadata": {},
   "source": [
    "Même configuration : forte cardinalité d'une variable qualitative"
   ]
  },
  {
   "cell_type": "code",
   "execution_count": 58,
   "metadata": {},
   "outputs": [
    {
     "data": {
      "text/plain": [
       "Snacks,Sweet snacks,Biscuits and cakes,Biscuits                                                                        809\n",
       "Meats,Prepared meats,Hams,White hams                                                                                   697\n",
       "Snacks,Sweet snacks,Chocolates,Dark chocolates                                                                         623\n",
       "Snacks,Sweet snacks,Confectioneries,Candies                                                                            375\n",
       "Dairies,Fermented foods,Fermented milk products,Yogurts                                                                372\n",
       "Snacks,Sweet snacks,Biscuits and cakes,Biscuits,Chocolate biscuits                                                     358\n",
       "Snacks,Salty snacks,Appetizers,Crackers                                                                                346\n",
       "Snacks,Sweet snacks,Chocolates,Milk chocolates                                                                         344\n",
       "Dairies,Fermented foods,Fermented milk products,Cheeses                                                                338\n",
       "Spreads,Breakfasts,Sweet spreads,fr:Pâtes à tartiner,Hazelnut spreads,Chocolate spreads,Cocoa and hazelnuts spreads    333\n",
       "Name: categories_en, dtype: int64"
      ]
     },
     "execution_count": 58,
     "metadata": {},
     "output_type": "execute_result"
    }
   ],
   "source": [
    "data_filtre.categories_en.value_counts().head(10)"
   ]
  },
  {
   "cell_type": "markdown",
   "metadata": {},
   "source": [
    "Dans le cadre du projet d'application, cette colonne nous servira a proposer un produit de la même catégorie. Il faudra également la rassembler en moins de cardinalités"
   ]
  },
  {
   "cell_type": "markdown",
   "metadata": {},
   "source": [
    "On peut aussi se servir de cette colonne pour un analyse spécifique d'une catégorie d'aliments. par exemple pour voir si le nutriscore est meilleur sans plastique pour certaines catégories."
   ]
  },
  {
   "cell_type": "markdown",
   "metadata": {},
   "source": [
    "<a id='univ_3'></a>\n",
    "### Packaging"
   ]
  },
  {
   "cell_type": "code",
   "execution_count": 59,
   "metadata": {},
   "outputs": [
    {
     "data": {
      "text/plain": [
       "count                92327\n",
       "unique               18442\n",
       "top       sachet,plastique\n",
       "freq                  4878\n",
       "Name: packaging_tags, dtype: object"
      ]
     },
     "execution_count": 59,
     "metadata": {},
     "output_type": "execute_result"
    }
   ],
   "source": [
    "data_filtre.packaging_tags.describe()"
   ]
  },
  {
   "cell_type": "markdown",
   "metadata": {},
   "source": [
    "Même configuration : forte cardinalité d'une variable qualitative"
   ]
  },
  {
   "cell_type": "code",
   "execution_count": 60,
   "metadata": {},
   "outputs": [
    {
     "data": {
      "text/plain": [
       "sachet,plastique       4878\n",
       "plastique              2626\n",
       "kunststoff             2017\n",
       "carton                 1963\n",
       "frais,plastique        1611\n",
       "barquette,plastique    1460\n",
       "frais                  1454\n",
       "carton,plastique       1224\n",
       "plastic                1189\n",
       "sachet                 1155\n",
       "Name: packaging_tags, dtype: int64"
      ]
     },
     "execution_count": 60,
     "metadata": {},
     "output_type": "execute_result"
    }
   ],
   "source": [
    "data_filtre.packaging_tags.value_counts().head(10)"
   ]
  },
  {
   "cell_type": "markdown",
   "metadata": {},
   "source": [
    "Pour notre étude il est essentiel de réduire la cardinalité de cette donnée."
   ]
  },
  {
   "cell_type": "markdown",
   "metadata": {},
   "source": [
    "<a id='univ_4'></a>\n",
    "### Additifs"
   ]
  },
  {
   "cell_type": "code",
   "execution_count": 61,
   "metadata": {},
   "outputs": [
    {
     "data": {
      "text/plain": [
       "count    92327.000000\n",
       "mean         1.575195\n",
       "std          2.239673\n",
       "min          0.000000\n",
       "25%          0.000000\n",
       "50%          1.000000\n",
       "75%          2.000000\n",
       "max         30.000000\n",
       "Name: additives_n, dtype: float64"
      ]
     },
     "execution_count": 61,
     "metadata": {},
     "output_type": "execute_result"
    }
   ],
   "source": [
    "data_filtre.additives_n.describe()"
   ]
  },
  {
   "cell_type": "code",
   "execution_count": 64,
   "metadata": {},
   "outputs": [
    {
     "data": {
      "text/plain": [
       "323    2.0\n",
       "346    4.0\n",
       "384    0.0\n",
       "385    1.0\n",
       "393    3.0\n",
       "Name: additives_n, dtype: float64"
      ]
     },
     "execution_count": 64,
     "metadata": {},
     "output_type": "execute_result"
    }
   ],
   "source": [
    "data_filtre.additives_n.head(5)"
   ]
  },
  {
   "cell_type": "markdown",
   "metadata": {},
   "source": [
    "Cette variable est une variable quantitative visiblement entière"
   ]
  },
  {
   "cell_type": "code",
   "execution_count": 66,
   "metadata": {},
   "outputs": [
    {
     "data": {
      "image/png": "[encoded data removed]",
      "text/plain": [
       "<Figure size 576x396 with 1 Axes>"
      ]
     },
     "metadata": {},
     "output_type": "display_data"
    }
   ],
   "source": [
    "plot_histo(data_filtre.additives_n, bins=30, xlabel=\"Nombre d'additifs\")"
   ]
  },
  {
   "cell_type": "markdown",
   "metadata": {},
   "source": [
    "J'aimerais utiliser cette variable pour tester la correlation entre le nombre d'additifs et la présence de plastique dans l'emballage"
   ]
  },
  {
   "cell_type": "code",
   "execution_count": null,
   "metadata": {},
   "outputs": [],
   "source": []
  },
  {
   "cell_type": "markdown",
   "metadata": {},
   "source": [
    "<a id='univ_5'></a>\n",
    "### Huile de palme"
   ]
  },
  {
   "cell_type": "code",
   "execution_count": 69,
   "metadata": {},
   "outputs": [
    {
     "data": {
      "text/plain": [
       "count    92327.000000\n",
       "mean         0.037985\n",
       "std          0.193749\n",
       "min          0.000000\n",
       "25%          0.000000\n",
       "50%          0.000000\n",
       "75%          0.000000\n",
       "max          2.000000\n",
       "Name: ingredients_from_palm_oil_n, dtype: float64"
      ]
     },
     "execution_count": 69,
     "metadata": {},
     "output_type": "execute_result"
    }
   ],
   "source": [
    "data_filtre.ingredients_from_palm_oil_n.describe()"
   ]
  },
  {
   "cell_type": "code",
   "execution_count": 70,
   "metadata": {},
   "outputs": [
    {
     "data": {
      "text/plain": [
       "0.0    88866\n",
       "1.0     3415\n",
       "2.0       46\n",
       "Name: ingredients_from_palm_oil_n, dtype: int64"
      ]
     },
     "execution_count": 70,
     "metadata": {},
     "output_type": "execute_result"
    }
   ],
   "source": [
    "data_filtre.ingredients_from_palm_oil_n.value_counts()"
   ]
  },
  {
   "cell_type": "markdown",
   "metadata": {},
   "source": [
    "<a id='univ_6'></a>\n",
    "### Graisse saturée"
   ]
  },
  {
   "cell_type": "code",
   "execution_count": 21,
   "metadata": {},
   "outputs": [
    {
     "data": {
      "text/plain": [
       "count    92328.000000\n",
       "mean         5.480784\n",
       "std          8.357085\n",
       "min          0.000000\n",
       "25%          0.350000\n",
       "50%          2.000000\n",
       "75%          7.700000\n",
       "max        140.000000\n",
       "Name: saturated-fat_100g, dtype: float64"
      ]
     },
     "execution_count": 21,
     "metadata": {},
     "output_type": "execute_result"
    }
   ],
   "source": [
    "data_filtre['saturated-fat_100g'].describe()"
   ]
  },
  {
   "cell_type": "markdown",
   "metadata": {},
   "source": [
    "Cette variable quantitative donne le nombre de grammes de graisse saturée pour 100g de produit. Il n'est donc pas logique que certains produits aient une valeur de plus de 100.\n",
    "Regardons ces valeurs"
   ]
  },
  {
   "cell_type": "code",
   "execution_count": 27,
   "metadata": {},
   "outputs": [
    {
     "data": {
      "text/html": [
       "<div>\n",
       "<style scoped>\n",
       "    .dataframe tbody tr th:only-of-type {\n",
       "        vertical-align: middle;\n",
       "    }\n",
       "\n",
       "    .dataframe tbody tr th {\n",
       "        vertical-align: top;\n",
       "    }\n",
       "\n",
       "    .dataframe thead th {\n",
       "        text-align: right;\n",
       "    }\n",
       "</style>\n",
       "<table border=\"1\" class=\"dataframe\">\n",
       "  <thead>\n",
       "    <tr style=\"text-align: right;\">\n",
       "      <th></th>\n",
       "      <th>product_name</th>\n",
       "      <th>nutriscore_grade</th>\n",
       "      <th>quantity</th>\n",
       "      <th>saturated-fat_100g</th>\n",
       "      <th>serving_size</th>\n",
       "      <th>ingredients_text</th>\n",
       "    </tr>\n",
       "  </thead>\n",
       "  <tbody>\n",
       "    <tr>\n",
       "      <th>652577</th>\n",
       "      <td>Palets dorés noix de coco</td>\n",
       "      <td>e</td>\n",
       "      <td>125 g</td>\n",
       "      <td>120.0</td>\n",
       "      <td>23 g</td>\n",
       "      <td>Farine de ble 50%, sucre, noix de coco 8,4%, h...</td>\n",
       "    </tr>\n",
       "    <tr>\n",
       "      <th>915679</th>\n",
       "      <td>Virgin coconuts oil</td>\n",
       "      <td>d</td>\n",
       "      <td>380 ml</td>\n",
       "      <td>100.0</td>\n",
       "      <td>NaN</td>\n",
       "      <td>Noix de coco bio.</td>\n",
       "    </tr>\n",
       "    <tr>\n",
       "      <th>1212389</th>\n",
       "      <td>Kokosöl BIO</td>\n",
       "      <td>e</td>\n",
       "      <td>182g</td>\n",
       "      <td>100.0</td>\n",
       "      <td>NaN</td>\n",
       "      <td>Bio Kokosfett (Sri Lanka). Kokosfett: Fairtrad...</td>\n",
       "    </tr>\n",
       "    <tr>\n",
       "      <th>1353590</th>\n",
       "      <td>Aceite de oliva virgen extra &amp;quot;Esencia And...</td>\n",
       "      <td>c</td>\n",
       "      <td>10 ml</td>\n",
       "      <td>140.0</td>\n",
       "      <td>10 ml</td>\n",
       "      <td>Aceite de oliva virgen extra.</td>\n",
       "    </tr>\n",
       "  </tbody>\n",
       "</table>\n",
       "</div>"
      ],
      "text/plain": [
       "                                              product_name nutriscore_grade  \\\n",
       "652577                           Palets dorés noix de coco                e   \n",
       "915679                                 Virgin coconuts oil                d   \n",
       "1212389                                        Kokosöl BIO                e   \n",
       "1353590  Aceite de oliva virgen extra &quot;Esencia And...                c   \n",
       "\n",
       "        quantity  saturated-fat_100g serving_size  \\\n",
       "652577     125 g               120.0         23 g   \n",
       "915679    380 ml               100.0          NaN   \n",
       "1212389     182g               100.0          NaN   \n",
       "1353590    10 ml               140.0        10 ml   \n",
       "\n",
       "                                          ingredients_text  \n",
       "652577   Farine de ble 50%, sucre, noix de coco 8,4%, h...  \n",
       "915679                                   Noix de coco bio.  \n",
       "1212389  Bio Kokosfett (Sri Lanka). Kokosfett: Fairtrad...  \n",
       "1353590                      Aceite de oliva virgen extra.  "
      ]
     },
     "execution_count": 27,
     "metadata": {},
     "output_type": "execute_result"
    }
   ],
   "source": [
    "data_filtre[data_filtre['saturated-fat_100g'] >= 100][['product_name', 'nutriscore_grade', 'quantity', 'saturated-fat_100g', 'serving_size', 'ingredients_text']]"
   ]
  },
  {
   "cell_type": "markdown",
   "metadata": {},
   "source": [
    "Bien que surprenant à première vue, ces outliers n'en sont peut etre pas étant donné que ce sont en fait des huiles liquides. Je suspecte que la données saturated fat soit ici une donnée en ml et que le taux de passage ml-g soit approximatif.\n",
    "Seul le premier semble suspect d'autent qu'il possède 50% de farine. Je vais donc le supprimer"
   ]
  },
  {
   "cell_type": "code",
   "execution_count": 28,
   "metadata": {},
   "outputs": [],
   "source": [
    "data_filtre = data_filtre.drop([652577])"
   ]
  },
  {
   "cell_type": "code",
   "execution_count": 55,
   "metadata": {},
   "outputs": [
    {
     "data": {
      "image/png": "[encoded data removed]",
      "text/plain": [
       "<Figure size 576x396 with 1 Axes>"
      ]
     },
     "metadata": {},
     "output_type": "display_data"
    }
   ],
   "source": [
    "plot_histo(data_filtre['saturated-fat_100g'], bins=24, xlabel=\"Graisse saturée pour 100g\")"
   ]
  },
  {
   "cell_type": "markdown",
   "metadata": {},
   "source": [
    "<a id='univ_7'></a>\n",
    "### Nutriscore (numérique)"
   ]
  },
  {
   "cell_type": "code",
   "execution_count": 75,
   "metadata": {},
   "outputs": [
    {
     "data": {
      "text/plain": [
       "count    92327.000000\n",
       "mean         8.115438\n",
       "std          9.061855\n",
       "min        -15.000000\n",
       "25%          1.000000\n",
       "50%          7.000000\n",
       "75%         15.000000\n",
       "max         36.000000\n",
       "Name: nutriscore_score, dtype: float64"
      ]
     },
     "execution_count": 75,
     "metadata": {},
     "output_type": "execute_result"
    }
   ],
   "source": [
    "data_filtre.nutriscore_score.describe()"
   ]
  },
  {
   "cell_type": "markdown",
   "metadata": {},
   "source": [
    "C'est une variable quantitative sur la qualité des aliments"
   ]
  },
  {
   "cell_type": "markdown",
   "metadata": {},
   "source": [
    "Voici la documentation:"
   ]
  },
  {
   "cell_type": "markdown",
   "metadata": {},
   "source": [
    "<img src=\"img/nutriscore.png\" style=\"height:250px\">"
   ]
  },
  {
   "cell_type": "code",
   "execution_count": 77,
   "metadata": {},
   "outputs": [
    {
     "data": {
      "image/png": "[encoded data removed]",
      "text/plain": [
       "<Figure size 576x396 with 1 Axes>"
      ]
     },
     "metadata": {},
     "output_type": "display_data"
    }
   ],
   "source": [
    "plot_histo(data_filtre['nutriscore_score'], xlabel=\"Nutriscore\")"
   ]
  },
  {
   "cell_type": "markdown",
   "metadata": {},
   "source": [
    "Mesure de la symetrie avec Skewness : "
   ]
  },
  {
   "cell_type": "code",
   "execution_count": 83,
   "metadata": {},
   "outputs": [
    {
     "data": {
      "text/plain": [
       "0.26514023697425426"
      ]
     },
     "execution_count": 83,
     "metadata": {},
     "output_type": "execute_result"
    }
   ],
   "source": [
    "data_filtre.nutriscore_score.skew()"
   ]
  },
  {
   "cell_type": "markdown",
   "metadata": {},
   "source": [
    "On voit que la distribution est quasi symétrique avec un léger décalage à gauche"
   ]
  },
  {
   "cell_type": "markdown",
   "metadata": {},
   "source": [
    "<a id='univ_8'></a>\n",
    "### Nutriscore (grade)"
   ]
  },
  {
   "cell_type": "code",
   "execution_count": 78,
   "metadata": {},
   "outputs": [
    {
     "data": {
      "text/plain": [
       "count     92327\n",
       "unique        5\n",
       "top           d\n",
       "freq      24722\n",
       "Name: nutriscore_grade, dtype: object"
      ]
     },
     "execution_count": 78,
     "metadata": {},
     "output_type": "execute_result"
    }
   ],
   "source": [
    "data_filtre.nutriscore_grade.describe()"
   ]
  },
  {
   "cell_type": "code",
   "execution_count": 79,
   "metadata": {},
   "outputs": [
    {
     "data": {
      "text/plain": [
       "array(['b', 'e', 'd', 'c', 'a'], dtype=object)"
      ]
     },
     "execution_count": 79,
     "metadata": {},
     "output_type": "execute_result"
    }
   ],
   "source": [
    "data_filtre.nutriscore_grade.unique()"
   ]
  },
  {
   "cell_type": "code",
   "execution_count": 207,
   "metadata": {},
   "outputs": [
    {
     "data": {
      "text/plain": [
       "d    24722\n",
       "c    20149\n",
       "a    17401\n",
       "e    15942\n",
       "b    14113\n",
       "Name: nutriscore_grade, dtype: int64"
      ]
     },
     "execution_count": 207,
     "metadata": {},
     "output_type": "execute_result"
    }
   ],
   "source": [
    "data_filtre.nutriscore_grade.value_counts()"
   ]
  },
  {
   "cell_type": "markdown",
   "metadata": {},
   "source": [
    "Cette note connue du grand public est une note de A à E (A étant la meilleure et E la moins bonne). C'est donc une variable qualitative ordonnée. On peut la traiter comme une variable quantitative"
   ]
  },
  {
   "cell_type": "code",
   "execution_count": 89,
   "metadata": {},
   "outputs": [
    {
     "name": "stderr",
     "output_type": "stream",
     "text": [
      "No handles with labels found to put in legend.\n"
     ]
    },
    {
     "data": {
      "image/png": "[encoded data removed]",
      "text/plain": [
       "<Figure size 576x396 with 1 Axes>"
      ]
     },
     "metadata": {},
     "output_type": "display_data"
    }
   ],
   "source": [
    "plot_histo(data_filtre.nutriscore_grade.replace({'a':4, 'b':3, 'c':2, 'd':1, 'e':0}), plot_density=False, xlabel='Nutriscore note de 0 à 4')"
   ]
  },
  {
   "cell_type": "code",
   "execution_count": 87,
   "metadata": {},
   "outputs": [
    {
     "data": {
      "text/plain": [
       "count    92327.000000\n",
       "mean         1.916698\n",
       "std          1.363183\n",
       "min          0.000000\n",
       "25%          1.000000\n",
       "50%          2.000000\n",
       "75%          3.000000\n",
       "max          4.000000\n",
       "Name: nutriscore_grade, dtype: float64"
      ]
     },
     "execution_count": 87,
     "metadata": {},
     "output_type": "execute_result"
    }
   ],
   "source": [
    "data_filtre.nutriscore_grade.replace({'a':4, 'b':3, 'c':2, 'd':1, 'e':0}).describe()"
   ]
  },
  {
   "cell_type": "code",
   "execution_count": 92,
   "metadata": {},
   "outputs": [
    {
     "data": {
      "text/plain": [
       "0.18810225317894622"
      ]
     },
     "execution_count": 92,
     "metadata": {},
     "output_type": "execute_result"
    }
   ],
   "source": [
    "data_filtre.nutriscore_grade.replace({'a':4, 'b':3, 'c':2, 'd':1, 'e':0}).skew()"
   ]
  },
  {
   "cell_type": "code",
   "execution_count": 93,
   "metadata": {},
   "outputs": [
    {
     "data": {
      "text/plain": [
       "-1.1812695990028848"
      ]
     },
     "execution_count": 93,
     "metadata": {},
     "output_type": "execute_result"
    }
   ],
   "source": [
    "data_filtre.nutriscore_grade.replace({'a':4, 'b':3, 'c':2, 'd':1, 'e':0}).kurtosis()"
   ]
  },
  {
   "cell_type": "markdown",
   "metadata": {},
   "source": [
    "La repartition n'est pas uniforme mais on peut quand même faire l'approximation qu'elle l'est au regard de l'écart interquartile, de kurtosis et de skewness"
   ]
  },
  {
   "cell_type": "markdown",
   "metadata": {},
   "source": [
    "## 1: Analyse bivariée entre le type d'emaballage et le nutriscore_score"
   ]
  },
  {
   "cell_type": "code",
   "execution_count": 85,
   "metadata": {},
   "outputs": [],
   "source": [
    "X = \"packaging_tags\" # qualitative\n",
    "Y = \"nutriscore_score\" # quantitative"
   ]
  },
  {
   "cell_type": "markdown",
   "metadata": {},
   "source": [
    "Reduction du nombre de labels"
   ]
  },
  {
   "cell_type": "code",
   "execution_count": 86,
   "metadata": {},
   "outputs": [],
   "source": [
    "common_packages = data_filtre[X].value_counts().iloc[:10].index\n",
    "echantillon_1 = data_filtre[data_filtre['packaging_tags'].isin(common_packages)]"
   ]
  },
  {
   "cell_type": "code",
   "execution_count": 87,
   "metadata": {},
   "outputs": [
    {
     "data": {
      "image/png": "[encoded data removed]",
      "text/plain": [
       "<Figure size 576x576 with 1 Axes>"
      ]
     },
     "metadata": {},
     "output_type": "display_data"
    }
   ],
   "source": [
    "modalites = common_packages\n",
    "groupes = []\n",
    "for m in modalites:\n",
    "    groupes.append(echantillon_1[echantillon_1[X]==m][Y])\n",
    "\n",
    "# Propriétés graphiques (pas très importantes)    \n",
    "medianprops = {'color':\"black\"}\n",
    "meanprops = {'marker':'o', 'markeredgecolor':'black',\n",
    "            'markerfacecolor':'firebrick'}\n",
    "\n",
    "plt.figure(figsize=(8,8))\n",
    "plt.style.use('seaborn')\n",
    "plt.boxplot(groupes, labels=modalites, showfliers=False, medianprops=medianprops, \n",
    "            vert=False, patch_artist=True, showmeans=True, meanprops=meanprops)\n",
    "plt.xlabel(Y)\n",
    "plt.show()"
   ]
  },
  {
   "cell_type": "markdown",
   "metadata": {},
   "source": [
    "## 2: Analyse bivariée entre le type d'emaballage et le nutriscore_grade"
   ]
  },
  {
   "cell_type": "code",
   "execution_count": 88,
   "metadata": {},
   "outputs": [
    {
     "data": {
      "text/html": [
       "<div>\n",
       "<style scoped>\n",
       "    .dataframe tbody tr th:only-of-type {\n",
       "        vertical-align: middle;\n",
       "    }\n",
       "\n",
       "    .dataframe tbody tr th {\n",
       "        vertical-align: top;\n",
       "    }\n",
       "\n",
       "    .dataframe thead th {\n",
       "        text-align: right;\n",
       "    }\n",
       "</style>\n",
       "<table border=\"1\" class=\"dataframe\">\n",
       "  <thead>\n",
       "    <tr style=\"text-align: right;\">\n",
       "      <th>packaging_tags</th>\n",
       "      <th>barquette,plastique</th>\n",
       "      <th>carton</th>\n",
       "      <th>carton,plastique</th>\n",
       "      <th>frais</th>\n",
       "      <th>frais,plastique</th>\n",
       "      <th>kunststoff</th>\n",
       "      <th>plastic</th>\n",
       "      <th>plastique</th>\n",
       "      <th>sachet</th>\n",
       "      <th>sachet,plastique</th>\n",
       "      <th>Total</th>\n",
       "    </tr>\n",
       "    <tr>\n",
       "      <th>nutriscore_grade</th>\n",
       "      <th></th>\n",
       "      <th></th>\n",
       "      <th></th>\n",
       "      <th></th>\n",
       "      <th></th>\n",
       "      <th></th>\n",
       "      <th></th>\n",
       "      <th></th>\n",
       "      <th></th>\n",
       "      <th></th>\n",
       "      <th></th>\n",
       "    </tr>\n",
       "  </thead>\n",
       "  <tbody>\n",
       "    <tr>\n",
       "      <th>a</th>\n",
       "      <td>98</td>\n",
       "      <td>394</td>\n",
       "      <td>178</td>\n",
       "      <td>193</td>\n",
       "      <td>142</td>\n",
       "      <td>306</td>\n",
       "      <td>274</td>\n",
       "      <td>499</td>\n",
       "      <td>344</td>\n",
       "      <td>1006</td>\n",
       "      <td>3434</td>\n",
       "    </tr>\n",
       "    <tr>\n",
       "      <th>b</th>\n",
       "      <td>156</td>\n",
       "      <td>273</td>\n",
       "      <td>138</td>\n",
       "      <td>259</td>\n",
       "      <td>168</td>\n",
       "      <td>183</td>\n",
       "      <td>148</td>\n",
       "      <td>277</td>\n",
       "      <td>161</td>\n",
       "      <td>421</td>\n",
       "      <td>2184</td>\n",
       "    </tr>\n",
       "    <tr>\n",
       "      <th>c</th>\n",
       "      <td>458</td>\n",
       "      <td>302</td>\n",
       "      <td>173</td>\n",
       "      <td>328</td>\n",
       "      <td>367</td>\n",
       "      <td>369</td>\n",
       "      <td>212</td>\n",
       "      <td>426</td>\n",
       "      <td>258</td>\n",
       "      <td>738</td>\n",
       "      <td>3631</td>\n",
       "    </tr>\n",
       "    <tr>\n",
       "      <th>d</th>\n",
       "      <td>499</td>\n",
       "      <td>458</td>\n",
       "      <td>313</td>\n",
       "      <td>549</td>\n",
       "      <td>650</td>\n",
       "      <td>748</td>\n",
       "      <td>371</td>\n",
       "      <td>832</td>\n",
       "      <td>275</td>\n",
       "      <td>1531</td>\n",
       "      <td>6226</td>\n",
       "    </tr>\n",
       "    <tr>\n",
       "      <th>e</th>\n",
       "      <td>249</td>\n",
       "      <td>539</td>\n",
       "      <td>422</td>\n",
       "      <td>125</td>\n",
       "      <td>284</td>\n",
       "      <td>414</td>\n",
       "      <td>187</td>\n",
       "      <td>592</td>\n",
       "      <td>117</td>\n",
       "      <td>1183</td>\n",
       "      <td>4112</td>\n",
       "    </tr>\n",
       "    <tr>\n",
       "      <th>Total</th>\n",
       "      <td>1460</td>\n",
       "      <td>1966</td>\n",
       "      <td>1224</td>\n",
       "      <td>1454</td>\n",
       "      <td>1611</td>\n",
       "      <td>2020</td>\n",
       "      <td>1192</td>\n",
       "      <td>2626</td>\n",
       "      <td>1155</td>\n",
       "      <td>4879</td>\n",
       "      <td>19587</td>\n",
       "    </tr>\n",
       "  </tbody>\n",
       "</table>\n",
       "</div>"
      ],
      "text/plain": [
       "packaging_tags    barquette,plastique  carton  carton,plastique  frais  \\\n",
       "nutriscore_grade                                                         \n",
       "a                                  98     394               178    193   \n",
       "b                                 156     273               138    259   \n",
       "c                                 458     302               173    328   \n",
       "d                                 499     458               313    549   \n",
       "e                                 249     539               422    125   \n",
       "Total                            1460    1966              1224   1454   \n",
       "\n",
       "packaging_tags    frais,plastique  kunststoff  plastic  plastique  sachet  \\\n",
       "nutriscore_grade                                                            \n",
       "a                             142         306      274        499     344   \n",
       "b                             168         183      148        277     161   \n",
       "c                             367         369      212        426     258   \n",
       "d                             650         748      371        832     275   \n",
       "e                             284         414      187        592     117   \n",
       "Total                        1611        2020     1192       2626    1155   \n",
       "\n",
       "packaging_tags    sachet,plastique  Total  \n",
       "nutriscore_grade                           \n",
       "a                             1006   3434  \n",
       "b                              421   2184  \n",
       "c                              738   3631  \n",
       "d                             1531   6226  \n",
       "e                             1183   4112  \n",
       "Total                         4879  19587  "
      ]
     },
     "execution_count": 88,
     "metadata": {},
     "output_type": "execute_result"
    }
   ],
   "source": [
    "X = \"nutriscore_grade\"\n",
    "Y = \"packaging_tags\"\n",
    "\n",
    "echantillon_2 = echantillon_1.copy()\n",
    "cont = echantillon_2[[X,Y]].pivot_table(index=X,columns=Y,aggfunc=len ,margins=True,margins_name=\"Total\")\n",
    "cont"
   ]
  },
  {
   "cell_type": "markdown",
   "metadata": {},
   "source": [
    "## Simplification de la données \"packaging_tags\""
   ]
  },
  {
   "cell_type": "markdown",
   "metadata": {},
   "source": [
    "packaging_tags a une trop forte cardinalité"
   ]
  },
  {
   "cell_type": "code",
   "execution_count": 89,
   "metadata": {},
   "outputs": [],
   "source": [
    "modalities_raw = data_filtre[\"packaging_tags\"].unique()"
   ]
  },
  {
   "cell_type": "code",
   "execution_count": 90,
   "metadata": {},
   "outputs": [
    {
     "data": {
      "text/plain": [
       "18493"
      ]
     },
     "execution_count": 90,
     "metadata": {},
     "output_type": "execute_result"
    }
   ],
   "source": [
    "len(modalities_raw)"
   ]
  },
  {
   "cell_type": "markdown",
   "metadata": {},
   "source": [
    "J'aimerais le limiter à moins de modalités"
   ]
  },
  {
   "cell_type": "code",
   "execution_count": 91,
   "metadata": {},
   "outputs": [
    {
     "data": {
      "text/plain": [
       "array(['carton,plastique', 'sachet', 'pot-en-verre,verre',\n",
       "       'canette,metal', 'sachet,plastique', 'carton', '21-pap', 'papier',\n",
       "       'squeezer,plastique', 'glas'], dtype=object)"
      ]
     },
     "execution_count": 91,
     "metadata": {},
     "output_type": "execute_result"
    }
   ],
   "source": [
    "modalities_raw[:10]"
   ]
  },
  {
   "cell_type": "markdown",
   "metadata": {},
   "source": [
    "Par exemple à terme il serait interessant d'avoir ce genre de modalités"
   ]
  },
  {
   "cell_type": "code",
   "execution_count": 92,
   "metadata": {},
   "outputs": [],
   "source": [
    "modalities_simple = [\"plastic\", \"glass\", 'cardboard', 'metal', 'paper', ]"
   ]
  },
  {
   "cell_type": "markdown",
   "metadata": {},
   "source": [
    "## 3: Analyse bivariée entre le type d'emaballage et le nutriscore_grade\n",
    "### Avec seulement deux catégories plastique/pas de plastique"
   ]
  },
  {
   "cell_type": "code",
   "execution_count": 96,
   "metadata": {},
   "outputs": [],
   "source": [
    "plastic_test = lambda x : bool(re.search(r'plast', x))"
   ]
  },
  {
   "cell_type": "code",
   "execution_count": 97,
   "metadata": {},
   "outputs": [
    {
     "name": "stderr",
     "output_type": "stream",
     "text": [
      "<ipython-input-97-3631e4e9ff7f>:1: SettingWithCopyWarning: \n",
      "A value is trying to be set on a copy of a slice from a DataFrame.\n",
      "Try using .loc[row_indexer,col_indexer] = value instead\n",
      "\n",
      "See the caveats in the documentation: https://pandas.pydata.org/pandas-docs/stable/user_guide/indexing.html#returning-a-view-versus-a-copy\n",
      "  data_filtre[\"has_plastic\"] = data_filtre['packaging_tags'].map(plastic_test)\n"
     ]
    }
   ],
   "source": [
    "data_filtre[\"has_plastic\"] = data_filtre['packaging_tags'].map(plastic_test)"
   ]
  },
  {
   "cell_type": "code",
   "execution_count": 99,
   "metadata": {},
   "outputs": [
    {
     "data": {
      "text/plain": [
       "True     47185\n",
       "False    45390\n",
       "Name: has_plastic, dtype: int64"
      ]
     },
     "execution_count": 99,
     "metadata": {},
     "output_type": "execute_result"
    }
   ],
   "source": [
    "data_filtre.has_plastic.value_counts()"
   ]
  },
  {
   "cell_type": "code",
   "execution_count": 121,
   "metadata": {},
   "outputs": [],
   "source": [
    "X = \"nutriscore_grade\"\n",
    "Y = \"has_plastic\"\n",
    "\n",
    "echantillon_3 = data_filtre[['nutriscore_grade', 'has_plastic']]\n",
    "cont = echantillon_3[[X,Y]].pivot_table(index=X,columns=Y,aggfunc=len ,margins=True,margins_name=\"Total\")"
   ]
  },
  {
   "cell_type": "code",
   "execution_count": 122,
   "metadata": {},
   "outputs": [],
   "source": [
    "cont['Freq_False'] = cont.loc[:,0] / cont.Total * 100"
   ]
  },
  {
   "cell_type": "code",
   "execution_count": 123,
   "metadata": {},
   "outputs": [
    {
     "data": {
      "text/html": [
       "<div>\n",
       "<style scoped>\n",
       "    .dataframe tbody tr th:only-of-type {\n",
       "        vertical-align: middle;\n",
       "    }\n",
       "\n",
       "    .dataframe tbody tr th {\n",
       "        vertical-align: top;\n",
       "    }\n",
       "\n",
       "    .dataframe thead th {\n",
       "        text-align: right;\n",
       "    }\n",
       "</style>\n",
       "<table border=\"1\" class=\"dataframe\">\n",
       "  <thead>\n",
       "    <tr style=\"text-align: right;\">\n",
       "      <th>has_plastic</th>\n",
       "      <th>False</th>\n",
       "      <th>True</th>\n",
       "      <th>Total</th>\n",
       "      <th>Freq_False</th>\n",
       "    </tr>\n",
       "    <tr>\n",
       "      <th>nutriscore_grade</th>\n",
       "      <th></th>\n",
       "      <th></th>\n",
       "      <th></th>\n",
       "      <th></th>\n",
       "    </tr>\n",
       "  </thead>\n",
       "  <tbody>\n",
       "    <tr>\n",
       "      <th>a</th>\n",
       "      <td>8973</td>\n",
       "      <td>8641</td>\n",
       "      <td>17614</td>\n",
       "      <td>50.942432</td>\n",
       "    </tr>\n",
       "    <tr>\n",
       "      <th>b</th>\n",
       "      <td>7586</td>\n",
       "      <td>6541</td>\n",
       "      <td>14127</td>\n",
       "      <td>53.698591</td>\n",
       "    </tr>\n",
       "    <tr>\n",
       "      <th>c</th>\n",
       "      <td>10117</td>\n",
       "      <td>10042</td>\n",
       "      <td>20159</td>\n",
       "      <td>50.186021</td>\n",
       "    </tr>\n",
       "    <tr>\n",
       "      <th>d</th>\n",
       "      <td>11085</td>\n",
       "      <td>13642</td>\n",
       "      <td>24727</td>\n",
       "      <td>44.829539</td>\n",
       "    </tr>\n",
       "    <tr>\n",
       "      <th>e</th>\n",
       "      <td>7629</td>\n",
       "      <td>8319</td>\n",
       "      <td>15948</td>\n",
       "      <td>47.836719</td>\n",
       "    </tr>\n",
       "    <tr>\n",
       "      <th>Total</th>\n",
       "      <td>45390</td>\n",
       "      <td>47185</td>\n",
       "      <td>92575</td>\n",
       "      <td>49.030516</td>\n",
       "    </tr>\n",
       "  </tbody>\n",
       "</table>\n",
       "</div>"
      ],
      "text/plain": [
       "has_plastic       False   True  Total  Freq_False\n",
       "nutriscore_grade                                 \n",
       "a                  8973   8641  17614   50.942432\n",
       "b                  7586   6541  14127   53.698591\n",
       "c                 10117  10042  20159   50.186021\n",
       "d                 11085  13642  24727   44.829539\n",
       "e                  7629   8319  15948   47.836719\n",
       "Total             45390  47185  92575   49.030516"
      ]
     },
     "execution_count": 123,
     "metadata": {},
     "output_type": "execute_result"
    }
   ],
   "source": [
    "cont"
   ]
  },
  {
   "cell_type": "code",
   "execution_count": 76,
   "metadata": {
    "collapsed": true,
    "jupyter": {
     "outputs_hidden": true
    }
   },
   "outputs": [
    {
     "name": "stdout",
     "output_type": "stream",
     "text": [
      "kunststoff\n",
      "karton,kunststoff\n",
      "kunststoff,schale\n",
      "pappe,kunststoff\n",
      "carton,kunststoff\n",
      "kunststoff,produkt\n",
      "kunststoffdose\n",
      "dose,pappe,kunststoff\n",
      "kunststoff,karton\n",
      "kunststoff,05-pp,♷\n",
      "karton,kunststoff,aluminium\n",
      "dose,kunststoff\n",
      "kunststoff-tute\n",
      "21-pap,05-pp,50-for,green-dot,♷,for,pap,pp,50,21,05,05-pp,kunststoff\n",
      "kunststoff,41-alu,producto\n",
      "kunststoff,41-alu\n",
      "06-ps,aluminium,05-pp,kunststoff,♷\n",
      "07,kunststoff\n",
      "kunststoff,tute\n",
      "21-pap,karton,kunststoff\n",
      "karton,kunststoff,21,pap\n",
      "kunststoff,pp\n",
      "tute,kunststoff,07\n",
      "kunststoff,box\n",
      "kunststoff,papier\n",
      "kunststoff,07\n",
      "kunststoff,07-other\n",
      "kunststoff,07-o\n",
      "frais,kunststoff,07\n",
      "vakuum,kunststoff,07\n",
      "kunststoff,21,41,06\n",
      "kunststoff,07-pe,04-ldpe\n",
      "kunststoff,tute,05,pp\n",
      "07,kunststoff,schale\n",
      "21-pap,kunststoff\n",
      "kunststoff,07-o,folienverpackung\n",
      "05-pp,kunststoff\n",
      "kunststoff,05-pp,product\n",
      "kunststoffbecher\n",
      "21-pap,82-c-pap,01-pet,pappe,karton,kunststoff\n",
      "05-pp,♷,41,05,01,pet,alu,pp,kunststoff\n",
      "packet,kunststoff\n",
      "21-pap,kunststoff,karton\n",
      "kartonage,faltschachtel,kunststoff,05-pp\n",
      "beutel,kunststoff,05-pp\n",
      "kunststofffolie\n",
      "folie,kunststoff\n",
      "kunststoff-flasche\n",
      "beutel,kunststoff,packung-en\n",
      "kunststoff,produkt,packung-en\n",
      "schale,kunststoff\n",
      "kunststoff,schale,07-o\n",
      "07,schale,kunststoff\n",
      "beutel,kunststoff,07-o\n",
      "packung,kunststoff,07-pe-ld\n",
      "kunststoff,folie\n",
      "de-kunststoff\n",
      "kunststoff,05\n",
      "kunststoff,boite,beutel,paquet\n",
      "kunststoff,01-pet\n",
      "becher,kunststoff,aluminium\n",
      "beutel,kunststoff,05-pp,schlauchbeutel\n",
      "aluminium,41-alu,kunststoff\n",
      "packung,kunststoff,07-o\n",
      "kunststoff,05-pp,beutel,schlauchbeutel\n",
      "05,kunststoff,tute\n",
      "glas,70-gl,kunststoff\n",
      "tute,kunststoff\n",
      "kunststoff,schutzatmosphare\n",
      "kunststoff,05-pp\n",
      "kunststoff,behalter\n",
      "kunststoff,05-pp,beutel\n",
      "kunststoff,05-pp,behalter\n",
      "schale,kunststoff,7\n",
      "05-pp,♷,kunststoff\n",
      "kunststoff,flasche\n",
      "kunststoff,pet-met-pet-pe\n",
      "pappe,kunststoff,05-pp\n",
      "schale,kunststoff,05-pp\n",
      "becher,kunststoff,05-pp\n",
      "becher,kunststoff\n",
      "pappe,kunststoffschale\n",
      "kunststoff-pp\n",
      "07-o,kunststoff,folienverpackung\n",
      "folienverpackung,schlauchbeutel,kunststoff,05-pp\n",
      "folienverpackung,kunststoff,05-pp\n",
      "kunststoff,pet,♳\n",
      "schale,kunststoff,01-pet\n",
      "kunststoffbeutel\n",
      "kunststoff,akuminium\n",
      "05-pp,kunststoff,green-dot\n",
      "pappe,05-pp,♷,kunststoff\n",
      "05-pp,kunststoff,flasche\n",
      "box,kunststoff\n",
      "boite,produkt,kunststofftute\n",
      "schale,kunststoff,07\n",
      "carton,surgele,05,pp,50,for,21,pap,karton,kunststoff\n",
      "05-pp,kunststoff,dose\n",
      "05,kunststoff,opp\n",
      "tute,pp,kunststoff,05-pp\n",
      "scatola,kunststoff,karton,81\n",
      "tute,kunststoff,07,tute\n",
      "folienbeutel,vakuumbeutel,kunststoff\n",
      "05,kunststoff,becher\n",
      "♷,05-pp,kunststoff\n",
      "kunststoff,paquete\n",
      "kunststoff,beutel\n",
      "05,opp,kunststoff\n",
      "kunststoff,05-pp,♷,packung-en\n",
      "04,21,karton,kunststoff\n",
      "karton,kunststoff,04,21\n",
      "surgele,carton,boite,kunststoff,karton,04,21\n",
      "box,kunststoff,05,pp,fr-surgele\n",
      "04,21,kunststoff,karton\n",
      "kunststoffschale\n",
      "kunststoff,pappe\n",
      "07-o,kunststoff\n",
      "pappkarton,kunststoff\n",
      "kunststoff,04-pe-ld,01-pet\n",
      "kunststoff,pet\n",
      "kunststoff,o,07\n",
      "karton,kunststoff,pap,21,05,pp\n",
      "kunststoff,becher\n",
      "kunststoff,07-o,♹\n",
      "kunststoff,07,schutzatmosphare\n",
      "kunststoff,tute,05-pp\n",
      "kunststoff,bolsa\n",
      "kunststoff,aluminium\n",
      "folienverpackung,kunststoff\n",
      "84,tute,kunststoff\n",
      "kunststoff,packung,sachet\n",
      "kunststoff,schale,deckel\n",
      "becher,kunststoff,metallfolie,aluminium\n",
      "kunststoff,aluminium,metallfolie,becher\n",
      "kunststoff,folie,schale\n",
      "beutel,kunststoff\n",
      "pp,kunststoff\n",
      "kunststoffbecher,becher,kunststoff,05,pp\n",
      "kunststoff,5-pp,eimerchen\n",
      "kunststoff,kunststoff\n",
      "kunststoff,05,pp,pp-pp,♷,beutel\n",
      "kunststoff,packchen\n",
      "karton,kunststoff,01-pet\n",
      "kunststoffbox,kunststoff\n",
      "kunststoff,karton,aluminium,06-ps\n",
      "kunststoff,papier,becher\n",
      "kunststoffbeutel,beutel\n",
      "karton,kunststoff,kasten,sichtfenster\n",
      "kunststoff,bottle\n",
      "7-o,kunststoff\n",
      "becher,kunststoff,05,pp\n",
      "kunststoff,becher,aluminium,deckel\n",
      "kunststofffolie,aluminiumfolie\n",
      "papier,kunststofffolie\n",
      "papier,kunststoff\n",
      "kunststoffbox\n",
      "kunststoff,packung-en\n",
      "kunststoff,tube\n",
      "kunststoffblister\n",
      "kunststoff,tetra-pak\n",
      "kunststoff,produkt,flasche\n",
      "flasche,kunststoff\n",
      "kunststoff,produkt,papier\n",
      "karton,kunststoff,produkt\n",
      "kunststofftute\n",
      "kunststoff,papier,alufolie\n",
      "kunststoff-papier\n",
      "becher,pappe,kunststoffdeckel\n",
      "kunststoff,aluminium,produkte,becher\n",
      "01-pet,kunststoff\n",
      "packung,kunststoff\n",
      "kunststoff,getrankekarton\n",
      "kunststoff,04-pe-ld\n",
      "kunststoff,7\n",
      "tute,♷,kunststoff,05-pp\n",
      "kunststoffbecher,aluminium\n",
      "kunststoff,05-pp,tablette\n",
      "etui-refermable,♷,tafel,05-pp,kunststoff\n",
      "pet-flasche,kunststoff\n",
      "einwegpfandflasche,kunststoff\n",
      "kunststoff,einwegpfand\n",
      "kunststoff,wachs,stuck,stuck\n",
      "kunststoff,sous-atmosphere-protectrice,frais\n",
      "frais,kunststoff\n",
      "holz,kunststoff\n",
      "karton,papier,kunststoff\n",
      "pappe-kunststoff,fresh\n",
      "kunststoff,keramik\n",
      "aluminium,kunststoff\n",
      "kunststoff,pp,♷\n",
      "kunststoff-und-papier\n",
      "kunststoff,papier,aluminium\n",
      "kunststoff,karton,aluminium\n",
      "karton,kunststoff,folie\n",
      "karton,kunststoff,21-pap\n",
      "de-pappe,kunststoff,pappe\n",
      "pappkarton,aluminiumfolie,kunststoff\n",
      "05-pp,♷,kunststoff,produkt\n",
      "flasche,kunststoffflasche,kunststoff\n",
      "stuck,stuck,stuck,kunststoff\n",
      "stuck,kunststoff,pp\n",
      "kunststoff,knick-pack,emballage\n",
      "kunststoff,knick-pack\n",
      "05-pp,kunststoff,♷\n",
      "kunststoff,knick-pack,schlauchbeutel,produkt\n",
      "kunststoff,gruner-punkt,schlauchbeutel,stuck\n",
      "karton,kunststoff,holz\n",
      "kunststoff,tute,5-pp\n",
      "schlauchbeutel,kunststoff,05-pp\n",
      "kunststoff,21-pap\n",
      "papier,kunststofffolie,stuck\n",
      "kunststofffolie,papier\n",
      "aludeckel,kunststoff,becher,aluminium,deckel\n",
      "packchen,kunststoff\n",
      "pappdose,blechboden,kunststoffdeckel\n",
      "kunststoff,vakuumbeutel\n",
      "kunststoff,mehrwegpfand\n",
      "mehrwegpfand,kunststoff\n",
      "81-c-pap,karton,kunststoff\n",
      "karton,aluminium,kunststoff\n",
      "kunststoff,pfandfrei,flasche\n",
      "kunststoff,flasche-n\n",
      "karton,kunststoff,karton\n",
      "karton,kunststofffolie\n",
      "folie,kunststoff,kunststofffolie\n",
      "kunststoff,gruner-punkt,beutel,schlauchbeutel\n",
      "tute,kunststoff,produkt,tute,tute,tute\n",
      "kunststoff,tute-n,beutel,stuck\n",
      "beutel,kunststoff,schlauchbeutel\n",
      "tute,kunststoff,tute\n",
      "box,frozen,karton,kunststoff\n",
      "1,kunststoff,flasche\n",
      "kunststoff,aluminium,pp\n",
      "kunststoff,karton,fsc-c108567\n",
      "kunststoff,stuck\n",
      "frais,kunststoff,folienverpackung,packung-en\n",
      "karton,kunststoff,stuck\n",
      "dose,kunststoff,aluminiumschicht\n",
      "kunststoffbecher,kunststoff,becher\n",
      "kunststoff,stuck,stuck\n",
      "box,kunststoff,produkt\n",
      "kunststoff,karton,21-pap\n",
      "kunststoff,pp,becher\n",
      "karton,kunststoff,becher\n",
      "kunststoff,tute,produkt\n",
      "kunststoff,tute,beschichtete-kunststofftute\n",
      "polypropylen,pp,kunststoff,♷,stuck,packung-en\n",
      "karton,21-pap,kunststoff,1-pet\n",
      "kunststoff,flasche,mehrweg\n",
      "kunststoff,mehrweg,mehrwegflasche\n",
      "karton,kunststoff,07-o\n",
      "kunststoff,karton,07-o\n",
      "glas,kunststoffdeckel\n",
      "glas,kunststoff\n",
      "kunststoffflasche,mehrweg\n",
      "papier,kunststoff,07-o\n",
      "karton,21-pap,20-pap,kunststoff,07-o\n",
      "beutel,kunststoffbeutel,kunststoff\n",
      "kunststoff,karton,05-pp\n",
      "karton,kunststoff,05-pp\n",
      "kunststoff,05-pp,karton\n",
      "packung,folienverpackung,kunststoff\n",
      "♷,kunststoff,packung-en,produkt\n",
      "1-pet,kunststoff\n",
      "karton,kunststoff,fsc-c017110\n",
      "kunststoff,folienverpackung,packung-en\n",
      "kunststoff,folienverpackung\n",
      "kunststoff,folienverpackung,hartschale\n",
      "kunststoff,schale,folie,packung-en\n",
      "kunststoff,schale,folie\n",
      "kunststoff,kunststoff,flasche-n\n",
      "kunststoffflasche\n",
      "05-pp,kunststoff,tute\n",
      "karton,21-pap,kunststoff\n",
      "05-pp,kunststoff,schale\n",
      "kunststoff,papierformchen\n",
      "kunststoff,stuck,stuck,stuck,stuck,stuck,stuck,stuck\n",
      "kunststoff,tute,05-pp,tute\n",
      "karton,kunststoff,carton,surgele\n",
      "beschichtete-kunststofftute\n",
      "kunststoff,glas,sachets,tute\n",
      "kunststoff,beutel,packung-en\n",
      "kunststoff,glas\n",
      "05-pp,kunststoff,beutel\n",
      "7-opp-pe,kunststoff\n",
      "kunststoff,5-pp,packung-en\n",
      "7-opp-pe,kunststoff,beutel\n",
      "5-pp,kunststoff\n",
      "kunststoff,5-pp\n",
      "kunststoff,beutel,folienverpackung,♷,05-pp\n",
      "karton,kunststoff,packung-en\n",
      "kartonage,faltschachtel,karton,kunststoff,stuck\n",
      "karton,pappkarton,kunststofffolie\n",
      "karton,kunststoff,carton\n",
      "kartonage,karton,kunststoff,gruner-punkt\n",
      "karton,kunststoff,aluminium,papier,petit-format\n",
      "karton,kunststoff,papier,aluminium,stuck,riegel,packung-en\n",
      "♷,kunststoff,packung-en,glas,papier,papier-und-aluminium,gl-70,pp-5,pap-21,c-pap-82\n",
      "tetra-pak,kunststoff\n",
      "karton,aluminium,kunststoff,06-ps\n",
      "papier,kunststoff,aluminium\n",
      "kunststoff,aluminium,karton\n",
      "karton,kunststoff,aluminium,05-pp\n",
      "kunststoff,05-pp,karton,aluminium\n",
      "kunststoff,aluminium,05-pp\n",
      "kunststoff,holz\n",
      "kunststoff,stuck,07-o\n",
      "kunststoff,styropor\n",
      "kunststoff,stuck,produkt\n",
      "kunststoff,produkt,tute\n",
      "kunststoff,stuck,stuck,stuck\n",
      "kunststoff,05-pp,aluminium,41-alu,♷\n",
      "kunststoff,05-pp,aluminium,41-alu\n",
      "pappe,pappkarton,kunststofftute\n",
      "kunststoff,kunststoffbeutel\n",
      "kunststoff,einwegpfand,pet,♳\n",
      "sachet,kunststoffbeutel\n",
      "pp,kunststofftute\n",
      "kunststoff,tute,unter-schutzatmosphare-verpackt\n",
      "kunststoff,aluminium,stuck,frais,stuck\n",
      "flasche,kunststoff,kartonage,papier\n",
      "kunststoff,karton,2-hdpe\n",
      "karton,kunststoff,05-pp,♷\n",
      "kunststoff,06-ps,♸\n",
      "dose,kunststoff,kunststoffdose\n",
      "kunststoff,7-o\n",
      "kunststoffrohrchen\n",
      "kunststoff,kunststoffrohrchen\n",
      "kunststoff,05,pp,tute\n",
      "papier,kunststoff,beutel\n",
      "01-pet,pet-cycle,einwegpfand,kunststoff\n",
      "kunststoff,pp,pa-pe,♷\n",
      "kunststoff,flasche,produkt\n",
      "kunststofffolie,kunststofftute\n",
      "kunststoff,06-ps\n",
      "pappe,kunststoff,folie\n",
      "1-liter-mehrwegflasche-kunststoff\n",
      "kunststoff,karton,21-pap,05-pp\n",
      "stuck,packung-en,kunststoff\n",
      "riegel,stuck,kunststoff\n",
      "kunststoff,07-o,produkt\n",
      "kunststoff,karton,scheiben\n",
      "kunststoffbecher,beschichtete-kunststofffolie\n",
      "kunststoffbecher,alufolie,kunststoffdeckel\n",
      "04-pe-ld,kunststoff\n",
      "kunststoff,en,packung-en\n",
      "kunststoff,aluminium,produkt,stuck\n",
      "kunststofffolie,kunststoff\n",
      "3-pvc,kunststoff\n",
      "kunststoff,becher,aluminium,deckel,05-pp,41-alu\n",
      "kunststoff,folie,07-o\n",
      "kunststoff,folie,papier,22-pap\n",
      "kunststoff,pp,kunststoff,♷\n",
      "pp,kunststoff,♷\n",
      "kunststoff,aluminium,talkum,pp\n",
      "kunststoff,ecolean-air\n",
      "kunststoff,aludeckel\n",
      "glas,kunststoff,flasche\n",
      "kunststoff,alu\n",
      "ps,kunststoff\n",
      "kunststoff,ps,kunststoff,produkt\n",
      "kunststoff,06-ps,stuck\n",
      "kunststoff,pe,flasche\n",
      "kunststoffbeutel,kunststoff\n",
      "karton,kunststofffolie,box\n",
      "karton,tute,kunststoff\n",
      "05-pp,beutel,schlauchbeutel,kunststoff\n",
      "kunststoff,karton,packung-en,produkt\n",
      "aluminium,karton,kunststoff,06-ps\n",
      "kunststoff,haushaltsbox\n",
      "pappe,kunststoff,karton\n",
      "kunststoffschale,pappe\n",
      "kunststoff,tute,gruner-punkt\n",
      "tute,kunststoff,gruner-punkt\n",
      "kunststoff,produkt,stuck\n",
      "tute,kunststoff,produkt\n",
      "tute,kunststoff,gruner-punkt,tute,tute,stuck\n",
      "kunststoff,aluminium,05-pp,♷\n",
      "kunststoff,polypropylene,♷\n",
      "kunststoff,pfandfrei,1-pet\n",
      "kunststoff,flasche,pet\n",
      "flasche,kunststoff,pet,einwegpfand\n",
      "05-pp,karton,kunststoff\n",
      "kunststoff-aluminium\n",
      "kunststoff,alumiminumfolie\n",
      "kunststoff,flasche,einwegpfand\n",
      "kunststoff,41-alu,21-pap,05-pp\n",
      "schutzatmosphare,kunststoff\n",
      "kunststoffbecher,alufolie\n",
      "schutzgasschweisst,kunststoff\n",
      "kunststoff-folie\n",
      "kunststoff,07-o,21-pap,pappe\n",
      "karton,kunststoff,21-pap,pappschuber,07-o,schale\n",
      "kunststoff,pappe,aluminium\n",
      "dose,40-fe,schale,kunststoff\n",
      "flasche,kunststoff,einwegpfand\n",
      "flasche,kunststoff,pet\n",
      "kunststoff,kunststoffbecher\n",
      "behalter,kunststoff\n",
      "pappe,kunststofffolie\n",
      "07,kunststoff,tute\n",
      "karton-kunststoff\n",
      "mischverpackung,karton,kunststoff\n",
      "schale,folie,kunststoff\n",
      "opp-pe-07,kunststoffbeutel,tiefkuhlware\n",
      "kunststoff,folie,karton\n",
      "kunststoff,becher,deckel\n",
      "karton,kunststoffbeutel,kunststoff\n",
      "karton,kunststoffbeutel,vakuumbeutel,kunststoff\n",
      "karton,kunststoffbeutel\n",
      "runde-pappdose,pappe,blech,blechboden,kunststoff\n",
      "pp05,kunststofftuten\n",
      "pappkarton,kunststofffolie\n",
      "kunststoff-karton\n",
      "kunststoff,flasche,pfandfrei\n",
      "kunststoff,quetschbeutel\n",
      "karton,kunststoff,produkt,packung-en\n",
      "metall,beutel,kunststoff,05-pp\n",
      "kunststofftute,beutel,kunststoff,05-pp,stuck\n",
      "kunststoff,05-pp,stuck\n",
      "kunststofftute,beutel,kunststoff,05-pp\n",
      "karton,pap,21,kunststofffolie\n",
      "papier-kunststoff,verbundstoff\n",
      "pappe,kunststoff,metall,dose\n",
      "kunststoff,einwegflasche\n",
      "karton,kunststoff,7-o,karton,becher\n",
      "7-o,karton,kunststoff\n",
      "mischverpackung,verbundverpackung,karton,pappe,kunststoff\n",
      "kunststoff,ps,polystyrol,aluminium,papier,gruner-punkt,karton,recyclingpapier\n",
      "pp,♷,kunststoff\n",
      "becher,kunststoff,pappe\n",
      "kunststoff,angebrochene-packung\n",
      "pot,tute,kunststoff\n",
      "05-pp,♷,tute,kunststoff,stuck\n",
      "kunststoff,sachet\n",
      "tute,kunststoff,dose,tute\n",
      "05-pp,21-pap,♷,kunststoff,karton\n",
      "♷,kunststoff\n",
      "karton,kunststoff,21-pap,07-o,01-pet\n",
      "kunststoff,90-c-pp\n",
      "06-ps,♸,21-pap,41-alu,karton,kunststoff,aluminium\n",
      "karton,kunststoff,aluminium,06-ps\n",
      "aluminium,karton,kunststoff,06-ps,becher\n",
      "karton,aluminium,kunststoff,06-ps,becher\n",
      "kunststoff,aluminium,papier\n",
      "kunststoff,paquet\n",
      "karton,kunststoff,05-pp,21-pap,♷\n",
      "karton,kunststoff,05-pp,aluminium,♷\n",
      "kunststoff,♷,05-pp\n",
      "♷,05-pp,kunststoff,becher\n",
      "pet,kunststoff,flasche,einwegpfand\n",
      "flasche,kunststoff,einwegpfand,pet\n",
      "papier,kunststoff,6-ps\n",
      "kunststoff,papier,6-ps\n",
      "05-pp,kunststoff,becher,deckel,aluminium\n",
      "kunststoff,♷\n",
      "produkt,kunststoff\n",
      "kunststoff,dose,♳\n",
      "kunststoff,karton,beutel\n",
      "pot,kunststoff,karton\n",
      "kunststoff-einwegpfandflasche\n",
      "karton,kunststoff,bag-in-a-box\n",
      "kunststoff,papier,1-pet\n",
      "tube,kunststoff\n",
      "bag,kunststoff\n",
      "kunststoff,pfandfrei\n",
      "kunststoff,07-opp-pe\n",
      "22-pap,becher,kunststoff\n",
      "81,kunststoff,84\n",
      "kunststoff,schale,aluminium,deckel\n",
      "1-pet,kunststoff,flasche,pfandfrei\n",
      "kartonage,faltkarton,karton,kunststoff,aluminium\n",
      "konserve,kunststoff\n",
      "kunststoffpackung\n",
      "kunststoff,becher,deckel,aluminium,05-pp,06-ps\n",
      "kunststoff,schale,deckel,alumimium\n",
      "papier,kunststoff,84-c-pap\n",
      "aluminium,karton,kunststoff,optipack,desto\n",
      "karton,aluminium,kunststoff,06-ps,21-pap\n",
      "kunststoff,aluminium,karton,21-pap,05-pp\n",
      "folienverpackung,kunststoff,07-o\n",
      "karton,kunststoff,21-pap,05-pp,♷\n",
      "kunststoff,01-pet,karton,21-pap\n",
      "folienbeutel,kunststoff,produkt\n",
      "kunststoff,pe-pa\n",
      "kunststoff,07,pappmanschette,21-pap,fsc-c095125\n",
      "84-c-pap,kunststoff\n",
      "kunststoff,pet-pe,pe-pet\n",
      "07-o,kunststoff,07-o,folienverpackung,produkt\n",
      "flasche,kunststoff,einwegpfand,1-pet\n",
      "kunststoff,flasche,einwegpfand,1-pet\n",
      "karton,kunststoff,01-pet,21-pap\n",
      "kunststoff,sachet,packung-en\n",
      "flasche-n,kunststoff\n",
      "kunststoff,ps\n",
      "pappe,karton,kunststoff\n",
      "02-pe-hd,kunststoff\n",
      "kunststoffflasche,flasche\n",
      "fsc-mix,karton,becher,kunststoff,deckel\n",
      "06-ps,kunststoff,becher,aluminium,deckel\n",
      "kunststoff,05-pp,eimer\n",
      "aluminium,karton,kunststoff\n",
      "kunststoff,becher,pp\n",
      "kunststoff,beutel,05-pp\n",
      "kunststoff,eimer\n",
      "kunststoff,beutel,tute-n\n",
      "kartonage,faltschachtel,papier-kunststoff\n",
      "kunststoff,84-c-pap,06-ps\n",
      "04-c-pap,06-ps,kunststoff\n",
      "pp,kunststoff,becher,aluminium,deckel\n",
      "beschichtete-kunststofftute,05-pp\n",
      "glas,flasche,kunststoff\n",
      "kunststoff,becher,aluminium,deckel,produkt\n",
      "hartschale,kunststoff\n",
      "folienbeutel,kunststoff\n",
      "packung-en,kunststoff\n",
      "hartschale,kunststoff,04-pe-ld\n",
      "7,kunststoff\n",
      "becher,kunststoff,21-pap\n",
      "kunststoff,becher,21-pap\n",
      "81,kunststoff\n",
      "sig-combibloc,kunststoff\n",
      "karton,kunststoff,folie,21-pap\n",
      "kunststoff,eimer,05-pp\n",
      "kunststoff,flasche,kunststoff-flasche\n",
      "kunststoff,packung-en,beutel\n",
      "81,kunststoff,becher\n",
      "de-becher,de-kunststoff\n",
      "pure-pak-curve,elopak,pappe,kunststoff\n",
      "kunststoff,tute,07-o\n",
      "kunststoff,schale,05-pp\n",
      "kunststoff,tube,flasche\n",
      "kunststoff,o-07\n",
      "tute-n,kunststoff\n",
      "flacon,kunststoff,tube\n",
      "70-gl,glas,kunststoff,aluminium\n",
      "kunststoff-im-pappkarton\n",
      "papier,kunststoff,glas\n",
      "kunststoff,5-pp,aluminium\n",
      "kunststoff,05-pp,aluminium,♷\n",
      "kunststoffschale,produkt\n",
      "7,kunststoff,tute,stuck\n",
      "kunststoff,aluminium,♸,06-ps\n",
      "kunststoff,01-pet,♳\n",
      "karton,kunststoff,♷,05-pp\n",
      "kunststoff,aluminium,karton,becher\n",
      "kunststoff,7,stuck,packung-en,produkt,stuck,stuck-e\n",
      "tute,kunststoff,produkt,tute\n",
      "becher,kunststoff,05-pp,karton,aluminium\n",
      "folienverpackung,hartschale,kunststoff\n",
      "hartschale,kunststoff,packung-en\n",
      "01-pet,♳,kunststoff\n",
      "karton,kunststoff,fsc-c125136\n",
      "papier-kunststoffsack,beutel\n",
      "kunststoff,packungen\n",
      "papier,holz,kunststoff\n",
      "karton,kunststoff,ldpe-opp-evoh\n",
      "kunststoffbecher,kunststoff\n",
      "karton,dose,kunststoff\n",
      "papier,karton,kunststoff\n",
      "karton,kunststoff,21-pap,05-pp\n",
      "kunststoff,karton,produkt\n",
      "pap,kunststoff,produkt\n",
      "papier,aluminium,kunststoff\n",
      "kunststoff,karton,papier\n",
      "glas,kunststoff,stuck\n",
      "pappe,kunststoff,envasado-en-atmosfera-protectora,refrigerado\n",
      "kunststoff,karton,pp,♷,pap,alu,produkt\n",
      "05-pp,kunststoff,tute,♷\n",
      "kunststoff,mehrwegpfand,flasche\n",
      "kunststoff,mehrwegpfand,flasche,flasche,flasche,flasche,flasche\n",
      "kunststoff,becher,karton,halter\n",
      "papier,kunststoff,stuck,stuck\n",
      "papierschale,kunststofffolie\n",
      "kunststoff,1-pet\n",
      "05-pp,1-pet,♷,kunststoff\n",
      "♷,becher,kunststoff,05-pp\n",
      "karton,21-pap,kunststoff,07-o\n",
      "karton,21-pap,kunststoff,5-pp\n",
      "kunststoff,packung-en,tute\n",
      "tute,kunststoff,tute-n\n",
      "stuck,kunststoffbox\n",
      "kunststoff,produkt,pp\n",
      "♷,kunststoff,05-pp,stuck\n",
      "♷,tafel,05-pp,kunststoff\n",
      "05-pp,kunststoff,produkt\n",
      "becher,05-pp,kunststoff\n",
      "kunststoff,06-ps,kunststoff\n",
      "weichfolie,kunststoff\n",
      "emballage,kunststoff\n",
      "carton,kunststoff,05pp\n",
      "05-pp,kunststoff,folie\n",
      "kunststoff,product\n",
      "kunststoff,04-pe-ld,07-o\n",
      "pappe,kunststofffolie,packung-en\n",
      "schachtel,karton,kunststoff\n",
      "05-pp,kunststoff,♷,packung-en,pacchetto\n",
      "kunststoff,mix,fsc-c115580\n",
      "kunststoff,schale,07\n",
      "90-c-pp,kunststoff\n",
      "4,kunststoff\n",
      "4,kunststoff,beutel,stuck,produkt\n",
      "wellpappe,kunststoff\n",
      "pappkarton,kunststoffspender\n",
      "kunststoff,pot\n",
      "fr-karton,fr-kunststoff,fr-tidyman-wastebasket,fr-point-vert\n",
      "flasche,kunststoff,produkt\n",
      "kunststoff,flasche,1-pet\n",
      "karton-und-kunststoff\n",
      "kunststoff,dose\n",
      "610\n"
     ]
    }
   ],
   "source": [
    "# allemand_count = 0\n",
    "# for mod in modalities_raw:\n",
    "#     pattern = r'plast'\n",
    "#     match = re.search(pattern, mod)\n",
    "#     if match:\n",
    "# #         print(mod)\n",
    "#         pass\n",
    "#     else:\n",
    "#         pattern = r'kunststoff'\n",
    "#         match = re.search(pattern, mod)\n",
    "#         if match:\n",
    "#             print(mod)\n",
    "#             allemand_count += 1\n",
    "# print(allemand_count)"
   ]
  },
  {
   "cell_type": "code",
   "execution_count": null,
   "metadata": {},
   "outputs": [],
   "source": []
  }
 ],
 "metadata": {
  "kernelspec": {
   "display_name": "env_OC_P03",
   "language": "python",
   "name": "env_oc_p03"
  },
  "language_info": {
   "codemirror_mode": {
    "name": "ipython",
    "version": 3
   },
   "file_extension": ".py",
   "mimetype": "text/x-python",
   "name": "python",
   "nbconvert_exporter": "python",
   "pygments_lexer": "ipython3",
   "version": "3.8.5"
  }
 },
 "nbformat": 4,
 "nbformat_minor": 4
}
