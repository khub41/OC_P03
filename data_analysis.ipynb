{
 "cells": [
  {
   "cell_type": "markdown",
   "metadata": {},
   "source": [
    "TODO List avant livrable:\n",
    "\n",
    "- Faire le sommaire avec liens\n",
    "- Faire la conclusion\n",
    "- faire un test de correlation\n",
    "- Faire l'analyse des fruits et legumes -> Oups...\n",
    "- Faire les docstring des fonctions\n",
    "- Faire présentation du projet"
   ]
  },
  {
   "cell_type": "markdown",
   "metadata": {},
   "source": [
    "# Presentation du projet\n",
    "\n",
    "## TODO ⌚"
   ]
  },
  {
   "cell_type": "markdown",
   "metadata": {},
   "source": [
    "# Import de bibliothèques 📚"
   ]
  },
  {
   "cell_type": "code",
   "execution_count": 1,
   "metadata": {},
   "outputs": [],
   "source": [
    "import pandas as pd\n",
    "from pandas_profiling import ProfileReport\n",
    "\n",
    "import os\n",
    "import re\n",
    "import time\n",
    "\n",
    "from math import log2, sqrt\n",
    "import numpy as np\n",
    "import scipy.stats as stats\n",
    "from scipy.stats import gaussian_kde, t, ttest_1samp, ttest_ind\n",
    "from statsmodels.stats.proportion import proportion_confint\n",
    "\n",
    "from sklearn.cluster import KMeans\n",
    "from sklearn.ensemble import GradientBoostingClassifier\n",
    "from sklearn.model_selection import train_test_split\n",
    "from sklearn import metrics\n",
    "\n",
    "import mlflow\n",
    "\n",
    "import matplotlib.pyplot as plt\n",
    "import seaborn"
   ]
  },
  {
   "cell_type": "markdown",
   "metadata": {},
   "source": [
    "# Fonctions ⚙️"
   ]
  },
  {
   "cell_type": "code",
   "execution_count": 2,
   "metadata": {},
   "outputs": [],
   "source": [
    "def plot_histo(data, title=None, xlabel=None, drop_outliers=False, bins='sturges', plot_density=True):\n",
    "    if drop_outliers:\n",
    "        data = data[data.between(data.quantile(drop_outliers), data.quantile(1 - drop_outliers))]\n",
    "    if bins == 'sturges':\n",
    "        bins = int(1+log2(len(data)))\n",
    "#     mu = data.mean()\n",
    "#     sigma = data.std()\n",
    "#     x_norm = np.linspace(mu - 3*sigma, mu + 3*sigma, 100)\n",
    "#     plt.plot(x_norm, stats.norm.pdf(x_norm, mu, sigma), label=\"Gaussienne de l'échantillon\")\n",
    "    plt.style.use(\"seaborn\")\n",
    "    if plot_density:\n",
    "        density = gaussian_kde(data)\n",
    "        xs = np.linspace(data.min(),data.max(),200)\n",
    "        density.covariance_factor = lambda : .25\n",
    "        density._compute_covariance()\n",
    "        plt.plot(xs,density(xs), label=\"Courbe de densité\")\n",
    "    plt.ylabel(\"frequency\")\n",
    "    plt.xlabel(xlabel)\n",
    "    plt.title(title)\n",
    "    plt.hist(data, bins=bins, density=True)\n",
    "    plt.legend()\n",
    "    plt.show()"
   ]
  },
  {
   "cell_type": "code",
   "execution_count": 3,
   "metadata": {},
   "outputs": [],
   "source": [
    "def split_custom(label_string, delimiter=','):\n",
    "    \"\"\"Cette fonction prend en argument une chaine de caractères et retourne une liste\"\"\"\n",
    "    return label_string.split(delimiter)"
   ]
  },
  {
   "cell_type": "code",
   "execution_count": 4,
   "metadata": {},
   "outputs": [],
   "source": [
    "def get_unique_elements(panda_serie):\n",
    "    \"\"\"This functions returns the list of unique elements \n",
    "    out of a panda serie of strings with comma separated elements\"\"\"\n",
    "    all_labels = set()\n",
    "    for labels in panda_serie.map(split_custom):\n",
    "        for label in labels:\n",
    "            all_labels.add(label)\n",
    "    return list(all_labels)"
   ]
  },
  {
   "cell_type": "markdown",
   "metadata": {},
   "source": [
    "<a id='fonctionbio'></a>"
   ]
  },
  {
   "cell_type": "code",
   "execution_count": 5,
   "metadata": {},
   "outputs": [],
   "source": [
    "def test_bio(labels):\n",
    "    \"\"\"From a list of labels this function returns a booleean if 'organic' or 'bio' is in one of the labels\"\"\"\n",
    "    bool_test = False\n",
    "    for label in labels:\n",
    "        label = label.lower()\n",
    "        if 'organic' in label or 'bio' in label:\n",
    "            bool_test = True\n",
    "            break\n",
    "    return bool_test"
   ]
  },
  {
   "cell_type": "markdown",
   "metadata": {},
   "source": [
    "Retour au [script](#backbio)"
   ]
  },
  {
   "cell_type": "markdown",
   "metadata": {},
   "source": [
    "<a id='fonctionvege'></a>"
   ]
  },
  {
   "cell_type": "code",
   "execution_count": 6,
   "metadata": {},
   "outputs": [],
   "source": [
    "def test_vege(labels):\n",
    "    \"\"\"From a list of labels this function returns a booleean if 'organic' or 'bio' is in one of the labels\"\"\"\n",
    "    bool_test = False\n",
    "    for label in labels:\n",
    "        label = label.lower()\n",
    "        if 'vegetarian' in label or 'vegan' in label:\n",
    "            bool_test = True\n",
    "            break\n",
    "    return bool_test"
   ]
  },
  {
   "cell_type": "markdown",
   "metadata": {},
   "source": [
    "Retour au [script](#backvege)"
   ]
  },
  {
   "cell_type": "markdown",
   "metadata": {},
   "source": [
    "<a id='fonctionnegation'></a>"
   ]
  },
  {
   "cell_type": "code",
   "execution_count": 7,
   "metadata": {},
   "outputs": [],
   "source": [
    "# # This function works but would be more efficient if it would detect the language. We'll save that for later\n",
    "def test_no_something(labels, dict_something):\n",
    "    \"\"\"From a list of labels this function returns a booleean if 'preserative' and a negation is in one of the labels\"\"\"\n",
    "    for word, negations in dict_something.items():\n",
    "        for label in labels:\n",
    "            label = label.lower()\n",
    "            label = label.replace('-', ' ')\n",
    "            bool_list = []\n",
    "            #looking for word preservative\n",
    "            preservative_in_label = bool(re.match(r'.*\\b{}.*\\b'.format(word), label))\n",
    "            if preservative_in_label:\n",
    "                #looking for negation\n",
    "                for negation in negations:\n",
    "                    if bool(re.match(r'.*\\b{}\\b'.format(negation), label)):\n",
    "                        return True\n",
    "\n",
    "    return False"
   ]
  },
  {
   "cell_type": "markdown",
   "metadata": {},
   "source": [
    "- Retour au [script](#backconserv) Conservateurs\n",
    "- Retour au [script](#backcolor) Colorants\n",
    "- Retour au [script](#backGMO) OGMs"
   ]
  },
  {
   "cell_type": "markdown",
   "metadata": {},
   "source": [
    "<a id='plot_bar'></a>"
   ]
  },
  {
   "cell_type": "code",
   "execution_count": 8,
   "metadata": {},
   "outputs": [],
   "source": [
    "def plot_bar(data, labels, color='purple', label=None, rotation=False):\n",
    "    plt.figure(figsize=(8,8))\n",
    "    plt.style.use('seaborn')\n",
    "    plt.bar(list(range(1, len(data)+1)), data, color=color, label=label)\n",
    "    if rotation:\n",
    "        angle=90\n",
    "    else:\n",
    "        angle=0\n",
    "    plt.xticks(list(range(1, len(data)+1)), labels, rotation=angle, fontsize=12)\n",
    "    plt.ylabel('Proportion par rapport au nombre de poduits du dataset (%)')\n",
    "    plt.legend()\n",
    "    plt.show()"
   ]
  },
  {
   "cell_type": "markdown",
   "metadata": {},
   "source": [
    "- Retour au [script](#univ_1_plot_1) Labels\n",
    "- Retour au [script](#univ_1_plot_2) Categories"
   ]
  },
  {
   "cell_type": "markdown",
   "metadata": {},
   "source": [
    "<a id='launch_kmeans_mlflow'></a>"
   ]
  },
  {
   "cell_type": "code",
   "execution_count": 9,
   "metadata": {},
   "outputs": [],
   "source": [
    "def launch_kmeans_mlflow(data_kmeans, n_clusters, comment, col_target, max_iter=300, n_init=10, init='k-means++', random_state=41):\n",
    "    \n",
    "    with mlflow.start_run(run_name=comment):\n",
    "        \n",
    "        #Train\n",
    "        start = time.time()\n",
    "        kmeans = KMeans(n_clusters=n_clusters, max_iter=max_iter, n_init=n_init, init=init, random_state=random_state).fit(data_kmeans.drop(columns=[col_target]))\n",
    "        elapsed = time.time() - start\n",
    "        \n",
    "        #Predict\n",
    "        data_kmeans['predicted_group'] = kmeans.predict(data_kmeans.drop(columns=[col_target]))\n",
    "        \n",
    "        #Undestang predictions\n",
    "        categs_group_number = {}\n",
    "        for i in range(n_clusters):\n",
    "            categs_group_number[i] = data_kmeans[data_kmeans['predicted_group'] == i][col_target].value_counts().index[0]\n",
    "        \n",
    "        data_kmeans = data_kmeans.merge(pd.Series(categs_group_number, name='predicted_group_label'), left_on='predicted_group', right_index=True)\n",
    "        \n",
    "        #Test\n",
    "        data_kmeans['model_is_right'] = data_kmeans[col_target] == data_kmeans['predicted_group_label']\n",
    "        \n",
    "        perf = data_kmeans.model_is_right.value_counts(normalize=True).loc[True]\n",
    "        \n",
    "        mlflow.log_param(\"n_clusters\", n_clusters)\n",
    "        mlflow.log_param(\"max_iter\", max_iter)\n",
    "        mlflow.log_param(\"n_init\", n_init)\n",
    "        mlflow.log_param(\"init\", init)\n",
    "        mlflow.log_param(\"random_state\", random_state)\n",
    "        \n",
    "        mlflow.log_metric(\"accuracy\", perf)\n",
    "        mlflow.log_metric(\"distinct_categs_predicted\", len(data_kmeans.predicted_group_label.unique()))\n",
    "        mlflow.log_metric(\"trainig_time\", elapsed)\n",
    "        mlflow.log_metric(\"inertie\", kmeans.inertia_)\n",
    "        mlflow.log_metric(\"nb_iter\", kmeans.n_iter_)\n",
    "\n",
    "        \n",
    "        mlflow.set_tag(\"columns_passed\", str(data_kmeans.drop(columns=[col_target, 'predicted_group', \n",
    "                                                                      'predicted_group_label']).columns.values))\n",
    "        mlflow.end_run()\n",
    "    return data_kmeans"
   ]
  },
  {
   "cell_type": "markdown",
   "metadata": {},
   "source": [
    "- Retour au [script](#categ_kmeans) K-means"
   ]
  },
  {
   "cell_type": "markdown",
   "metadata": {},
   "source": [
    "<a id='launch_gb_mlflow'></a>"
   ]
  },
  {
   "cell_type": "code",
   "execution_count": 71,
   "metadata": {},
   "outputs": [],
   "source": [
    "def launch_gb_mlflow(data, comment, col_target, n_estimators=50, learning_rate=0.2,  max_depth=5, random_state=41):\n",
    "    \n",
    "    data_train, data_test = train_test_split(data, train_size=0.7, random_state=random_state)\n",
    "    with mlflow.start_run(run_name=comment):\n",
    "        start_time = time.time()\n",
    "        gb_cl = GradientBoostingClassifier(n_estimators=n_estimators, learning_rate=learning_rate,  max_depth=max_depth, random_state=random_state).fit(data_train.drop(columns=[col_target]), data_train[col_target])\n",
    "        elapsed = time.time() - start_time\n",
    "        \n",
    "        mlflow.log_param(\"n_estimators\", n_estimators)\n",
    "        mlflow.log_param(\"learning_rate\", learning_rate)\n",
    "        mlflow.log_param(\"max_depth\", max_depth)\n",
    "        mlflow.log_param(\"random_state\", random_state)\n",
    "        \n",
    "        mlflow.log_metric(\"score sur train\", gb_cl.score(data_train.drop(columns=[col_target]), data_train[col_target]))\n",
    "        mlflow.log_metric(\"score sur test\", gb_cl.score(data_test.drop(columns=[col_target]), data_test[col_target]))\n",
    "        mlflow.log_metric(\"time_train\", elapsed)\n",
    "        \n",
    "        mlflow.end_run()\n",
    "    \n",
    "    data_result = pd.DataFrame({\"actual\": data_test[col_target], \"predicted\" : gb_cl.predict(data_test.drop(columns=[col_target]))})\n",
    "    \n",
    "    return (data_result, gb_cl)"
   ]
  },
  {
   "cell_type": "markdown",
   "metadata": {},
   "source": [
    "- Retour au [script](#categ_gb) Gradient boosting"
   ]
  },
  {
   "cell_type": "markdown",
   "metadata": {},
   "source": [
    "<a id='parser_prediction'></a>"
   ]
  },
  {
   "cell_type": "code",
   "execution_count": 99,
   "metadata": {},
   "outputs": [],
   "source": [
    "def parser_prediction(row, data_unknown, col_modeled, col_predicted):\n",
    "    if row[col_modeled] == 'unknown':\n",
    "        return data_unknown.loc[row.name][col_predicted]\n",
    "    else:\n",
    "        return row[col_modeled]"
   ]
  },
  {
   "cell_type": "markdown",
   "metadata": {},
   "source": [
    "- Retour au [script](#back_parse_gb_results) "
   ]
  },
  {
   "cell_type": "markdown",
   "metadata": {},
   "source": [
    "# Données 🎁"
   ]
  },
  {
   "cell_type": "code",
   "execution_count": 11,
   "metadata": {},
   "outputs": [
    {
     "name": "stderr",
     "output_type": "stream",
     "text": [
      "C:\\Users\\S053567\\AppData\\Roaming\\Python\\Python38\\site-packages\\IPython\\core\\interactiveshell.py:3145: DtypeWarning: Columns (0,12,26,27,28,30,51,63) have mixed types.Specify dtype option on import or set low_memory=False.\n",
      "  has_raised = await self.run_ast_nodes(code_ast.body, cell_name,\n"
     ]
    }
   ],
   "source": [
    "data = pd.read_csv('data/en.openfoodfacts.org.products.csv', sep='\\t')"
   ]
  },
  {
   "cell_type": "code",
   "execution_count": 12,
   "metadata": {},
   "outputs": [
    {
     "data": {
      "text/plain": [
       "(1524579, 183)"
      ]
     },
     "execution_count": 12,
     "metadata": {},
     "output_type": "execute_result"
    }
   ],
   "source": [
    "data.shape"
   ]
  },
  {
   "cell_type": "code",
   "execution_count": 13,
   "metadata": {},
   "outputs": [
    {
     "data": {
      "text/plain": [
       "Index(['code', 'url', 'creator', 'created_t', 'created_datetime',\n",
       "       'last_modified_t', 'last_modified_datetime', 'product_name',\n",
       "       'generic_name', 'quantity',\n",
       "       ...\n",
       "       'carbon-footprint-from-meat-or-fish_100g', 'nutrition-score-fr_100g',\n",
       "       'nutrition-score-uk_100g', 'glycemic-index_100g', 'water-hardness_100g',\n",
       "       'choline_100g', 'phylloquinone_100g', 'beta-glucan_100g',\n",
       "       'inositol_100g', 'carnitine_100g'],\n",
       "      dtype='object', length=183)"
      ]
     },
     "execution_count": 13,
     "metadata": {},
     "output_type": "execute_result"
    }
   ],
   "source": [
    "data.columns"
   ]
  },
  {
   "cell_type": "markdown",
   "metadata": {},
   "source": [
    "# Profiling 🔍"
   ]
  },
  {
   "cell_type": "markdown",
   "metadata": {},
   "source": [
    "Etant données les dimensions de ce dataset, je vais réaliser l'analyse préliminaire avec Pandas Profiling. L'analyse est exportée en HTML pour une meilleure lisibilité du NB"
   ]
  },
  {
   "cell_type": "code",
   "execution_count": 14,
   "metadata": {},
   "outputs": [],
   "source": [
    "# profile = ProfileReport(data, title=\"Report on OpenFoodFacts\", minimal=True)"
   ]
  },
  {
   "cell_type": "code",
   "execution_count": 15,
   "metadata": {},
   "outputs": [],
   "source": [
    "# profile.to_file('profile_report.html')"
   ]
  },
  {
   "cell_type": "markdown",
   "metadata": {},
   "source": [
    "Voir le report : [cliquer ici](profile_report.html)"
   ]
  },
  {
   "cell_type": "markdown",
   "metadata": {},
   "source": [
    "# Idee : 💡\n",
    "### A partir d'un produit, proposer des produits similaires ayant un emballage meilleur. Appuyer l'analyse par des etudes sur le lien entre l'emballage plastique et les mauvaises caractéristiques nutritionnelles.\n",
    "## Mieux manger serait-il lié à l'emballage?"
   ]
  },
  {
   "cell_type": "markdown",
   "metadata": {},
   "source": [
    "Afin de vérifier la faisibilité de cette étude, nous allons déterminer les features necessaires, filtrer les NAN et regarder la taille du dataset filtré"
   ]
  },
  {
   "cell_type": "code",
   "execution_count": 16,
   "metadata": {},
   "outputs": [],
   "source": [
    "col_necessaires = ['labels_en', 'saturated-fat_100g', 'categories_en', \n",
    "                   'packaging_tags', 'additives_n', 'ingredients_from_palm_oil_n', \n",
    "                   'nutriscore_score', 'nutriscore_grade', 'pnns_groups_1', 'pnns_groups_2', 'energy_100g', 'fat_100g', 'sugars_100g', 'proteins_100g', 'salt_100g']\n",
    "# TODO : REMPLACER CATEGORIES PAR pnns-goups"
   ]
  },
  {
   "cell_type": "code",
   "execution_count": 17,
   "metadata": {},
   "outputs": [],
   "source": [
    "data_filtre = data.dropna(subset=col_necessaires)"
   ]
  },
  {
   "cell_type": "code",
   "execution_count": 18,
   "metadata": {},
   "outputs": [
    {
     "data": {
      "text/plain": [
       "(92135, 183)"
      ]
     },
     "execution_count": 18,
     "metadata": {},
     "output_type": "execute_result"
    }
   ],
   "source": [
    "data_filtre.shape"
   ]
  },
  {
   "cell_type": "markdown",
   "metadata": {},
   "source": [
    "Cette quantité a l'air suffisante à première vue"
   ]
  },
  {
   "cell_type": "markdown",
   "metadata": {},
   "source": [
    "# Nettoyage 🧼"
   ]
  },
  {
   "cell_type": "markdown",
   "metadata": {},
   "source": [
    "Les colonnes suivantes necessitent une attention particulière du fait de leur forte cardinalité:\n",
    "- [Labels](#nett_1)\n",
    "- [Categories](#nett_2)\n",
    "- [Packaging](#nett_3)"
   ]
  },
  {
   "cell_type": "markdown",
   "metadata": {},
   "source": [
    "<a id='nett_1'></a>\n",
    "## Labels 🏷️"
   ]
  },
  {
   "cell_type": "code",
   "execution_count": 19,
   "metadata": {},
   "outputs": [
    {
     "data": {
      "text/plain": [
       "count         92135\n",
       "unique        31672\n",
       "top       Green Dot\n",
       "freq           5134\n",
       "Name: labels_en, dtype: object"
      ]
     },
     "execution_count": 19,
     "metadata": {},
     "output_type": "execute_result"
    }
   ],
   "source": [
    "data_filtre.labels_en.describe()"
   ]
  },
  {
   "cell_type": "markdown",
   "metadata": {},
   "source": [
    "Cette variable a une forte cardinalité et est qualitative. Regardons les instances les plus fréquentes"
   ]
  },
  {
   "cell_type": "code",
   "execution_count": 20,
   "metadata": {},
   "outputs": [
    {
     "data": {
      "text/plain": [
       "Green Dot                                       5134\n",
       "Made in France                                  2206\n",
       "Gluten-free                                     1605\n",
       "Vegetarian,Vegan                                1512\n",
       "Organic,EU Organic,AB Agriculture Biologique    1275\n",
       "Organic                                         1189\n",
       "No preservatives                                1170\n",
       "Green Dot,Made in France                         780\n",
       "Made in Germany                                  700\n",
       "Vegetarian                                       696\n",
       "Name: labels_en, dtype: int64"
      ]
     },
     "execution_count": 20,
     "metadata": {},
     "output_type": "execute_result"
    }
   ],
   "source": [
    "data_filtre.labels_en.value_counts().head(10)"
   ]
  },
  {
   "cell_type": "markdown",
   "metadata": {},
   "source": [
    "On voit que les données sont souvent séparées par des virgules et que beaucoup de labels se répétent"
   ]
  },
  {
   "cell_type": "code",
   "execution_count": 21,
   "metadata": {},
   "outputs": [
    {
     "data": {
      "text/plain": [
       "9600"
      ]
     },
     "execution_count": 21,
     "metadata": {},
     "output_type": "execute_result"
    }
   ],
   "source": [
    "labels_unique = get_unique_elements(data_filtre.labels_en)\n",
    "len(labels_unique)"
   ]
  },
  {
   "cell_type": "markdown",
   "metadata": {},
   "source": [
    "Grâce à ce traitement, on obtient la cardinalité réelle mais c'est toujours trop"
   ]
  },
  {
   "cell_type": "markdown",
   "metadata": {},
   "source": [
    "Dans l'idéal, pour cette étude, j'aimerais pouvoir séparer les labels avec ces grandes catégories suivantes:"
   ]
  },
  {
   "cell_type": "code",
   "execution_count": 22,
   "metadata": {},
   "outputs": [],
   "source": [
    "labels_simple = ['organic', 'vegetarian_or_vegan', 'no_preservatives', 'no_colorings', 'sustainable', 'no_gmos', 'no_artificial_flavors']"
   ]
  },
  {
   "cell_type": "markdown",
   "metadata": {},
   "source": [
    "Je vais partir sur une approche \"Dummy\" pour faciliter les filtrages. En effet je ne peux résumer un produit à un seul label."
   ]
  },
  {
   "cell_type": "markdown",
   "metadata": {},
   "source": [
    "<a id='backbio'></a>"
   ]
  },
  {
   "cell_type": "markdown",
   "metadata": {},
   "source": [
    "### Gestion du Bio 🌿 (accès à la fonction [ici](#fonctionbio))"
   ]
  },
  {
   "cell_type": "code",
   "execution_count": 23,
   "metadata": {},
   "outputs": [
    {
     "data": {
      "text/plain": [
       "Index(['code', 'url', 'creator', 'created_t', 'created_datetime',\n",
       "       'last_modified_t', 'last_modified_datetime', 'product_name',\n",
       "       'generic_name', 'quantity',\n",
       "       ...\n",
       "       'carbon-footprint-from-meat-or-fish_100g', 'nutrition-score-fr_100g',\n",
       "       'nutrition-score-uk_100g', 'glycemic-index_100g', 'water-hardness_100g',\n",
       "       'choline_100g', 'phylloquinone_100g', 'beta-glucan_100g',\n",
       "       'inositol_100g', 'carnitine_100g'],\n",
       "      dtype='object', length=183)"
      ]
     },
     "execution_count": 23,
     "metadata": {},
     "output_type": "execute_result"
    }
   ],
   "source": [
    "data_filtre.columns"
   ]
  },
  {
   "cell_type": "code",
   "execution_count": 24,
   "metadata": {},
   "outputs": [
    {
     "name": "stderr",
     "output_type": "stream",
     "text": [
      "<ipython-input-24-1c4cc4edf2d5>:1: SettingWithCopyWarning: \n",
      "A value is trying to be set on a copy of a slice from a DataFrame.\n",
      "Try using .loc[row_indexer,col_indexer] = value instead\n",
      "\n",
      "See the caveats in the documentation: https://pandas.pydata.org/pandas-docs/stable/user_guide/indexing.html#returning-a-view-versus-a-copy\n",
      "  data_filtre['is_labeled_organic'] = data_filtre['labels_en'].map(split_custom).map(test_bio)\n"
     ]
    }
   ],
   "source": [
    "data_filtre['is_labeled_organic'] = data_filtre['labels_en'].map(split_custom).map(test_bio)"
   ]
  },
  {
   "cell_type": "markdown",
   "metadata": {},
   "source": [
    "<a id='backvege'></a>"
   ]
  },
  {
   "cell_type": "markdown",
   "metadata": {},
   "source": [
    "### Gestion du Végétarien ❤️🐖 (accès à la fonction [ici](#fonctionvege))"
   ]
  },
  {
   "cell_type": "code",
   "execution_count": 25,
   "metadata": {},
   "outputs": [
    {
     "name": "stderr",
     "output_type": "stream",
     "text": [
      "<ipython-input-25-1be3452212da>:1: SettingWithCopyWarning: \n",
      "A value is trying to be set on a copy of a slice from a DataFrame.\n",
      "Try using .loc[row_indexer,col_indexer] = value instead\n",
      "\n",
      "See the caveats in the documentation: https://pandas.pydata.org/pandas-docs/stable/user_guide/indexing.html#returning-a-view-versus-a-copy\n",
      "  data_filtre['is_labeled_vege_or_vegan'] = data_filtre.labels_en.map(split_custom).map(test_vege)\n"
     ]
    }
   ],
   "source": [
    "data_filtre['is_labeled_vege_or_vegan'] = data_filtre.labels_en.map(split_custom).map(test_vege)"
   ]
  },
  {
   "cell_type": "markdown",
   "metadata": {},
   "source": [
    "<a id='backconserv'></a>"
   ]
  },
  {
   "cell_type": "markdown",
   "metadata": {},
   "source": [
    "### Gestion des conservateurs 🧂(accès à la fonction [ici](#fonctionnegation))"
   ]
  },
  {
   "cell_type": "code",
   "execution_count": 26,
   "metadata": {},
   "outputs": [],
   "source": [
    "preserv = []\n",
    "for label in labels_unique:\n",
    "    label = label.lower()\n",
    "    if 'konser' in label:\n",
    "        preserv.append(label)"
   ]
  },
  {
   "cell_type": "code",
   "execution_count": 27,
   "metadata": {},
   "outputs": [],
   "source": [
    "# preserv"
   ]
  },
  {
   "cell_type": "code",
   "execution_count": 28,
   "metadata": {},
   "outputs": [],
   "source": [
    "negations_english = [\"no\", \"free\", \"without\", '0', 'non']\n",
    "negations_french = [\"pas\", \"sans\", \"0\", \"aucun\"]\n",
    "negations_spanish= ['no', 'sin', 'zero', '0', 'libre', 'cero']\n",
    "negations_portuguese = ['sem', 'nao']\n",
    "negations_germanique = ['nie', 'bez', 'ohne', 'frei', 'utan', 'brez', 'keine']\n",
    "dict_conservateur = {\"conservateur\": negations_french, \"preservative\": negations_english, \n",
    "                     'conservante':negations_spanish + negations_portuguese, 'konser': negations_germanique}"
   ]
  },
  {
   "cell_type": "code",
   "execution_count": 29,
   "metadata": {},
   "outputs": [
    {
     "name": "stderr",
     "output_type": "stream",
     "text": [
      "<ipython-input-29-7ecc0dafc191>:1: SettingWithCopyWarning: \n",
      "A value is trying to be set on a copy of a slice from a DataFrame.\n",
      "Try using .loc[row_indexer,col_indexer] = value instead\n",
      "\n",
      "See the caveats in the documentation: https://pandas.pydata.org/pandas-docs/stable/user_guide/indexing.html#returning-a-view-versus-a-copy\n",
      "  data_filtre['is_labeled_preserv_free'] = data_filtre.labels_en.map(split_custom).apply(test_no_something, dict_something=dict_conservateur)\n"
     ]
    }
   ],
   "source": [
    "data_filtre['is_labeled_preserv_free'] = data_filtre.labels_en.map(split_custom).apply(test_no_something, dict_something=dict_conservateur)"
   ]
  },
  {
   "cell_type": "code",
   "execution_count": 30,
   "metadata": {},
   "outputs": [
    {
     "data": {
      "text/plain": [
       "False    82654\n",
       "True      9481\n",
       "Name: is_labeled_preserv_free, dtype: int64"
      ]
     },
     "execution_count": 30,
     "metadata": {},
     "output_type": "execute_result"
    }
   ],
   "source": [
    "data_filtre['is_labeled_preserv_free'].value_counts()"
   ]
  },
  {
   "cell_type": "markdown",
   "metadata": {},
   "source": [
    "<a id='backcolor'></a>"
   ]
  },
  {
   "cell_type": "markdown",
   "metadata": {},
   "source": [
    "### Gestion des Colorants 🌈 (accès à la fonction [ici](#fonctionnegation))"
   ]
  },
  {
   "cell_type": "code",
   "execution_count": 31,
   "metadata": {},
   "outputs": [],
   "source": [
    "color = []\n",
    "for label in labels_unique:\n",
    "    label = label.lower()\n",
    "    if 'color' in label:\n",
    "        color.append(label)"
   ]
  },
  {
   "cell_type": "code",
   "execution_count": 32,
   "metadata": {},
   "outputs": [],
   "source": [
    "dict_colorant = {\"color\": negations_french + negations_english + negations_spanish, \"corante\":negations_portuguese, 'farb': negations_germanique}"
   ]
  },
  {
   "cell_type": "code",
   "execution_count": 33,
   "metadata": {},
   "outputs": [
    {
     "name": "stderr",
     "output_type": "stream",
     "text": [
      "<ipython-input-33-e97131e051d5>:1: SettingWithCopyWarning: \n",
      "A value is trying to be set on a copy of a slice from a DataFrame.\n",
      "Try using .loc[row_indexer,col_indexer] = value instead\n",
      "\n",
      "See the caveats in the documentation: https://pandas.pydata.org/pandas-docs/stable/user_guide/indexing.html#returning-a-view-versus-a-copy\n",
      "  data_filtre['is_labeled_colorings_free'] = data_filtre.labels_en.map(split_custom).apply(test_no_something, dict_something=dict_colorant)\n"
     ]
    }
   ],
   "source": [
    "data_filtre['is_labeled_colorings_free'] = data_filtre.labels_en.map(split_custom).apply(test_no_something, dict_something=dict_colorant)"
   ]
  },
  {
   "cell_type": "code",
   "execution_count": 34,
   "metadata": {},
   "outputs": [
    {
     "data": {
      "text/plain": [
       "False    84832\n",
       "True      7303\n",
       "Name: is_labeled_colorings_free, dtype: int64"
      ]
     },
     "execution_count": 34,
     "metadata": {},
     "output_type": "execute_result"
    }
   ],
   "source": [
    "data_filtre['is_labeled_colorings_free'].value_counts()"
   ]
  },
  {
   "cell_type": "markdown",
   "metadata": {},
   "source": [
    "<a id='backGMO'></a>"
   ]
  },
  {
   "cell_type": "markdown",
   "metadata": {},
   "source": [
    "### Gestion des OGMs 🧬 (accès à la fonction [ici](#fonctionnegation))"
   ]
  },
  {
   "cell_type": "code",
   "execution_count": 35,
   "metadata": {},
   "outputs": [],
   "source": [
    "ogm = []\n",
    "for label in labels_unique:\n",
    "    label = label.lower()\n",
    "    if 'gmo' in label:\n",
    "        ogm.append(label)"
   ]
  },
  {
   "cell_type": "code",
   "execution_count": 36,
   "metadata": {},
   "outputs": [],
   "source": [
    "# ogm"
   ]
  },
  {
   "cell_type": "code",
   "execution_count": 37,
   "metadata": {},
   "outputs": [],
   "source": [
    "dict_ogm = {\"ogm\": negations_french + negations_portuguese, 'gmo': negations_english + negations_portuguese, 'gvo': negations_germanique}"
   ]
  },
  {
   "cell_type": "code",
   "execution_count": 38,
   "metadata": {},
   "outputs": [
    {
     "name": "stderr",
     "output_type": "stream",
     "text": [
      "<ipython-input-38-aff1a4a9708c>:1: SettingWithCopyWarning: \n",
      "A value is trying to be set on a copy of a slice from a DataFrame.\n",
      "Try using .loc[row_indexer,col_indexer] = value instead\n",
      "\n",
      "See the caveats in the documentation: https://pandas.pydata.org/pandas-docs/stable/user_guide/indexing.html#returning-a-view-versus-a-copy\n",
      "  data_filtre['is_labeled_gmos_free'] = data_filtre.labels_en.map(split_custom).apply(test_no_something, dict_something=dict_ogm)\n"
     ]
    }
   ],
   "source": [
    "data_filtre['is_labeled_gmos_free'] = data_filtre.labels_en.map(split_custom).apply(test_no_something, dict_something=dict_ogm)"
   ]
  },
  {
   "cell_type": "code",
   "execution_count": 39,
   "metadata": {},
   "outputs": [
    {
     "data": {
      "text/plain": [
       "False    89979\n",
       "True      2156\n",
       "Name: is_labeled_gmos_free, dtype: int64"
      ]
     },
     "execution_count": 39,
     "metadata": {},
     "output_type": "execute_result"
    }
   ],
   "source": [
    "data_filtre['is_labeled_gmos_free'].value_counts()"
   ]
  },
  {
   "cell_type": "markdown",
   "metadata": {},
   "source": [
    "<a id='nett_2'></a>\n",
    "## Categories 🗂️"
   ]
  },
  {
   "cell_type": "markdown",
   "metadata": {},
   "source": [
    "Je pensais d'abord utiliser les données categories_n. mais la données pnns_groups_2/pnns_groups_1 est déjà travaillée et est renseignée à presque 100%"
   ]
  },
  {
   "cell_type": "markdown",
   "metadata": {},
   "source": [
    "### Groups 2 (39 classes)"
   ]
  },
  {
   "cell_type": "code",
   "execution_count": 40,
   "metadata": {},
   "outputs": [
    {
     "data": {
      "text/plain": [
       "Biscuits and cakes    0.089195\n",
       "One-dish meals        0.085744\n",
       "unknown               0.082271\n",
       "Sweets                0.056330\n",
       "Processed meat        0.055278\n",
       "Cereals               0.054822\n",
       "Milk and yogurt       0.052445\n",
       "Cheese                0.050806\n",
       "Name: pnns_groups_2, dtype: float64"
      ]
     },
     "execution_count": 40,
     "metadata": {},
     "output_type": "execute_result"
    }
   ],
   "source": [
    "data_filtre['pnns_groups_2'].value_counts(normalize=True).head(8)"
   ]
  },
  {
   "cell_type": "code",
   "execution_count": 41,
   "metadata": {},
   "outputs": [
    {
     "name": "stderr",
     "output_type": "stream",
     "text": [
      "C:\\Users\\S053567\\Anaconda3\\envs\\env_OC_P03\\lib\\site-packages\\pandas\\core\\indexing.py:1745: SettingWithCopyWarning: \n",
      "A value is trying to be set on a copy of a slice from a DataFrame.\n",
      "Try using .loc[row_indexer,col_indexer] = value instead\n",
      "\n",
      "See the caveats in the documentation: https://pandas.pydata.org/pandas-docs/stable/user_guide/indexing.html#returning-a-view-versus-a-copy\n",
      "  isetter(ilocs[0], value)\n"
     ]
    }
   ],
   "source": [
    "data_filtre.loc[:,'pnns_groups_2'] = data_filtre.loc[:,'pnns_groups_2'].map(lambda x:x.lower()) #Inplace = true"
   ]
  },
  {
   "cell_type": "code",
   "execution_count": 42,
   "metadata": {},
   "outputs": [],
   "source": [
    "data_filtre = data_filtre.replace('pizza pies and quiche', 'pizza pies and quiches')"
   ]
  },
  {
   "cell_type": "markdown",
   "metadata": {},
   "source": [
    "### Groups 1 (9 classes)"
   ]
  },
  {
   "cell_type": "code",
   "execution_count": 43,
   "metadata": {},
   "outputs": [
    {
     "data": {
      "text/plain": [
       "Sugary snacks              0.178097\n",
       "Milk and dairy products    0.135377\n",
       "Cereals and potatoes       0.123634\n",
       "Fish Meat Eggs             0.115146\n",
       "Composite foods            0.101829\n",
       "unknown                    0.082271\n",
       "Beverages                  0.072372\n",
       "Fruits and vegetables      0.061942\n",
       "Fat and sauces             0.056081\n",
       "Salty snacks               0.054800\n",
       "fruits-and-vegetables      0.010040\n",
       "sugary-snacks              0.008249\n",
       "cereals-and-potatoes       0.000152\n",
       "salty-snacks               0.000011\n",
       "Name: pnns_groups_1, dtype: float64"
      ]
     },
     "execution_count": 43,
     "metadata": {},
     "output_type": "execute_result"
    }
   ],
   "source": [
    "data_filtre['pnns_groups_1'].value_counts(normalize=True)"
   ]
  },
  {
   "cell_type": "markdown",
   "metadata": {},
   "source": [
    "Certaines classes sont en double"
   ]
  },
  {
   "cell_type": "code",
   "execution_count": 44,
   "metadata": {},
   "outputs": [],
   "source": [
    "data_filtre = data_filtre.replace('fruits-and-vegetables', 'Fruits and vegetables')\n",
    "data_filtre = data_filtre.replace('sugary-snacks', 'Sugary snacks')\n",
    "data_filtre = data_filtre.replace('cereals-and-potatoes', 'Cereals and potatoes')\n",
    "data_filtre = data_filtre.replace('salty-snacks', 'Salty snacks')"
   ]
  },
  {
   "cell_type": "code",
   "execution_count": 45,
   "metadata": {},
   "outputs": [
    {
     "data": {
      "text/plain": [
       "Sugary snacks              0.186346\n",
       "Milk and dairy products    0.135377\n",
       "Cereals and potatoes       0.123786\n",
       "Fish Meat Eggs             0.115146\n",
       "Composite foods            0.101829\n",
       "unknown                    0.082271\n",
       "Beverages                  0.072372\n",
       "Fruits and vegetables      0.071981\n",
       "Fat and sauces             0.056081\n",
       "Salty snacks               0.054811\n",
       "Name: pnns_groups_1, dtype: float64"
      ]
     },
     "execution_count": 45,
     "metadata": {},
     "output_type": "execute_result"
    }
   ],
   "source": [
    "data_filtre['pnns_groups_1'].value_counts(normalize=True)"
   ]
  },
  {
   "cell_type": "markdown",
   "metadata": {},
   "source": [
    "<a id='categ_kmeans'></a>"
   ]
  },
  {
   "cell_type": "markdown",
   "metadata": {},
   "source": [
    "### Algorithme K-Means pour compléter les données  🧮 "
   ]
  },
  {
   "cell_type": "markdown",
   "metadata": {},
   "source": [
    "L'idée est d'entrainer à partir de données numériques nutritionnelles un modèle pouvant prédire la catégorie a laquelle appartient un produit n'ayant pas de category tag"
   ]
  },
  {
   "cell_type": "code",
   "execution_count": 46,
   "metadata": {},
   "outputs": [
    {
     "data": {
      "text/plain": [
       "10"
      ]
     },
     "execution_count": 46,
     "metadata": {},
     "output_type": "execute_result"
    }
   ],
   "source": [
    "len(data_filtre['pnns_groups_1'].unique())"
   ]
  },
  {
   "cell_type": "code",
   "execution_count": 47,
   "metadata": {},
   "outputs": [
    {
     "data": {
      "text/plain": [
       "biscuits and cakes    8218\n",
       "one-dish meals        7900\n",
       "unknown               7580\n",
       "sweets                5190\n",
       "processed meat        5093\n",
       "Name: pnns_groups_2, dtype: int64"
      ]
     },
     "execution_count": 47,
     "metadata": {},
     "output_type": "execute_result"
    }
   ],
   "source": [
    "data_filtre['pnns_groups_2'].value_counts().head(5)"
   ]
  },
  {
   "cell_type": "markdown",
   "metadata": {},
   "source": [
    "Nous allons utiliser les features suivantes:\n",
    "- 'energy_100g'\n",
    "- 'fat_100g'\n",
    "- 'sugars_100g'\n",
    "- 'saturated-fat_100g'\n",
    "- 'proteins_100g'\n",
    "- 'salt_100g'"
   ]
  },
  {
   "cell_type": "markdown",
   "metadata": {},
   "source": [
    "#### Analyse Univariée basique des features"
   ]
  },
  {
   "cell_type": "code",
   "execution_count": 48,
   "metadata": {},
   "outputs": [
    {
     "data": {
      "image/png": "[encoded data removed]",
      "text/plain": [
       "<Figure size 576x396 with 1 Axes>"
      ]
     },
     "metadata": {},
     "output_type": "display_data"
    }
   ],
   "source": [
    "plot_histo(data_filtre['energy_100g'], title=\"distribution de la valeur energie\", drop_outliers=0, xlabel=\"energy/100g\")"
   ]
  },
  {
   "cell_type": "code",
   "execution_count": 49,
   "metadata": {},
   "outputs": [
    {
     "data": {
      "image/png": "[encoded data removed]",
      "text/plain": [
       "<Figure size 576x396 with 1 Axes>"
      ]
     },
     "metadata": {},
     "output_type": "display_data"
    }
   ],
   "source": [
    "plot_histo(data_filtre['fat_100g'], title=\"distribution de la valeur matiere grasse\", drop_outliers=0, xlabel=\"fat/100g\")"
   ]
  },
  {
   "cell_type": "code",
   "execution_count": 50,
   "metadata": {},
   "outputs": [
    {
     "data": {
      "image/png": "[encoded data removed]",
      "text/plain": [
       "<Figure size 576x396 with 1 Axes>"
      ]
     },
     "metadata": {},
     "output_type": "display_data"
    }
   ],
   "source": [
    "plot_histo(data_filtre['sugars_100g'], title=\"distribution de la valeur sucre\", drop_outliers=0, xlabel=\"sugars_100g\")"
   ]
  },
  {
   "cell_type": "code",
   "execution_count": 51,
   "metadata": {},
   "outputs": [
    {
     "data": {
      "image/png": "[encoded data removed]",
      "text/plain": [
       "<Figure size 576x396 with 1 Axes>"
      ]
     },
     "metadata": {},
     "output_type": "display_data"
    }
   ],
   "source": [
    "plot_histo(data_filtre['proteins_100g'], title=\"distribution de la valeur protéine\", drop_outliers=0, xlabel=\"proteins_100g\")"
   ]
  },
  {
   "cell_type": "code",
   "execution_count": 52,
   "metadata": {},
   "outputs": [
    {
     "data": {
      "image/png": "[encoded data removed]",
      "text/plain": [
       "<Figure size 576x396 with 1 Axes>"
      ]
     },
     "metadata": {},
     "output_type": "display_data"
    }
   ],
   "source": [
    "plot_histo(data_filtre['salt_100g'], title=\"distribution de la valeur sel\", drop_outliers=0, xlabel=\"salt_100g\")"
   ]
  },
  {
   "cell_type": "code",
   "execution_count": 53,
   "metadata": {},
   "outputs": [
    {
     "data": {
      "image/png": "[encoded data removed]",
      "text/plain": [
       "<Figure size 576x396 with 1 Axes>"
      ]
     },
     "metadata": {},
     "output_type": "display_data"
    }
   ],
   "source": [
    "plot_histo(data_filtre['saturated-fat_100g'], title=\"distribution de la valeur sel\", drop_outliers=0, xlabel=\"saturated-fat_100g\")"
   ]
  },
  {
   "cell_type": "markdown",
   "metadata": {},
   "source": [
    "Il est necessaire de nettoyer : "
   ]
  },
  {
   "cell_type": "code",
   "execution_count": 54,
   "metadata": {},
   "outputs": [],
   "source": [
    "data_kmeans = data_filtre[['energy_100g', 'fat_100g', 'sugars_100g', 'saturated-fat_100g', 'proteins_100g', 'salt_100g', 'pnns_groups_1']]\n",
    "data_kmeans = data_kmeans[data_kmeans['pnns_groups_1'] != 'unknown']\n",
    "data_kmeans = data_kmeans[data_kmeans['fat_100g'] <= 100]\n",
    "data_kmeans = data_kmeans[data_kmeans['sugars_100g'] <= 100]\n",
    "data_kmeans = data_kmeans[data_kmeans['proteins_100g'] <= 100]\n",
    "data_kmeans = data_kmeans[data_kmeans['salt_100g'] <= 100]\n",
    "data_kmeans = data_kmeans[data_kmeans['saturated-fat_100g'] <= 100]\n",
    "data_kmeans = data_kmeans[data_kmeans['energy_100g'] <= data_kmeans['energy_100g'].quantile(0.99)]"
   ]
  },
  {
   "cell_type": "markdown",
   "metadata": {},
   "source": [
    "#### Zone d'experimentation pour tester les modèles"
   ]
  },
  {
   "cell_type": "code",
   "execution_count": 55,
   "metadata": {},
   "outputs": [],
   "source": [
    "# mlflow.create_experiment(\"k_means_opti_groups_1\")"
   ]
  },
  {
   "cell_type": "code",
   "execution_count": 56,
   "metadata": {},
   "outputs": [],
   "source": [
    "mlflow.set_experiment(\"k_means_opti_groups_1\")"
   ]
  },
  {
   "cell_type": "markdown",
   "metadata": {},
   "source": [
    "Voir la [fonction source](#launch_kmeans_mlflow)"
   ]
  },
  {
   "cell_type": "code",
   "execution_count": 57,
   "metadata": {},
   "outputs": [],
   "source": [
    "# launch_kmeans_mlflow(data_kmeans, 9, \"Test bilel\", 'pnns_groups_1', max_iter=300, init='random', n_init=10)"
   ]
  },
  {
   "cell_type": "markdown",
   "metadata": {},
   "source": [
    "- Voir le suivi MlFlow avec target = pnns_groups_1 : [cliquer ici](http://sbc.covea.priv:5000/#/experiments/3) (Mlflow doit être lancé)\n",
    "- Voir le suivi MlFlow avec target = pnns_groups_2 : [cliquer ici](http://sbc.covea.priv:5000/#/experiments/2) (Mlflow doit être lancé)"
   ]
  },
  {
   "cell_type": "markdown",
   "metadata": {},
   "source": [
    "Le modèle est très peu performant. Nous allons essayer de le comprendre grace à la partie suivante sur pnns_groups_1"
   ]
  },
  {
   "cell_type": "code",
   "execution_count": 58,
   "metadata": {},
   "outputs": [],
   "source": [
    "data_kmeans_result = launch_kmeans_mlflow(data_kmeans, 9, \"Model_Notebook\", 'pnns_groups_1', max_iter=300, init='random', n_init=10)"
   ]
  },
  {
   "cell_type": "code",
   "execution_count": 59,
   "metadata": {},
   "outputs": [
    {
     "data": {
      "text/html": [
       "<div>\n",
       "<style scoped>\n",
       "    .dataframe tbody tr th:only-of-type {\n",
       "        vertical-align: middle;\n",
       "    }\n",
       "\n",
       "    .dataframe tbody tr th {\n",
       "        vertical-align: top;\n",
       "    }\n",
       "\n",
       "    .dataframe thead th {\n",
       "        text-align: right;\n",
       "    }\n",
       "</style>\n",
       "<table border=\"1\" class=\"dataframe\">\n",
       "  <thead>\n",
       "    <tr style=\"text-align: right;\">\n",
       "      <th></th>\n",
       "      <th>energy_100g</th>\n",
       "      <th>fat_100g</th>\n",
       "      <th>sugars_100g</th>\n",
       "      <th>saturated-fat_100g</th>\n",
       "      <th>proteins_100g</th>\n",
       "      <th>salt_100g</th>\n",
       "      <th>pnns_groups_1</th>\n",
       "      <th>predicted_group</th>\n",
       "      <th>predicted_group_label</th>\n",
       "      <th>model_is_right</th>\n",
       "    </tr>\n",
       "  </thead>\n",
       "  <tbody>\n",
       "    <tr>\n",
       "      <th>1109155</th>\n",
       "      <td>209.0</td>\n",
       "      <td>1.4</td>\n",
       "      <td>8.5</td>\n",
       "      <td>0.6</td>\n",
       "      <td>0.5</td>\n",
       "      <td>0.01</td>\n",
       "      <td>Beverages</td>\n",
       "      <td>8</td>\n",
       "      <td>Beverages</td>\n",
       "      <td>True</td>\n",
       "    </tr>\n",
       "    <tr>\n",
       "      <th>575638</th>\n",
       "      <td>381.0</td>\n",
       "      <td>2.1</td>\n",
       "      <td>1.7</td>\n",
       "      <td>0.5</td>\n",
       "      <td>7.8</td>\n",
       "      <td>0.68</td>\n",
       "      <td>Composite foods</td>\n",
       "      <td>3</td>\n",
       "      <td>Fish Meat Eggs</td>\n",
       "      <td>False</td>\n",
       "    </tr>\n",
       "    <tr>\n",
       "      <th>987398</th>\n",
       "      <td>237.0</td>\n",
       "      <td>0.2</td>\n",
       "      <td>3.8</td>\n",
       "      <td>0.1</td>\n",
       "      <td>8.9</td>\n",
       "      <td>0.10</td>\n",
       "      <td>Milk and dairy products</td>\n",
       "      <td>8</td>\n",
       "      <td>Beverages</td>\n",
       "      <td>False</td>\n",
       "    </tr>\n",
       "    <tr>\n",
       "      <th>1036700</th>\n",
       "      <td>222.0</td>\n",
       "      <td>2.5</td>\n",
       "      <td>4.6</td>\n",
       "      <td>1.5</td>\n",
       "      <td>2.9</td>\n",
       "      <td>0.20</td>\n",
       "      <td>Milk and dairy products</td>\n",
       "      <td>8</td>\n",
       "      <td>Beverages</td>\n",
       "      <td>False</td>\n",
       "    </tr>\n",
       "    <tr>\n",
       "      <th>747142</th>\n",
       "      <td>1389.0</td>\n",
       "      <td>3.3</td>\n",
       "      <td>0.8</td>\n",
       "      <td>0.7</td>\n",
       "      <td>13.8</td>\n",
       "      <td>0.01</td>\n",
       "      <td>Cereals and potatoes</td>\n",
       "      <td>7</td>\n",
       "      <td>Cereals and potatoes</td>\n",
       "      <td>True</td>\n",
       "    </tr>\n",
       "  </tbody>\n",
       "</table>\n",
       "</div>"
      ],
      "text/plain": [
       "         energy_100g  fat_100g  sugars_100g  saturated-fat_100g  \\\n",
       "1109155        209.0       1.4          8.5                 0.6   \n",
       "575638         381.0       2.1          1.7                 0.5   \n",
       "987398         237.0       0.2          3.8                 0.1   \n",
       "1036700        222.0       2.5          4.6                 1.5   \n",
       "747142        1389.0       3.3          0.8                 0.7   \n",
       "\n",
       "         proteins_100g  salt_100g            pnns_groups_1  predicted_group  \\\n",
       "1109155            0.5       0.01                Beverages                8   \n",
       "575638             7.8       0.68          Composite foods                3   \n",
       "987398             8.9       0.10  Milk and dairy products                8   \n",
       "1036700            2.9       0.20  Milk and dairy products                8   \n",
       "747142            13.8       0.01     Cereals and potatoes                7   \n",
       "\n",
       "        predicted_group_label  model_is_right  \n",
       "1109155             Beverages            True  \n",
       "575638         Fish Meat Eggs           False  \n",
       "987398              Beverages           False  \n",
       "1036700             Beverages           False  \n",
       "747142   Cereals and potatoes            True  "
      ]
     },
     "execution_count": 59,
     "metadata": {},
     "output_type": "execute_result"
    }
   ],
   "source": [
    "data_kmeans_result.sample(5)"
   ]
  },
  {
   "cell_type": "code",
   "execution_count": 60,
   "metadata": {},
   "outputs": [
    {
     "name": "stderr",
     "output_type": "stream",
     "text": [
      "C:\\Users\\S053567\\Anaconda3\\envs\\env_OC_P03\\lib\\site-packages\\sklearn\\metrics\\_classification.py:1245: UndefinedMetricWarning: Precision and F-score are ill-defined and being set to 0.0 in labels with no predicted samples. Use `zero_division` parameter to control this behavior.\n",
      "  _warn_prf(average, modifier, msg_start, len(result))\n",
      "C:\\Users\\S053567\\Anaconda3\\envs\\env_OC_P03\\lib\\site-packages\\sklearn\\metrics\\_classification.py:1245: UndefinedMetricWarning: Precision and F-score are ill-defined and being set to 0.0 in labels with no predicted samples. Use `zero_division` parameter to control this behavior.\n",
      "  _warn_prf(average, modifier, msg_start, len(result))\n"
     ]
    },
    {
     "name": "stdout",
     "output_type": "stream",
     "text": [
      "                         precision    recall  f1-score   support\n",
      "\n",
      "        Composite foods       0.38      0.93      0.54      6667\n",
      "         Fat and sauces       0.44      0.41      0.43     11388\n",
      "   Cereals and potatoes       0.00      0.00      0.00      9378\n",
      "         Fish Meat Eggs       0.61      0.20      0.30      4386\n",
      "Milk and dairy products       0.26      0.84      0.40     10597\n",
      "  Fruits and vegetables       0.00      0.00      0.00      6625\n",
      "          Sugary snacks       0.00      0.00      0.00     12461\n",
      "              Beverages       0.00      0.00      0.00      5042\n",
      "           Salty snacks       0.59      0.73      0.65     17151\n",
      "\n",
      "               accuracy                           0.40     83695\n",
      "              macro avg       0.25      0.35      0.26     83695\n",
      "           weighted avg       0.28      0.40      0.30     83695\n",
      "\n"
     ]
    },
    {
     "name": "stderr",
     "output_type": "stream",
     "text": [
      "C:\\Users\\S053567\\Anaconda3\\envs\\env_OC_P03\\lib\\site-packages\\sklearn\\metrics\\_classification.py:1245: UndefinedMetricWarning: Precision and F-score are ill-defined and being set to 0.0 in labels with no predicted samples. Use `zero_division` parameter to control this behavior.\n",
      "  _warn_prf(average, modifier, msg_start, len(result))\n"
     ]
    }
   ],
   "source": [
    "print(metrics.classification_report(data_kmeans_result['pnns_groups_1'],  data_kmeans_result['predicted_group_label'], target_names=data_kmeans_result['pnns_groups_1'].unique()))"
   ]
  },
  {
   "cell_type": "code",
   "execution_count": 61,
   "metadata": {},
   "outputs": [
    {
     "data": {
      "text/plain": [
       "array([[ 6183,   114,     0,     3,   334,     0,     0,     0,    33],\n",
       "       [  220,  4677,     0,    92,  3286,     0,     0,     0,  3113],\n",
       "       [  982,   332,     0,     3,  7659,     0,     0,     0,   402],\n",
       "       [  925,   216,     0,   876,  1899,     0,     0,     0,   470],\n",
       "       [  290,   720,     0,    10,  8893,     0,     0,     0,   684],\n",
       "       [ 4585,   345,     0,    69,  1387,     0,     0,     0,   239],\n",
       "       [ 2724,  1937,     0,     0,  6863,     0,     0,     0,   937],\n",
       "       [   94,   363,     0,   273,  1303,     0,     0,     0,  3009],\n",
       "       [  188,  1871,     0,   103,  2409,     0,     0,     0, 12580]],\n",
       "      dtype=int64)"
      ]
     },
     "execution_count": 61,
     "metadata": {},
     "output_type": "execute_result"
    }
   ],
   "source": [
    "metrics.confusion_matrix(data_kmeans_result['pnns_groups_1'],  data_kmeans_result['predicted_group_label'])"
   ]
  },
  {
   "cell_type": "markdown",
   "metadata": {},
   "source": [
    "<a id='categ_gb'></a>"
   ]
  },
  {
   "cell_type": "markdown",
   "metadata": {},
   "source": [
    "### Même idée mais avec un  Gradient Boosting Classifier  🧮 "
   ]
  },
  {
   "cell_type": "code",
   "execution_count": 62,
   "metadata": {},
   "outputs": [],
   "source": [
    "data_gb = data_filtre[['energy_100g', 'fat_100g', 'sugars_100g', 'saturated-fat_100g', 'proteins_100g', 'salt_100g', 'pnns_groups_1']]\n",
    "data_gb = data_gb[data_gb['pnns_groups_1'] != 'unknown']\n",
    "data_gb = data_gb[data_gb['fat_100g'] <= 100]\n",
    "data_gb = data_gb[data_gb['sugars_100g'] <= 100]\n",
    "data_gb = data_gb[data_gb['proteins_100g'] <= 100]\n",
    "data_gb = data_gb[data_gb['salt_100g'] <= 100]\n",
    "data_gb = data_gb[data_gb['saturated-fat_100g'] <= 100]\n",
    "data_gb = data_gb[data_gb['energy_100g'] <= data_gb['energy_100g'].quantile(0.99)]"
   ]
  },
  {
   "cell_type": "markdown",
   "metadata": {},
   "source": [
    "Voir la [fonction source](#launch_gb_mlflow)"
   ]
  },
  {
   "cell_type": "markdown",
   "metadata": {},
   "source": [
    "#### Zone d'experimentation pour tester les modèles"
   ]
  },
  {
   "cell_type": "code",
   "execution_count": 63,
   "metadata": {},
   "outputs": [],
   "source": [
    "# mlflow.create_experiment('test_gb_groups_2')"
   ]
  },
  {
   "cell_type": "code",
   "execution_count": 64,
   "metadata": {},
   "outputs": [
    {
     "name": "stdout",
     "output_type": "stream",
     "text": [
      "INFO: 'test_gb_groups_1' does not exist. Creating a new experiment\n"
     ]
    }
   ],
   "source": [
    "mlflow.set_experiment('test_gb_groups_1')"
   ]
  },
  {
   "cell_type": "code",
   "execution_count": 65,
   "metadata": {},
   "outputs": [],
   "source": [
    "# launch_gb_mlflow(data_kmeans, 'categories nettoyées', 'pnns_groups_2', n_estimators=100, learning_rate=0.1,  max_depth=8, random_state=41)"
   ]
  },
  {
   "cell_type": "markdown",
   "metadata": {},
   "source": [
    "- Voir le suivi MlFlow avec target = pnns_groups_1: [cliquer ici](http://sbc.covea.priv:5000/#/experiments/5) (Mlflow UI doit être lancé)\n",
    "- Voir le suivi MlFlow avec target = pnns_groups_2: [cliquer ici](http://sbc.covea.priv:5000/#/experiments/6) (Mlflow UI doit être lancé)"
   ]
  },
  {
   "cell_type": "markdown",
   "metadata": {},
   "source": [
    "On obtient de bien meilleures performances : accuracy  = 0.868"
   ]
  },
  {
   "cell_type": "code",
   "execution_count": 72,
   "metadata": {},
   "outputs": [],
   "source": [
    "(data_gb_result, model) = launch_gb_mlflow(data_gb, 'Model_Notebook', 'pnns_groups_1', n_estimators=100, learning_rate=0.1,  max_depth=8, random_state=41)"
   ]
  },
  {
   "cell_type": "code",
   "execution_count": 73,
   "metadata": {},
   "outputs": [
    {
     "name": "stdout",
     "output_type": "stream",
     "text": [
      "                         precision    recall  f1-score   support\n",
      "\n",
      "   Cereals and potatoes       0.91      0.90      0.91      2005\n",
      "  Fruits and vegetables       0.87      0.85      0.86      3443\n",
      "         Fish Meat Eggs       0.75      0.76      0.76      2784\n",
      "        Composite foods       0.83      0.81      0.82      1296\n",
      "              Beverages       0.90      0.92      0.91      3265\n",
      "          Sugary snacks       0.76      0.74      0.75      1989\n",
      "         Fat and sauces       0.94      0.95      0.95      3770\n",
      "Milk and dairy products       0.77      0.76      0.76      1478\n",
      "           Salty snacks       0.91      0.93      0.92      5079\n",
      "\n",
      "               accuracy                           0.87     25109\n",
      "              macro avg       0.85      0.85      0.85     25109\n",
      "           weighted avg       0.87      0.87      0.87     25109\n",
      "\n"
     ]
    }
   ],
   "source": [
    "print(metrics.classification_report(data_gb_result['actual'],  data_gb_result['predicted'], target_names=data_gb_result['actual'].unique()))"
   ]
  },
  {
   "cell_type": "code",
   "execution_count": 74,
   "metadata": {},
   "outputs": [
    {
     "data": {
      "text/plain": [
       "array([[1805,    7,    6,    4,    0,  111,   40,    2,   30],\n",
       "       [   6, 2923,  215,   10,   38,   48,    0,   78,  125],\n",
       "       [   4,  144, 2127,   69,  156,  130,   24,   66,   64],\n",
       "       [   8,    9,   66, 1051,    6,   64,   13,   54,   25],\n",
       "       [   1,   17,  186,    4, 2988,    5,   10,   50,    4],\n",
       "       [ 100,   79,  110,   65,    3, 1470,   25,   33,  104],\n",
       "       [  32,    9,   27,   12,   16,   24, 3575,    9,   66],\n",
       "       [   4,   48,   81,   40,   98,   19,   16, 1121,   51],\n",
       "       [  23,  111,   17,   10,    6,   53,   90,   46, 4723]],\n",
       "      dtype=int64)"
      ]
     },
     "execution_count": 74,
     "metadata": {},
     "output_type": "execute_result"
    }
   ],
   "source": [
    "metrics.confusion_matrix(data_gb_result['actual'],  data_gb_result['predicted'])"
   ]
  },
  {
   "cell_type": "markdown",
   "metadata": {},
   "source": [
    "Le modèle est satisfaisant (en tout cas pour moi, jeune Data Scientist ayant peu d'expérience)"
   ]
  },
  {
   "cell_type": "markdown",
   "metadata": {},
   "source": [
    "Prédiction de la classe des données unknown de pnns_groups_1"
   ]
  },
  {
   "cell_type": "code",
   "execution_count": 84,
   "metadata": {},
   "outputs": [],
   "source": [
    "data_unknown_groups_1 = data_filtre[data_filtre[\"pnns_groups_1\"] == \"unknown\"]"
   ]
  },
  {
   "cell_type": "code",
   "execution_count": 86,
   "metadata": {},
   "outputs": [
    {
     "name": "stderr",
     "output_type": "stream",
     "text": [
      "<ipython-input-86-1d656e0f7b98>:1: SettingWithCopyWarning: \n",
      "A value is trying to be set on a copy of a slice from a DataFrame.\n",
      "Try using .loc[row_indexer,col_indexer] = value instead\n",
      "\n",
      "See the caveats in the documentation: https://pandas.pydata.org/pandas-docs/stable/user_guide/indexing.html#returning-a-view-versus-a-copy\n",
      "  data_unknown_groups_1['predicted_pnns_groups_1'] = model.predict(data_unknown_groups_1[['energy_100g', 'fat_100g', 'sugars_100g', 'saturated-fat_100g', 'proteins_100g', 'salt_100g']])\n"
     ]
    }
   ],
   "source": [
    "data_unknown_groups_1['predicted_pnns_groups_1'] = model.predict(data_unknown_groups_1[['energy_100g', 'fat_100g', 'sugars_100g', 'saturated-fat_100g', 'proteins_100g', 'salt_100g']])"
   ]
  },
  {
   "cell_type": "code",
   "execution_count": 88,
   "metadata": {},
   "outputs": [
    {
     "data": {
      "text/plain": [
       "code                                                                 000039365\n",
       "url                          http://world-en.openfoodfacts.org/product/0000...\n",
       "creator                                                                nouky20\n",
       "created_t                                                           1511207950\n",
       "created_datetime                                          2017-11-20T19:59:10Z\n",
       "                                                   ...                        \n",
       "is_labeled_vege_or_vegan                                                  True\n",
       "is_labeled_preserv_free                                                  False\n",
       "is_labeled_colorings_free                                                False\n",
       "is_labeled_gmos_free                                                      True\n",
       "predicted_pnns_groups_1                                          Sugary snacks\n",
       "Name: 874, Length: 189, dtype: object"
      ]
     },
     "execution_count": 88,
     "metadata": {},
     "output_type": "execute_result"
    }
   ],
   "source": [
    "data_unknown_groups_1.loc[874]"
   ]
  },
  {
   "cell_type": "markdown",
   "metadata": {},
   "source": [
    "<a id='back_parse_gb_results'></a>"
   ]
  },
  {
   "cell_type": "markdown",
   "metadata": {},
   "source": [
    "Voir la [fonction](#parser_prediction)"
   ]
  },
  {
   "cell_type": "code",
   "execution_count": 100,
   "metadata": {},
   "outputs": [],
   "source": [
    "data_filtre[\"pnns_groups_1_complete\"] = data_filtre.apply(parser_prediction, data_unknown=data_unknown_groups_1, col_modeled='pnns_groups_1', col_predicted='predicted_pnns_groups_1', axis=1)"
   ]
  },
  {
   "cell_type": "markdown",
   "metadata": {},
   "source": [
    "Verif :"
   ]
  },
  {
   "cell_type": "code",
   "execution_count": 108,
   "metadata": {},
   "outputs": [
    {
     "data": {
      "text/html": [
       "<div>\n",
       "<style scoped>\n",
       "    .dataframe tbody tr th:only-of-type {\n",
       "        vertical-align: middle;\n",
       "    }\n",
       "\n",
       "    .dataframe tbody tr th {\n",
       "        vertical-align: top;\n",
       "    }\n",
       "\n",
       "    .dataframe thead th {\n",
       "        text-align: right;\n",
       "    }\n",
       "</style>\n",
       "<table border=\"1\" class=\"dataframe\">\n",
       "  <thead>\n",
       "    <tr style=\"text-align: right;\">\n",
       "      <th></th>\n",
       "      <th>pnns_groups_1</th>\n",
       "      <th>pnns_groups_1_complete</th>\n",
       "    </tr>\n",
       "  </thead>\n",
       "  <tbody>\n",
       "    <tr>\n",
       "      <th>874</th>\n",
       "      <td>unknown</td>\n",
       "      <td>Sugary snacks</td>\n",
       "    </tr>\n",
       "    <tr>\n",
       "      <th>875</th>\n",
       "      <td>unknown</td>\n",
       "      <td>Cereals and potatoes</td>\n",
       "    </tr>\n",
       "    <tr>\n",
       "      <th>900</th>\n",
       "      <td>unknown</td>\n",
       "      <td>Cereals and potatoes</td>\n",
       "    </tr>\n",
       "    <tr>\n",
       "      <th>1462</th>\n",
       "      <td>unknown</td>\n",
       "      <td>Fruits and vegetables</td>\n",
       "    </tr>\n",
       "    <tr>\n",
       "      <th>1514</th>\n",
       "      <td>unknown</td>\n",
       "      <td>Sugary snacks</td>\n",
       "    </tr>\n",
       "    <tr>\n",
       "      <th>...</th>\n",
       "      <td>...</td>\n",
       "      <td>...</td>\n",
       "    </tr>\n",
       "    <tr>\n",
       "      <th>1521978</th>\n",
       "      <td>unknown</td>\n",
       "      <td>Cereals and potatoes</td>\n",
       "    </tr>\n",
       "    <tr>\n",
       "      <th>1522041</th>\n",
       "      <td>unknown</td>\n",
       "      <td>Beverages</td>\n",
       "    </tr>\n",
       "    <tr>\n",
       "      <th>1522055</th>\n",
       "      <td>unknown</td>\n",
       "      <td>Salty snacks</td>\n",
       "    </tr>\n",
       "    <tr>\n",
       "      <th>1522077</th>\n",
       "      <td>unknown</td>\n",
       "      <td>Fat and sauces</td>\n",
       "    </tr>\n",
       "    <tr>\n",
       "      <th>1524057</th>\n",
       "      <td>unknown</td>\n",
       "      <td>Sugary snacks</td>\n",
       "    </tr>\n",
       "  </tbody>\n",
       "</table>\n",
       "<p>7580 rows × 2 columns</p>\n",
       "</div>"
      ],
      "text/plain": [
       "        pnns_groups_1 pnns_groups_1_complete\n",
       "874           unknown          Sugary snacks\n",
       "875           unknown   Cereals and potatoes\n",
       "900           unknown   Cereals and potatoes\n",
       "1462          unknown  Fruits and vegetables\n",
       "1514          unknown          Sugary snacks\n",
       "...               ...                    ...\n",
       "1521978       unknown   Cereals and potatoes\n",
       "1522041       unknown              Beverages\n",
       "1522055       unknown           Salty snacks\n",
       "1522077       unknown         Fat and sauces\n",
       "1524057       unknown          Sugary snacks\n",
       "\n",
       "[7580 rows x 2 columns]"
      ]
     },
     "execution_count": 108,
     "metadata": {},
     "output_type": "execute_result"
    }
   ],
   "source": [
    "data_filtre[data_filtre[\"pnns_groups_1\"] == \"unknown\"][[\"pnns_groups_1\", \"pnns_groups_1_complete\"]]"
   ]
  },
  {
   "cell_type": "code",
   "execution_count": 109,
   "metadata": {},
   "outputs": [
    {
     "data": {
      "text/html": [
       "<div>\n",
       "<style scoped>\n",
       "    .dataframe tbody tr th:only-of-type {\n",
       "        vertical-align: middle;\n",
       "    }\n",
       "\n",
       "    .dataframe tbody tr th {\n",
       "        vertical-align: top;\n",
       "    }\n",
       "\n",
       "    .dataframe thead th {\n",
       "        text-align: right;\n",
       "    }\n",
       "</style>\n",
       "<table border=\"1\" class=\"dataframe\">\n",
       "  <thead>\n",
       "    <tr style=\"text-align: right;\">\n",
       "      <th></th>\n",
       "      <th>pnns_groups_1</th>\n",
       "      <th>predicted_pnns_groups_1</th>\n",
       "    </tr>\n",
       "  </thead>\n",
       "  <tbody>\n",
       "    <tr>\n",
       "      <th>874</th>\n",
       "      <td>unknown</td>\n",
       "      <td>Sugary snacks</td>\n",
       "    </tr>\n",
       "    <tr>\n",
       "      <th>875</th>\n",
       "      <td>unknown</td>\n",
       "      <td>Cereals and potatoes</td>\n",
       "    </tr>\n",
       "    <tr>\n",
       "      <th>900</th>\n",
       "      <td>unknown</td>\n",
       "      <td>Cereals and potatoes</td>\n",
       "    </tr>\n",
       "    <tr>\n",
       "      <th>1462</th>\n",
       "      <td>unknown</td>\n",
       "      <td>Fruits and vegetables</td>\n",
       "    </tr>\n",
       "    <tr>\n",
       "      <th>1514</th>\n",
       "      <td>unknown</td>\n",
       "      <td>Sugary snacks</td>\n",
       "    </tr>\n",
       "    <tr>\n",
       "      <th>...</th>\n",
       "      <td>...</td>\n",
       "      <td>...</td>\n",
       "    </tr>\n",
       "    <tr>\n",
       "      <th>1521978</th>\n",
       "      <td>unknown</td>\n",
       "      <td>Cereals and potatoes</td>\n",
       "    </tr>\n",
       "    <tr>\n",
       "      <th>1522041</th>\n",
       "      <td>unknown</td>\n",
       "      <td>Beverages</td>\n",
       "    </tr>\n",
       "    <tr>\n",
       "      <th>1522055</th>\n",
       "      <td>unknown</td>\n",
       "      <td>Salty snacks</td>\n",
       "    </tr>\n",
       "    <tr>\n",
       "      <th>1522077</th>\n",
       "      <td>unknown</td>\n",
       "      <td>Fat and sauces</td>\n",
       "    </tr>\n",
       "    <tr>\n",
       "      <th>1524057</th>\n",
       "      <td>unknown</td>\n",
       "      <td>Sugary snacks</td>\n",
       "    </tr>\n",
       "  </tbody>\n",
       "</table>\n",
       "<p>7580 rows × 2 columns</p>\n",
       "</div>"
      ],
      "text/plain": [
       "        pnns_groups_1 predicted_pnns_groups_1\n",
       "874           unknown           Sugary snacks\n",
       "875           unknown    Cereals and potatoes\n",
       "900           unknown    Cereals and potatoes\n",
       "1462          unknown   Fruits and vegetables\n",
       "1514          unknown           Sugary snacks\n",
       "...               ...                     ...\n",
       "1521978       unknown    Cereals and potatoes\n",
       "1522041       unknown               Beverages\n",
       "1522055       unknown            Salty snacks\n",
       "1522077       unknown          Fat and sauces\n",
       "1524057       unknown           Sugary snacks\n",
       "\n",
       "[7580 rows x 2 columns]"
      ]
     },
     "execution_count": 109,
     "metadata": {},
     "output_type": "execute_result"
    }
   ],
   "source": [
    "data_unknown_groups_1[['pnns_groups_1','predicted_pnns_groups_1']]"
   ]
  },
  {
   "cell_type": "markdown",
   "metadata": {},
   "source": [
    "<a id='nett_3'></a>\n",
    "## Packaging 📦\n",
    "Cette donnée essentielle à notre étude necessite un gros travail de traitement"
   ]
  },
  {
   "cell_type": "code",
   "execution_count": 111,
   "metadata": {},
   "outputs": [
    {
     "data": {
      "text/plain": [
       "count                92135\n",
       "unique               18402\n",
       "top       sachet,plastique\n",
       "freq                  4877\n",
       "Name: packaging_tags, dtype: object"
      ]
     },
     "execution_count": 111,
     "metadata": {},
     "output_type": "execute_result"
    }
   ],
   "source": [
    "data_filtre.packaging_tags.describe()"
   ]
  },
  {
   "cell_type": "markdown",
   "metadata": {},
   "source": [
    "Même configuration : forte cardinalité d'une variable qualitative"
   ]
  },
  {
   "cell_type": "code",
   "execution_count": 112,
   "metadata": {},
   "outputs": [
    {
     "data": {
      "text/plain": [
       "sachet,plastique               4877\n",
       "plastique                      2623\n",
       "kunststoff                     2017\n",
       "carton                         1958\n",
       "frais,plastique                1598\n",
       "barquette,plastique            1452\n",
       "frais                          1450\n",
       "carton,plastique               1221\n",
       "plastic                        1188\n",
       "sachet                         1155\n",
       "bouteille,plastique            1081\n",
       "glas                           1077\n",
       "bocal,verre                    1024\n",
       "sachet-plastique                910\n",
       "conserve                        804\n",
       "plastico                        630\n",
       "brique,carton                   614\n",
       "bouteille,verre                 596\n",
       "carton,boite,plastique          558\n",
       "karton                          541\n",
       "sachet,plastique,surgele        523\n",
       "bocal,verre,couvercle,metal     518\n",
       "barquette                       488\n",
       "papier                          486\n",
       "conserve,metal                  481\n",
       "barquette,plastique,frais       476\n",
       "brique                          464\n",
       "bocal,verre,metal               453\n",
       "plastik                         442\n",
       "tetra-pak                       429\n",
       "plastique,sachet                419\n",
       "karton,kunststoff               403\n",
       "pot                             399\n",
       "boite,carton                    373\n",
       "boite                           371\n",
       "verre                           368\n",
       "bouteille                       365\n",
       "carton,surgele                  355\n",
       "plastique,frais                 346\n",
       "bocal                           312\n",
       "plastique,carton                311\n",
       "plastica                        293\n",
       "pot,verre                       270\n",
       "boite,carton,plastique          267\n",
       "carton,plastique,surgele        261\n",
       "verre,bocal                     244\n",
       "pot,plastique                   244\n",
       "frais,plastique,carton          242\n",
       "surgeles                        241\n",
       "box                             234\n",
       "Name: packaging_tags, dtype: int64"
      ]
     },
     "execution_count": 112,
     "metadata": {},
     "output_type": "execute_result"
    }
   ],
   "source": [
    "data_filtre.packaging_tags.value_counts().head(50)"
   ]
  },
  {
   "cell_type": "markdown",
   "metadata": {},
   "source": [
    "Dans un premier temps je me limiterai à une analyse binaire Plastique/Pas de plastique"
   ]
  },
  {
   "cell_type": "markdown",
   "metadata": {},
   "source": [
    "En regardant les produits dont le packaging tag est \"sachet\", je vois qu'ils sont en plastique"
   ]
  },
  {
   "cell_type": "code",
   "execution_count": 113,
   "metadata": {},
   "outputs": [
    {
     "data": {
      "text/plain": [
       "'http://world-en.openfoodfacts.org/product/7610148431982/cusco-chungo-100-original-beans'"
      ]
     },
     "execution_count": 113,
     "metadata": {},
     "output_type": "execute_result"
    }
   ],
   "source": [
    "data_filtre[data_filtre['packaging_tags'] == 'sachet'][['product_name', 'url']].sample(1).iloc[0,1]"
   ]
  },
  {
   "cell_type": "code",
   "execution_count": 114,
   "metadata": {},
   "outputs": [],
   "source": [
    "plastic_test = lambda x : bool(re.search(r'plast', x)) or bool(re.search(r'kunstoff', x)) or bool(re.search(r'sachet',x))\n",
    "data_filtre[\"has_plastic\"] = data_filtre['packaging_tags'].map(plastic_test)"
   ]
  },
  {
   "cell_type": "markdown",
   "metadata": {},
   "source": [
    "Voir l'[analyse univariée du critère plastique](#univ_3)"
   ]
  },
  {
   "cell_type": "markdown",
   "metadata": {},
   "source": [
    "# Analyses Univariées 📊\n",
    "##### - [Labels](#univ_1)\n",
    "##### - [Categories](#univ_2)\n",
    "##### - [Packaging](#univ_3)\n",
    "##### - [Additifs](#univ_4)\n",
    "##### - [Huile de palme](#univ_5)\n",
    "##### - [Graisse saturée](#univ_6)\n",
    "##### - [Nutriscore numérique](#univ_7)\n",
    "##### - [Nutriscore catégorique](#univ_8)"
   ]
  },
  {
   "cell_type": "markdown",
   "metadata": {},
   "source": [
    "<a id='univ_1'></a>\n",
    "## Labels 🏷️"
   ]
  },
  {
   "cell_type": "markdown",
   "metadata": {},
   "source": [
    "Les labels nous donne des informations sur le type d'aliment et surtout sur le soin apporté par l'industriel pour le produit.\n",
    "L'analyse en histogramme nous permet ici d'y voir plus clair sur la quantité de labels dans le dataset mais ne nous permet pas de réaliser de véritables analyses univariée.\n",
    "Il serait interessant de mener des analyse univariées d'un autre paramètre sur un classe de labels"
   ]
  },
  {
   "cell_type": "code",
   "execution_count": 115,
   "metadata": {},
   "outputs": [],
   "source": [
    "labels_to_inspect = ['is_labeled_organic',\n",
    "                     'is_labeled_vege_or_vegan',\n",
    "                     'is_labeled_preserv_free',\n",
    "                     'is_labeled_colorings_free',\n",
    "                     'is_labeled_gmos_free']\n",
    "\n",
    "qtty_label = [data_filtre[label_to_inspect].value_counts().loc[True] for label_to_inspect in labels_to_inspect]\n",
    "percent_label = np.array(qtty_label)/len(data_filtre) * 100"
   ]
  },
  {
   "cell_type": "markdown",
   "metadata": {},
   "source": [
    "<a id='univ_1_plot_1'></a>"
   ]
  },
  {
   "cell_type": "markdown",
   "metadata": {},
   "source": [
    "Voir fonction [ici](#plot_bar)"
   ]
  },
  {
   "cell_type": "code",
   "execution_count": 116,
   "metadata": {},
   "outputs": [
    {
     "data": {
      "image/png": "[encoded data removed]",
      "text/plain": [
       "<Figure size 576x576 with 1 Axes>"
      ]
     },
     "metadata": {},
     "output_type": "display_data"
    }
   ],
   "source": [
    "plot_bar(percent_label, ['Label Bio', 'Label\\nVege/Vegan', 'Label\\n0 Conservateurs', 'Label\\n0 Colorants', 'Label 0 OGM'], label='Nombre de produits labellisés')"
   ]
  },
  {
   "cell_type": "markdown",
   "metadata": {},
   "source": [
    "<a id='univ_2'></a>\n",
    "## Categories 🗂️"
   ]
  },
  {
   "cell_type": "code",
   "execution_count": 117,
   "metadata": {},
   "outputs": [
    {
     "data": {
      "text/plain": [
       "count                  92135\n",
       "unique                    39\n",
       "top       biscuits and cakes\n",
       "freq                    8218\n",
       "Name: pnns_groups_2, dtype: object"
      ]
     },
     "execution_count": 117,
     "metadata": {},
     "output_type": "execute_result"
    }
   ],
   "source": [
    "data_filtre.pnns_groups_2.describe()"
   ]
  },
  {
   "cell_type": "markdown",
   "metadata": {},
   "source": [
    "Les catégories de pnns_groups_2 sont bien mieux référencées que celles des categories_en"
   ]
  },
  {
   "cell_type": "code",
   "execution_count": 118,
   "metadata": {},
   "outputs": [
    {
     "data": {
      "text/plain": [
       "biscuits and cakes      8218\n",
       "one-dish meals          7900\n",
       "unknown                 7580\n",
       "sweets                  5190\n",
       "processed meat          5093\n",
       "cereals                 5062\n",
       "milk and yogurt         4832\n",
       "cheese                  4681\n",
       "dressings and sauces    3686\n",
       "vegetables              3316\n",
       "Name: pnns_groups_2, dtype: int64"
      ]
     },
     "execution_count": 118,
     "metadata": {},
     "output_type": "execute_result"
    }
   ],
   "source": [
    "data_filtre.pnns_groups_2.value_counts().head(10)"
   ]
  },
  {
   "cell_type": "markdown",
   "metadata": {},
   "source": [
    "Voir la fonction [ici](#plot_bar)"
   ]
  },
  {
   "cell_type": "markdown",
   "metadata": {},
   "source": [
    "<a id='univ_1_plot_2'></a>"
   ]
  },
  {
   "cell_type": "code",
   "execution_count": 119,
   "metadata": {},
   "outputs": [],
   "source": [
    "data_bar_categ = data_filtre.pnns_groups_2.value_counts()/len(data_filtre) *100\n",
    "labels = list(data_filtre.pnns_groups_2.value_counts().index)"
   ]
  },
  {
   "cell_type": "code",
   "execution_count": 120,
   "metadata": {},
   "outputs": [
    {
     "data": {
      "text/plain": [
       "39"
      ]
     },
     "execution_count": 120,
     "metadata": {},
     "output_type": "execute_result"
    }
   ],
   "source": [
    "len(labels)"
   ]
  },
  {
   "cell_type": "code",
   "execution_count": 121,
   "metadata": {},
   "outputs": [
    {
     "name": "stderr",
     "output_type": "stream",
     "text": [
      "No handles with labels found to put in legend.\n"
     ]
    },
    {
     "data": {
      "image/png": "[encoded data removed]",
      "text/plain": [
       "<Figure size 576x576 with 1 Axes>"
      ]
     },
     "metadata": {},
     "output_type": "display_data"
    }
   ],
   "source": [
    "plot_bar(data_bar_categ, labels, rotation=True)"
   ]
  },
  {
   "cell_type": "markdown",
   "metadata": {},
   "source": [
    "Dans le cadre du projet d'application, cette colonne nous servira a proposer un produit de la même catégorie. Il faudra également la rassembler en moins de cardinalités"
   ]
  },
  {
   "cell_type": "markdown",
   "metadata": {},
   "source": [
    "On peut aussi se servir de cette colonne pour un analyse spécifique d'une catégorie d'aliments. par exemple pour voir si le nutriscore est meilleur sans plastique pour certaines catégories."
   ]
  },
  {
   "cell_type": "markdown",
   "metadata": {},
   "source": [
    "<a id='univ_3'></a>\n",
    "## Packaging 📦"
   ]
  },
  {
   "cell_type": "code",
   "execution_count": 122,
   "metadata": {},
   "outputs": [
    {
     "data": {
      "text/plain": [
       "count                92135\n",
       "unique               18402\n",
       "top       sachet,plastique\n",
       "freq                  4877\n",
       "Name: packaging_tags, dtype: object"
      ]
     },
     "execution_count": 122,
     "metadata": {},
     "output_type": "execute_result"
    }
   ],
   "source": [
    "data_filtre.packaging_tags.describe()"
   ]
  },
  {
   "cell_type": "code",
   "execution_count": 123,
   "metadata": {},
   "outputs": [
    {
     "data": {
      "text/plain": [
       "sachet,plastique       4877\n",
       "plastique              2623\n",
       "kunststoff             2017\n",
       "carton                 1958\n",
       "frais,plastique        1598\n",
       "barquette,plastique    1452\n",
       "frais                  1450\n",
       "carton,plastique       1221\n",
       "plastic                1188\n",
       "sachet                 1155\n",
       "Name: packaging_tags, dtype: int64"
      ]
     },
     "execution_count": 123,
     "metadata": {},
     "output_type": "execute_result"
    }
   ],
   "source": [
    "data_filtre.packaging_tags.value_counts().head(10)"
   ]
  },
  {
   "cell_type": "markdown",
   "metadata": {},
   "source": [
    "Pour l'analyse univariée nous nous contenterons pour le moment d'analyser la variable binaire \"has_plastic\" calculée dans la partie [nettoyage](#nett_3)"
   ]
  },
  {
   "cell_type": "code",
   "execution_count": 124,
   "metadata": {},
   "outputs": [
    {
     "data": {
      "text/plain": [
       "True     49262\n",
       "False    42873\n",
       "Name: has_plastic, dtype: int64"
      ]
     },
     "execution_count": 124,
     "metadata": {},
     "output_type": "execute_result"
    }
   ],
   "source": [
    "data_filtre['has_plastic'].value_counts()"
   ]
  },
  {
   "cell_type": "code",
   "execution_count": 125,
   "metadata": {},
   "outputs": [
    {
     "data": {
      "image/png": "[encoded data removed]",
      "text/plain": [
       "<Figure size 576x396 with 1 Axes>"
      ]
     },
     "metadata": {},
     "output_type": "display_data"
    }
   ],
   "source": [
    "plt.title(\"Repartition binaire des emballages\\nd'après le critère plastique\", fontsize=17)\n",
    "plt.pie(data_filtre['has_plastic'].value_counts(), labels=[\"L'emballage contient du plastique\", \"L'emballage ne contient pas de plastique\"], \n",
    "        colors=['#A21AEA', '#278530'], autopct='%.2f', startangle=90)\n",
    "plt.show()"
   ]
  },
  {
   "cell_type": "markdown",
   "metadata": {},
   "source": [
    "Une majorité de produits sont emballés en partie ou totalement dans du plastique"
   ]
  },
  {
   "cell_type": "markdown",
   "metadata": {},
   "source": [
    "#### Intervalle de confiance sur cette repartition:"
   ]
  },
  {
   "cell_type": "code",
   "execution_count": 126,
   "metadata": {},
   "outputs": [
    {
     "data": {
      "text/plain": [
       "42873"
      ]
     },
     "execution_count": 126,
     "metadata": {},
     "output_type": "execute_result"
    }
   ],
   "source": [
    "data_filtre['has_plastic'].value_counts().loc[False]"
   ]
  },
  {
   "cell_type": "code",
   "execution_count": 127,
   "metadata": {},
   "outputs": [],
   "source": [
    "n_produits_total = len(data_filtre)\n",
    "n_produits_sans_plastique = data_filtre['has_plastic'].value_counts().loc[False]\n",
    "proportion_estim = n_produits_sans_plastique / n_produits_total"
   ]
  },
  {
   "cell_type": "code",
   "execution_count": 128,
   "metadata": {},
   "outputs": [
    {
     "data": {
      "text/plain": [
       "0.4653280512291746"
      ]
     },
     "execution_count": 128,
     "metadata": {},
     "output_type": "execute_result"
    }
   ],
   "source": [
    "proportion_estim"
   ]
  },
  {
   "cell_type": "markdown",
   "metadata": {},
   "source": [
    "Niveau de confiance"
   ]
  },
  {
   "cell_type": "code",
   "execution_count": 129,
   "metadata": {},
   "outputs": [
    {
     "data": {
      "text/plain": [
       "(0.4621072858615713, 0.4685488165967779)"
      ]
     },
     "execution_count": 129,
     "metadata": {},
     "output_type": "execute_result"
    }
   ],
   "source": [
    "alpha = 0.05\n",
    "interv_conf_propor_pduits_sans_plastique = proportion_confint(n_produits_sans_plastique, n_produits_total, alpha=alpha, method='normal')\n",
    "interv_conf_propor_pduits_sans_plastique"
   ]
  },
  {
   "cell_type": "markdown",
   "metadata": {},
   "source": [
    "<a id='univ_4'></a>\n",
    "## Additifs 🧪"
   ]
  },
  {
   "cell_type": "code",
   "execution_count": 130,
   "metadata": {},
   "outputs": [
    {
     "data": {
      "text/plain": [
       "count    92135.000000\n",
       "mean         1.572671\n",
       "std          2.238584\n",
       "min          0.000000\n",
       "25%          0.000000\n",
       "50%          1.000000\n",
       "75%          2.000000\n",
       "max         30.000000\n",
       "Name: additives_n, dtype: float64"
      ]
     },
     "execution_count": 130,
     "metadata": {},
     "output_type": "execute_result"
    }
   ],
   "source": [
    "data_filtre.additives_n.describe()"
   ]
  },
  {
   "cell_type": "code",
   "execution_count": 131,
   "metadata": {},
   "outputs": [
    {
     "data": {
      "text/plain": [
       "323    2.0\n",
       "346    4.0\n",
       "384    0.0\n",
       "385    1.0\n",
       "393    3.0\n",
       "Name: additives_n, dtype: float64"
      ]
     },
     "execution_count": 131,
     "metadata": {},
     "output_type": "execute_result"
    }
   ],
   "source": [
    "data_filtre.additives_n.head(5)"
   ]
  },
  {
   "cell_type": "markdown",
   "metadata": {},
   "source": [
    "Cette variable est une variable quantitative visiblement entière"
   ]
  },
  {
   "cell_type": "code",
   "execution_count": 132,
   "metadata": {},
   "outputs": [
    {
     "data": {
      "image/png": "[encoded data removed]",
      "text/plain": [
       "<Figure size 576x396 with 1 Axes>"
      ]
     },
     "metadata": {},
     "output_type": "display_data"
    }
   ],
   "source": [
    "plot_histo(data_filtre.additives_n, bins=30, xlabel=\"Nombre d'additifs\")"
   ]
  },
  {
   "cell_type": "markdown",
   "metadata": {},
   "source": [
    "J'aimerais utiliser cette variable pour tester la correlation entre le nombre d'additifs et la présence de plastique dans l'emballage"
   ]
  },
  {
   "cell_type": "markdown",
   "metadata": {},
   "source": [
    "<a id='univ_5'></a>\n",
    "## Huile de palme 🌴"
   ]
  },
  {
   "cell_type": "code",
   "execution_count": 133,
   "metadata": {},
   "outputs": [
    {
     "data": {
      "text/plain": [
       "count    92135.000000\n",
       "mean         0.037738\n",
       "std          0.193165\n",
       "min          0.000000\n",
       "25%          0.000000\n",
       "50%          0.000000\n",
       "75%          0.000000\n",
       "max          2.000000\n",
       "Name: ingredients_from_palm_oil_n, dtype: float64"
      ]
     },
     "execution_count": 133,
     "metadata": {},
     "output_type": "execute_result"
    }
   ],
   "source": [
    "data_filtre.ingredients_from_palm_oil_n.describe()"
   ]
  },
  {
   "cell_type": "code",
   "execution_count": 134,
   "metadata": {},
   "outputs": [
    {
     "data": {
      "text/plain": [
       "0.0    88704\n",
       "1.0     3385\n",
       "2.0       46\n",
       "Name: ingredients_from_palm_oil_n, dtype: int64"
      ]
     },
     "execution_count": 134,
     "metadata": {},
     "output_type": "execute_result"
    }
   ],
   "source": [
    "data_filtre.ingredients_from_palm_oil_n.value_counts()"
   ]
  },
  {
   "cell_type": "markdown",
   "metadata": {},
   "source": [
    "<a id='univ_6'></a>\n",
    "## Graisse saturée 🍟"
   ]
  },
  {
   "cell_type": "code",
   "execution_count": 135,
   "metadata": {},
   "outputs": [
    {
     "data": {
      "text/plain": [
       "count    92135.000000\n",
       "mean         5.479181\n",
       "std          8.364213\n",
       "min          0.000000\n",
       "25%          0.350000\n",
       "50%          2.000000\n",
       "75%          7.650000\n",
       "max        140.000000\n",
       "Name: saturated-fat_100g, dtype: float64"
      ]
     },
     "execution_count": 135,
     "metadata": {},
     "output_type": "execute_result"
    }
   ],
   "source": [
    "data_filtre['saturated-fat_100g'].describe()"
   ]
  },
  {
   "cell_type": "markdown",
   "metadata": {},
   "source": [
    "Cette variable quantitative donne le nombre de grammes de graisse saturée pour 100g de produit. Il n'est donc pas logique que certains produits aient une valeur de plus de 100.\n",
    "Regardons ces valeurs"
   ]
  },
  {
   "cell_type": "code",
   "execution_count": 136,
   "metadata": {},
   "outputs": [
    {
     "data": {
      "text/html": [
       "<div>\n",
       "<style scoped>\n",
       "    .dataframe tbody tr th:only-of-type {\n",
       "        vertical-align: middle;\n",
       "    }\n",
       "\n",
       "    .dataframe tbody tr th {\n",
       "        vertical-align: top;\n",
       "    }\n",
       "\n",
       "    .dataframe thead th {\n",
       "        text-align: right;\n",
       "    }\n",
       "</style>\n",
       "<table border=\"1\" class=\"dataframe\">\n",
       "  <thead>\n",
       "    <tr style=\"text-align: right;\">\n",
       "      <th></th>\n",
       "      <th>product_name</th>\n",
       "      <th>nutriscore_grade</th>\n",
       "      <th>quantity</th>\n",
       "      <th>saturated-fat_100g</th>\n",
       "      <th>serving_size</th>\n",
       "      <th>ingredients_text</th>\n",
       "    </tr>\n",
       "  </thead>\n",
       "  <tbody>\n",
       "    <tr>\n",
       "      <th>652577</th>\n",
       "      <td>Palets dorés noix de coco</td>\n",
       "      <td>e</td>\n",
       "      <td>125 g</td>\n",
       "      <td>120.0</td>\n",
       "      <td>23 g</td>\n",
       "      <td>Farine de ble 50%, sucre, noix de coco 8,4%, h...</td>\n",
       "    </tr>\n",
       "    <tr>\n",
       "      <th>915679</th>\n",
       "      <td>Virgin coconuts oil</td>\n",
       "      <td>d</td>\n",
       "      <td>380 ml</td>\n",
       "      <td>100.0</td>\n",
       "      <td>NaN</td>\n",
       "      <td>Noix de coco bio.</td>\n",
       "    </tr>\n",
       "    <tr>\n",
       "      <th>1212389</th>\n",
       "      <td>Kokosöl BIO</td>\n",
       "      <td>e</td>\n",
       "      <td>182g</td>\n",
       "      <td>100.0</td>\n",
       "      <td>NaN</td>\n",
       "      <td>Bio Kokosfett (Sri Lanka). Kokosfett: Fairtrad...</td>\n",
       "    </tr>\n",
       "    <tr>\n",
       "      <th>1353590</th>\n",
       "      <td>Aceite de oliva virgen extra &amp;quot;Esencia And...</td>\n",
       "      <td>c</td>\n",
       "      <td>10 ml</td>\n",
       "      <td>140.0</td>\n",
       "      <td>10 ml</td>\n",
       "      <td>Aceite de oliva virgen extra.</td>\n",
       "    </tr>\n",
       "  </tbody>\n",
       "</table>\n",
       "</div>"
      ],
      "text/plain": [
       "                                              product_name nutriscore_grade  \\\n",
       "652577                           Palets dorés noix de coco                e   \n",
       "915679                                 Virgin coconuts oil                d   \n",
       "1212389                                        Kokosöl BIO                e   \n",
       "1353590  Aceite de oliva virgen extra &quot;Esencia And...                c   \n",
       "\n",
       "        quantity  saturated-fat_100g serving_size  \\\n",
       "652577     125 g               120.0         23 g   \n",
       "915679    380 ml               100.0          NaN   \n",
       "1212389     182g               100.0          NaN   \n",
       "1353590    10 ml               140.0        10 ml   \n",
       "\n",
       "                                          ingredients_text  \n",
       "652577   Farine de ble 50%, sucre, noix de coco 8,4%, h...  \n",
       "915679                                   Noix de coco bio.  \n",
       "1212389  Bio Kokosfett (Sri Lanka). Kokosfett: Fairtrad...  \n",
       "1353590                      Aceite de oliva virgen extra.  "
      ]
     },
     "execution_count": 136,
     "metadata": {},
     "output_type": "execute_result"
    }
   ],
   "source": [
    "data_filtre[data_filtre['saturated-fat_100g'] >= 100][['product_name', 'nutriscore_grade', 'quantity', 'saturated-fat_100g', 'serving_size', 'ingredients_text']]"
   ]
  },
  {
   "cell_type": "markdown",
   "metadata": {},
   "source": [
    "Bien que surprenant à première vue, ces outliers n'en sont peut etre pas étant donné que ce sont en fait des huiles liquides. Je suspecte que la données saturated fat soit ici une donnée en ml et que le taux de passage ml-g soit approximatif.\n",
    "Seul le premier semble suspect d'autent qu'il possède 50% de farine. Je vais donc le supprimer"
   ]
  },
  {
   "cell_type": "code",
   "execution_count": 137,
   "metadata": {},
   "outputs": [],
   "source": [
    "data_filtre = data_filtre.drop([652577])"
   ]
  },
  {
   "cell_type": "code",
   "execution_count": 138,
   "metadata": {},
   "outputs": [
    {
     "data": {
      "image/png": "[encoded data removed]",
      "text/plain": [
       "<Figure size 576x396 with 1 Axes>"
      ]
     },
     "metadata": {},
     "output_type": "display_data"
    }
   ],
   "source": [
    "plot_histo(data_filtre['saturated-fat_100g'], bins=24, xlabel=\"Graisse saturée pour 100g\")"
   ]
  },
  {
   "cell_type": "markdown",
   "metadata": {},
   "source": [
    "<a id='univ_7'></a>\n",
    "### Nutriscore 🔢 (numérique)"
   ]
  },
  {
   "cell_type": "code",
   "execution_count": 139,
   "metadata": {},
   "outputs": [
    {
     "data": {
      "text/plain": [
       "count    92134.000000\n",
       "mean         8.109189\n",
       "std          9.067266\n",
       "min        -15.000000\n",
       "25%          1.000000\n",
       "50%          7.000000\n",
       "75%         15.000000\n",
       "max         36.000000\n",
       "Name: nutriscore_score, dtype: float64"
      ]
     },
     "execution_count": 139,
     "metadata": {},
     "output_type": "execute_result"
    }
   ],
   "source": [
    "data_filtre.nutriscore_score.describe()"
   ]
  },
  {
   "cell_type": "markdown",
   "metadata": {},
   "source": [
    "C'est une variable quantitative sur la qualité des aliments"
   ]
  },
  {
   "cell_type": "markdown",
   "metadata": {},
   "source": [
    "Voici la documentation:"
   ]
  },
  {
   "cell_type": "markdown",
   "metadata": {},
   "source": [
    "<img src=\"img/nutriscore.png\" style=\"height:250px\">"
   ]
  },
  {
   "cell_type": "code",
   "execution_count": 140,
   "metadata": {},
   "outputs": [
    {
     "data": {
      "image/png": "[encoded data removed]",
      "text/plain": [
       "<Figure size 576x396 with 1 Axes>"
      ]
     },
     "metadata": {},
     "output_type": "display_data"
    }
   ],
   "source": [
    "plot_histo(data_filtre['nutriscore_score'], xlabel=\"Nutriscore\")"
   ]
  },
  {
   "cell_type": "markdown",
   "metadata": {},
   "source": [
    "Mesure de la symetrie avec Skewness : "
   ]
  },
  {
   "cell_type": "code",
   "execution_count": 141,
   "metadata": {},
   "outputs": [
    {
     "data": {
      "text/plain": [
       "0.2666510717738149"
      ]
     },
     "execution_count": 141,
     "metadata": {},
     "output_type": "execute_result"
    }
   ],
   "source": [
    "data_filtre.nutriscore_score.skew()"
   ]
  },
  {
   "cell_type": "markdown",
   "metadata": {},
   "source": [
    "On voit que la distribution est quasi symétrique avec un léger décalage à gauche"
   ]
  },
  {
   "cell_type": "markdown",
   "metadata": {},
   "source": [
    "<a id='univ_8'></a>\n",
    "### Nutriscore 🔠 (grade)"
   ]
  },
  {
   "cell_type": "code",
   "execution_count": 142,
   "metadata": {},
   "outputs": [
    {
     "data": {
      "text/plain": [
       "count     92134\n",
       "unique        5\n",
       "top           d\n",
       "freq      24602\n",
       "Name: nutriscore_grade, dtype: object"
      ]
     },
     "execution_count": 142,
     "metadata": {},
     "output_type": "execute_result"
    }
   ],
   "source": [
    "data_filtre.nutriscore_grade.describe()"
   ]
  },
  {
   "cell_type": "code",
   "execution_count": 143,
   "metadata": {},
   "outputs": [
    {
     "data": {
      "text/plain": [
       "array(['b', 'e', 'd', 'c', 'a'], dtype=object)"
      ]
     },
     "execution_count": 143,
     "metadata": {},
     "output_type": "execute_result"
    }
   ],
   "source": [
    "data_filtre.nutriscore_grade.unique()"
   ]
  },
  {
   "cell_type": "code",
   "execution_count": 144,
   "metadata": {},
   "outputs": [
    {
     "data": {
      "text/plain": [
       "d    24602\n",
       "c    20106\n",
       "a    17394\n",
       "e    15929\n",
       "b    14103\n",
       "Name: nutriscore_grade, dtype: int64"
      ]
     },
     "execution_count": 144,
     "metadata": {},
     "output_type": "execute_result"
    }
   ],
   "source": [
    "data_filtre.nutriscore_grade.value_counts()"
   ]
  },
  {
   "cell_type": "markdown",
   "metadata": {},
   "source": [
    "Cette note connue du grand public est une note de A à E (A étant la meilleure et E la moins bonne). C'est donc une variable qualitative ordonnée. On peut la traiter comme une variable quantitative"
   ]
  },
  {
   "cell_type": "code",
   "execution_count": 145,
   "metadata": {},
   "outputs": [],
   "source": [
    "data_filtre['nutriscore_grade_num'] = data_filtre.nutriscore_grade.replace({'a':4, 'b':3, 'c':2, 'd':1, 'e':0})"
   ]
  },
  {
   "cell_type": "code",
   "execution_count": 146,
   "metadata": {},
   "outputs": [],
   "source": [
    "data_pie_nutriscore = data_filtre['nutriscore_grade_num'].value_counts().sort_index()"
   ]
  },
  {
   "cell_type": "code",
   "execution_count": 147,
   "metadata": {},
   "outputs": [
    {
     "data": {
      "image/png": "[encoded data removed]",
      "text/plain": [
       "<Figure size 576x576 with 1 Axes>"
      ]
     },
     "metadata": {},
     "output_type": "display_data"
    }
   ],
   "source": [
    "plt.figure(figsize=(8,8))\n",
    "plt.style.use('seaborn')\n",
    "plt.title(\"Repartition des nutriscores\")\n",
    "plt.pie(data_pie_nutriscore, labels=['E', 'D', 'C', 'B', 'A'], colors=['red','orange','yellow', '#0DF347', 'green'], startangle=90)\n",
    "plt.show()"
   ]
  },
  {
   "cell_type": "code",
   "execution_count": 148,
   "metadata": {},
   "outputs": [
    {
     "name": "stderr",
     "output_type": "stream",
     "text": [
      "No handles with labels found to put in legend.\n"
     ]
    },
    {
     "data": {
      "image/png": "[encoded data removed]",
      "text/plain": [
       "<Figure size 576x396 with 1 Axes>"
      ]
     },
     "metadata": {},
     "output_type": "display_data"
    }
   ],
   "source": [
    "plot_histo(data_filtre['nutriscore_grade_num'], plot_density=False, xlabel='Nutriscore note de 0 à 4')"
   ]
  },
  {
   "cell_type": "code",
   "execution_count": 149,
   "metadata": {},
   "outputs": [
    {
     "data": {
      "text/plain": [
       "count    92134.000000\n",
       "mean         1.917848\n",
       "std          1.363849\n",
       "min          0.000000\n",
       "25%          1.000000\n",
       "50%          2.000000\n",
       "75%          3.000000\n",
       "max          4.000000\n",
       "Name: nutriscore_grade_num, dtype: float64"
      ]
     },
     "execution_count": 149,
     "metadata": {},
     "output_type": "execute_result"
    }
   ],
   "source": [
    "data_filtre['nutriscore_grade_num'].describe()"
   ]
  },
  {
   "cell_type": "code",
   "execution_count": 150,
   "metadata": {},
   "outputs": [
    {
     "data": {
      "text/plain": [
       "0.18615294514462896"
      ]
     },
     "execution_count": 150,
     "metadata": {},
     "output_type": "execute_result"
    }
   ],
   "source": [
    "data_filtre['nutriscore_grade_num'].skew()"
   ]
  },
  {
   "cell_type": "code",
   "execution_count": 151,
   "metadata": {},
   "outputs": [
    {
     "data": {
      "text/plain": [
       "-1.1829259288549363"
      ]
     },
     "execution_count": 151,
     "metadata": {},
     "output_type": "execute_result"
    }
   ],
   "source": [
    "data_filtre['nutriscore_grade_num'].kurtosis()"
   ]
  },
  {
   "cell_type": "markdown",
   "metadata": {},
   "source": [
    "La repartition n'est pas uniforme mais fera quand mêmel'approximation qu'elle l'est au regard de l'écart interquartile, de kurtosis et de skewness"
   ]
  },
  {
   "cell_type": "markdown",
   "metadata": {},
   "source": [
    "# Analyses Bivariées 📈"
   ]
  },
  {
   "cell_type": "markdown",
   "metadata": {},
   "source": [
    "## 1: Analyse bivariée entre le type d'emballage et le nutriscore_score"
   ]
  },
  {
   "cell_type": "code",
   "execution_count": 152,
   "metadata": {},
   "outputs": [],
   "source": [
    "X = \"has_plastic\" # qualitative\n",
    "Y = \"nutriscore_score\" # quantitative"
   ]
  },
  {
   "cell_type": "code",
   "execution_count": 153,
   "metadata": {},
   "outputs": [],
   "source": [
    "echantillon_1 = data_filtre[['nutriscore_score', 'has_plastic']]"
   ]
  },
  {
   "cell_type": "code",
   "execution_count": 154,
   "metadata": {},
   "outputs": [
    {
     "data": {
      "image/png": "[encoded data removed]",
      "text/plain": [
       "<Figure size 576x288 with 1 Axes>"
      ]
     },
     "metadata": {},
     "output_type": "display_data"
    }
   ],
   "source": [
    "modalites = [True, False]\n",
    "groupes = []\n",
    "for m in modalites:\n",
    "    groupes.append(echantillon_1[echantillon_1[X]==m][Y])\n",
    "\n",
    "# Propriétés graphiques (pas très importantes)    \n",
    "medianprops = {'color':\"black\"}\n",
    "meanprops = {'marker':'o', 'markeredgecolor':'black',\n",
    "            'markerfacecolor':'firebrick'}\n",
    "\n",
    "plt.figure(figsize=(8,4))\n",
    "plt.style.use('seaborn')\n",
    "plt.boxplot(groupes, labels=['Avec plastique', 'Sans plastique'], showfliers=False, medianprops=medianprops, \n",
    "            vert=False, patch_artist=True, showmeans=True, meanprops=meanprops)\n",
    "plt.text(-10,2.4, \"Plus le nutriscore est bas, mieux c'est\", fontsize=14)\n",
    "plt.xlabel(Y)\n",
    "plt.show()"
   ]
  },
  {
   "cell_type": "markdown",
   "metadata": {},
   "source": [
    "On voit que la moyenne et la mediane sont plus faibles (donc meilleures) pour les produits sans plastiques"
   ]
  },
  {
   "cell_type": "code",
   "execution_count": 155,
   "metadata": {},
   "outputs": [],
   "source": [
    "X = \"has_plastic\" # qualitative\n",
    "Y = \"nutriscore_grade_num\" # quantitative\n",
    "echantillon_2 = data_filtre[[Y, X]]"
   ]
  },
  {
   "cell_type": "code",
   "execution_count": 156,
   "metadata": {},
   "outputs": [
    {
     "data": {
      "image/png": "[encoded data removed]",
      "text/plain": [
       "<Figure size 576x288 with 1 Axes>"
      ]
     },
     "metadata": {},
     "output_type": "display_data"
    }
   ],
   "source": [
    "modalites = [True, False]\n",
    "groupes = []\n",
    "for m in modalites:\n",
    "    groupes.append(echantillon_2[echantillon_2[X]==m][Y])\n",
    "\n",
    "# Propriétés graphiques (pas très importantes)    \n",
    "medianprops = {'color':\"black\"}\n",
    "meanprops = {'marker':'o', 'markeredgecolor':'black',\n",
    "            'markerfacecolor':'firebrick'}\n",
    "\n",
    "plt.figure(figsize=(8,4))\n",
    "plt.style.use('seaborn')\n",
    "plt.boxplot(groupes, labels=['Avec plastique', 'Sans plastique'], showfliers=False, medianprops=medianprops, \n",
    "            vert=False, patch_artist=True, showmeans=True, meanprops=meanprops)\n",
    "plt.xlabel(Y)\n",
    "plt.show()"
   ]
  },
  {
   "cell_type": "markdown",
   "metadata": {},
   "source": [
    "Sur ce graphe on voit que la repartition du nutriscore (grade) est similaire pour les deux classes. On remarque par contre que la moyenne est inférieure pour les produits emballés dans du plastique"
   ]
  },
  {
   "cell_type": "markdown",
   "metadata": {},
   "source": [
    "## 2: Analyse bivariée entre le type d'emballage et le nutriscore_grade"
   ]
  },
  {
   "cell_type": "markdown",
   "metadata": {},
   "source": [
    "### Avec seulement deux catégories plastique/pas de plastique"
   ]
  },
  {
   "cell_type": "markdown",
   "metadata": {},
   "source": [
    "Tableau de contingence"
   ]
  },
  {
   "cell_type": "code",
   "execution_count": 157,
   "metadata": {},
   "outputs": [
    {
     "data": {
      "text/plain": [
       "True     49261\n",
       "False    42873\n",
       "Name: has_plastic, dtype: int64"
      ]
     },
     "execution_count": 157,
     "metadata": {},
     "output_type": "execute_result"
    }
   ],
   "source": [
    "data_filtre.has_plastic.value_counts()"
   ]
  },
  {
   "cell_type": "code",
   "execution_count": 158,
   "metadata": {},
   "outputs": [],
   "source": [
    "X = \"nutriscore_grade\"\n",
    "Y = \"has_plastic\"\n",
    "\n",
    "echantillon_3 = data_filtre[['nutriscore_grade', 'has_plastic']]\n",
    "cont = echantillon_3[[X,Y]].pivot_table(index=X,columns=Y,aggfunc=len ,margins=True,margins_name=\"Total\")"
   ]
  },
  {
   "cell_type": "code",
   "execution_count": 159,
   "metadata": {},
   "outputs": [],
   "source": [
    "cont['Freq_False'] = cont.loc[:,0] / cont.Total * 100"
   ]
  },
  {
   "cell_type": "code",
   "execution_count": 160,
   "metadata": {},
   "outputs": [
    {
     "data": {
      "text/html": [
       "<div>\n",
       "<style scoped>\n",
       "    .dataframe tbody tr th:only-of-type {\n",
       "        vertical-align: middle;\n",
       "    }\n",
       "\n",
       "    .dataframe tbody tr th {\n",
       "        vertical-align: top;\n",
       "    }\n",
       "\n",
       "    .dataframe thead th {\n",
       "        text-align: right;\n",
       "    }\n",
       "</style>\n",
       "<table border=\"1\" class=\"dataframe\">\n",
       "  <thead>\n",
       "    <tr style=\"text-align: right;\">\n",
       "      <th>has_plastic</th>\n",
       "      <th>False</th>\n",
       "      <th>True</th>\n",
       "      <th>Total</th>\n",
       "      <th>Freq_False</th>\n",
       "    </tr>\n",
       "    <tr>\n",
       "      <th>nutriscore_grade</th>\n",
       "      <th></th>\n",
       "      <th></th>\n",
       "      <th></th>\n",
       "      <th></th>\n",
       "    </tr>\n",
       "  </thead>\n",
       "  <tbody>\n",
       "    <tr>\n",
       "      <th>a</th>\n",
       "      <td>8152</td>\n",
       "      <td>9242</td>\n",
       "      <td>17394</td>\n",
       "      <td>46.866736</td>\n",
       "    </tr>\n",
       "    <tr>\n",
       "      <th>b</th>\n",
       "      <td>7230</td>\n",
       "      <td>6873</td>\n",
       "      <td>14103</td>\n",
       "      <td>51.265688</td>\n",
       "    </tr>\n",
       "    <tr>\n",
       "      <th>c</th>\n",
       "      <td>9579</td>\n",
       "      <td>10527</td>\n",
       "      <td>20106</td>\n",
       "      <td>47.642495</td>\n",
       "    </tr>\n",
       "    <tr>\n",
       "      <th>d</th>\n",
       "      <td>10526</td>\n",
       "      <td>14076</td>\n",
       "      <td>24602</td>\n",
       "      <td>42.785139</td>\n",
       "    </tr>\n",
       "    <tr>\n",
       "      <th>e</th>\n",
       "      <td>7386</td>\n",
       "      <td>8543</td>\n",
       "      <td>15929</td>\n",
       "      <td>46.368259</td>\n",
       "    </tr>\n",
       "    <tr>\n",
       "      <th>Total</th>\n",
       "      <td>42873</td>\n",
       "      <td>49261</td>\n",
       "      <td>92134</td>\n",
       "      <td>46.533310</td>\n",
       "    </tr>\n",
       "  </tbody>\n",
       "</table>\n",
       "</div>"
      ],
      "text/plain": [
       "has_plastic       False   True  Total  Freq_False\n",
       "nutriscore_grade                                 \n",
       "a                  8152   9242  17394   46.866736\n",
       "b                  7230   6873  14103   51.265688\n",
       "c                  9579  10527  20106   47.642495\n",
       "d                 10526  14076  24602   42.785139\n",
       "e                  7386   8543  15929   46.368259\n",
       "Total             42873  49261  92134   46.533310"
      ]
     },
     "execution_count": 160,
     "metadata": {},
     "output_type": "execute_result"
    }
   ],
   "source": [
    "cont"
   ]
  },
  {
   "cell_type": "markdown",
   "metadata": {},
   "source": [
    "# Analyse statistique: 💯\n",
    "Obtention de l'intervalle de confiance de la proportion de produits sans plastique dans la population Nutriscore Grade = A ou B"
   ]
  },
  {
   "cell_type": "code",
   "execution_count": 161,
   "metadata": {},
   "outputs": [],
   "source": [
    "echantillon_4 = data_filtre[data_filtre['nutriscore_grade'].isin(['a', 'b'])][['nutriscore_grade', 'has_plastic']].replace({True:0, False:1}).rename(columns={'has_plastic': 'no_plastic'})"
   ]
  },
  {
   "cell_type": "code",
   "execution_count": 162,
   "metadata": {},
   "outputs": [
    {
     "data": {
      "text/html": [
       "<div>\n",
       "<style scoped>\n",
       "    .dataframe tbody tr th:only-of-type {\n",
       "        vertical-align: middle;\n",
       "    }\n",
       "\n",
       "    .dataframe tbody tr th {\n",
       "        vertical-align: top;\n",
       "    }\n",
       "\n",
       "    .dataframe thead th {\n",
       "        text-align: right;\n",
       "    }\n",
       "</style>\n",
       "<table border=\"1\" class=\"dataframe\">\n",
       "  <thead>\n",
       "    <tr style=\"text-align: right;\">\n",
       "      <th></th>\n",
       "      <th>nutriscore_grade</th>\n",
       "      <th>no_plastic</th>\n",
       "    </tr>\n",
       "  </thead>\n",
       "  <tbody>\n",
       "    <tr>\n",
       "      <th>323</th>\n",
       "      <td>b</td>\n",
       "      <td>0</td>\n",
       "    </tr>\n",
       "    <tr>\n",
       "      <th>346</th>\n",
       "      <td>b</td>\n",
       "      <td>0</td>\n",
       "    </tr>\n",
       "    <tr>\n",
       "      <th>406</th>\n",
       "      <td>b</td>\n",
       "      <td>0</td>\n",
       "    </tr>\n",
       "    <tr>\n",
       "      <th>906</th>\n",
       "      <td>a</td>\n",
       "      <td>1</td>\n",
       "    </tr>\n",
       "    <tr>\n",
       "      <th>911</th>\n",
       "      <td>a</td>\n",
       "      <td>1</td>\n",
       "    </tr>\n",
       "  </tbody>\n",
       "</table>\n",
       "</div>"
      ],
      "text/plain": [
       "    nutriscore_grade  no_plastic\n",
       "323                b           0\n",
       "346                b           0\n",
       "406                b           0\n",
       "906                a           1\n",
       "911                a           1"
      ]
     },
     "execution_count": 162,
     "metadata": {},
     "output_type": "execute_result"
    }
   ],
   "source": [
    "echantillon_4.head(5)"
   ]
  },
  {
   "cell_type": "code",
   "execution_count": 163,
   "metadata": {},
   "outputs": [],
   "source": [
    "n_produits_sains = len(echantillon_4)\n",
    "n_produits_sains_sans_platique = echantillon_4.no_plastic.sum()\n",
    "proportion_estim = n_produits_sains_sans_platique / n_produits_sains"
   ]
  },
  {
   "cell_type": "code",
   "execution_count": 164,
   "metadata": {},
   "outputs": [
    {
     "data": {
      "text/plain": [
       "0.48836397117185765"
      ]
     },
     "execution_count": 164,
     "metadata": {},
     "output_type": "execute_result"
    }
   ],
   "source": [
    "proportion_estim"
   ]
  },
  {
   "cell_type": "markdown",
   "metadata": {},
   "source": [
    "Niveau de confiance"
   ]
  },
  {
   "cell_type": "code",
   "execution_count": 165,
   "metadata": {},
   "outputs": [],
   "source": [
    "from statsmodels.stats.proportion import proportion_confint"
   ]
  },
  {
   "cell_type": "code",
   "execution_count": 166,
   "metadata": {},
   "outputs": [
    {
     "data": {
      "text/plain": [
       "(0.4828436307032652, 0.4938843116404501)"
      ]
     },
     "execution_count": 166,
     "metadata": {},
     "output_type": "execute_result"
    }
   ],
   "source": [
    "alpha = 0.05\n",
    "proportion_confint(n_produits_sains_sans_platique, n_produits_sains, alpha=alpha, method='normal')"
   ]
  },
  {
   "cell_type": "markdown",
   "metadata": {},
   "source": [
    "On peut ici affirmer que le taux d'aliments sans plastique dans la population d'aliments \"sains\" (c-à-d des groupes A et B) est supérieur au taux général d'aliment sans plastique sur l'ensemble de la population dont l'intervalle de confiance est rappelé ci dessous.  cf [Analyse univariée de la variable \"has_plastic\"](#univ_3)"
   ]
  },
  {
   "cell_type": "code",
   "execution_count": 167,
   "metadata": {},
   "outputs": [
    {
     "data": {
      "text/plain": [
       "(0.4621072858615713, 0.4685488165967779)"
      ]
     },
     "execution_count": 167,
     "metadata": {},
     "output_type": "execute_result"
    }
   ],
   "source": [
    "interv_conf_propor_pduits_sans_plastique"
   ]
  },
  {
   "cell_type": "markdown",
   "metadata": {},
   "source": [
    "# Tests statistiques 🔦"
   ]
  },
  {
   "cell_type": "markdown",
   "metadata": {},
   "source": [
    "Objectif : Montrer statistiquement que la moyenne des nutriscores (grades) des produits sans plastique est supérieure à celle des produits ayant du plastique."
   ]
  },
  {
   "cell_type": "markdown",
   "metadata": {},
   "source": [
    "Pour cela je vais d'abord estimer la moyenne des nutriscores des aliments avec plastique sous forme d'intervalle de confiance et prendre le \"pire\" cas. C'est à dire la borne supérieure de cet IC\n",
    "Je menerai ensuite un test statistique sur la moyenne des nutriscore des produits sans plastique."
   ]
  },
  {
   "cell_type": "code",
   "execution_count": 168,
   "metadata": {},
   "outputs": [],
   "source": [
    "moy_empirique_plastique = data_filtre[data_filtre['has_plastic']]['nutriscore_grade_num'].mean()\n",
    "sigma_empirique_plastique = data_filtre[data_filtre['has_plastic']]['nutriscore_grade_num'].std()\n",
    "n_echantillon_plastique = len(data_filtre[data_filtre['has_plastic']])"
   ]
  },
  {
   "cell_type": "code",
   "execution_count": 169,
   "metadata": {},
   "outputs": [
    {
     "data": {
      "text/plain": [
       "1.8941877214944876"
      ]
     },
     "execution_count": 169,
     "metadata": {},
     "output_type": "execute_result"
    }
   ],
   "source": [
    "alpha = 0.05\n",
    "ic_sup_moy_nutriscore_plast = moy_empirique_plastique + t.ppf(1 - alpha / 2 , n_echantillon_plastique - 1)*sigma_empirique_plastique/sqrt(n_echantillon_plastique)\n",
    "ic_sup_moy_nutriscore_plast"
   ]
  },
  {
   "cell_type": "code",
   "execution_count": 170,
   "metadata": {},
   "outputs": [
    {
     "data": {
      "text/plain": [
       "1.8821582996691095"
      ]
     },
     "execution_count": 170,
     "metadata": {},
     "output_type": "execute_result"
    }
   ],
   "source": [
    "moy_empirique_plastique"
   ]
  },
  {
   "cell_type": "code",
   "execution_count": 171,
   "metadata": {},
   "outputs": [
    {
     "data": {
      "text/plain": [
       "1.3621897370079576"
      ]
     },
     "execution_count": 171,
     "metadata": {},
     "output_type": "execute_result"
    }
   ],
   "source": [
    "sigma_empirique_plastique"
   ]
  },
  {
   "cell_type": "markdown",
   "metadata": {},
   "source": [
    "On teste : \n",
    "- H0 : μ = ic_sup_moy_nutriscore_plast (les produits plastiques ont la même moyenne de nutriscore que les produits sans plastiques)\n",
    "- H1 : μ > ic_sup_moy_nutriscore_plast (les produits sans plastique ont un nutriscore moyen supérieur au produits emballés dans du plastique)"
   ]
  },
  {
   "cell_type": "code",
   "execution_count": 172,
   "metadata": {},
   "outputs": [],
   "source": [
    "test_IC = ttest_1samp(data_filtre[data_filtre['has_plastic'] == False]['nutriscore_grade_num'],ic_sup_moy_nutriscore_plast)"
   ]
  },
  {
   "cell_type": "code",
   "execution_count": 173,
   "metadata": {},
   "outputs": [
    {
     "data": {
      "text/plain": [
       "1.0540342836313675e-22"
      ]
     },
     "execution_count": 173,
     "metadata": {},
     "output_type": "execute_result"
    }
   ],
   "source": [
    "test_IC.pvalue"
   ]
  },
  {
   "cell_type": "markdown",
   "metadata": {},
   "source": [
    "Ce test est \"two sided\". il faut donc diviser la p-value par 2"
   ]
  },
  {
   "cell_type": "code",
   "execution_count": 174,
   "metadata": {},
   "outputs": [],
   "source": [
    "p_value_test_ic = test_IC.pvalue / 2"
   ]
  },
  {
   "cell_type": "code",
   "execution_count": 175,
   "metadata": {},
   "outputs": [
    {
     "data": {
      "text/plain": [
       "5.2701714181568375e-23"
      ]
     },
     "execution_count": 175,
     "metadata": {},
     "output_type": "execute_result"
    }
   ],
   "source": [
    "p_value_test_ic"
   ]
  },
  {
   "cell_type": "markdown",
   "metadata": {},
   "source": [
    "On peut rejeter l'hypothèse H0"
   ]
  },
  {
   "cell_type": "markdown",
   "metadata": {},
   "source": [
    "On teste : \n",
    "- H0 : μ_no_plast <= μ_plast (les produits sans plastiques ont une moyenne de nutriscore inférieure ou égale à celle des produits emballés dans du plastique)\n",
    "- H1 : μ_no_plast > μ_plast (les produits sans plastiques ont une moyenne de nutriscore supérieure à celle des produits emballés dans du plastique)"
   ]
  },
  {
   "cell_type": "code",
   "execution_count": 176,
   "metadata": {},
   "outputs": [
    {
     "data": {
      "text/plain": [
       "1.95885522356728"
      ]
     },
     "execution_count": 176,
     "metadata": {},
     "output_type": "execute_result"
    }
   ],
   "source": [
    "data_filtre[data_filtre['has_plastic'] == False]['nutriscore_grade_num'].mean()"
   ]
  },
  {
   "cell_type": "code",
   "execution_count": 177,
   "metadata": {},
   "outputs": [
    {
     "data": {
      "text/plain": [
       "1.8821582996691095"
      ]
     },
     "execution_count": 177,
     "metadata": {},
     "output_type": "execute_result"
    }
   ],
   "source": [
    "data_filtre[data_filtre['has_plastic']]['nutriscore_grade_num'].mean()"
   ]
  },
  {
   "cell_type": "code",
   "execution_count": 178,
   "metadata": {},
   "outputs": [],
   "source": [
    "test_bi_variable = ttest_ind(data_filtre[data_filtre['has_plastic'] == False]['nutriscore_grade_num'],\n",
    "                             data_filtre[data_filtre['has_plastic']]['nutriscore_grade_num'])"
   ]
  },
  {
   "cell_type": "code",
   "execution_count": 179,
   "metadata": {},
   "outputs": [
    {
     "data": {
      "text/plain": [
       "1.6539853455089036e-17"
      ]
     },
     "execution_count": 179,
     "metadata": {},
     "output_type": "execute_result"
    }
   ],
   "source": [
    "test_bi_variable.pvalue"
   ]
  },
  {
   "cell_type": "markdown",
   "metadata": {},
   "source": [
    "Ce test est \"two sided\". il faut donc diviser la p-value par 2"
   ]
  },
  {
   "cell_type": "code",
   "execution_count": 180,
   "metadata": {},
   "outputs": [],
   "source": [
    "p_value_test_bi_variable = test_bi_variable.pvalue / 2"
   ]
  },
  {
   "cell_type": "code",
   "execution_count": 181,
   "metadata": {},
   "outputs": [
    {
     "data": {
      "text/plain": [
       "8.269926727544518e-18"
      ]
     },
     "execution_count": 181,
     "metadata": {},
     "output_type": "execute_result"
    }
   ],
   "source": [
    "p_value_test_bi_variable"
   ]
  },
  {
   "cell_type": "markdown",
   "metadata": {},
   "source": [
    "On peut egalement rejeter l'hypothèse H0"
   ]
  },
  {
   "cell_type": "markdown",
   "metadata": {},
   "source": [
    "Regardons si on peut affirmer cette hypothèse pour toutes les catégories"
   ]
  },
  {
   "cell_type": "code",
   "execution_count": 182,
   "metadata": {},
   "outputs": [],
   "source": [
    "p_values_categs = {}\n",
    "size_categs = {}\n",
    "for categ in data_filtre.pnns_groups_2.unique():\n",
    "    data_categ = data_filtre[data_filtre['pnns_groups_2'] == categ]\n",
    "    size_categs[categ] = len(data_categ)\n",
    "    p_values_categs[categ] = ttest_ind(data_categ[data_categ['has_plastic'] == False]['nutriscore_grade_num'],\n",
    "                                       data_categ[data_categ['has_plastic']]['nutriscore_grade_num']).pvalue/2"
   ]
  },
  {
   "cell_type": "code",
   "execution_count": 183,
   "metadata": {},
   "outputs": [],
   "source": [
    "p_values_categs = pd.Series(p_values_categs)\n",
    "size_categs = pd.Series(size_categs)"
   ]
  },
  {
   "cell_type": "code",
   "execution_count": 184,
   "metadata": {},
   "outputs": [],
   "source": [
    "df_p_values_categs = pd.DataFrame({'p_values' : p_values_categs.values, 'size_echantillon' : size_categs.values}, index=p_values_categs.index)"
   ]
  },
  {
   "cell_type": "code",
   "execution_count": 185,
   "metadata": {},
   "outputs": [],
   "source": [
    "df_p_values_categs.sort_values(by=['p_values'], ascending=False, inplace=True)"
   ]
  },
  {
   "cell_type": "markdown",
   "metadata": {},
   "source": [
    "Catégories pour lesquelles on ne peux pas rejetter H0:"
   ]
  },
  {
   "cell_type": "code",
   "execution_count": 186,
   "metadata": {},
   "outputs": [
    {
     "data": {
      "text/html": [
       "<div>\n",
       "<style scoped>\n",
       "    .dataframe tbody tr th:only-of-type {\n",
       "        vertical-align: middle;\n",
       "    }\n",
       "\n",
       "    .dataframe tbody tr th {\n",
       "        vertical-align: top;\n",
       "    }\n",
       "\n",
       "    .dataframe thead th {\n",
       "        text-align: right;\n",
       "    }\n",
       "</style>\n",
       "<table border=\"1\" class=\"dataframe\">\n",
       "  <thead>\n",
       "    <tr style=\"text-align: right;\">\n",
       "      <th></th>\n",
       "      <th>p_values</th>\n",
       "      <th>size_echantillon</th>\n",
       "    </tr>\n",
       "  </thead>\n",
       "  <tbody>\n",
       "    <tr>\n",
       "      <th>unknown</th>\n",
       "      <td>0.497316</td>\n",
       "      <td>7580</td>\n",
       "    </tr>\n",
       "    <tr>\n",
       "      <th>fruits</th>\n",
       "      <td>0.483708</td>\n",
       "      <td>1711</td>\n",
       "    </tr>\n",
       "    <tr>\n",
       "      <th>legumes</th>\n",
       "      <td>0.473002</td>\n",
       "      <td>1125</td>\n",
       "    </tr>\n",
       "    <tr>\n",
       "      <th>eggs</th>\n",
       "      <td>0.435132</td>\n",
       "      <td>348</td>\n",
       "    </tr>\n",
       "    <tr>\n",
       "      <th>salty and fatty products</th>\n",
       "      <td>0.427126</td>\n",
       "      <td>2252</td>\n",
       "    </tr>\n",
       "    <tr>\n",
       "      <th>artificially sweetened beverages</th>\n",
       "      <td>0.404987</td>\n",
       "      <td>764</td>\n",
       "    </tr>\n",
       "    <tr>\n",
       "      <th>plant-based milk substitutes</th>\n",
       "      <td>0.357124</td>\n",
       "      <td>1137</td>\n",
       "    </tr>\n",
       "    <tr>\n",
       "      <th>pastries</th>\n",
       "      <td>0.342487</td>\n",
       "      <td>760</td>\n",
       "    </tr>\n",
       "    <tr>\n",
       "      <th>offals</th>\n",
       "      <td>0.321990</td>\n",
       "      <td>213</td>\n",
       "    </tr>\n",
       "    <tr>\n",
       "      <th>milk and yogurt</th>\n",
       "      <td>0.315769</td>\n",
       "      <td>4832</td>\n",
       "    </tr>\n",
       "    <tr>\n",
       "      <th>fruit nectars</th>\n",
       "      <td>0.312483</td>\n",
       "      <td>86</td>\n",
       "    </tr>\n",
       "    <tr>\n",
       "      <th>cereals</th>\n",
       "      <td>0.251614</td>\n",
       "      <td>5062</td>\n",
       "    </tr>\n",
       "    <tr>\n",
       "      <th>sandwiches</th>\n",
       "      <td>0.188723</td>\n",
       "      <td>612</td>\n",
       "    </tr>\n",
       "    <tr>\n",
       "      <th>nuts</th>\n",
       "      <td>0.157904</td>\n",
       "      <td>678</td>\n",
       "    </tr>\n",
       "    <tr>\n",
       "      <th>one-dish meals</th>\n",
       "      <td>0.121570</td>\n",
       "      <td>7900</td>\n",
       "    </tr>\n",
       "    <tr>\n",
       "      <th>appetizers</th>\n",
       "      <td>0.077384</td>\n",
       "      <td>2120</td>\n",
       "    </tr>\n",
       "    <tr>\n",
       "      <th>dried fruits</th>\n",
       "      <td>0.063454</td>\n",
       "      <td>807</td>\n",
       "    </tr>\n",
       "    <tr>\n",
       "      <th>unsweetened beverages</th>\n",
       "      <td>0.060553</td>\n",
       "      <td>483</td>\n",
       "    </tr>\n",
       "  </tbody>\n",
       "</table>\n",
       "</div>"
      ],
      "text/plain": [
       "                                  p_values  size_echantillon\n",
       "unknown                           0.497316              7580\n",
       "fruits                            0.483708              1711\n",
       "legumes                           0.473002              1125\n",
       "eggs                              0.435132               348\n",
       "salty and fatty products          0.427126              2252\n",
       "artificially sweetened beverages  0.404987               764\n",
       "plant-based milk substitutes      0.357124              1137\n",
       "pastries                          0.342487               760\n",
       "offals                            0.321990               213\n",
       "milk and yogurt                   0.315769              4832\n",
       "fruit nectars                     0.312483                86\n",
       "cereals                           0.251614              5062\n",
       "sandwiches                        0.188723               612\n",
       "nuts                              0.157904               678\n",
       "one-dish meals                    0.121570              7900\n",
       "appetizers                        0.077384              2120\n",
       "dried fruits                      0.063454               807\n",
       "unsweetened beverages             0.060553               483"
      ]
     },
     "execution_count": 186,
     "metadata": {},
     "output_type": "execute_result"
    }
   ],
   "source": [
    "df_p_values_categs[df_p_values_categs['p_values'] > 0.05]"
   ]
  },
  {
   "cell_type": "markdown",
   "metadata": {},
   "source": [
    "Regardes la variance , moyenne, std pour les fruits oeufs et legumes"
   ]
  },
  {
   "cell_type": "code",
   "execution_count": 187,
   "metadata": {},
   "outputs": [
    {
     "data": {
      "text/html": [
       "<div>\n",
       "<style scoped>\n",
       "    .dataframe tbody tr th:only-of-type {\n",
       "        vertical-align: middle;\n",
       "    }\n",
       "\n",
       "    .dataframe tbody tr th {\n",
       "        vertical-align: top;\n",
       "    }\n",
       "\n",
       "    .dataframe thead th {\n",
       "        text-align: right;\n",
       "    }\n",
       "</style>\n",
       "<table border=\"1\" class=\"dataframe\">\n",
       "  <thead>\n",
       "    <tr style=\"text-align: right;\">\n",
       "      <th></th>\n",
       "      <th>p_values</th>\n",
       "      <th>size_echantillon</th>\n",
       "    </tr>\n",
       "  </thead>\n",
       "  <tbody>\n",
       "    <tr>\n",
       "      <th>potatoes</th>\n",
       "      <td>4.807203e-02</td>\n",
       "      <td>563</td>\n",
       "    </tr>\n",
       "    <tr>\n",
       "      <th>bread</th>\n",
       "      <td>4.631382e-02</td>\n",
       "      <td>2485</td>\n",
       "    </tr>\n",
       "    <tr>\n",
       "      <th>teas and herbal teas and coffees</th>\n",
       "      <td>3.767279e-02</td>\n",
       "      <td>83</td>\n",
       "    </tr>\n",
       "    <tr>\n",
       "      <th>ice cream</th>\n",
       "      <td>3.063641e-02</td>\n",
       "      <td>1411</td>\n",
       "    </tr>\n",
       "    <tr>\n",
       "      <th>soups</th>\n",
       "      <td>2.326029e-02</td>\n",
       "      <td>798</td>\n",
       "    </tr>\n",
       "    <tr>\n",
       "      <th>waters and flavored waters</th>\n",
       "      <td>7.378177e-03</td>\n",
       "      <td>216</td>\n",
       "    </tr>\n",
       "    <tr>\n",
       "      <th>dairy desserts</th>\n",
       "      <td>7.009000e-03</td>\n",
       "      <td>1549</td>\n",
       "    </tr>\n",
       "    <tr>\n",
       "      <th>sweetened beverages</th>\n",
       "      <td>6.115691e-03</td>\n",
       "      <td>2040</td>\n",
       "    </tr>\n",
       "    <tr>\n",
       "      <th>chocolate products</th>\n",
       "      <td>3.849911e-03</td>\n",
       "      <td>3001</td>\n",
       "    </tr>\n",
       "    <tr>\n",
       "      <th>fruit juices</th>\n",
       "      <td>2.231548e-03</td>\n",
       "      <td>1859</td>\n",
       "    </tr>\n",
       "    <tr>\n",
       "      <th>meat</th>\n",
       "      <td>3.887671e-04</td>\n",
       "      <td>2247</td>\n",
       "    </tr>\n",
       "    <tr>\n",
       "      <th>biscuits and cakes</th>\n",
       "      <td>4.060045e-05</td>\n",
       "      <td>8217</td>\n",
       "    </tr>\n",
       "    <tr>\n",
       "      <th>breakfast cereals</th>\n",
       "      <td>1.689225e-05</td>\n",
       "      <td>2170</td>\n",
       "    </tr>\n",
       "    <tr>\n",
       "      <th>sweets</th>\n",
       "      <td>9.660006e-06</td>\n",
       "      <td>5190</td>\n",
       "    </tr>\n",
       "    <tr>\n",
       "      <th>fish and seafood</th>\n",
       "      <td>7.600344e-06</td>\n",
       "      <td>2708</td>\n",
       "    </tr>\n",
       "    <tr>\n",
       "      <th>pizza pies and quiches</th>\n",
       "      <td>1.896849e-06</td>\n",
       "      <td>870</td>\n",
       "    </tr>\n",
       "    <tr>\n",
       "      <th>vegetables</th>\n",
       "      <td>1.939225e-07</td>\n",
       "      <td>3316</td>\n",
       "    </tr>\n",
       "    <tr>\n",
       "      <th>fats</th>\n",
       "      <td>8.151072e-10</td>\n",
       "      <td>1481</td>\n",
       "    </tr>\n",
       "    <tr>\n",
       "      <th>cheese</th>\n",
       "      <td>1.686620e-17</td>\n",
       "      <td>4681</td>\n",
       "    </tr>\n",
       "    <tr>\n",
       "      <th>processed meat</th>\n",
       "      <td>6.328743e-23</td>\n",
       "      <td>5093</td>\n",
       "    </tr>\n",
       "    <tr>\n",
       "      <th>dressings and sauces</th>\n",
       "      <td>3.486356e-54</td>\n",
       "      <td>3686</td>\n",
       "    </tr>\n",
       "  </tbody>\n",
       "</table>\n",
       "</div>"
      ],
      "text/plain": [
       "                                      p_values  size_echantillon\n",
       "potatoes                          4.807203e-02               563\n",
       "bread                             4.631382e-02              2485\n",
       "teas and herbal teas and coffees  3.767279e-02                83\n",
       "ice cream                         3.063641e-02              1411\n",
       "soups                             2.326029e-02               798\n",
       "waters and flavored waters        7.378177e-03               216\n",
       "dairy desserts                    7.009000e-03              1549\n",
       "sweetened beverages               6.115691e-03              2040\n",
       "chocolate products                3.849911e-03              3001\n",
       "fruit juices                      2.231548e-03              1859\n",
       "meat                              3.887671e-04              2247\n",
       "biscuits and cakes                4.060045e-05              8217\n",
       "breakfast cereals                 1.689225e-05              2170\n",
       "sweets                            9.660006e-06              5190\n",
       "fish and seafood                  7.600344e-06              2708\n",
       "pizza pies and quiches            1.896849e-06               870\n",
       "vegetables                        1.939225e-07              3316\n",
       "fats                              8.151072e-10              1481\n",
       "cheese                            1.686620e-17              4681\n",
       "processed meat                    6.328743e-23              5093\n",
       "dressings and sauces              3.486356e-54              3686"
      ]
     },
     "execution_count": 187,
     "metadata": {},
     "output_type": "execute_result"
    }
   ],
   "source": [
    "df_p_values_categs[df_p_values_categs['p_values'] < 0.05]"
   ]
  },
  {
   "cell_type": "markdown",
   "metadata": {},
   "source": [
    "On voit que pour certaines catégories on a très peu de données. Pour celles ci il semble assez logique qu'on ne puisse rien déduire. On remarque aussi que la catégorie \"unknown\" est la pire en terme de p_value bien qu'ayant un gros echantillon. Cela confirme la necessité de completer cette donnée"
   ]
  },
  {
   "cell_type": "markdown",
   "metadata": {},
   "source": [
    "## Idem avec pnns_groups_1"
   ]
  },
  {
   "cell_type": "code",
   "execution_count": 188,
   "metadata": {},
   "outputs": [],
   "source": [
    "p_values_categs = {}\n",
    "size_categs = {}\n",
    "for categ in data_filtre.pnns_groups_1.unique():\n",
    "    data_categ = data_filtre[data_filtre['pnns_groups_1'] == categ]\n",
    "    size_categs[categ] = len(data_categ)\n",
    "    p_values_categs[categ] = ttest_ind(data_categ[data_categ['has_plastic'] == False]['nutriscore_grade_num'],\n",
    "                                       data_categ[data_categ['has_plastic']]['nutriscore_grade_num']).pvalue/2"
   ]
  },
  {
   "cell_type": "code",
   "execution_count": 189,
   "metadata": {},
   "outputs": [],
   "source": [
    "p_values_categs = pd.Series(p_values_categs)\n",
    "size_categs = pd.Series(size_categs)"
   ]
  },
  {
   "cell_type": "code",
   "execution_count": 190,
   "metadata": {},
   "outputs": [],
   "source": [
    "df_p_values_categs = pd.DataFrame({'p_values' : p_values_categs.values, 'size_echantillon' : size_categs.values}, index=p_values_categs.index)"
   ]
  },
  {
   "cell_type": "code",
   "execution_count": 191,
   "metadata": {},
   "outputs": [],
   "source": [
    "df_p_values_categs.sort_values(by=['p_values'], ascending=False, inplace=True)"
   ]
  },
  {
   "cell_type": "markdown",
   "metadata": {},
   "source": [
    "Catégories pour lesquelles on ne peux pas rejetter H0:"
   ]
  },
  {
   "cell_type": "code",
   "execution_count": 192,
   "metadata": {},
   "outputs": [
    {
     "data": {
      "text/html": [
       "<div>\n",
       "<style scoped>\n",
       "    .dataframe tbody tr th:only-of-type {\n",
       "        vertical-align: middle;\n",
       "    }\n",
       "\n",
       "    .dataframe tbody tr th {\n",
       "        vertical-align: top;\n",
       "    }\n",
       "\n",
       "    .dataframe thead th {\n",
       "        text-align: right;\n",
       "    }\n",
       "</style>\n",
       "<table border=\"1\" class=\"dataframe\">\n",
       "  <thead>\n",
       "    <tr style=\"text-align: right;\">\n",
       "      <th></th>\n",
       "      <th>p_values</th>\n",
       "      <th>size_echantillon</th>\n",
       "    </tr>\n",
       "  </thead>\n",
       "  <tbody>\n",
       "    <tr>\n",
       "      <th>unknown</th>\n",
       "      <td>0.497316</td>\n",
       "      <td>7580</td>\n",
       "    </tr>\n",
       "  </tbody>\n",
       "</table>\n",
       "</div>"
      ],
      "text/plain": [
       "         p_values  size_echantillon\n",
       "unknown  0.497316              7580"
      ]
     },
     "execution_count": 192,
     "metadata": {},
     "output_type": "execute_result"
    }
   ],
   "source": [
    "df_p_values_categs[df_p_values_categs['p_values'] > 0.02]"
   ]
  },
  {
   "cell_type": "markdown",
   "metadata": {},
   "source": [
    "Regardes la variance , moyenne, std pour les fruits oeufs et legumes"
   ]
  },
  {
   "cell_type": "code",
   "execution_count": 193,
   "metadata": {},
   "outputs": [
    {
     "data": {
      "text/html": [
       "<div>\n",
       "<style scoped>\n",
       "    .dataframe tbody tr th:only-of-type {\n",
       "        vertical-align: middle;\n",
       "    }\n",
       "\n",
       "    .dataframe tbody tr th {\n",
       "        vertical-align: top;\n",
       "    }\n",
       "\n",
       "    .dataframe thead th {\n",
       "        text-align: right;\n",
       "    }\n",
       "</style>\n",
       "<table border=\"1\" class=\"dataframe\">\n",
       "  <thead>\n",
       "    <tr style=\"text-align: right;\">\n",
       "      <th></th>\n",
       "      <th>p_values</th>\n",
       "      <th>size_echantillon</th>\n",
       "    </tr>\n",
       "  </thead>\n",
       "  <tbody>\n",
       "    <tr>\n",
       "      <th>Fruits and vegetables</th>\n",
       "      <td>1.295174e-02</td>\n",
       "      <td>6632</td>\n",
       "    </tr>\n",
       "    <tr>\n",
       "      <th>Milk and dairy products</th>\n",
       "      <td>1.210739e-03</td>\n",
       "      <td>12473</td>\n",
       "    </tr>\n",
       "    <tr>\n",
       "      <th>Composite foods</th>\n",
       "      <td>9.421522e-04</td>\n",
       "      <td>9382</td>\n",
       "    </tr>\n",
       "    <tr>\n",
       "      <th>Cereals and potatoes</th>\n",
       "      <td>1.744979e-04</td>\n",
       "      <td>11405</td>\n",
       "    </tr>\n",
       "    <tr>\n",
       "      <th>Sugary snacks</th>\n",
       "      <td>5.472196e-05</td>\n",
       "      <td>17168</td>\n",
       "    </tr>\n",
       "    <tr>\n",
       "      <th>Salty snacks</th>\n",
       "      <td>2.125868e-07</td>\n",
       "      <td>5050</td>\n",
       "    </tr>\n",
       "    <tr>\n",
       "      <th>Beverages</th>\n",
       "      <td>1.819485e-07</td>\n",
       "      <td>6668</td>\n",
       "    </tr>\n",
       "    <tr>\n",
       "      <th>Fat and sauces</th>\n",
       "      <td>5.329758e-53</td>\n",
       "      <td>5167</td>\n",
       "    </tr>\n",
       "    <tr>\n",
       "      <th>Fish Meat Eggs</th>\n",
       "      <td>1.272685e-72</td>\n",
       "      <td>10609</td>\n",
       "    </tr>\n",
       "  </tbody>\n",
       "</table>\n",
       "</div>"
      ],
      "text/plain": [
       "                             p_values  size_echantillon\n",
       "Fruits and vegetables    1.295174e-02              6632\n",
       "Milk and dairy products  1.210739e-03             12473\n",
       "Composite foods          9.421522e-04              9382\n",
       "Cereals and potatoes     1.744979e-04             11405\n",
       "Sugary snacks            5.472196e-05             17168\n",
       "Salty snacks             2.125868e-07              5050\n",
       "Beverages                1.819485e-07              6668\n",
       "Fat and sauces           5.329758e-53              5167\n",
       "Fish Meat Eggs           1.272685e-72             10609"
      ]
     },
     "execution_count": 193,
     "metadata": {},
     "output_type": "execute_result"
    }
   ],
   "source": [
    "df_p_values_categs[df_p_values_categs['p_values'] < 0.02]"
   ]
  },
  {
   "cell_type": "markdown",
   "metadata": {},
   "source": [
    "## Idem avec les données completées par le Gradient Boosting"
   ]
  },
  {
   "cell_type": "code",
   "execution_count": 194,
   "metadata": {},
   "outputs": [],
   "source": [
    "p_values_categs = {}\n",
    "size_categs = {}\n",
    "for categ in data_filtre.pnns_groups_1_complete.unique():\n",
    "    data_categ = data_filtre[data_filtre['pnns_groups_1_complete'] == categ]\n",
    "    size_categs[categ] = len(data_categ)\n",
    "    p_values_categs[categ] = ttest_ind(data_categ[data_categ['has_plastic'] == False]['nutriscore_grade_num'],\n",
    "                                       data_categ[data_categ['has_plastic']]['nutriscore_grade_num']).pvalue/2"
   ]
  },
  {
   "cell_type": "code",
   "execution_count": 195,
   "metadata": {},
   "outputs": [],
   "source": [
    "p_values_categs = pd.Series(p_values_categs)\n",
    "size_categs = pd.Series(size_categs)"
   ]
  },
  {
   "cell_type": "code",
   "execution_count": 196,
   "metadata": {},
   "outputs": [],
   "source": [
    "df_p_values_categs = pd.DataFrame({'p_values' : p_values_categs.values, 'size_echantillon' : size_categs.values}, index=p_values_categs.index)"
   ]
  },
  {
   "cell_type": "code",
   "execution_count": 197,
   "metadata": {},
   "outputs": [],
   "source": [
    "df_p_values_categs.sort_values(by=['p_values'], ascending=False, inplace=True)"
   ]
  },
  {
   "cell_type": "markdown",
   "metadata": {},
   "source": [
    "Catégories pour lesquelles on ne peux pas rejetter H0:"
   ]
  },
  {
   "cell_type": "code",
   "execution_count": 200,
   "metadata": {},
   "outputs": [
    {
     "data": {
      "text/html": [
       "<div>\n",
       "<style scoped>\n",
       "    .dataframe tbody tr th:only-of-type {\n",
       "        vertical-align: middle;\n",
       "    }\n",
       "\n",
       "    .dataframe tbody tr th {\n",
       "        vertical-align: top;\n",
       "    }\n",
       "\n",
       "    .dataframe thead th {\n",
       "        text-align: right;\n",
       "    }\n",
       "</style>\n",
       "<table border=\"1\" class=\"dataframe\">\n",
       "  <thead>\n",
       "    <tr style=\"text-align: right;\">\n",
       "      <th></th>\n",
       "      <th>p_values</th>\n",
       "      <th>size_echantillon</th>\n",
       "    </tr>\n",
       "  </thead>\n",
       "  <tbody>\n",
       "    <tr>\n",
       "      <th>Fruits and vegetables</th>\n",
       "      <td>0.443097</td>\n",
       "      <td>7246</td>\n",
       "    </tr>\n",
       "  </tbody>\n",
       "</table>\n",
       "</div>"
      ],
      "text/plain": [
       "                       p_values  size_echantillon\n",
       "Fruits and vegetables  0.443097              7246"
      ]
     },
     "execution_count": 200,
     "metadata": {},
     "output_type": "execute_result"
    }
   ],
   "source": [
    "df_p_values_categs[df_p_values_categs['p_values'] > 0.05]"
   ]
  },
  {
   "cell_type": "code",
   "execution_count": 201,
   "metadata": {},
   "outputs": [
    {
     "data": {
      "text/html": [
       "<div>\n",
       "<style scoped>\n",
       "    .dataframe tbody tr th:only-of-type {\n",
       "        vertical-align: middle;\n",
       "    }\n",
       "\n",
       "    .dataframe tbody tr th {\n",
       "        vertical-align: top;\n",
       "    }\n",
       "\n",
       "    .dataframe thead th {\n",
       "        text-align: right;\n",
       "    }\n",
       "</style>\n",
       "<table border=\"1\" class=\"dataframe\">\n",
       "  <thead>\n",
       "    <tr style=\"text-align: right;\">\n",
       "      <th></th>\n",
       "      <th>p_values</th>\n",
       "      <th>size_echantillon</th>\n",
       "    </tr>\n",
       "  </thead>\n",
       "  <tbody>\n",
       "    <tr>\n",
       "      <th>Composite foods</th>\n",
       "      <td>2.379802e-02</td>\n",
       "      <td>10402</td>\n",
       "    </tr>\n",
       "    <tr>\n",
       "      <th>Milk and dairy products</th>\n",
       "      <td>5.289589e-03</td>\n",
       "      <td>13235</td>\n",
       "    </tr>\n",
       "    <tr>\n",
       "      <th>Cereals and potatoes</th>\n",
       "      <td>4.916206e-04</td>\n",
       "      <td>12574</td>\n",
       "    </tr>\n",
       "    <tr>\n",
       "      <th>Salty snacks</th>\n",
       "      <td>1.200138e-04</td>\n",
       "      <td>5778</td>\n",
       "    </tr>\n",
       "    <tr>\n",
       "      <th>Sugary snacks</th>\n",
       "      <td>1.065278e-04</td>\n",
       "      <td>18816</td>\n",
       "    </tr>\n",
       "    <tr>\n",
       "      <th>Beverages</th>\n",
       "      <td>4.025294e-10</td>\n",
       "      <td>7379</td>\n",
       "    </tr>\n",
       "    <tr>\n",
       "      <th>Fat and sauces</th>\n",
       "      <td>5.246970e-53</td>\n",
       "      <td>5549</td>\n",
       "    </tr>\n",
       "    <tr>\n",
       "      <th>Fish Meat Eggs</th>\n",
       "      <td>2.543816e-67</td>\n",
       "      <td>11155</td>\n",
       "    </tr>\n",
       "  </tbody>\n",
       "</table>\n",
       "</div>"
      ],
      "text/plain": [
       "                             p_values  size_echantillon\n",
       "Composite foods          2.379802e-02             10402\n",
       "Milk and dairy products  5.289589e-03             13235\n",
       "Cereals and potatoes     4.916206e-04             12574\n",
       "Salty snacks             1.200138e-04              5778\n",
       "Sugary snacks            1.065278e-04             18816\n",
       "Beverages                4.025294e-10              7379\n",
       "Fat and sauces           5.246970e-53              5549\n",
       "Fish Meat Eggs           2.543816e-67             11155"
      ]
     },
     "execution_count": 201,
     "metadata": {},
     "output_type": "execute_result"
    }
   ],
   "source": [
    "df_p_values_categs[df_p_values_categs['p_values'] < 0.05]"
   ]
  },
  {
   "cell_type": "code",
   "execution_count": null,
   "metadata": {},
   "outputs": [],
   "source": []
  },
  {
   "cell_type": "markdown",
   "metadata": {},
   "source": [
    "Conclusion"
   ]
  },
  {
   "cell_type": "markdown",
   "metadata": {},
   "source": [
    "Perspectives"
   ]
  },
  {
   "cell_type": "code",
   "execution_count": null,
   "metadata": {},
   "outputs": [],
   "source": []
  },
  {
   "cell_type": "code",
   "execution_count": null,
   "metadata": {},
   "outputs": [],
   "source": []
  }
 ],
 "metadata": {
  "kernelspec": {
   "display_name": "env_OC_P03",
   "language": "python",
   "name": "env_oc_p03"
  },
  "language_info": {
   "codemirror_mode": {
    "name": "ipython",
    "version": 3
   },
   "file_extension": ".py",
   "mimetype": "text/x-python",
   "name": "python",
   "nbconvert_exporter": "python",
   "pygments_lexer": "ipython3",
   "version": "3.8.5"
  }
 },
 "nbformat": 4,
 "nbformat_minor": 4
}
